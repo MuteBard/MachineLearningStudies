{
 "cells": [
  {
   "cell_type": "code",
   "execution_count": null,
   "id": "41e46dcc-52d6-4369-94e7-5f268e3864fe",
   "metadata": {},
   "outputs": [],
   "source": [
    "# What is the point of Pandas?\n",
    "# A python package for data manipulation and can also be used for data visualization\n",
    "\n",
    "# Pandas is built on Numpy and Matplotlib\n",
    "# It is designed to work with tabular / rectangular data\n",
    "\n",
    "# in pandas, rectangular data is presented as a dataframe, for comparision in SQL this is just a visualized table\n"
   ]
  },
  {
   "cell_type": "code",
   "execution_count": 14,
   "id": "1d72bd8d-5cdd-4d23-8050-ee6246ce619d",
   "metadata": {},
   "outputs": [],
   "source": [
    "import pandas as pd\n",
    "\n",
    "data = {\n",
    "    \"region\": [\"East South Central\", \"Pacific\", \"Mountain\", \"West South Central\", \"Pacific\", \"Mountain\", \"New England\",\n",
    "               \"South Atlantic\", \"South Atlantic\", \"South Atlantic\", \"South Atlantic\", \"Pacific\", \"Mountain\",\n",
    "               \"East North Central\", \"East North Central\", \"West North Central\", \"West North Central\", \n",
    "               \"East South Central\", \"West South Central\", \"New England\", \"South Atlantic\", \"New England\", \n",
    "               \"East North Central\", \"West North Central\", \"East South Central\", \"West North Central\", \"Mountain\", \n",
    "               \"West North Central\", \"Mountain\", \"New England\", \"Mid-Atlantic\", \"Mountain\", \"Mid-Atlantic\", \n",
    "               \"South Atlantic\", \"West North Central\", \"East North Central\", \"West South Central\", \"Pacific\", \n",
    "               \"Mid-Atlantic\", \"New England\", \"South Atlantic\", \"West North Central\", \"East South Central\", \n",
    "               \"West South Central\", \"Mountain\", \"New England\", \"South Atlantic\", \"Pacific\", \"South Atlantic\", \n",
    "               \"East North Central\", \"Mountain\"],\n",
    "    \"state\": [\"Alabama\", \"Alaska\", \"Arizona\", \"Arkansas\", \"California\", \"Colorado\", \"Connecticut\", \"Delaware\",\n",
    "              \"District of Columbia\", \"Florida\", \"Georgia\", \"Hawaii\", \"Idaho\", \"Illinois\", \"Indiana\", \"Iowa\", \n",
    "              \"Kansas\", \"Kentucky\", \"Louisiana\", \"Maine\", \"Maryland\", \"Massachusetts\", \"Michigan\", \"Minnesota\", \n",
    "              \"Mississippi\", \"Missouri\", \"Montana\", \"Nebraska\", \"Nevada\", \"New Hampshire\", \"New Jersey\", \n",
    "              \"New Mexico\", \"New York\", \"North Carolina\", \"North Dakota\", \"Ohio\", \"Oklahoma\", \"Oregon\", \n",
    "              \"Pennsylvania\", \"Rhode Island\", \"South Carolina\", \"South Dakota\", \"Tennessee\", \"Texas\", \"Utah\", \n",
    "              \"Vermont\", \"Virginia\", \"Washington\", \"West Virginia\", \"Wisconsin\", \"Wyoming\"],\n",
    "    \"individuals\": [2570, 1434, 7259, 2280, 109008, 7607, 2280, 708, 3770, 21443, 6943, 4131, 1297, 6752, 3776, \n",
    "                    1711, 1443, 2735, 2540, 1450, 4914, 6811, 5209, 3993, 1024, 3776, 983, 1745, 7058, 835, 6048, \n",
    "                    1949, 39827, 6451, 467, 6929, 2823, 11139, 8163, 747, 3082, 836, 6139, 19199, 1904, 780, 3928, \n",
    "                    16424, 1021, 2740, 434],\n",
    "    \"family_members\": [864, 582, 2606, 432, 20964, 3250, 1696, 374, 3134, 9587, 2556, 2399, 715, 3891, 1482, 1038, \n",
    "                       773, 953, 519, 1066, 2230, 13257, 3142, 3250, 328, 2107, 422, 676, 486, 615, 3350, 602, \n",
    "                       52070, 2817, 75, 3320, 1048, 3337, 5349, 354, 851, 323, 1744, 6111, 972, 511, 2047, 5880, \n",
    "                       222, 2167, 205],\n",
    "    \"state_pop\": [4887681, 735139, 7158024, 3009733, 39461588, 5691287, 3571520, 965479, 701547, 21244317, 10511131, \n",
    "                  1420593, 1750536, 12723071, 6695497, 3148618, 2911359, 4461153, 4659690, 1339057, 6035802, 6882635, \n",
    "                  9984072, 5606249, 2981020, 6121623, 1060665, 1925614, 3027341, 1353465, 8886025, 2092741, 19530351, \n",
    "                  10381615, 758080, 11676341, 3940235, 4181886, 12800922, 1058287, 5084156, 878698, 6771631, 28628666, \n",
    "                  3153550, 624358, 8501286, 7523869, 1804291, 5807406, 577601]\n",
    "}\n",
    "\n",
    "homelessness = pd.DataFrame(data)\n",
    "\n",
    "# homelessness is a DataFrame containing estimates of homelessness in each U.S. state in 2018. \n",
    "# The individual column is the number of homeless individuals not part of a family with children. \n",
    "# The family_members column is the number of homeless individuals part of a family with children. \n",
    "# The state_pop column is the state's total population.\n"
   ]
  },
  {
   "cell_type": "code",
   "execution_count": 10,
   "id": "79292918-ab3e-46a1-80e2-a7d820476e13",
   "metadata": {},
   "outputs": [
    {
     "name": "stdout",
     "output_type": "stream",
     "text": [
      "               region       state  individuals  family_members  state_pop\n",
      "0  East South Central     Alabama         2570             864    4887681\n",
      "1             Pacific      Alaska         1434             582     735139\n",
      "2            Mountain     Arizona         7259            2606    7158024\n",
      "3  West South Central    Arkansas         2280             432    3009733\n",
      "4             Pacific  California       109008           20964   39461588\n"
     ]
    }
   ],
   "source": [
    "# returns the first few rows (the “head” of the DataFrame).\n",
    "print(homelessness.head())\n"
   ]
  },
  {
   "cell_type": "code",
   "execution_count": 11,
   "id": "749fc390-2946-44a7-b21c-da36d917eb73",
   "metadata": {},
   "outputs": [
    {
     "name": "stdout",
     "output_type": "stream",
     "text": [
      "<class 'pandas.core.frame.DataFrame'>\n",
      "RangeIndex: 51 entries, 0 to 50\n",
      "Data columns (total 5 columns):\n",
      " #   Column          Non-Null Count  Dtype \n",
      "---  ------          --------------  ----- \n",
      " 0   region          51 non-null     object\n",
      " 1   state           51 non-null     object\n",
      " 2   individuals     51 non-null     int64 \n",
      " 3   family_members  51 non-null     int64 \n",
      " 4   state_pop       51 non-null     int64 \n",
      "dtypes: int64(3), object(2)\n",
      "memory usage: 2.1+ KB\n",
      "None\n"
     ]
    }
   ],
   "source": [
    "#  shows information on each of the columns, such as the data type and number of missing values.\n",
    "print(homelessness.info())"
   ]
  },
  {
   "cell_type": "code",
   "execution_count": 12,
   "id": "e0a27c21-06bb-4004-bf35-513376cea972",
   "metadata": {},
   "outputs": [
    {
     "name": "stdout",
     "output_type": "stream",
     "text": [
      "(51, 5)\n"
     ]
    }
   ],
   "source": [
    "# returns the number of rows and columns of the DataFrame.\n",
    "print(homelessness.shape)"
   ]
  },
  {
   "cell_type": "code",
   "execution_count": 13,
   "id": "e6f385ac-cb9c-48db-90ab-5aa67479e35b",
   "metadata": {},
   "outputs": [
    {
     "name": "stdout",
     "output_type": "stream",
     "text": [
      "         individuals  family_members     state_pop\n",
      "count      51.000000       51.000000  5.100000e+01\n",
      "mean     7225.784314     3504.882353  6.405637e+06\n",
      "std     15991.025083     7805.411811  7.327258e+06\n",
      "min       434.000000       75.000000  5.776010e+05\n",
      "25%      1446.500000      592.000000  1.777414e+06\n",
      "50%      3082.000000     1482.000000  4.461153e+06\n",
      "75%      6781.500000     3196.000000  7.340946e+06\n",
      "max    109008.000000    52070.000000  3.946159e+07\n"
     ]
    }
   ],
   "source": [
    "# calculates a few summary statistics for each column.\n",
    "print(homelessness.describe())"
   ]
  },
  {
   "cell_type": "code",
   "execution_count": 55,
   "id": "d75e478e-93d6-4001-a8c4-c9aec8cd9327",
   "metadata": {},
   "outputs": [
    {
     "name": "stdout",
     "output_type": "stream",
     "text": [
      "[['East South Central' 'Alabama' 2570 864 4887681]\n",
      " ['Pacific' 'Alaska' 1434 582 735139]\n",
      " ['Mountain' 'Arizona' 7259 2606 7158024]\n",
      " ['West South Central' 'Arkansas' 2280 432 3009733]\n",
      " ['Pacific' 'California' 109008 20964 39461588]\n",
      " ['Mountain' 'Colorado' 7607 3250 5691287]\n",
      " ['New England' 'Connecticut' 2280 1696 3571520]\n",
      " ['South Atlantic' 'Delaware' 708 374 965479]\n",
      " ['South Atlantic' 'District of Columbia' 3770 3134 701547]\n",
      " ['South Atlantic' 'Florida' 21443 9587 21244317]\n",
      " ['South Atlantic' 'Georgia' 6943 2556 10511131]\n",
      " ['Pacific' 'Hawaii' 4131 2399 1420593]\n",
      " ['Mountain' 'Idaho' 1297 715 1750536]\n",
      " ['East North Central' 'Illinois' 6752 3891 12723071]\n",
      " ['East North Central' 'Indiana' 3776 1482 6695497]\n",
      " ['West North Central' 'Iowa' 1711 1038 3148618]\n",
      " ['West North Central' 'Kansas' 1443 773 2911359]\n",
      " ['East South Central' 'Kentucky' 2735 953 4461153]\n",
      " ['West South Central' 'Louisiana' 2540 519 4659690]\n",
      " ['New England' 'Maine' 1450 1066 1339057]\n",
      " ['South Atlantic' 'Maryland' 4914 2230 6035802]\n",
      " ['New England' 'Massachusetts' 6811 13257 6882635]\n",
      " ['East North Central' 'Michigan' 5209 3142 9984072]\n",
      " ['West North Central' 'Minnesota' 3993 3250 5606249]\n",
      " ['East South Central' 'Mississippi' 1024 328 2981020]\n",
      " ['West North Central' 'Missouri' 3776 2107 6121623]\n",
      " ['Mountain' 'Montana' 983 422 1060665]\n",
      " ['West North Central' 'Nebraska' 1745 676 1925614]\n",
      " ['Mountain' 'Nevada' 7058 486 3027341]\n",
      " ['New England' 'New Hampshire' 835 615 1353465]\n",
      " ['Mid-Atlantic' 'New Jersey' 6048 3350 8886025]\n",
      " ['Mountain' 'New Mexico' 1949 602 2092741]\n",
      " ['Mid-Atlantic' 'New York' 39827 52070 19530351]\n",
      " ['South Atlantic' 'North Carolina' 6451 2817 10381615]\n",
      " ['West North Central' 'North Dakota' 467 75 758080]\n",
      " ['East North Central' 'Ohio' 6929 3320 11676341]\n",
      " ['West South Central' 'Oklahoma' 2823 1048 3940235]\n",
      " ['Pacific' 'Oregon' 11139 3337 4181886]\n",
      " ['Mid-Atlantic' 'Pennsylvania' 8163 5349 12800922]\n",
      " ['New England' 'Rhode Island' 747 354 1058287]\n",
      " ['South Atlantic' 'South Carolina' 3082 851 5084156]\n",
      " ['West North Central' 'South Dakota' 836 323 878698]\n",
      " ['East South Central' 'Tennessee' 6139 1744 6771631]\n",
      " ['West South Central' 'Texas' 19199 6111 28628666]\n",
      " ['Mountain' 'Utah' 1904 972 3153550]\n",
      " ['New England' 'Vermont' 780 511 624358]\n",
      " ['South Atlantic' 'Virginia' 3928 2047 8501286]\n",
      " ['Pacific' 'Washington' 16424 5880 7523869]\n",
      " ['South Atlantic' 'West Virginia' 1021 222 1804291]\n",
      " ['East North Central' 'Wisconsin' 2740 2167 5807406]\n",
      " ['Mountain' 'Wyoming' 434 205 577601]]\n"
     ]
    }
   ],
   "source": [
    "#  A two-dimensional NumPy array of values.\n",
    "print(homelessness.values)"
   ]
  },
  {
   "cell_type": "code",
   "execution_count": 52,
   "id": "e62ae734-8bd9-4cd3-8d82-7d4e90efcd14",
   "metadata": {},
   "outputs": [
    {
     "name": "stdout",
     "output_type": "stream",
     "text": [
      "Index(['region', 'state', 'individuals', 'family_members', 'state_pop'], dtype='object')\n"
     ]
    }
   ],
   "source": [
    "# An index of columns: the column names.\n",
    "print(homelessness.columns)"
   ]
  },
  {
   "cell_type": "code",
   "execution_count": 53,
   "id": "a72c5b7b-d629-4c1b-b163-79019862aecb",
   "metadata": {},
   "outputs": [
    {
     "name": "stdout",
     "output_type": "stream",
     "text": [
      "RangeIndex(start=0, stop=51, step=1)\n"
     ]
    }
   ],
   "source": [
    "# An index for the rows: either row numbers or row names.\n",
    "print(homelessness.index)"
   ]
  },
  {
   "cell_type": "code",
   "execution_count": 54,
   "id": "b4a38511-2f47-4e06-8fca-dd41eacdb1b6",
   "metadata": {},
   "outputs": [
    {
     "name": "stdout",
     "output_type": "stream",
     "text": [
      "                region         state  individuals  family_members  state_pop\n",
      "50            Mountain       Wyoming          434             205     577601\n",
      "34  West North Central  North Dakota          467              75     758080\n",
      "7       South Atlantic      Delaware          708             374     965479\n",
      "39         New England  Rhode Island          747             354    1058287\n",
      "45         New England       Vermont          780             511     624358\n"
     ]
    }
   ],
   "source": [
    "homelessness_ind = homelessness.sort_values(\"individuals\")\n",
    "print(homelessness_ind.head())"
   ]
  },
  {
   "cell_type": "code",
   "execution_count": 56,
   "id": "11118fa4-e120-44a7-9208-ed816f505d6f",
   "metadata": {},
   "outputs": [
    {
     "name": "stdout",
     "output_type": "stream",
     "text": [
      "                region          state  individuals  family_members  state_pop\n",
      "32        Mid-Atlantic       New York        39827           52070   19530351\n",
      "4              Pacific     California       109008           20964   39461588\n",
      "21         New England  Massachusetts         6811           13257    6882635\n",
      "9       South Atlantic        Florida        21443            9587   21244317\n",
      "43  West South Central          Texas        19199            6111   28628666\n"
     ]
    }
   ],
   "source": [
    "homelessness_fam = homelessness.sort_values(\"family_members\", ascending = False)\n",
    "print(homelessness_fam.head())"
   ]
  },
  {
   "cell_type": "code",
   "execution_count": 22,
   "id": "7e32a377-5e03-401c-af53-a839a4a66676",
   "metadata": {},
   "outputs": [
    {
     "name": "stdout",
     "output_type": "stream",
     "text": [
      "                region      state  individuals  family_members  state_pop\n",
      "13  East North Central   Illinois         6752            3891   12723071\n",
      "35  East North Central       Ohio         6929            3320   11676341\n",
      "22  East North Central   Michigan         5209            3142    9984072\n",
      "49  East North Central  Wisconsin         2740            2167    5807406\n",
      "14  East North Central    Indiana         3776            1482    6695497\n"
     ]
    }
   ],
   "source": [
    "homelessness_reg_fam = homelessness.sort_values([\"region\", \"family_members\"], ascending = [True, False])\n",
    "print(homelessness_reg_fam.head())"
   ]
  },
  {
   "cell_type": "code",
   "execution_count": 24,
   "id": "de82969b-e0be-4899-8025-9e046e1020c8",
   "metadata": {},
   "outputs": [
    {
     "name": "stdout",
     "output_type": "stream",
     "text": [
      "0      2570\n",
      "1      1434\n",
      "2      7259\n",
      "3      2280\n",
      "4    109008\n",
      "Name: individuals, dtype: int64\n"
     ]
    }
   ],
   "source": [
    "individuals = homelessness[\"individuals\"]\n",
    "print(individuals.head())\n"
   ]
  },
  {
   "cell_type": "code",
   "execution_count": 26,
   "id": "273fbf80-5aa4-45c2-8d80-6be17c71bb40",
   "metadata": {},
   "outputs": [
    {
     "name": "stdout",
     "output_type": "stream",
     "text": [
      "        state  family_members\n",
      "0     Alabama             864\n",
      "1      Alaska             582\n",
      "2     Arizona            2606\n",
      "3    Arkansas             432\n",
      "4  California           20964\n"
     ]
    }
   ],
   "source": [
    "state_fam = homelessness[[\"state\", \"family_members\"]]\n",
    "print(state_fam.head())"
   ]
  },
  {
   "cell_type": "code",
   "execution_count": 27,
   "id": "d5a9ac0c-522c-43c9-bc6f-00ab29b9ef98",
   "metadata": {},
   "outputs": [
    {
     "name": "stdout",
     "output_type": "stream",
     "text": [
      "        state  individuals\n",
      "0     Alabama         2570\n",
      "1      Alaska         1434\n",
      "2     Arizona         7259\n",
      "3    Arkansas         2280\n",
      "4  California       109008\n"
     ]
    }
   ],
   "source": [
    "ind_state = homelessness[[\"state\", \"individuals\"]]\n",
    "print(ind_state.head())"
   ]
  },
  {
   "cell_type": "code",
   "execution_count": 40,
   "id": "7e2e802e-bc83-4468-9efb-a092a5e809c5",
   "metadata": {},
   "outputs": [
    {
     "name": "stdout",
     "output_type": "stream",
     "text": [
      "0    False\n",
      "1    False\n",
      "2    False\n",
      "3    False\n",
      "4     True\n",
      "Name: individuals, dtype: bool\n"
     ]
    }
   ],
   "source": [
    "ind_gt_10k_filter = homelessness[\"individuals\"] > 10000\n",
    "print(ind_gt_10k_filter.head())"
   ]
  },
  {
   "cell_type": "code",
   "execution_count": 45,
   "id": "0eb6f932-ff8a-4f1c-8366-419da4f64b22",
   "metadata": {},
   "outputs": [
    {
     "name": "stdout",
     "output_type": "stream",
     "text": [
      "   region state  individuals  family_members  state_pop\n",
      "0     NaN   NaN          NaN             NaN        NaN\n",
      "1     NaN   NaN          NaN             NaN        NaN\n",
      "2     NaN   NaN          NaN             NaN        NaN\n",
      "3     NaN   NaN          NaN             NaN        NaN\n",
      "4     NaN   NaN     109008.0             NaN        NaN\n",
      "5     NaN   NaN          NaN             NaN        NaN\n",
      "6     NaN   NaN          NaN             NaN        NaN\n",
      "7     NaN   NaN          NaN             NaN        NaN\n",
      "8     NaN   NaN          NaN             NaN        NaN\n",
      "9     NaN   NaN      21443.0             NaN        NaN\n",
      "10    NaN   NaN          NaN             NaN        NaN\n",
      "11    NaN   NaN          NaN             NaN        NaN\n",
      "12    NaN   NaN          NaN             NaN        NaN\n",
      "13    NaN   NaN          NaN             NaN        NaN\n",
      "14    NaN   NaN          NaN             NaN        NaN\n",
      "15    NaN   NaN          NaN             NaN        NaN\n",
      "16    NaN   NaN          NaN             NaN        NaN\n",
      "17    NaN   NaN          NaN             NaN        NaN\n",
      "18    NaN   NaN          NaN             NaN        NaN\n",
      "19    NaN   NaN          NaN             NaN        NaN\n",
      "20    NaN   NaN          NaN             NaN        NaN\n",
      "21    NaN   NaN          NaN             NaN        NaN\n",
      "22    NaN   NaN          NaN             NaN        NaN\n",
      "23    NaN   NaN          NaN             NaN        NaN\n",
      "24    NaN   NaN          NaN             NaN        NaN\n",
      "25    NaN   NaN          NaN             NaN        NaN\n",
      "26    NaN   NaN          NaN             NaN        NaN\n",
      "27    NaN   NaN          NaN             NaN        NaN\n",
      "28    NaN   NaN          NaN             NaN        NaN\n",
      "29    NaN   NaN          NaN             NaN        NaN\n",
      "30    NaN   NaN          NaN             NaN        NaN\n",
      "31    NaN   NaN          NaN             NaN        NaN\n",
      "32    NaN   NaN      39827.0             NaN        NaN\n",
      "33    NaN   NaN          NaN             NaN        NaN\n",
      "34    NaN   NaN          NaN             NaN        NaN\n",
      "35    NaN   NaN          NaN             NaN        NaN\n",
      "36    NaN   NaN          NaN             NaN        NaN\n",
      "37    NaN   NaN      11139.0             NaN        NaN\n",
      "38    NaN   NaN          NaN             NaN        NaN\n",
      "39    NaN   NaN          NaN             NaN        NaN\n",
      "40    NaN   NaN          NaN             NaN        NaN\n",
      "41    NaN   NaN          NaN             NaN        NaN\n",
      "42    NaN   NaN          NaN             NaN        NaN\n",
      "43    NaN   NaN      19199.0             NaN        NaN\n",
      "44    NaN   NaN          NaN             NaN        NaN\n",
      "45    NaN   NaN          NaN             NaN        NaN\n",
      "46    NaN   NaN          NaN             NaN        NaN\n",
      "47    NaN   NaN      16424.0             NaN        NaN\n",
      "48    NaN   NaN          NaN             NaN        NaN\n",
      "49    NaN   NaN          NaN             NaN        NaN\n",
      "50    NaN   NaN          NaN             NaN        NaN\n"
     ]
    }
   ],
   "source": [
    "ind_gt_10k_ = homelessness[homelessness[\"individuals\"] > 10000]\n",
    "print(ind_gt_10k)"
   ]
  },
  {
   "cell_type": "code",
   "execution_count": 46,
   "id": "d007fd32-7825-4539-a9f9-3e2e9d3593cf",
   "metadata": {},
   "outputs": [
    {
     "name": "stdout",
     "output_type": "stream",
     "text": [
      "      region       state  individuals  family_members  state_pop\n",
      "2   Mountain     Arizona         7259            2606    7158024\n",
      "5   Mountain    Colorado         7607            3250    5691287\n",
      "12  Mountain       Idaho         1297             715    1750536\n",
      "26  Mountain     Montana          983             422    1060665\n",
      "28  Mountain      Nevada         7058             486    3027341\n",
      "31  Mountain  New Mexico         1949             602    2092741\n",
      "44  Mountain        Utah         1904             972    3153550\n",
      "50  Mountain     Wyoming          434             205     577601\n"
     ]
    }
   ],
   "source": [
    "mountain_reg =  homelessness[homelessness['region'] == 'Mountain']\n",
    "print(mountain_reg)"
   ]
  },
  {
   "cell_type": "code",
   "execution_count": 49,
   "id": "92d19752-6970-402a-bd04-7342b2b014c1",
   "metadata": {},
   "outputs": [
    {
     "name": "stdout",
     "output_type": "stream",
     "text": [
      "    region   state  individuals  family_members  state_pop\n",
      "1  Pacific  Alaska         1434             582     735139\n"
     ]
    }
   ],
   "source": [
    "fam_lt_1k_pac = homelessness[(homelessness['family_members'] < 1000) & (homelessness['region'] == \"Pacific\")]\n",
    "print(fam_lt_1k_pac)"
   ]
  },
  {
   "cell_type": "code",
   "execution_count": 51,
   "id": "d45444df-8dd2-42a5-8e9f-dc21bb1cbc15",
   "metadata": {},
   "outputs": [
    {
     "name": "stdout",
     "output_type": "stream",
     "text": [
      "      region       state  individuals  family_members  state_pop\n",
      "2   Mountain     Arizona         7259            2606    7158024\n",
      "4    Pacific  California       109008           20964   39461588\n",
      "28  Mountain      Nevada         7058             486    3027341\n",
      "44  Mountain        Utah         1904             972    3153550\n"
     ]
    }
   ],
   "source": [
    "# The Mojave Desert states\n",
    "canu = [\"California\", \"Arizona\", \"Nevada\", \"Utah\"]\n",
    "\n",
    "mojave_homelessness =  homelessness[homelessness['state'].isin(canu)]\n",
    "print(mojave_homelessness)"
   ]
  },
  {
   "cell_type": "code",
   "execution_count": 59,
   "id": "a0cb3208-fef1-4b9e-91f7-c954cee77d0c",
   "metadata": {},
   "outputs": [
    {
     "name": "stdout",
     "output_type": "stream",
     "text": [
      "    total  individuals  family_members\n",
      "0    3434         2570             864\n",
      "1    2016         1434             582\n",
      "2    9865         7259            2606\n",
      "3    2712         2280             432\n",
      "4  129972       109008           20964\n"
     ]
    }
   ],
   "source": [
    "homelessness['total'] = homelessness['individuals'] + homelessness['family_members']\n",
    "print(homelessness[['total', 'individuals', 'family_members']].head())"
   ]
  },
  {
   "cell_type": "code",
   "execution_count": 64,
   "id": "8634defb-25e4-42dd-96a4-eebb9ed5004d",
   "metadata": {},
   "outputs": [
    {
     "name": "stdout",
     "output_type": "stream",
     "text": [
      "    total  state_pop       state  percent_homeless\n",
      "0    3434    4887681     Alabama          0.070258\n",
      "1    2016     735139      Alaska          0.274234\n",
      "2    9865    7158024     Arizona          0.137817\n",
      "3    2712    3009733    Arkansas          0.090108\n",
      "4  129972   39461588  California          0.329363\n"
     ]
    }
   ],
   "source": [
    "homelessness['total'] = homelessness['individuals'] + homelessness['family_members']\n",
    "homelessness['percent_homeless'] = (homelessness['total'] / homelessness['state_pop']) * 100\n",
    "print(homelessness[['total', 'state_pop', 'state', 'percent_homeless']].head())"
   ]
  },
  {
   "cell_type": "code",
   "execution_count": 67,
   "id": "cf05f1da-3a70-4380-b063-1486487e89c8",
   "metadata": {},
   "outputs": [
    {
     "name": "stdout",
     "output_type": "stream",
     "text": [
      "                region                 state  individuals  family_members  \\\n",
      "0   East South Central               Alabama         2570             864   \n",
      "1              Pacific                Alaska         1434             582   \n",
      "2             Mountain               Arizona         7259            2606   \n",
      "3   West South Central              Arkansas         2280             432   \n",
      "4              Pacific            California       109008           20964   \n",
      "5             Mountain              Colorado         7607            3250   \n",
      "6          New England           Connecticut         2280            1696   \n",
      "7       South Atlantic              Delaware          708             374   \n",
      "8       South Atlantic  District of Columbia         3770            3134   \n",
      "9       South Atlantic               Florida        21443            9587   \n",
      "10      South Atlantic               Georgia         6943            2556   \n",
      "11             Pacific                Hawaii         4131            2399   \n",
      "12            Mountain                 Idaho         1297             715   \n",
      "13  East North Central              Illinois         6752            3891   \n",
      "14  East North Central               Indiana         3776            1482   \n",
      "15  West North Central                  Iowa         1711            1038   \n",
      "16  West North Central                Kansas         1443             773   \n",
      "17  East South Central              Kentucky         2735             953   \n",
      "18  West South Central             Louisiana         2540             519   \n",
      "19         New England                 Maine         1450            1066   \n",
      "20      South Atlantic              Maryland         4914            2230   \n",
      "21         New England         Massachusetts         6811           13257   \n",
      "22  East North Central              Michigan         5209            3142   \n",
      "23  West North Central             Minnesota         3993            3250   \n",
      "24  East South Central           Mississippi         1024             328   \n",
      "25  West North Central              Missouri         3776            2107   \n",
      "26            Mountain               Montana          983             422   \n",
      "27  West North Central              Nebraska         1745             676   \n",
      "28            Mountain                Nevada         7058             486   \n",
      "29         New England         New Hampshire          835             615   \n",
      "30        Mid-Atlantic            New Jersey         6048            3350   \n",
      "31            Mountain            New Mexico         1949             602   \n",
      "32        Mid-Atlantic              New York        39827           52070   \n",
      "33      South Atlantic        North Carolina         6451            2817   \n",
      "34  West North Central          North Dakota          467              75   \n",
      "35  East North Central                  Ohio         6929            3320   \n",
      "36  West South Central              Oklahoma         2823            1048   \n",
      "37             Pacific                Oregon        11139            3337   \n",
      "38        Mid-Atlantic          Pennsylvania         8163            5349   \n",
      "39         New England          Rhode Island          747             354   \n",
      "40      South Atlantic        South Carolina         3082             851   \n",
      "41  West North Central          South Dakota          836             323   \n",
      "42  East South Central             Tennessee         6139            1744   \n",
      "43  West South Central                 Texas        19199            6111   \n",
      "44            Mountain                  Utah         1904             972   \n",
      "45         New England               Vermont          780             511   \n",
      "46      South Atlantic              Virginia         3928            2047   \n",
      "47             Pacific            Washington        16424            5880   \n",
      "48      South Atlantic         West Virginia         1021             222   \n",
      "49  East North Central             Wisconsin         2740            2167   \n",
      "50            Mountain               Wyoming          434             205   \n",
      "\n",
      "    state_pop   total  p_homeless  percent_homeless  indiv_per_10k  \n",
      "0     4887681    3434    0.070258          0.070258       5.258117  \n",
      "1      735139    2016    0.274234          0.274234      19.506515  \n",
      "2     7158024    9865    0.137817          0.137817      10.141067  \n",
      "3     3009733    2712    0.090108          0.090108       7.575423  \n",
      "4    39461588  129972    0.329363          0.329363      27.623825  \n",
      "5     5691287   10857    0.190765          0.190765      13.366045  \n",
      "6     3571520    3976    0.111325          0.111325       6.383837  \n",
      "7      965479    1082    0.112069          0.112069       7.333148  \n",
      "8      701547    6904    0.984111          0.984111      53.738381  \n",
      "9    21244317   31030    0.146063          0.146063      10.093523  \n",
      "10   10511131    9499    0.090371          0.090371       6.605379  \n",
      "11    1420593    6530    0.459667          0.459667      29.079406  \n",
      "12    1750536    2012    0.114936          0.114936       7.409159  \n",
      "13   12723071   10643    0.083651          0.083651       5.306895  \n",
      "14    6695497    5258    0.078530          0.078530       5.639611  \n",
      "15    3148618    2749    0.087308          0.087308       5.434130  \n",
      "16    2911359    2216    0.076116          0.076116       4.956448  \n",
      "17    4461153    3688    0.082669          0.082669       6.130702  \n",
      "18    4659690    3059    0.065648          0.065648       5.451006  \n",
      "19    1339057    2516    0.187893          0.187893      10.828516  \n",
      "20    6035802    7144    0.118360          0.118360       8.141420  \n",
      "21    6882635   20068    0.291574          0.291574       9.895919  \n",
      "22    9984072    8351    0.083643          0.083643       5.217310  \n",
      "23    5606249    7243    0.129195          0.129195       7.122409  \n",
      "24    2981020    1352    0.045354          0.045354       3.435066  \n",
      "25    6121623    5883    0.096102          0.096102       6.168299  \n",
      "26    1060665    1405    0.132464          0.132464       9.267771  \n",
      "27    1925614    2421    0.125726          0.125726       9.062045  \n",
      "28    3027341    7544    0.249196          0.249196      23.314189  \n",
      "29    1353465    1450    0.107132          0.107132       6.169351  \n",
      "30    8886025    9398    0.105762          0.105762       6.806193  \n",
      "31    2092741    2551    0.121898          0.121898       9.313145  \n",
      "32   19530351   91897    0.470534          0.470534      20.392363  \n",
      "33   10381615    9268    0.089273          0.089273       6.213869  \n",
      "34     758080     542    0.071496          0.071496       6.160300  \n",
      "35   11676341   10249    0.087776          0.087776       5.934222  \n",
      "36    3940235    3871    0.098243          0.098243       7.164547  \n",
      "37    4181886   14476    0.346160          0.346160      26.636307  \n",
      "38   12800922   13512    0.105555          0.105555       6.376884  \n",
      "39    1058287    1101    0.104036          0.104036       7.058577  \n",
      "40    5084156    3933    0.077358          0.077358       6.061970  \n",
      "41     878698    1159    0.131900          0.131900       9.514077  \n",
      "42    6771631    7883    0.116412          0.116412       9.065763  \n",
      "43   28628666   25310    0.088408          0.088408       6.706215  \n",
      "44    3153550    2876    0.091199          0.091199       6.037640  \n",
      "45     624358    1291    0.206772          0.206772      12.492833  \n",
      "46    8501286    5975    0.070283          0.070283       4.620477  \n",
      "47    7523869   22304    0.296443          0.296443      21.829195  \n",
      "48    1804291    1243    0.068891          0.068891       5.658732  \n",
      "49    5807406    4907    0.084496          0.084496       4.718113  \n",
      "50     577601     639    0.110630          0.110630       7.513837  \n"
     ]
    }
   ],
   "source": [
    "# Create indiv_per_10k col as homeless individuals per 10k state pop\n",
    "homelessness[\"indiv_per_10k\"] = 10000 * homelessness[\"individuals\"] / homelessness[\"state_pop\"]\n",
    "print(homelessness)"
   ]
  },
  {
   "cell_type": "code",
   "execution_count": 78,
   "id": "e203ac7e-b26e-460e-b223-c0b0e599323f",
   "metadata": {},
   "outputs": [
    {
     "name": "stdout",
     "output_type": "stream",
     "text": [
      "                   state  indiv_per_10k\n",
      "8   District of Columbia      53.738381\n",
      "11                Hawaii      29.079406\n",
      "4             California      27.623825\n",
      "37                Oregon      26.636307\n",
      "28                Nevada      23.314189\n",
      "47            Washington      21.829195\n",
      "32              New York      20.392363\n"
     ]
    }
   ],
   "source": [
    "# Create indiv_per_10k col as homeless individuals per 10k state pop\n",
    "homelessness[\"indiv_per_10k\"] = 10000 * homelessness[\"individuals\"] / homelessness[\"state_pop\"]\n",
    "# Subset rows for indiv_per_10k greater than 20\n",
    "high_homelessness = homelessness[homelessness['indiv_per_10k'] > 20]\n",
    "# Sort high_homelessness by descending indiv_per_10k\n",
    "high_homelessness_srt = high_homelessness.sort_values('indiv_per_10k', ascending = False)\n",
    "# From high_homelessness_srt, select the state and indiv_per_10k cols\n",
    "print(high_homelessness_srt [['state','indiv_per_10k']])"
   ]
  },
  {
   "cell_type": "code",
   "execution_count": null,
   "id": "05552214-80c5-4649-87b4-c119e6d4ab78",
   "metadata": {},
   "outputs": [],
   "source": []
  }
 ],
 "metadata": {
  "kernelspec": {
   "display_name": "Python 3 (ipykernel)",
   "language": "python",
   "name": "python3"
  },
  "language_info": {
   "codemirror_mode": {
    "name": "ipython",
    "version": 3
   },
   "file_extension": ".py",
   "mimetype": "text/x-python",
   "name": "python",
   "nbconvert_exporter": "python",
   "pygments_lexer": "ipython3",
   "version": "3.13.2"
  }
 },
 "nbformat": 4,
 "nbformat_minor": 5
}
