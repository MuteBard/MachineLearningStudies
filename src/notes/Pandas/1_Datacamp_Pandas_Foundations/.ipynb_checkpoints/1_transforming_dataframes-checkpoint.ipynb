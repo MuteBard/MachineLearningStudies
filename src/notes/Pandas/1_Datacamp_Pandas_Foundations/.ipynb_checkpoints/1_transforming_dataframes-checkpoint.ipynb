{
 "cells": [
  {
   "cell_type": "code",
   "execution_count": null,
   "id": "41e46dcc-52d6-4369-94e7-5f268e3864fe",
   "metadata": {},
   "outputs": [],
   "source": [
    "# What is the point of Pandas?\n",
    "# A python package for data manipulation and can also be used for data visualization\n",
    "\n",
    "# Pandas is built on Numpy and Matplotlib\n",
    "# It is designed to work with tabular / rectangular data\n",
    "\n",
    "# in pandas, rectangular data is presented as a dataframe, for comparision in SQL this is just a visualized table\n"
   ]
  },
  {
   "cell_type": "code",
   "execution_count": 14,
   "id": "1d72bd8d-5cdd-4d23-8050-ee6246ce619d",
   "metadata": {},
   "outputs": [],
   "source": [
    "import pandas as pd\n",
    "\n",
    "data = {\n",
    "    \"region\": [\"East South Central\", \"Pacific\", \"Mountain\", \"West South Central\", \"Pacific\", \"Mountain\", \"New England\",\n",
    "               \"South Atlantic\", \"South Atlantic\", \"South Atlantic\", \"South Atlantic\", \"Pacific\", \"Mountain\",\n",
    "               \"East North Central\", \"East North Central\", \"West North Central\", \"West North Central\", \n",
    "               \"East South Central\", \"West South Central\", \"New England\", \"South Atlantic\", \"New England\", \n",
    "               \"East North Central\", \"West North Central\", \"East South Central\", \"West North Central\", \"Mountain\", \n",
    "               \"West North Central\", \"Mountain\", \"New England\", \"Mid-Atlantic\", \"Mountain\", \"Mid-Atlantic\", \n",
    "               \"South Atlantic\", \"West North Central\", \"East North Central\", \"West South Central\", \"Pacific\", \n",
    "               \"Mid-Atlantic\", \"New England\", \"South Atlantic\", \"West North Central\", \"East South Central\", \n",
    "               \"West South Central\", \"Mountain\", \"New England\", \"South Atlantic\", \"Pacific\", \"South Atlantic\", \n",
    "               \"East North Central\", \"Mountain\"],\n",
    "    \"state\": [\"Alabama\", \"Alaska\", \"Arizona\", \"Arkansas\", \"California\", \"Colorado\", \"Connecticut\", \"Delaware\",\n",
    "              \"District of Columbia\", \"Florida\", \"Georgia\", \"Hawaii\", \"Idaho\", \"Illinois\", \"Indiana\", \"Iowa\", \n",
    "              \"Kansas\", \"Kentucky\", \"Louisiana\", \"Maine\", \"Maryland\", \"Massachusetts\", \"Michigan\", \"Minnesota\", \n",
    "              \"Mississippi\", \"Missouri\", \"Montana\", \"Nebraska\", \"Nevada\", \"New Hampshire\", \"New Jersey\", \n",
    "              \"New Mexico\", \"New York\", \"North Carolina\", \"North Dakota\", \"Ohio\", \"Oklahoma\", \"Oregon\", \n",
    "              \"Pennsylvania\", \"Rhode Island\", \"South Carolina\", \"South Dakota\", \"Tennessee\", \"Texas\", \"Utah\", \n",
    "              \"Vermont\", \"Virginia\", \"Washington\", \"West Virginia\", \"Wisconsin\", \"Wyoming\"],\n",
    "    \"individuals\": [2570, 1434, 7259, 2280, 109008, 7607, 2280, 708, 3770, 21443, 6943, 4131, 1297, 6752, 3776, \n",
    "                    1711, 1443, 2735, 2540, 1450, 4914, 6811, 5209, 3993, 1024, 3776, 983, 1745, 7058, 835, 6048, \n",
    "                    1949, 39827, 6451, 467, 6929, 2823, 11139, 8163, 747, 3082, 836, 6139, 19199, 1904, 780, 3928, \n",
    "                    16424, 1021, 2740, 434],\n",
    "    \"family_members\": [864, 582, 2606, 432, 20964, 3250, 1696, 374, 3134, 9587, 2556, 2399, 715, 3891, 1482, 1038, \n",
    "                       773, 953, 519, 1066, 2230, 13257, 3142, 3250, 328, 2107, 422, 676, 486, 615, 3350, 602, \n",
    "                       52070, 2817, 75, 3320, 1048, 3337, 5349, 354, 851, 323, 1744, 6111, 972, 511, 2047, 5880, \n",
    "                       222, 2167, 205],\n",
    "    \"state_pop\": [4887681, 735139, 7158024, 3009733, 39461588, 5691287, 3571520, 965479, 701547, 21244317, 10511131, \n",
    "                  1420593, 1750536, 12723071, 6695497, 3148618, 2911359, 4461153, 4659690, 1339057, 6035802, 6882635, \n",
    "                  9984072, 5606249, 2981020, 6121623, 1060665, 1925614, 3027341, 1353465, 8886025, 2092741, 19530351, \n",
    "                  10381615, 758080, 11676341, 3940235, 4181886, 12800922, 1058287, 5084156, 878698, 6771631, 28628666, \n",
    "                  3153550, 624358, 8501286, 7523869, 1804291, 5807406, 577601]\n",
    "}\n",
    "\n",
    "homelessness = pd.DataFrame(data)\n",
    "\n",
    "# homelessness is a DataFrame containing estimates of homelessness in each U.S. state in 2018. \n",
    "# The individual column is the number of homeless individuals not part of a family with children. \n",
    "# The family_members column is the number of homeless individuals part of a family with children. \n",
    "# The state_pop column is the state's total population.\n"
   ]
  },
  {
   "cell_type": "code",
   "execution_count": 10,
   "id": "79292918-ab3e-46a1-80e2-a7d820476e13",
   "metadata": {},
   "outputs": [
    {
     "name": "stdout",
     "output_type": "stream",
     "text": [
      "               region       state  individuals  family_members  state_pop\n",
      "0  East South Central     Alabama         2570             864    4887681\n",
      "1             Pacific      Alaska         1434             582     735139\n",
      "2            Mountain     Arizona         7259            2606    7158024\n",
      "3  West South Central    Arkansas         2280             432    3009733\n",
      "4             Pacific  California       109008           20964   39461588\n"
     ]
    }
   ],
   "source": [
    "# returns the first few rows (the “head” of the DataFrame).\n",
    "print(homelessness.head())\n"
   ]
  },
  {
   "cell_type": "code",
   "execution_count": 11,
   "id": "749fc390-2946-44a7-b21c-da36d917eb73",
   "metadata": {},
   "outputs": [
    {
     "name": "stdout",
     "output_type": "stream",
     "text": [
      "<class 'pandas.core.frame.DataFrame'>\n",
      "RangeIndex: 51 entries, 0 to 50\n",
      "Data columns (total 5 columns):\n",
      " #   Column          Non-Null Count  Dtype \n",
      "---  ------          --------------  ----- \n",
      " 0   region          51 non-null     object\n",
      " 1   state           51 non-null     object\n",
      " 2   individuals     51 non-null     int64 \n",
      " 3   family_members  51 non-null     int64 \n",
      " 4   state_pop       51 non-null     int64 \n",
      "dtypes: int64(3), object(2)\n",
      "memory usage: 2.1+ KB\n",
      "None\n"
     ]
    }
   ],
   "source": [
    "#  shows information on each of the columns, such as the data type and number of missing values.\n",
    "print(homelessness.info())"
   ]
  },
  {
   "cell_type": "code",
   "execution_count": 12,
   "id": "e0a27c21-06bb-4004-bf35-513376cea972",
   "metadata": {},
   "outputs": [
    {
     "name": "stdout",
     "output_type": "stream",
     "text": [
      "(51, 5)\n"
     ]
    }
   ],
   "source": [
    "# returns the number of rows and columns of the DataFrame.\n",
    "print(homelessness.shape)"
   ]
  },
  {
   "cell_type": "code",
   "execution_count": 13,
   "id": "e6f385ac-cb9c-48db-90ab-5aa67479e35b",
   "metadata": {},
   "outputs": [
    {
     "name": "stdout",
     "output_type": "stream",
     "text": [
      "         individuals  family_members     state_pop\n",
      "count      51.000000       51.000000  5.100000e+01\n",
      "mean     7225.784314     3504.882353  6.405637e+06\n",
      "std     15991.025083     7805.411811  7.327258e+06\n",
      "min       434.000000       75.000000  5.776010e+05\n",
      "25%      1446.500000      592.000000  1.777414e+06\n",
      "50%      3082.000000     1482.000000  4.461153e+06\n",
      "75%      6781.500000     3196.000000  7.340946e+06\n",
      "max    109008.000000    52070.000000  3.946159e+07\n"
     ]
    }
   ],
   "source": [
    "# calculates a few summary statistics for each column.\n",
    "print(homelessness.describe())"
   ]
  },
  {
   "cell_type": "code",
   "execution_count": 15,
   "id": "d75e478e-93d6-4001-a8c4-c9aec8cd9327",
   "metadata": {},
   "outputs": [
    {
     "name": "stdout",
     "output_type": "stream",
     "text": [
      "[['East South Central' 'Alabama' 2570 864 4887681]\n",
      " ['Pacific' 'Alaska' 1434 582 735139]\n",
      " ['Mountain' 'Arizona' 7259 2606 7158024]\n",
      " ['West South Central' 'Arkansas' 2280 432 3009733]\n",
      " ['Pacific' 'California' 109008 20964 39461588]\n",
      " ['Mountain' 'Colorado' 7607 3250 5691287]\n",
      " ['New England' 'Connecticut' 2280 1696 3571520]\n",
      " ['South Atlantic' 'Delaware' 708 374 965479]\n",
      " ['South Atlantic' 'District of Columbia' 3770 3134 701547]\n",
      " ['South Atlantic' 'Florida' 21443 9587 21244317]\n",
      " ['South Atlantic' 'Georgia' 6943 2556 10511131]\n",
      " ['Pacific' 'Hawaii' 4131 2399 1420593]\n",
      " ['Mountain' 'Idaho' 1297 715 1750536]\n",
      " ['East North Central' 'Illinois' 6752 3891 12723071]\n",
      " ['East North Central' 'Indiana' 3776 1482 6695497]\n",
      " ['West North Central' 'Iowa' 1711 1038 3148618]\n",
      " ['West North Central' 'Kansas' 1443 773 2911359]\n",
      " ['East South Central' 'Kentucky' 2735 953 4461153]\n",
      " ['West South Central' 'Louisiana' 2540 519 4659690]\n",
      " ['New England' 'Maine' 1450 1066 1339057]\n",
      " ['South Atlantic' 'Maryland' 4914 2230 6035802]\n",
      " ['New England' 'Massachusetts' 6811 13257 6882635]\n",
      " ['East North Central' 'Michigan' 5209 3142 9984072]\n",
      " ['West North Central' 'Minnesota' 3993 3250 5606249]\n",
      " ['East South Central' 'Mississippi' 1024 328 2981020]\n",
      " ['West North Central' 'Missouri' 3776 2107 6121623]\n",
      " ['Mountain' 'Montana' 983 422 1060665]\n",
      " ['West North Central' 'Nebraska' 1745 676 1925614]\n",
      " ['Mountain' 'Nevada' 7058 486 3027341]\n",
      " ['New England' 'New Hampshire' 835 615 1353465]\n",
      " ['Mid-Atlantic' 'New Jersey' 6048 3350 8886025]\n",
      " ['Mountain' 'New Mexico' 1949 602 2092741]\n",
      " ['Mid-Atlantic' 'New York' 39827 52070 19530351]\n",
      " ['South Atlantic' 'North Carolina' 6451 2817 10381615]\n",
      " ['West North Central' 'North Dakota' 467 75 758080]\n",
      " ['East North Central' 'Ohio' 6929 3320 11676341]\n",
      " ['West South Central' 'Oklahoma' 2823 1048 3940235]\n",
      " ['Pacific' 'Oregon' 11139 3337 4181886]\n",
      " ['Mid-Atlantic' 'Pennsylvania' 8163 5349 12800922]\n",
      " ['New England' 'Rhode Island' 747 354 1058287]\n",
      " ['South Atlantic' 'South Carolina' 3082 851 5084156]\n",
      " ['West North Central' 'South Dakota' 836 323 878698]\n",
      " ['East South Central' 'Tennessee' 6139 1744 6771631]\n",
      " ['West South Central' 'Texas' 19199 6111 28628666]\n",
      " ['Mountain' 'Utah' 1904 972 3153550]\n",
      " ['New England' 'Vermont' 780 511 624358]\n",
      " ['South Atlantic' 'Virginia' 3928 2047 8501286]\n",
      " ['Pacific' 'Washington' 16424 5880 7523869]\n",
      " ['South Atlantic' 'West Virginia' 1021 222 1804291]\n",
      " ['East North Central' 'Wisconsin' 2740 2167 5807406]\n",
      " ['Mountain' 'Wyoming' 434 205 577601]]\n"
     ]
    }
   ],
   "source": [
    "#  A two-dimensional NumPy array of values.\n",
    "print(homelessness.values)"
   ]
  },
  {
   "cell_type": "code",
   "execution_count": 16,
   "id": "e62ae734-8bd9-4cd3-8d82-7d4e90efcd14",
   "metadata": {},
   "outputs": [
    {
     "name": "stdout",
     "output_type": "stream",
     "text": [
      "Index(['region', 'state', 'individuals', 'family_members', 'state_pop'], dtype='object')\n"
     ]
    }
   ],
   "source": [
    "# An index of columns: the column names.\n",
    "print(homelessness.columns)"
   ]
  },
  {
   "cell_type": "code",
   "execution_count": 17,
   "id": "a72c5b7b-d629-4c1b-b163-79019862aecb",
   "metadata": {},
   "outputs": [
    {
     "name": "stdout",
     "output_type": "stream",
     "text": [
      "RangeIndex(start=0, stop=51, step=1)\n"
     ]
    }
   ],
   "source": [
    "# An index for the rows: either row numbers or row names.\n",
    "print(homelessness.index)"
   ]
  },
  {
   "cell_type": "code",
   "execution_count": 20,
   "id": "b4a38511-2f47-4e06-8fca-dd41eacdb1b6",
   "metadata": {},
   "outputs": [
    {
     "name": "stdout",
     "output_type": "stream",
     "text": [
      "                region         state  individuals  family_members  state_pop\n",
      "50            Mountain       Wyoming          434             205     577601\n",
      "34  West North Central  North Dakota          467              75     758080\n",
      "7       South Atlantic      Delaware          708             374     965479\n",
      "39         New England  Rhode Island          747             354    1058287\n",
      "45         New England       Vermont          780             511     624358\n"
     ]
    }
   ],
   "source": [
    "homelessness_ind = homelessness.sort_values(\"individuals\")\n",
    "print(homelessness_ind.head())"
   ]
  },
  {
   "cell_type": "code",
   "execution_count": 21,
   "id": "11118fa4-e120-44a7-9208-ed816f505d6f",
   "metadata": {},
   "outputs": [
    {
     "name": "stdout",
     "output_type": "stream",
     "text": [
      "                region          state  individuals  family_members  state_pop\n",
      "32        Mid-Atlantic       New York        39827           52070   19530351\n",
      "4              Pacific     California       109008           20964   39461588\n",
      "21         New England  Massachusetts         6811           13257    6882635\n",
      "9       South Atlantic        Florida        21443            9587   21244317\n",
      "43  West South Central          Texas        19199            6111   28628666\n"
     ]
    }
   ],
   "source": [
    "homelessness_fam = homelessness.sort_values(\"family_members\", ascending = False)\n",
    "print(homelessness_fam.head())"
   ]
  },
  {
   "cell_type": "code",
   "execution_count": 22,
   "id": "7e32a377-5e03-401c-af53-a839a4a66676",
   "metadata": {},
   "outputs": [
    {
     "name": "stdout",
     "output_type": "stream",
     "text": [
      "                region      state  individuals  family_members  state_pop\n",
      "13  East North Central   Illinois         6752            3891   12723071\n",
      "35  East North Central       Ohio         6929            3320   11676341\n",
      "22  East North Central   Michigan         5209            3142    9984072\n",
      "49  East North Central  Wisconsin         2740            2167    5807406\n",
      "14  East North Central    Indiana         3776            1482    6695497\n"
     ]
    }
   ],
   "source": [
    "homelessness_reg_fam = homelessness.sort_values([\"region\", \"family_members\"], ascending = [True, False])\n",
    "print(homelessness_reg_fam.head())"
   ]
  },
  {
   "cell_type": "code",
   "execution_count": 24,
   "id": "de82969b-e0be-4899-8025-9e046e1020c8",
   "metadata": {},
   "outputs": [
    {
     "name": "stdout",
     "output_type": "stream",
     "text": [
      "0      2570\n",
      "1      1434\n",
      "2      7259\n",
      "3      2280\n",
      "4    109008\n",
      "Name: individuals, dtype: int64\n"
     ]
    }
   ],
   "source": [
    "individuals = homelessness[\"individuals\"]\n",
    "print(individuals.head())\n"
   ]
  },
  {
   "cell_type": "code",
   "execution_count": 26,
   "id": "273fbf80-5aa4-45c2-8d80-6be17c71bb40",
   "metadata": {},
   "outputs": [
    {
     "name": "stdout",
     "output_type": "stream",
     "text": [
      "        state  family_members\n",
      "0     Alabama             864\n",
      "1      Alaska             582\n",
      "2     Arizona            2606\n",
      "3    Arkansas             432\n",
      "4  California           20964\n"
     ]
    }
   ],
   "source": [
    "state_fam = homelessness[[\"state\", \"family_members\"]]\n",
    "print(state_fam.head())"
   ]
  },
  {
   "cell_type": "code",
   "execution_count": null,
   "id": "d5a9ac0c-522c-43c9-bc6f-00ab29b9ef98",
   "metadata": {},
   "outputs": [],
   "source": [
    "ind_fam = homelessness[[\"state\", \"individual\"]]\n",
    "print(state_fam.head())"
   ]
  }
 ],
 "metadata": {
  "kernelspec": {
   "display_name": "Python 3 (ipykernel)",
   "language": "python",
   "name": "python3"
  },
  "language_info": {
   "codemirror_mode": {
    "name": "ipython",
    "version": 3
   },
   "file_extension": ".py",
   "mimetype": "text/x-python",
   "name": "python",
   "nbconvert_exporter": "python",
   "pygments_lexer": "ipython3",
   "version": "3.13.2"
  }
 },
 "nbformat": 4,
 "nbformat_minor": 5
}
