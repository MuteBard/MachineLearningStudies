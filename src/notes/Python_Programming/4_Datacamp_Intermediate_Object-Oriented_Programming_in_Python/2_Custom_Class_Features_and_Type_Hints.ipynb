{
 "cells": [
  {
   "cell_type": "code",
   "execution_count": null,
   "id": "19cf8518-9a8c-4213-b55b-52597b854931",
   "metadata": {},
   "outputs": [],
   "source": [
    "## Type Hints"
   ]
  },
  {
   "cell_type": "code",
   "execution_count": null,
   "id": "787b7c65-4fb4-46d9-86fe-653d49487062",
   "metadata": {},
   "outputs": [],
   "source": [
    "# These are built-in types that correspond to basic Python data types:\n",
    "\n",
    "int\n",
    "float\n",
    "str\n",
    "bool\n",
    "bytes"
   ]
  },
  {
   "cell_type": "code",
   "execution_count": null,
   "id": "9cc5bf1e-a5fd-4de5-94c0-84334daec21e",
   "metadata": {},
   "outputs": [],
   "source": [
    "# Generic Collections\n",
    "\n",
    "from typing import List, Dict, Tuple, Set, FrozenSet\n",
    "\n",
    "List[int]             # A list of integers\n",
    "Dict[str, int]        # A dictionary with string keys and int values\n",
    "Tuple[int, str]       # A tuple with an int and a str\n",
    "Set[str]              # A set of strings\n",
    "FrozenSet[float]      # An immutable set of floats"
   ]
  },
  {
   "cell_type": "code",
   "execution_count": null,
   "id": "ac1775c4-2af9-4e66-a5ef-27a922b79db9",
   "metadata": {},
   "outputs": [],
   "source": [
    "# Special Types\n",
    "\n",
    "Any                   # Anything (escape hatch)\n",
    "Union[int, str]       # Either int or str\n",
    "Optional[int]         # Either int or None (shorthand for Union[int, None])\n",
    "Literal[\"asc\", \"desc\"]# A specific set of values\n",
    "Callable[..., str]    # A function with any args returning a string\n",
    "TypeVar(\"T\")          # A generic type variable\n",
    "NoReturn              # A function that never returns (e.g., always raises)\n",
    "Never        "
   ]
  },
  {
   "cell_type": "code",
   "execution_count": null,
   "id": "21cb265f-6cf9-4cdb-b8fc-0e2a23fda3cf",
   "metadata": {},
   "outputs": [],
   "source": []
  },
  {
   "cell_type": "markdown",
   "id": "865fed7d-677d-4c96-8eaf-5fad45e1350e",
   "metadata": {},
   "source": [
    "![Instructions for exercise](Images/2-1.png)"
   ]
  },
  {
   "cell_type": "raw",
   "id": "1d7aabf8-af7c-44dc-b379-e69d922611f0",
   "metadata": {},
   "source": [
    "# Import Dict and List from typing\n",
    "from ____ import ____, ____\n",
    "\n",
    "# Type hint the roster of codenames and number of missions\n",
    "roster: ____[____, ____] = {\n",
    "  \"Chuck\": 37,\n",
    "  \"Devin\": 2,\n",
    "  \"Steven\": 4\n",
    "}\n",
    "\n",
    "# Unpack the values and add type hints for the new list\n",
    "agents: ____[____] = [\n",
    "  f\"Agent {agent}, {missions} missions\" \\\n",
    "  for agent, missions in roster.items()\n",
    "]"
   ]
  },
  {
   "cell_type": "code",
   "execution_count": null,
   "id": "2378c983-f216-4193-b46a-62d43f061f79",
   "metadata": {},
   "outputs": [],
   "source": [
    "# Import Dict and List from typing\n",
    "from typing import Dict, List\n",
    "\n",
    "# Type hint the roster of codenames and number of missions\n",
    "roster: Dict[str, int] = {\n",
    "  \"Chuck\": 37,\n",
    "  \"Devin\": 2,\n",
    "  \"Steven\": 4\n",
    "}\n",
    "\n",
    "# Unpack the values and add type hints for the new list\n",
    "agents: List[str] = [\n",
    "  f\"Agent {agent}, {missions} missions\" \\\n",
    "  for agent, missions in roster.items()\n",
    "]"
   ]
  },
  {
   "cell_type": "code",
   "execution_count": 3,
   "id": "258c02fb-2dd3-45e6-9991-b0f274a982df",
   "metadata": {},
   "outputs": [],
   "source": [
    "status: str = \"open\" if True else \"closed\""
   ]
  },
  {
   "cell_type": "markdown",
   "id": "2acbcf81-662d-4691-badd-a425ada4465b",
   "metadata": {},
   "source": [
    "![Instructions for exercise](Images/2-2.png)"
   ]
  },
  {
   "cell_type": "raw",
   "id": "9a233f49-8918-4d5a-8437-d585d4f565b9",
   "metadata": {},
   "source": [
    "# Define an agent class with a constructor, add type hints\n",
    "class Agent:\n",
    "  def __init__(self, ____: ____, ____: ____):\n",
    "    self.____: ____ = codename\n",
    "    self.____: int  = ____\n"
   ]
  },
  {
   "cell_type": "code",
   "execution_count": null,
   "id": "5be69b55-5de5-47c0-8796-694eeab5b476",
   "metadata": {},
   "outputs": [],
   "source": [
    "# Define an agent class with a constructor, add type hints\n",
    "class Agent:\n",
    "  def __init__(self, codename: str, missions: int):\n",
    "    self.codename: str = codename\n",
    "    self.missions: int  = missions\n"
   ]
  },
  {
   "cell_type": "markdown",
   "id": "6108b6c2-0ba6-408a-92b8-c5f779564332",
   "metadata": {},
   "source": [
    "![Instructions for exercise](Images/2-3.png)"
   ]
  },
  {
   "cell_type": "raw",
   "id": "78e87dce-f190-4b93-8274-33aaa0476514",
   "metadata": {},
   "source": [
    "class Agent:\n",
    "  def __init__(self, codename: str, missions: int):\n",
    "    self.codename: str = codename\n",
    "    self.missions: int = missions\n",
    "\n",
    "  # Create the add_mission() method, add type hinting\n",
    "  def add_mission(self, ____: ____) ____ ____:\n",
    "    self.missions += 1\n",
    "    print(f\"{self.codename} completed a mission in \" + \\\n",
    "          f\"{location}. This was mission #{self.missions}\")"
   ]
  },
  {
   "cell_type": "code",
   "execution_count": null,
   "id": "1d9cd7f2-ac57-4094-bf2c-552bb948e51d",
   "metadata": {},
   "outputs": [],
   "source": [
    "class Agent:\n",
    "  def __init__(self, codename: str, missions: int):\n",
    "    self.codename: str = codename\n",
    "    self.missions: int = missions\n",
    "\n",
    "  # Create the add_mission() method, add type hinting\n",
    "  def add_mission(self, location: str) -> None:\n",
    "    self.missions += 1\n",
    "    print(f\"{self.codename} completed a mission in \" + \\\n",
    "          f\"{location}. This was mission #{self.missions}\")"
   ]
  },
  {
   "cell_type": "markdown",
   "id": "7ba4ac5c-27a7-4e92-95b1-bea2872811c3",
   "metadata": {},
   "source": [
    "![Instructions for exercise](Images/2-4.png)"
   ]
  },
  {
   "cell_type": "raw",
   "id": "ce560f03-cc40-4736-902d-50b07ef03b55",
   "metadata": {},
   "source": [
    "class Agent:\n",
    "  def __init__(self, codename: str, missions: int):\n",
    "    self.codename: str = codename\n",
    "    self.missions: int = missions\n",
    "\n",
    "  def add_mission(self, location: str) -> None:\n",
    "    self.missions += 1\n",
    "    print(f\"{self.codename} completed a mission in \" + \\\n",
    "          f\"{location}. This was mission #{self.missions}\")\n",
    "\n",
    "# Create an Agent object, add type hints\n",
    "____: ____ = ____(\"Charles Carmichael\", 37)\n",
    "\n",
    "# Create a list of locations, add a mission for each\n",
    "____: ____[____] = [\"Burbank\", \"Paris\", \"Prague\"]\n",
    "for location in locations:\n",
    "  chuck.add_mission(location)\n"
   ]
  },
  {
   "cell_type": "code",
   "execution_count": 4,
   "id": "fd9fcbcc-ca44-40e8-9584-8f85f50f9abb",
   "metadata": {},
   "outputs": [
    {
     "name": "stdout",
     "output_type": "stream",
     "text": [
      "Charles Carmichael completed a mission in Burbank. This was mission #38\n",
      "Charles Carmichael completed a mission in Paris. This was mission #39\n",
      "Charles Carmichael completed a mission in Prague. This was mission #40\n"
     ]
    }
   ],
   "source": [
    "from typing import Dict, List\n",
    "\n",
    "class Agent:\n",
    "  def __init__(self, codename: str, missions: int):\n",
    "    self.codename: str = codename\n",
    "    self.missions: int = missions\n",
    "\n",
    "  def add_mission(self, location: str) -> None:\n",
    "    self.missions += 1\n",
    "    print(f\"{self.codename} completed a mission in \" + \\\n",
    "          f\"{location}. This was mission #{self.missions}\")\n",
    "\n",
    "# Create an Agent object, add type hints\n",
    "chuck: Agent = Agent(\"Charles Carmichael\", 37)\n",
    "\n",
    "# Create a list of locations, add a mission for each\n",
    "locations: List[str] = [\"Burbank\", \"Paris\", \"Prague\"]\n",
    "for location in locations:\n",
    "  chuck.add_mission(location)\n"
   ]
  },
  {
   "cell_type": "code",
   "execution_count": null,
   "id": "49d06ca6-6bd1-42fa-b73f-37ddcadf9b96",
   "metadata": {},
   "outputs": [],
   "source": [
    "# Descriptors (references Python_Programming/3_Datacamp_Object_Oriented_Programming_in_Python/4_Best_Practices_of_Class_Design)"
   ]
  },
  {
   "cell_type": "markdown",
   "id": "3b1bf527-0958-442f-a783-24b11e923e72",
   "metadata": {},
   "source": [
    "![Instructions for exercise](Images/2-5.png)"
   ]
  },
  {
   "cell_type": "code",
   "execution_count": 5,
   "id": "c90892fe-6e0b-4590-811b-4463506101a5",
   "metadata": {},
   "outputs": [],
   "source": [
    "class BankAccount:\n",
    "  def __init__(self, balance):\n",
    "    self.balance = balance\n",
    "\n",
    "  @property\n",
    "  def balance(self):\n",
    "    return f\"${round(self._balance, 2)}\"\n",
    "\n",
    "  @balance.setter\n",
    "  def balance(self, new_balance):\n",
    "    if new_balance > 0:\n",
    "      self._balance = new_balance\n",
    "\n",
    "  @balance.deleter\n",
    "  def balance(self):\n",
    "    print(\"Deleting the 'balance' attribute\")\n",
    "    del self._balance"
   ]
  },
  {
   "cell_type": "raw",
   "id": "2109de34-0175-4901-871c-a78b4e36eae8",
   "metadata": {},
   "source": [
    "checking_account = BankAccount(100)\n",
    "\n",
    "# Output the balance of the checking_account object\n",
    "print(____.____)\n",
    "\n",
    "# Set the balance to 150, output the new balance\n",
    "____.____ = ____\n",
    "print(____.____)\n",
    "\n",
    "# Delete the balance attribute, attempt to print the balance\n",
    "____ checking_account.____\n"
   ]
  },
  {
   "cell_type": "code",
   "execution_count": 6,
   "id": "dd4b9f3b-16aa-4c39-82ee-770ff01c4ddd",
   "metadata": {},
   "outputs": [
    {
     "name": "stdout",
     "output_type": "stream",
     "text": [
      "$100\n",
      "$150\n",
      "Deleting the 'balance' attribute\n"
     ]
    }
   ],
   "source": [
    "checking_account = BankAccount(100)\n",
    "\n",
    "# Output the balance of the checking_account object\n",
    "print(checking_account.balance)\n",
    "\n",
    "# Set the balance to 150, output the new balance\n",
    "checking_account.balance = 150\n",
    "print(checking_account.balance)\n",
    "\n",
    "# Delete the balance attribute, attempt to print the balance\n",
    "del checking_account.balance\n"
   ]
  },
  {
   "cell_type": "markdown",
   "id": "00b7d07d-c222-4630-9ec6-0feac1d95347",
   "metadata": {},
   "source": [
    "![Instructions for exercise](Images/2-6.png)"
   ]
  },
  {
   "cell_type": "raw",
   "id": "1603cea3-74c7-46cf-be63-cadfcb35c43c",
   "metadata": {},
   "source": [
    "class BankAccount:\n",
    "  def __init__(self, email):\n",
    "    self.email = email\n",
    "  \n",
    "  # Define and decorate a method to begin the process of \n",
    "  # creating a descriptor for the email attribute\n",
    "  @____\n",
    "  def ____(self):\n",
    "    return f\"Email for this account is: {____.____}\""
   ]
  },
  {
   "cell_type": "code",
   "execution_count": null,
   "id": "284c7ef4-e88f-4d51-a372-e305c27f39a8",
   "metadata": {},
   "outputs": [],
   "source": [
    "class BankAccount:\n",
    "  def __init__(self, email):\n",
    "    self.email = email\n",
    "  \n",
    "  # Define and decorate a method to begin the process of \n",
    "  # creating a descriptor for the email attribute\n",
    "  @property\n",
    "  def email(self):\n",
    "    return f\"Email for this account is: {self._email}\""
   ]
  },
  {
   "cell_type": "markdown",
   "id": "c63dbe1c-e6a6-4d79-9319-2feeaebbfafa",
   "metadata": {},
   "source": [
    "![Instructions for exercise](Images/2-7.png)"
   ]
  },
  {
   "cell_type": "raw",
   "id": "9fdd73d3-009d-4de2-8085-eafdbf5e5bcd",
   "metadata": {},
   "source": [
    "class BankAccount:\n",
    "  def __init__(self, email):\n",
    "    self.email = email\n",
    "    \n",
    "  @property\n",
    "  def email(self):\n",
    "    return f\"Email for this account is: {self._email}\"\n",
    "  \n",
    "  # Build a method to update the value of email using the\n",
    "  # new email address, if it contains the \"@\" symbol\n",
    "  @email.____\n",
    "  def ____(self, new_email_address):\n",
    "    if \"@\" in ____:\n",
    "      self._email = ____\n",
    "    else:\n",
    "      print(\"Please make sure to enter a valid email.\")\n"
   ]
  },
  {
   "cell_type": "code",
   "execution_count": null,
   "id": "7b5f6fc6-aee5-42fa-b2e5-b60475f75a89",
   "metadata": {},
   "outputs": [],
   "source": [
    "class BankAccount:\n",
    "  def __init__(self, email):\n",
    "    self.email = email\n",
    "    \n",
    "  @property\n",
    "  def email(self):\n",
    "    return f\"Email for this account is: {self._email}\"\n",
    "  \n",
    "  # Build a method to update the value of email using the\n",
    "  # new email address, if it contains the \"@\" symbol\n",
    "  @email.setter\n",
    "  def email(self, new_email_address):\n",
    "    if \"@\" in new_email_address:\n",
    "      self._email = new_email_address\n",
    "    else:\n",
    "      print(\"Please make sure to enter a valid email.\")\n"
   ]
  },
  {
   "cell_type": "markdown",
   "id": "2352ef42-0f42-44c4-8ba1-577188ceb0c8",
   "metadata": {},
   "source": [
    "![Instructions for exercise](Images/2-8.png)"
   ]
  },
  {
   "cell_type": "raw",
   "id": "2d8205b8-4339-40fe-b093-60fd818dfdba",
   "metadata": {},
   "source": [
    "class BankAccount:\n",
    "  def __init__(self, email):\n",
    "    self.email = email\n",
    "    \n",
    "  @property\n",
    "  def email(self):\n",
    "    return f\"Email for this account is: {self._email}\"\n",
    "  \n",
    "  @email.setter\n",
    "  def email(self, new_email_address):\n",
    "    if \"@\" in new_email_address:\n",
    "      self._email = new_email_address\n",
    "    else:\n",
    "      print(\"Please make sure to enter a valid email.\")\n",
    "  \n",
    "  # Define a method to be used when deleting the email attribute\n",
    "  @____.____\n",
    "  def ____(self):\n",
    "    ____ self._email\n",
    "    print(\"Email deleted, make sure to add a new email!\")\n"
   ]
  },
  {
   "cell_type": "code",
   "execution_count": null,
   "id": "e6ad7b64-c1a9-4c0d-9947-fbd8e0b8daaf",
   "metadata": {},
   "outputs": [],
   "source": [
    "class BankAccount:\n",
    "  def __init__(self, email):\n",
    "    self.email = email\n",
    "    \n",
    "  @property\n",
    "  def email(self):\n",
    "    return f\"Email for this account is: {self._email}\"\n",
    "  \n",
    "  @email.setter\n",
    "  def email(self, new_email_address):\n",
    "    if \"@\" in new_email_address:\n",
    "      self._email = new_email_address\n",
    "    else:\n",
    "      print(\"Please make sure to enter a valid email.\")\n",
    "  \n",
    "  # Define a method to be used when deleting the email attribute\n",
    "  @email.deleter\n",
    "  def email(self):\n",
    "    del self._email\n",
    "    print(\"Email deleted, make sure to add a new email!\")\n"
   ]
  },
  {
   "cell_type": "markdown",
   "id": "3d089534-0e46-4516-a1db-296014e4e345",
   "metadata": {},
   "source": [
    "![Instructions for exercise](Images/2-9.png)"
   ]
  },
  {
   "cell_type": "code",
   "execution_count": null,
   "id": "98567f6e-7a57-4ea0-a2bc-b1faaf525e3a",
   "metadata": {},
   "outputs": [],
   "source": [
    "# using setAttr and getAttr"
   ]
  },
  {
   "cell_type": "markdown",
   "id": "6cbc65b8-6143-4d7b-8520-fde44832a60f",
   "metadata": {},
   "source": [
    "![Instructions for exercise](Images/2-10.png)"
   ]
  },
  {
   "cell_type": "raw",
   "id": "ae0b9f12-6d04-4b8a-a767-74fb1e98253b",
   "metadata": {},
   "source": [
    "class BankAccount:\n",
    "  def __init__(self, account_number):\n",
    "    self.account_number = account_number\n",
    "  \n",
    "  # Define a magic method to handle references to attribute\n",
    "  # not in an object's namespace\n",
    "  def ____(____, ____):\n",
    "    # Output a message to instruct further action\n",
    "    print(f\"\"\"{____} is not defined in BankAccount object.\n",
    "    \tPlease define this attribute if needed.\"\"\")\n",
    "    \n",
    "# Create a BankAccount object, reference routing_number\n",
    "checking_account = ____(\"123456\")\n",
    "____.____\n"
   ]
  },
  {
   "cell_type": "code",
   "execution_count": 8,
   "id": "ec531f7c-e39f-4989-acc8-f5e389155c0d",
   "metadata": {},
   "outputs": [
    {
     "name": "stdout",
     "output_type": "stream",
     "text": [
      "routing_number is not defined in BankAccount object.\n",
      "    \tPlease define this attribute if needed.\n"
     ]
    }
   ],
   "source": [
    "class BankAccount:\n",
    "  def __init__(self, account_number):\n",
    "    self.account_number = account_number\n",
    "  \n",
    "  # Define a magic method to handle references to attribute\n",
    "  # not in an object's namespace\n",
    "  def __getattr__(self, name):\n",
    "    # Output a message to instruct further action\n",
    "    print(f\"\"\"{name} is not defined in BankAccount object.\n",
    "    \tPlease define this attribute if needed.\"\"\")\n",
    "    \n",
    "# Create a BankAccount object, reference routing_number\n",
    "checking_account = BankAccount(\"123456\")\n",
    "checking_account.routing_number\n"
   ]
  },
  {
   "cell_type": "markdown",
   "id": "bc7ecbd0-25e5-479f-84fd-54cf73860a89",
   "metadata": {},
   "source": [
    "![Instructions for exercise](Images/2-11.png)"
   ]
  },
  {
   "cell_type": "raw",
   "id": "f0417dd9-f1d3-4d57-bfc1-3d14948f2b99",
   "metadata": {},
   "source": [
    "class BankAccount:\n",
    "  def __init__(self, account_number):\n",
    "    self.account_number = account_number\n",
    "  \n",
    "  # Define a method to be executed when setting attributes\n",
    "  def ____(self, ____, ____):\n",
    "    pass\n"
   ]
  },
  {
   "cell_type": "code",
   "execution_count": null,
   "id": "f812962f-646b-4379-95d2-926fc6cff3f6",
   "metadata": {},
   "outputs": [],
   "source": [
    "class BankAccount:\n",
    "  def __init__(self, account_number):\n",
    "    self.account_number = account_number\n",
    "  \n",
    "  # Define a method to be executed when setting attributes\n",
    "  def __setattr__(self, name, value):\n",
    "    pass\n"
   ]
  },
  {
   "cell_type": "markdown",
   "id": "4eac3fe0-93a7-43f9-a026-0d5391987ecd",
   "metadata": {},
   "source": [
    "![Instructions for exercise](Images/2-12.png)"
   ]
  },
  {
   "cell_type": "raw",
   "id": "0b507a8d-9e60-403c-9c1a-8f7389bef400",
   "metadata": {},
   "source": [
    "class BankAccount:\n",
    "  def __init__(self, account_number):\n",
    "    self.account_number = account_number\n",
    "  \n",
    "  def __setattr__(self, name, value):\n",
    "    # If the name is in below list, set the value, otherwise\n",
    "    # print a message\n",
    "    if ____ in [\"account_number\", \"balance\"]:\n",
    "      print(f\"{name} is an allowed attribute.\")\n",
    "      self.____[____] = ____\n",
    "    else:\n",
    "      # Otherwise, print a message\n",
    "      ____(f\"Invalid Argument: {____}\")\n"
   ]
  },
  {
   "cell_type": "code",
   "execution_count": null,
   "id": "b01ac91e-a492-48af-9983-8adc9b9884ee",
   "metadata": {},
   "outputs": [],
   "source": [
    "class BankAccount:\n",
    "  def __init__(self, account_number):\n",
    "    self.account_number = account_number\n",
    "  \n",
    "  def __setattr__(self, name, value):\n",
    "    # If the name is in below list, set the value, otherwise\n",
    "    # print a message\n",
    "    if name in [\"account_number\", \"balance\"]:\n",
    "      print(f\"{name} is an allowed attribute.\")\n",
    "      self.__dict__[name] = value\n",
    "    else:\n",
    "      # Otherwise, print a message\n",
    "      print(f\"Invalid Argument: {name}\")\n"
   ]
  },
  {
   "cell_type": "markdown",
   "id": "7032a116-a8dd-460c-a8e8-f845092f1149",
   "metadata": {},
   "source": [
    "![Instructions for exercise](Images/2-13.png)"
   ]
  },
  {
   "cell_type": "raw",
   "id": "6ee03eba-c9f9-4927-8096-8cb4c97448e4",
   "metadata": {},
   "source": [
    "class BankAccount:\n",
    "  def __init__(self, account_number):\n",
    "    self.account_number = account_number\n",
    "  \n",
    "  def __setattr__(self, name, value):\n",
    "    if name in [\"account_number\", \"balance\"]:\n",
    "      print(f\"{name} is an allowed attribute.\")\n",
    "      self.__dict__[name] = value\n",
    "    else:\n",
    "      print(f\"Invalid Attribute: {name}\")\n",
    "\n",
    "# Use savings_account and attempt to set attributes\n",
    "savings_account = BankAccount(\"12345678\")\n",
    "savings_account.____ = ____\n",
    "____.____ = \"____\"\n"
   ]
  },
  {
   "cell_type": "code",
   "execution_count": 9,
   "id": "f4e7353e-5b9c-4162-8430-1675adf6f41e",
   "metadata": {},
   "outputs": [
    {
     "name": "stdout",
     "output_type": "stream",
     "text": [
      "account_number is an allowed attribute.\n",
      "balance is an allowed attribute.\n",
      "Invalid Attribute: beneficiary\n"
     ]
    }
   ],
   "source": [
    "class BankAccount:\n",
    "  def __init__(self, account_number):\n",
    "    self.account_number = account_number\n",
    "  \n",
    "  def __setattr__(self, name, value):\n",
    "    if name in [\"account_number\", \"balance\"]:\n",
    "      print(f\"{name} is an allowed attribute.\")\n",
    "      self.__dict__[name] = value\n",
    "    else:\n",
    "      print(f\"Invalid Attribute: {name}\")\n",
    "\n",
    "# Use savings_account and attempt to set attributes\n",
    "savings_account = BankAccount(\"12345678\")\n",
    "savings_account.balance = 100\n",
    "savings_account.beneficiary = \"Anna Wu\"\n"
   ]
  },
  {
   "cell_type": "code",
   "execution_count": null,
   "id": "d6cf2d86-3c70-4080-9a15-af0adbc9311e",
   "metadata": {},
   "outputs": [],
   "source": [
    "# Custom Iterators"
   ]
  },
  {
   "cell_type": "markdown",
   "id": "a23e8c60-2be3-424b-be03-42227663e650",
   "metadata": {},
   "source": [
    "![Instructions for exercise](Images/2-14.png)"
   ]
  },
  {
   "cell_type": "raw",
   "id": "312d2d9c-a4c8-4c73-9b76-02a745e322bf",
   "metadata": {},
   "source": [
    "class Playlist:\n",
    "  def __init__(self, songs, shuffle=False):\n",
    "    self.songs = songs\n",
    "    self.index = 0\n",
    "    \n",
    "    if shuffle:\n",
    "      random.shuffle(self.songs)\n",
    "  \n",
    "  # Define a magic method that returns the iterator object\n",
    "  ____ ____(____):\n",
    "    return ____\n"
   ]
  },
  {
   "cell_type": "code",
   "execution_count": null,
   "id": "a5870118-88a7-49e4-bd4d-c18ae44d654d",
   "metadata": {},
   "outputs": [],
   "source": [
    "class Playlist:\n",
    "  def __init__(self, songs, shuffle=False):\n",
    "    self.songs = songs\n",
    "    self.index = 0\n",
    "    \n",
    "    if shuffle:\n",
    "      random.shuffle(self.songs)\n",
    "  \n",
    "  # Define a magic method that returns the iterator object\n",
    "  def __iter__(self):\n",
    "    return self\n"
   ]
  },
  {
   "cell_type": "markdown",
   "id": "2f5aaf4c-2d37-4862-b34b-7fbe7fe788e9",
   "metadata": {},
   "source": [
    "![Instructions for exercise](Images/2-15.png)"
   ]
  },
  {
   "cell_type": "raw",
   "id": "0cfcf2ed-a8a0-411f-94c2-72a1033e860a",
   "metadata": {},
   "source": [
    "class Playlist:\n",
    "  def __init__(self, songs, shuffle=False):\n",
    "    self.songs = songs\n",
    "    self.index = 0\n",
    "    \n",
    "    if shuffle:\n",
    "      random.shuffle(self.songs)\n",
    "    \n",
    "  def __iter__(self):\n",
    "    return self\n",
    "  \n",
    "  # Define a magic method to iterate through songs\n",
    "  def ____(self):\n",
    "    if self.____ >= len(self.songs):\n",
    "      raise ____\n",
    "    \n",
    "    # Pull the next song, increment index, and return\n",
    "    song = self.____[self.____]\n",
    "    self.____ += 1\n",
    "    return ____\n"
   ]
  },
  {
   "cell_type": "code",
   "execution_count": 13,
   "id": "45a8ec63-4a71-4198-b830-3d2fb63763c3",
   "metadata": {},
   "outputs": [],
   "source": [
    "import random\n",
    "\n",
    "class Playlist:\n",
    "  def __init__(self, songs, shuffle=False):\n",
    "    self.songs = songs\n",
    "    self.index = 0\n",
    "    \n",
    "    if shuffle:\n",
    "      random.shuffle(self.songs)\n",
    "    \n",
    "  def __iter__(self):\n",
    "    return self\n",
    "  \n",
    "  # Define a magic method to iterate through songs\n",
    "  def __next__(self):\n",
    "    if self.index >= len(self.songs):\n",
    "      raise StopIteration\n",
    "    \n",
    "    # Pull the next song, increment index, and return\n",
    "    song = self.songs[self.index]\n",
    "    self.index += 1\n",
    "    return song\n"
   ]
  },
  {
   "cell_type": "markdown",
   "id": "8fc51814-9a35-459c-8828-0d2c7b8b7e4e",
   "metadata": {},
   "source": [
    "![Instructions for exercise](Images/2-16.png)"
   ]
  },
  {
   "cell_type": "raw",
   "id": "ababf133-3ef0-4693-b597-baebb6da801e",
   "metadata": {},
   "source": [
    "# Shuffle a Playlist, use for loop to iterate through\n",
    "favorite_songs = ____([\"Ticking\", \"Tiny Dancer\"], shuffle=True)\n",
    "____ song in ____:\n",
    "  print(____)\n"
   ]
  },
  {
   "cell_type": "code",
   "execution_count": 14,
   "id": "4d095ad8-215b-4c08-8349-385c6366a23f",
   "metadata": {},
   "outputs": [
    {
     "name": "stdout",
     "output_type": "stream",
     "text": [
      "Tiny Dancer\n",
      "Ticking\n"
     ]
    }
   ],
   "source": [
    "# Shuffle a Playlist, use for loop to iterate through\n",
    "favorite_songs = Playlist([\"Ticking\", \"Tiny Dancer\"], shuffle=True)\n",
    "for song in favorite_songs:\n",
    "  print(song)\n"
   ]
  },
  {
   "cell_type": "markdown",
   "id": "4ef07ed8-bb84-43b3-bb3f-57caa2ff167f",
   "metadata": {},
   "source": [
    "![Instructions for exercise](Images/2-17.png)"
   ]
  },
  {
   "cell_type": "code",
   "execution_count": 18,
   "id": "72928407-6dee-49b2-a28d-4e2583162d60",
   "metadata": {},
   "outputs": [],
   "source": [
    "import random\n",
    "\n",
    "class Playlist:\n",
    "  def __init__(self, songs, shuffle=False):\n",
    "    self.songs = songs\n",
    "    self.index = 0\n",
    "\n",
    "    if shuffle:\n",
    "      random.shuffle(self.songs)\n",
    "\n",
    "  def __iter__(self):\n",
    "    return self\n",
    "\n",
    "  def __next__(self):\n",
    "    if self.index >= len(self.songs):\n",
    "      raise StopIteration\n",
    "\n",
    "    print(f\"Playing {self.songs[self.index]}\")\n",
    "    self.index += 1"
   ]
  },
  {
   "cell_type": "raw",
   "id": "d03d2d82-4b11-4c74-a7a6-d35926ba1176",
   "metadata": {},
   "source": [
    "# Create a classic rock playlist using the songs list\n",
    "songs = [\"Hooked on a Feeling\", \"Yesterday\", \"Mr. Blue Sky\"]\n",
    "____ = ____(____, ____=True)\n",
    "\n",
    "while True:\n",
    "\t____:\n",
    "\t\t# Play the next song in the playlist\n",
    "\t\tnext(____)\n",
    "\t\t\n",
    "\t# If there is a StopIteration error, print a message and\n",
    "    # stop the playlist\n",
    "\t____ ____:\n",
    "\t\t____(\"Reached end of playlist!\")\n",
    "\t\t____\n"
   ]
  },
  {
   "cell_type": "code",
   "execution_count": 19,
   "id": "aebfecc5-038c-4869-a763-d6fd8c702c9b",
   "metadata": {},
   "outputs": [
    {
     "name": "stdout",
     "output_type": "stream",
     "text": [
      "Playing Yesterday\n",
      "Playing Hooked on a Feeling\n",
      "Playing Mr. Blue Sky\n",
      "Reached end of playlist!\n"
     ]
    }
   ],
   "source": [
    "# Create a classic rock playlist using the songs list\n",
    "songs = [\"Hooked on a Feeling\", \"Yesterday\", \"Mr. Blue Sky\"]\n",
    "classic_rock_playlist = Playlist(songs, shuffle=True)\n",
    "\n",
    "while True:\n",
    "\ttry:\n",
    "\t\t# Play the next song in the playlist\n",
    "\t\tnext(classic_rock_playlist)\n",
    "\t\t\n",
    "\t# If there is a StopIteration error, print a message and\n",
    "    # stop the playlist\n",
    "\texcept StopIteration:\n",
    "\t\tprint(\"Reached end of playlist!\")\n",
    "\t\tbreak\n"
   ]
  },
  {
   "cell_type": "markdown",
   "id": "083cf37b-3b06-4829-b8fb-61455e445ff3",
   "metadata": {},
   "source": [
    "![Instructions for exercise](Images/2-18.png)"
   ]
  },
  {
   "cell_type": "raw",
   "id": "91a9dd45-f7ae-44de-90df-cc4b6ab3e08e",
   "metadata": {},
   "source": [
    "class Lottery:\n",
    "  def __init__(self, number_digits):\n",
    "    self.number_digits = number_digits\n",
    "    self.counter = 0\n",
    "  \n",
    "  # Create an iterator using a magic method\n",
    "  def ____(____):\n",
    "    return ____\n"
   ]
  },
  {
   "cell_type": "code",
   "execution_count": null,
   "id": "d22ebc61-1667-46b2-8623-1724b75942c0",
   "metadata": {},
   "outputs": [],
   "source": [
    "class Lottery:\n",
    "  def __init__(self, number_digits):\n",
    "    self.number_digits = number_digits\n",
    "    self.counter = 0\n",
    "  \n",
    "  # Create an iterator using a magic method\n",
    "  def __iter__(self):\n",
    "    return self\n"
   ]
  },
  {
   "cell_type": "code",
   "execution_count": null,
   "id": "66fada17-1f84-4250-85e4-ccdac272a70b",
   "metadata": {},
   "outputs": [],
   "source": [
    "# Why isn’t __iter__ = lambda self: self just built in?\n",
    "# TL;DR:\n",
    "\n",
    "# Because not all classes that implement __next__ are meant to be their own iterators. \n",
    "# Python keeps things explicit to avoid confusion and give you full control."
   ]
  },
  {
   "cell_type": "markdown",
   "id": "ff5eb2e8-c970-4878-aab5-4b17a13052fc",
   "metadata": {},
   "source": [
    "![Instructions for exercise](Images/2-19.png)"
   ]
  },
  {
   "cell_type": "raw",
   "id": "31e4969f-fcc4-4806-aa9d-2e357339f351",
   "metadata": {},
   "source": [
    "class Lottery:\n",
    "  def __init__(self, number_digits):\n",
    "    self.number_digits = number_digits\n",
    "    self.counter = 0\n",
    "    \n",
    "  def __iter__(self):\n",
    "    return self\n",
    "  \n",
    "  # Check if the number of digits have been reached, or else\n",
    "  # pull another number\n",
    "  def ____(self):\n",
    "    if ____.____ < ____.____:\n",
    "      ____.____ += 1\n",
    "      return random.randint(0, 9)\n",
    "\n",
    "    raise ____\n"
   ]
  },
  {
   "cell_type": "code",
   "execution_count": null,
   "id": "5773c073-143c-4c17-ab5e-ecaf72543424",
   "metadata": {},
   "outputs": [],
   "source": [
    "class Lottery:\n",
    "  def __init__(self, number_digits):\n",
    "    self.number_digits = number_digits\n",
    "    self.counter = 0\n",
    "    \n",
    "  def __iter__(self):\n",
    "    return self\n",
    "  \n",
    "  # Check if the number of digits have been reached, or else\n",
    "  # pull another number\n",
    "  def __next__(self):\n",
    "    if self.counter < self.number_digits:\n",
    "      self.counter += 1\n",
    "      return random.randint(0, 9)\n",
    "\n",
    "    raise StopIteration\n"
   ]
  },
  {
   "cell_type": "markdown",
   "id": "a5562443-9078-457f-8702-36449792f11a",
   "metadata": {},
   "source": [
    "![Instructions for exercise](Images/2-20.png)"
   ]
  },
  {
   "cell_type": "raw",
   "id": "58ce08a9-239a-4581-b4d3-1bbc98cb9d03",
   "metadata": {},
   "source": [
    "charity_lottery = Lottery(4)\n",
    "\n",
    "# Announce all four numbers\n",
    "____ True:\n",
    "  try:\n",
    "    print(next(____))\n",
    "  \n",
    "  # Handle the last element of the iterator, print a message\n",
    "  ____ ____:\n",
    "    print(\"... is the winner!\")\n",
    "    ____\n"
   ]
  },
  {
   "cell_type": "code",
   "execution_count": null,
   "id": "eac206a5-1ea5-4434-adc7-245f77407660",
   "metadata": {},
   "outputs": [],
   "source": [
    "charity_lottery = Lottery(4)\n",
    "\n",
    "# Announce all four numbers\n",
    "while True:\n",
    "  try:\n",
    "    print(next(charity_lottery))\n",
    "  \n",
    "  # Handle the last element of the iterator, print a message\n",
    "  except StopIteration:\n",
    "    print(\"... is the winner!\")\n",
    "    break\n"
   ]
  }
 ],
 "metadata": {
  "kernelspec": {
   "display_name": "Python 3 (ipykernel)",
   "language": "python",
   "name": "python3"
  },
  "language_info": {
   "codemirror_mode": {
    "name": "ipython",
    "version": 3
   },
   "file_extension": ".py",
   "mimetype": "text/x-python",
   "name": "python",
   "nbconvert_exporter": "python",
   "pygments_lexer": "ipython3",
   "version": "3.13.2"
  }
 },
 "nbformat": 4,
 "nbformat_minor": 5
}
