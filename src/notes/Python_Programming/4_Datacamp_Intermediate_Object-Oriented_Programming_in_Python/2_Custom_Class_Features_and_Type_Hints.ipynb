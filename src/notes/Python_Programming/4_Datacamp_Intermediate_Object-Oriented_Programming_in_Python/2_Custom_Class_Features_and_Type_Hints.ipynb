{
 "cells": [
  {
   "cell_type": "code",
   "execution_count": null,
   "id": "19cf8518-9a8c-4213-b55b-52597b854931",
   "metadata": {},
   "outputs": [],
   "source": []
  }
 ],
 "metadata": {
  "kernelspec": {
   "display_name": "",
   "name": ""
  },
  "language_info": {
   "name": ""
  }
 },
 "nbformat": 4,
 "nbformat_minor": 5
}
