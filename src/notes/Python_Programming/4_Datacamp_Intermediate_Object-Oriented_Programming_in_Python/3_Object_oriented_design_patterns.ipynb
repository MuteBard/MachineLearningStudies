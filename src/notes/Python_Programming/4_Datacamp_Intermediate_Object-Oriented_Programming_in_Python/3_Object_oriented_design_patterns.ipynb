{
 "cells": [
  {
   "cell_type": "code",
   "execution_count": null,
   "id": "5763ae68-d04e-435a-bc18-d1b3a9f15941",
   "metadata": {},
   "outputs": [],
   "source": [
    "# Abstract Base Classes"
   ]
  },
  {
   "cell_type": "code",
   "execution_count": null,
   "id": "02852671-360a-472c-9adc-5eff3a58966f",
   "metadata": {},
   "outputs": [],
   "source": [
    "# Python can have multiple abstract base classes.\n",
    "\n",
    "# Python supports multiple inheritance, including with abstract base classes (ABCs) from the abc module. \n",
    "# This means a class can inherit from more than one ABC, and must implement all abstract methods defined \n",
    "# in those parent classes to become concrete (i.e. instantiable)."
   ]
  },
  {
   "cell_type": "code",
   "execution_count": null,
   "id": "0866d981-6753-4323-8be6-0e5ff58b0625",
   "metadata": {},
   "outputs": [],
   "source": [
    "from abc import ABC, abstractmethod\n",
    "\n",
    "class Flyable(ABC):\n",
    "    @abstractmethod\n",
    "    def fly(self):\n",
    "        pass\n",
    "\n",
    "class Swimmable(ABC):\n",
    "    @abstractmethod\n",
    "    def swim(self):\n",
    "        pass\n",
    "\n",
    "# Concrete class inheriting from two abstract base classes\n",
    "class Duck(Flyable, Swimmable):\n",
    "    def fly(self):\n",
    "        print(\"Duck flying\")\n",
    "\n",
    "    def swim(self):\n",
    "        print(\"Duck swimming\")\n",
    "\n",
    "duck = Duck()\n",
    "duck.fly()\n",
    "duck.swim()"
   ]
  },
  {
   "cell_type": "code",
   "execution_count": 2,
   "id": "d518a614-779c-4efc-93b3-eace15fbe460",
   "metadata": {},
   "outputs": [],
   "source": [
    "# The goal of abstract base classes (ABCs) in Python is to define a common interface or contract that other classes must follow.\n",
    "# They help enforce a certain structure in your code by requiring subclasses to implement specific methods or properties."
   ]
  },
  {
   "cell_type": "markdown",
   "id": "54982755-fccc-481a-bb93-d4c250347ffd",
   "metadata": {},
   "source": [
    "![Instructions for exercise](Images/3-1.png)"
   ]
  },
  {
   "cell_type": "raw",
   "id": "11504416-a98b-490a-95c1-0a32fb4f09fc",
   "metadata": {},
   "source": [
    "# Import the ABC class and abstractmethod decorator from abc\n",
    "from abc import ____, ____\n",
    "\n",
    "# Define an abstract base class called Company\n",
    "class ____(____):\n",
    "  # Create an abstract method called create_budget()\n",
    "  ____\n",
    "  def ____(self):\n",
    "    ____\n",
    "  \n",
    "  # Create a concrete method with name hire_employee()\n",
    "  def ____(self, name):\n",
    "    print(f\"Welcome to the team, {name}!\")\n"
   ]
  },
  {
   "cell_type": "code",
   "execution_count": 7,
   "id": "9f9e8a3d-16d3-487e-ac98-00a7cbf4ab1a",
   "metadata": {},
   "outputs": [],
   "source": [
    "# Import the ABC class and abstractmethod decorator from abc\n",
    "from abc import ABC, abstractmethod\n",
    "\n",
    "# Define an abstract base class called Company\n",
    "class Company(ABC):\n",
    "  # Create an abstract method called create_budget()\n",
    "  @abstractmethod\n",
    "  def create_budget(self):\n",
    "    pass\n",
    "  \n",
    "  # Create a concrete method with name hire_employee()\n",
    "  def hire_employee(self, name):\n",
    "    print(f\"Welcome to the team, {name}!\")\n"
   ]
  },
  {
   "cell_type": "markdown",
   "id": "7d161d86-aa63-4426-8a02-2a639a317416",
   "metadata": {},
   "source": [
    "![Instructions for exercise](Images/3-2.png)"
   ]
  },
  {
   "cell_type": "raw",
   "id": "dd48149c-c912-495f-9741-5ef93ff886b9",
   "metadata": {},
   "source": [
    "# Create a class with the name \"Technology\"\n",
    "class ____(____):\n",
    "  def __init__(self, name):\n",
    "    self.name = name\n",
    "\n",
    "  # Define a create_budget() method\n",
    "  def ____(self, ____, ____):\n",
    "    for expense, amount in expenses.items():\n",
    "      print(f\"{year} budget for {expense} is {amount}\")\n",
    "  \n",
    "# Create an instance of the Technology class, call methods\n",
    "t = ____(\"____\")\n",
    "t.____(2024, {\"Salaries\": 10000, \"Supplies\": 500})\n",
    "t.____(\"Christian\")\n"
   ]
  },
  {
   "cell_type": "code",
   "execution_count": 8,
   "id": "7603ed41-badc-43f4-bb35-20507f096f55",
   "metadata": {},
   "outputs": [
    {
     "name": "stdout",
     "output_type": "stream",
     "text": [
      "2024 budget for Salaries is 10000\n",
      "2024 budget for Supplies is 500\n",
      "Welcome to the team, Christian!\n"
     ]
    }
   ],
   "source": [
    "# Create a class with the name \"Technology\"\n",
    "class Technology(Company):\n",
    "  def __init__(self, name):\n",
    "    self.name = name\n",
    "\n",
    "  # Define a create_budget() method\n",
    "  def create_budget(self, year, expenses):\n",
    "    for expense, amount in expenses.items():\n",
    "      print(f\"{year} budget for {expense} is {amount}\")\n",
    "  \n",
    "# Create an instance of the Technology class, call methods\n",
    "t = Technology(\"Tina's Tech Advisors\")\n",
    "t.create_budget(2024, {\"Salaries\": 10000, \"Supplies\": 500})\n",
    "t.hire_employee(\"Christian\")\n"
   ]
  },
  {
   "cell_type": "code",
   "execution_count": 5,
   "id": "067f3afe-7c59-4e1a-abe6-29646050f7c3",
   "metadata": {},
   "outputs": [],
   "source": [
    "# expenses = {\"Salaries\": 10000, \"Supplies\": 500}\n",
    "# print(expenses.items())\n",
    "# [(\"Salaries\", 10000), (\"Supplies\", 500)]"
   ]
  },
  {
   "cell_type": "markdown",
   "id": "ed717237-ce73-4018-ac97-1fecc9e38ae1",
   "metadata": {},
   "source": [
    "![Instructions for exercise](Images/3-3.png)"
   ]
  },
  {
   "cell_type": "raw",
   "id": "3ab00bd3-ee19-422f-9d54-6a983a817f55",
   "metadata": {},
   "source": [
    "# Define a Company abstract base class with a pay_taxes() method\n",
    "____ ____(____):\n",
    "  ____\n",
    "  ____ ____(self):\n",
    "    pass\n",
    "  \n",
    "  def report_revenue(self):\n",
    "    print(f\"{self.name} is reporting ${self.revenue} of revenue\")\n"
   ]
  },
  {
   "cell_type": "code",
   "execution_count": null,
   "id": "acb0db63-8ade-4585-a7f6-638bb913dc4a",
   "metadata": {},
   "outputs": [],
   "source": [
    "# Define a Company abstract base class with a pay_taxes() method\n",
    "from abc import ABC, abstractmethod\n",
    "class Company(ABC):\n",
    "  @abstractmethod\n",
    "  def pay_taxes(self):\n",
    "    pass\n",
    "  \n",
    "  def report_revenue(self):\n",
    "    print(f\"{self.name} is reporting ${self.revenue} of revenue\")\n"
   ]
  },
  {
   "cell_type": "markdown",
   "id": "66c77f09-480d-4e53-86f1-bdda4e6ad3ea",
   "metadata": {},
   "source": [
    "![Instructions for exercise](Images/3-4.png)"
   ]
  },
  {
   "cell_type": "raw",
   "id": "3147dc09-8551-4de3-8ab0-4c21ae9155d7",
   "metadata": {},
   "source": [
    "class Company(ABC):\n",
    "  @abstractmethod\n",
    "  def pay_taxes(self):\n",
    "    pass\n",
    "  \n",
    "  def report_revenue(self):\n",
    "    print(f\"{self.name} is reporting ${self.revenue} of revenue\")\n",
    "\n",
    "class Manufacturing(Company):\n",
    "  def __init__(self, name, revenue):\n",
    "    self.name = name\n",
    "    self.revenue = revenue\n",
    "\n",
    "  # Implement the pay_taxes() method\n",
    "  def ____(self, ____):\n",
    "    ____ = self.revenue * ____\n",
    "    print(f\"{self.name} is paying ${tax_amount} of taxes\")\n"
   ]
  },
  {
   "cell_type": "code",
   "execution_count": 9,
   "id": "a05e623a-5447-4721-b162-b5f85375b006",
   "metadata": {},
   "outputs": [],
   "source": [
    "class Company(ABC):\n",
    "  @abstractmethod\n",
    "  def pay_taxes(self):\n",
    "    pass\n",
    "  \n",
    "  def report_revenue(self):\n",
    "    print(f\"{self.name} is reporting ${self.revenue} of revenue\")\n",
    "\n",
    "class Manufacturing(Company):\n",
    "  def __init__(self, name, revenue):\n",
    "    self.name = name\n",
    "    self.revenue = revenue\n",
    "\n",
    "  # Implement the pay_taxes() method\n",
    "  def pay_taxes(self, tax_rate):\n",
    "    tax_amount = self.revenue * tax_rate\n",
    "    print(f\"{self.name} is paying ${tax_amount} of taxes\")\n"
   ]
  },
  {
   "cell_type": "markdown",
   "id": "94b72977-e4bb-4b30-8237-78ba6921ba75",
   "metadata": {},
   "source": [
    "![Instructions for exercise](Images/3-5.png)"
   ]
  },
  {
   "cell_type": "raw",
   "id": "c582e76b-8133-4045-afdb-b169c14722f1",
   "metadata": {},
   "source": [
    "class Manufacturing(Company):\n",
    "  def __init__(self, name, revenue):\n",
    "    self.name = name\n",
    "    self.revenue = revenue\n",
    "\n",
    "  def pay_taxes(self, tax_rate):\n",
    "    tax_amount = self.revenue * tax_rate\n",
    "    print(f\"{self.name} is paying ${tax_amount} of taxes\")\n",
    "\n",
    "# Create an instance of the Manufacturing class\n",
    "m = ____(\"____\", ____)\n",
    "\n",
    "# Make call to the pay_taxes() method, observe report_revenue()\n",
    "m.____(____)\n",
    "m.report_revenue()\n"
   ]
  },
  {
   "cell_type": "code",
   "execution_count": 10,
   "id": "ba3c0e29-2f3a-4906-ac30-ec49037eb633",
   "metadata": {},
   "outputs": [
    {
     "name": "stdout",
     "output_type": "stream",
     "text": [
      "Morgan's Manufacturing is paying $500.0 of taxes\n",
      "Morgan's Manufacturing is reporting $5000 of revenue\n"
     ]
    }
   ],
   "source": [
    "class Manufacturing(Company):\n",
    "  def __init__(self, name, revenue):\n",
    "    self.name = name\n",
    "    self.revenue = revenue\n",
    "\n",
    "  def pay_taxes(self, tax_rate):\n",
    "    tax_amount = self.revenue * tax_rate\n",
    "    print(f\"{self.name} is paying ${tax_amount} of taxes\")\n",
    "\n",
    "# Create an instance of the Manufacturing class\n",
    "m = Manufacturing(\"Morgan's Manufacturing\", 5000)\n",
    "\n",
    "# Make call to the pay_taxes() method, observe report_revenue()\n",
    "m.pay_taxes(.1)\n",
    "m.report_revenue()\n"
   ]
  },
  {
   "cell_type": "code",
   "execution_count": null,
   "id": "662989c8-bbdb-4fee-a185-c06f76cba4be",
   "metadata": {},
   "outputs": [],
   "source": [
    "# Interfaces"
   ]
  },
  {
   "cell_type": "code",
   "execution_count": null,
   "id": "b4b82b93-0cd2-41b5-8a48-1d8a4504025d",
   "metadata": {},
   "outputs": [],
   "source": [
    "# ✅ All interfaces in Python are abstract base classes (ABCs)\n",
    "\n",
    "# Because Python doesn’t have a separate interface construct, we simulate interfaces using ABCs with only @abstractmethods.\n",
    "# ❌ But not all ABCs are interfaces\n",
    "\n",
    "# Because some ABCs contain:\n",
    "\n",
    "#     Default/shared method implementations\n",
    "\n",
    "#     Concrete properties or methods\n",
    "\n",
    "#     Optional behavior that doesn't enforce subclass implementation"
   ]
  },
  {
   "cell_type": "code",
   "execution_count": null,
   "id": "2135314d-aed4-4407-8047-e60eb04b3866",
   "metadata": {},
   "outputs": [],
   "source": [
    "# Interface-style ABC:\n",
    "\n",
    "from abc import ABC, abstractmethod\n",
    "\n",
    "class Vehicle(ABC):\n",
    "    @abstractmethod\n",
    "    def move(self):\n",
    "        pass"
   ]
  },
  {
   "cell_type": "code",
   "execution_count": null,
   "id": "7e9c2792-0da8-40a5-997e-6fe6986d2cd8",
   "metadata": {},
   "outputs": [],
   "source": [
    "# Full ABC (not just interface):\n",
    "\n",
    "class Animal(ABC):\n",
    "    def breathe(self):\n",
    "        print(\"Breathing...\")  # concrete method\n",
    "\n",
    "    @abstractmethod\n",
    "    def make_sound(self):\n",
    "        pass"
   ]
  },
  {
   "cell_type": "code",
   "execution_count": null,
   "id": "c07a7ea4-b782-49fa-bcc2-226f028eddf4",
   "metadata": {},
   "outputs": [],
   "source": [
    "# Factory Methods"
   ]
  },
  {
   "cell_type": "code",
   "execution_count": null,
   "id": "28084d0f-765e-4cb9-8af0-1f2fdba26491",
   "metadata": {},
   "outputs": [],
   "source": [
    "class Dog:\n",
    "    species = \"Canis familiaris\"\n",
    "\n",
    "    def __init__(self, name):\n",
    "        self.name = name  # instance variable\n",
    "\n",
    "    @classmethod\n",
    "    def with_default_name(cls):  # cls refers to Dog\n",
    "        return cls(\"Fido\")"
   ]
  },
  {
   "cell_type": "code",
   "execution_count": null,
   "id": "016c089c-c2c8-4d2b-9fa7-fde954f567c5",
   "metadata": {},
   "outputs": [],
   "source": [
    "class Shape:\n",
    "    def area(self):\n",
    "        raise NotImplementedError()\n",
    "\n",
    "class Circle(Shape):\n",
    "    def area(self):\n",
    "        return \"πr²\"\n",
    "\n",
    "class Square(Shape):\n",
    "    def area(self):\n",
    "        return \"side²\"\n",
    "\n",
    "class ShapeFactory:\n",
    "    @staticmethod\n",
    "    def create(kind):\n",
    "        if kind == \"circle\":\n",
    "            return Circle()\n",
    "        elif kind == \"square\":\n",
    "            return Square()\n",
    "        else:\n",
    "            raise ValueError(\"Unknown shape\")"
   ]
  },
  {
   "cell_type": "markdown",
   "id": "c5095457-eb7d-4548-b6b4-3852ff95dd8a",
   "metadata": {},
   "source": [
    "![Instructions for exercise](Images/3-6.png)"
   ]
  },
  {
   "cell_type": "markdown",
   "id": "930e7afa-766e-4797-836f-3d9151ac94cf",
   "metadata": {},
   "source": [
    "![Instructions for exercise](Images/3-7.png)"
   ]
  },
  {
   "cell_type": "markdown",
   "id": "ca8f63b6-ffe0-4e87-acce-3668455bd419",
   "metadata": {},
   "source": [
    "![Instructions for exercise](Images/3-8.png)"
   ]
  },
  {
   "cell_type": "markdown",
   "id": "3f14daaf-e9aa-4dcb-8afd-9ec46d27427b",
   "metadata": {},
   "source": [
    "![Instructions for exercise](Images/3-9.png)"
   ]
  },
  {
   "cell_type": "markdown",
   "id": "b16a6970-d3e8-47c3-8339-cf14edcdc352",
   "metadata": {},
   "source": [
    "![Instructions for exercise](Images/3-10.png)"
   ]
  }
 ],
 "metadata": {
  "kernelspec": {
   "display_name": "Python 3 (ipykernel)",
   "language": "python",
   "name": "python3"
  },
  "language_info": {
   "codemirror_mode": {
    "name": "ipython",
    "version": 3
   },
   "file_extension": ".py",
   "mimetype": "text/x-python",
   "name": "python",
   "nbconvert_exporter": "python",
   "pygments_lexer": "ipython3",
   "version": "3.13.2"
  }
 },
 "nbformat": 4,
 "nbformat_minor": 5
}
