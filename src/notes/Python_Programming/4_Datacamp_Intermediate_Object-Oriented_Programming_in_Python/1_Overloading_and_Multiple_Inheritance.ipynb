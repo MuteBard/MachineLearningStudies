{
 "cells": [
  {
   "cell_type": "code",
   "execution_count": null,
   "id": "d0a30b15-21ad-4871-b289-293f0a9a3939",
   "metadata": {},
   "outputs": [],
   "source": [
    "## Fundamentals of Object-Oriented Programming"
   ]
  },
  {
   "cell_type": "code",
   "execution_count": 2,
   "id": "d129c95c-7740-4e88-9f2d-3e7d38923f8b",
   "metadata": {},
   "outputs": [
    {
     "name": "stdout",
     "output_type": "stream",
     "text": [
      "Dog barks\n"
     ]
    }
   ],
   "source": [
    "# Overriding (runtime polymorphism)\n",
    "# Overriding happens when a subclass provides a new implementation for a method that is already defined in its superclass.\n",
    "\n",
    "class Animal:\n",
    "    def speak(self):\n",
    "        print(\"Animal speaks\")\n",
    "\n",
    "class Dog(Animal):\n",
    "    def speak(self):  # Method overriding\n",
    "        print(\"Dog barks\")\n",
    "\n",
    "d = Dog()\n",
    "d.speak()  # Output: Dog barks\n"
   ]
  },
  {
   "cell_type": "code",
   "execution_count": null,
   "id": "96a0ad1d-6154-44a5-b649-fe20a574e769",
   "metadata": {},
   "outputs": [],
   "source": [
    "# Overloading (compile-time polymorphism)\n",
    "# Definition: Overloading means defining multiple methods with the same name but different parameters.\n",
    "# Python does not support method overloading in the traditional sense like Java or C++. If you define a method with the same name multiple times \n",
    "# in the same class, the last definition overrides the previous ones."
   ]
  },
  {
   "cell_type": "code",
   "execution_count": null,
   "id": "9ad0a190-6928-44de-a0c1-79a04db364ac",
   "metadata": {},
   "outputs": [],
   "source": [
    "class Math:\n",
    "    def add(self, a, b=0, c=0):\n",
    "        return a + b + c\n",
    "\n",
    "m = Math()\n",
    "print(m.add(5))        # 5\n",
    "print(m.add(5, 3))     # 8\n",
    "print(m.add(5, 3, 2))  # 10\n"
   ]
  },
  {
   "cell_type": "markdown",
   "id": "d22e275a-1671-4332-9bdd-7a9a2c0edbcb",
   "metadata": {},
   "source": [
    "![Instructions for exercise](Images/1-1.png)"
   ]
  },
  {
   "cell_type": "raw",
   "id": "ea35ec29-b41a-4321-9721-4d01fa5a07f9",
   "metadata": {},
   "source": [
    "class Computer:\n",
    "  # Create an __init__() method with the storage parameter\n",
    "  ____ ____(____, ____):\n",
    "    self.storage = storage\n"
   ]
  },
  {
   "cell_type": "code",
   "execution_count": null,
   "id": "2d86ddd8-2036-4829-abc8-83d311144ff7",
   "metadata": {},
   "outputs": [],
   "source": [
    "class Computer:\n",
    "  # Create an __init__() method with the storage parameter\n",
    "  def __init__(self, storage):\n",
    "    self.storage = storage\n",
    "    "
   ]
  },
  {
   "cell_type": "markdown",
   "id": "c72e5971-01be-46ef-9ad3-83e140125a33",
   "metadata": {},
   "source": [
    "![Instructions for exercise](Images/1-2.png)"
   ]
  },
  {
   "cell_type": "raw",
   "id": "24ffb4c6-a1d3-413d-94e1-9d4e45767d7c",
   "metadata": {},
   "source": [
    "class Computer:\n",
    "  def __init__(self, storage):\n",
    "    self.storage = storage\n",
    "    \n",
    "  # Allow for external_storage to be added to self.storage\n",
    "  def add_external_drive(self, external_storage):\n",
    "    ____.____ += ____\n",
    "    print(f\"Your computer now has {____.____} GB of storage.\")\n"
   ]
  },
  {
   "cell_type": "code",
   "execution_count": null,
   "id": "f31e2c46-e519-407b-8f9c-c9cadbc57bbb",
   "metadata": {},
   "outputs": [],
   "source": [
    "class Computer:\n",
    "  def __init__(self, storage):\n",
    "    self.storage = storage\n",
    "    \n",
    "  # Allow for external_storage to be added to self.storage\n",
    "  def add_external_drive(self, external_storage):\n",
    "    self.storage += external_storage\n",
    "    print(f\"Your computer now has {self.storage} GB of storage.\")\n"
   ]
  },
  {
   "cell_type": "markdown",
   "id": "90f17eb4-203b-4956-a4f0-4f36ec3ec8a4",
   "metadata": {},
   "source": [
    "![Instructions for exercise](Images/1-3.png)"
   ]
  },
  {
   "cell_type": "raw",
   "id": "d4f53911-2da3-4d2f-96ef-ca9cbe502acd",
   "metadata": {},
   "source": [
    "class Computer:\n",
    "  def __init__(self, storage):\n",
    "    self.storage = storage\n",
    "\n",
    "  def add_external_drive(self, external_storage):\n",
    "    self.storage += external_storage\n",
    "    print(f\"Your computer now has {self.storage} GB of storage.\")\n",
    "\n",
    "  # Add a class method to turn on your computer\n",
    "  @____\n",
    "  def ____(cls):\n",
    "    print(\"Your computer is starting up!\")\n"
   ]
  },
  {
   "cell_type": "code",
   "execution_count": null,
   "id": "1c58c42a-852e-4551-8d94-0e77a6016835",
   "metadata": {},
   "outputs": [],
   "source": [
    "class Computer:\n",
    "  def __init__(self, storage):\n",
    "    self.storage = storage\n",
    "\n",
    "  def add_external_drive(self, external_storage):\n",
    "    self.storage += external_storage\n",
    "    print(f\"Your computer now has {self.storage} GB of storage.\")\n",
    "\n",
    "  # Add a class method to turn on your computer\n",
    "  @classmethod\n",
    "  def power_on(cls):\n",
    "    print(\"Your computer is starting up!\")\n"
   ]
  },
  {
   "cell_type": "markdown",
   "id": "1f64cd07-70e4-4e8d-962d-b4bcf85ee526",
   "metadata": {},
   "source": [
    "![Instructions for exercise](Images/1-4.png)"
   ]
  },
  {
   "cell_type": "raw",
   "id": "ba135abb-3cf0-42a0-9352-4e98a4015990",
   "metadata": {},
   "source": [
    "class Computer:\n",
    "  def __init__(self, storage):\n",
    "    self.storage = storage\n",
    "\n",
    "  def add_external_drive(self, external_storage):\n",
    "    self.storage += external_storage\n",
    "    print(f\"Your computer now has {self.storage} GB of storage.\")\n",
    "\n",
    "  @classmethod\n",
    "  def power_on(cls):\n",
    "    print(\"Your computer is starting up!\")\n",
    "\n",
    "my_computer = Computer(512)\n",
    "\n",
    "# Add an external drive of 256 GB\n",
    "my_computer.____(____)\n"
   ]
  },
  {
   "cell_type": "code",
   "execution_count": null,
   "id": "011d4489-acd5-4a2c-afe4-77e080ab3cf2",
   "metadata": {},
   "outputs": [],
   "source": [
    "class Computer:\n",
    "  def __init__(self, storage):\n",
    "    self.storage = storage\n",
    "\n",
    "  def add_external_drive(self, external_storage):\n",
    "    self.storage += external_storage\n",
    "    print(f\"Your computer now has {self.storage} GB of storage.\")\n",
    "\n",
    "  @classmethod\n",
    "  def power_on(cls):\n",
    "    print(\"Your computer is starting up!\")\n",
    "\n",
    "my_computer = Computer(512)\n",
    "\n",
    "# Add an external drive of 256 GB\n",
    "my_computer.add_external_drive(256)\n"
   ]
  },
  {
   "cell_type": "markdown",
   "id": "4bc230d0-1bc1-464a-a380-9035b9d654ac",
   "metadata": {},
   "source": [
    "![Instructions for exercise](Images/1-5.png)"
   ]
  },
  {
   "cell_type": "code",
   "execution_count": 3,
   "id": "27232ca2-5626-4a3f-af2b-5703fc975234",
   "metadata": {},
   "outputs": [],
   "source": [
    "class Computer:\n",
    "  def __init__(self, software_version):\n",
    "    self.software_version = software_version\n",
    "\n",
    "  def install_app(self, app_name, app_store):\n",
    "    if app_store:\n",
    "      print(f\"Installing {app_name} from App Store.\")\n",
    "    else:\n",
    "      print(f\"Installing {app_name} from other provider.\")\n",
    "\n",
    "  def update_software(self, new_software_version):\n",
    "      self.software_version = new_software_version"
   ]
  },
  {
   "cell_type": "raw",
   "id": "27191a97-6576-4d5c-ac53-6a6cf70e076d",
   "metadata": {},
   "source": [
    "class Tablet(Computer):\n",
    "  pass\n",
    "\n",
    "# Create the my_tablet instance\n",
    "____ = ____(\"____\")\n",
    "\n",
    "# Update my_tablet's software to version 1.1.2\n",
    "my_tablet.____(\"____\")\n",
    "print(my_tablet.____)\n"
   ]
  },
  {
   "cell_type": "code",
   "execution_count": 4,
   "id": "bb16bf9c-6e0e-491d-a91a-e4180c1d95fb",
   "metadata": {},
   "outputs": [
    {
     "name": "stdout",
     "output_type": "stream",
     "text": [
      "1.1.2\n"
     ]
    }
   ],
   "source": [
    "class Tablet(Computer):\n",
    "  pass\n",
    "\n",
    "# Create the my_tablet instance\n",
    "my_tablet = Tablet(\"1.1.1\")\n",
    "\n",
    "# Update my_tablet's software to version 1.1.2\n",
    "my_tablet.update_software(\"1.1.2\")\n",
    "print(my_tablet.software_version)\n"
   ]
  },
  {
   "cell_type": "markdown",
   "id": "8985e148-b65d-45bb-9d85-ec2a7a10a766",
   "metadata": {},
   "source": [
    "![Instructions for exercise](Images/1-6.png)"
   ]
  },
  {
   "cell_type": "raw",
   "id": "6cd5c70b-38f9-4bf0-bf5f-f45e3123b674",
   "metadata": {},
   "source": [
    "class Tablet(Computer):\n",
    "  # Override the install_app() method\n",
    "  def ____(self, ____):\n",
    "    print(f\"{app_name} is being installed from the Tablet App Store.\")\n",
    "    \n",
    "my_tablet = Tablet(\"1.1.1\")\n",
    "\n",
    "# Call the new install_app() method\n",
    "my_tablet.____(\"____\")"
   ]
  },
  {
   "cell_type": "code",
   "execution_count": 5,
   "id": "5f1d8e01-d5cd-4357-ac25-1afb7d0e6f1b",
   "metadata": {},
   "outputs": [
    {
     "name": "stdout",
     "output_type": "stream",
     "text": [
      "DataCamp is being installed from the Tablet App Store.\n"
     ]
    }
   ],
   "source": [
    "class Tablet(Computer):\n",
    "  # Override the install_app() method\n",
    "  def install_app(self, app_name):\n",
    "    print(f\"{app_name} is being installed from the Tablet App Store.\")\n",
    "    \n",
    "my_tablet = Tablet(\"1.1.1\")\n",
    "\n",
    "# Call the new install_app() method\n",
    "my_tablet.install_app(\"DataCamp\")\n"
   ]
  },
  {
   "cell_type": "markdown",
   "id": "357697a8-89c3-4f38-9001-f37a04cad60e",
   "metadata": {},
   "source": [
    "![Instructions for exercise](Images/1-7.png)"
   ]
  },
  {
   "cell_type": "raw",
   "id": "b260ff0e-99c7-46ac-8bb3-dd5ba8b983a7",
   "metadata": {},
   "source": [
    "class Computer:\n",
    "  def __init__(self, device_id, storage):\n",
    "    self.device_id = device_id\n",
    "    self.storage = storage\n",
    "  \n",
    "  # Overload the == operator using a magic method\n",
    "  def ____(self, other):\n",
    "    # Return a boolean based on the value of device_id\n",
    "    ____ self.____ == other.____\n",
    "\n",
    "pre_upgrade_computer = Computer(\"Y391Hky6\", 256)\n",
    "post_upgrade_computer = Computer(\"Y391Hky6\", 1024)\n",
    "\n",
    "# Create two instances of Computer, compare using ==\n",
    "print(____ == ____)"
   ]
  },
  {
   "cell_type": "code",
   "execution_count": 6,
   "id": "380fac5a-c2b4-4002-bba9-889237b92413",
   "metadata": {},
   "outputs": [
    {
     "name": "stdout",
     "output_type": "stream",
     "text": [
      "True\n"
     ]
    }
   ],
   "source": [
    "class Computer:\n",
    "  def __init__(self, device_id, storage):\n",
    "    self.device_id = device_id\n",
    "    self.storage = storage\n",
    "  \n",
    "  # Overload the == operator using a magic method\n",
    "  def __eq__(self, other):\n",
    "    # Return a boolean based on the value of device_id\n",
    "    return self.device_id == other.device_id\n",
    "\n",
    "pre_upgrade_computer = Computer(\"Y391Hky6\", 256)\n",
    "post_upgrade_computer = Computer(\"Y391Hky6\", 1024)\n",
    "\n",
    "# Create two instances of Computer, compare using ==\n",
    "print(pre_upgrade_computer == post_upgrade_computer )"
   ]
  },
  {
   "cell_type": "code",
   "execution_count": null,
   "id": "ca6de674-6562-4428-8e0e-9d01048f3954",
   "metadata": {},
   "outputs": [],
   "source": [
    "## Overloading Python Operators"
   ]
  },
  {
   "cell_type": "markdown",
   "id": "e10364f3-f54a-4b04-b40b-bfd70e4554d5",
   "metadata": {},
   "source": [
    "![Instructions for exercise](Images/1-8.png)"
   ]
  },
  {
   "cell_type": "markdown",
   "id": "f0f3e2fa-9a7b-4331-a737-dd9e7f0a7f64",
   "metadata": {},
   "source": [
    "![Instructions for exercise](Images/1-9.png)"
   ]
  },
  {
   "cell_type": "raw",
   "id": "5284d22f-92cf-4dc2-9956-8e5be8779343",
   "metadata": {},
   "source": [
    "class Computer:\n",
    "  def __init__(self, serial_number):\n",
    "    self.serial_number = serial_number\n",
    "  \n",
    "  # Overload the == operator using a magic method\n",
    "  def ____(self, ____):\n",
    "    # Define equality using serial_number\n",
    "    ____ self.____ == other.____\n",
    "\n",
    "# Validate two Computers with the same serial_number are equal\n",
    "first_computer = Computer(\"81023762\")\n",
    "second_computer = ____(\"81023762\")\n",
    "print(____ ____ ____)\n"
   ]
  },
  {
   "cell_type": "code",
   "execution_count": 9,
   "id": "ddc25c12-26c5-4631-af6b-f6166efb39c9",
   "metadata": {},
   "outputs": [
    {
     "name": "stdout",
     "output_type": "stream",
     "text": [
      "True\n"
     ]
    }
   ],
   "source": [
    "class Computer:\n",
    "  def __init__(self, serial_number):\n",
    "    self.serial_number = serial_number\n",
    "  \n",
    "  # Overload the == operator using a magic method\n",
    "  def __eq__(self, other):\n",
    "    # Define equality using serial_number\n",
    "   return self.serial_number == other.serial_number\n",
    "\n",
    "# Validate two Computers with the same serial_number are equal\n",
    "first_computer = Computer(\"81023762\")\n",
    "second_computer = Computer(\"81023762\")\n",
    "print(first_computer == second_computer)\n"
   ]
  },
  {
   "cell_type": "markdown",
   "id": "0c01a26a-1cb1-4fbb-8770-a8c1299220c0",
   "metadata": {},
   "source": [
    "![Instructions for exercise](Images/1-10.png)"
   ]
  },
  {
   "cell_type": "raw",
   "id": "11b21d52-5012-478b-a1f3-8eb33a1e9eea",
   "metadata": {},
   "source": [
    "class Storage:\n",
    "  def __init__(self, capacity):\n",
    "    self.capacity = capacity\n",
    "  \n",
    "  def ____(____, ____):  # Overload the + operator\n",
    "    # Create a Storage object with the sum of capacity\n",
    "    return ____(self.____ + other.____)\n",
    "\n",
    "onboard_storage = Storage(128)\n",
    "external_drive = Storage(64)\n",
    "\n",
    "# Add the two Storage objects, show the total capacity\n",
    "total_storage = ____ + ____\n",
    "print(total_storage.____)\n",
    "  "
   ]
  },
  {
   "cell_type": "code",
   "execution_count": 10,
   "id": "55c57e08-4f4b-462d-a524-de151c017e37",
   "metadata": {},
   "outputs": [
    {
     "name": "stdout",
     "output_type": "stream",
     "text": [
      "192\n"
     ]
    }
   ],
   "source": [
    "class Storage:\n",
    "  def __init__(self, capacity):\n",
    "    self.capacity = capacity\n",
    "  \n",
    "  def __add__(self, other):  # Overload the + operator\n",
    "    # Create a Storage object with the sum of capacity\n",
    "    return Storage(self.capacity + other.capacity)\n",
    "\n",
    "onboard_storage = Storage(128)\n",
    "external_drive = Storage(64)\n",
    "\n",
    "# Add the two Storage objects, show the total capacity\n",
    "total_storage = onboard_storage + external_drive\n",
    "print(total_storage.capacity)\n",
    "  "
   ]
  },
  {
   "cell_type": "markdown",
   "id": "8fe95961-948f-4f13-bb8e-2f990baf17f1",
   "metadata": {},
   "source": [
    "![Instructions for exercise](Images/1-11.png)"
   ]
  },
  {
   "cell_type": "raw",
   "id": "9073472c-c9e9-4491-9cac-51dc09f70f64",
   "metadata": {},
   "source": [
    "class Computer:\n",
    "  # __init__() should define operating_system and ip_address\n",
    "  # as instance-level attributes\n",
    "  def __init__(self, ____, ____):\n",
    "    self.____ = operating_system\n",
    "    self.ip_address = ____\n"
   ]
  },
  {
   "cell_type": "code",
   "execution_count": 12,
   "id": "c3e252b6-de8a-456a-9f31-1623f2cde595",
   "metadata": {},
   "outputs": [],
   "source": [
    "class Computer:\n",
    "  # __init__() should define operating_system and ip_address\n",
    "  # as instance-level attributes\n",
    "  def __init__(self, operating_system, ip_address):\n",
    "    self.operating_system = operating_system\n",
    "    self.ip_address = ip_address\n"
   ]
  },
  {
   "cell_type": "markdown",
   "id": "61e1c180-d8e6-431b-bb73-251ec1ea1b33",
   "metadata": {},
   "source": [
    "![Instructions for exercise](Images/1-12.png)"
   ]
  },
  {
   "cell_type": "code",
   "execution_count": 13,
   "id": "3e35c8a0-35d6-453e-8c0f-e69ed942b049",
   "metadata": {},
   "outputs": [],
   "source": [
    "class Network:\n",
    "  def __init__(self, ip_addresses):\n",
    "    self.ip_addresses = ip_addresses"
   ]
  },
  {
   "cell_type": "raw",
   "id": "7ed447de-f416-4365-b39a-dfafa319de34",
   "metadata": {},
   "source": [
    "class Computer:\n",
    "  def __init__(self, operating_system, ip_address):\n",
    "    self.operating_system = operating_system\n",
    "    self.ip_address = ip_address\n",
    "  \n",
    "  # Overload the + operator to create a Network of devices \n",
    "  # if the operating_systems are the same\n",
    "  def ____(self, other):\n",
    "    if self.____ == other.____:\n",
    "    \treturn ____([self.ip_address, other.____])\n",
    "    raise Exception(\"Incompatible operating systems.\")\n"
   ]
  },
  {
   "cell_type": "code",
   "execution_count": 14,
   "id": "7deb6451-c53a-4d0e-b3dd-4fd81522965a",
   "metadata": {},
   "outputs": [],
   "source": [
    "class Computer:\n",
    "  def __init__(self, operating_system, ip_address):\n",
    "    self.operating_system = operating_system\n",
    "    self.ip_address = ip_address\n",
    "  \n",
    "  # Overload the + operator to create a Network of devices \n",
    "  # if the operating_systems are the same\n",
    "  def __add__(self, other):\n",
    "    if self.operating_system == other.operating_system:\n",
    "    \treturn Network([self.ip_address, other.ip_address])\n",
    "    raise Exception(\"Incompatible operating systems.\")\n"
   ]
  },
  {
   "cell_type": "markdown",
   "id": "6b4c2cb0-5911-4403-a4cd-015824a2f707",
   "metadata": {},
   "source": [
    "![Instructions for exercise](Images/1-13.png)"
   ]
  },
  {
   "cell_type": "raw",
   "id": "dab4e10c-5505-46a3-8a70-20f78bd0f201",
   "metadata": {},
   "source": [
    "class Computer:\n",
    "  def __init__(self, operating_system, ip_address):\n",
    "    self.operating_system = operating_system\n",
    "    self.ip_address = ip_address\n",
    "    \n",
    "  def __add__(self, other):\n",
    "    if self.operating_system == other.operating_system:\n",
    "    \treturn Network([self.ip_address, other.ip_address])\n",
    "    raise Exception(\"Incompatible operating systems.\")\n",
    "\n",
    "# Build a network using Morgan and Jenny's Computers\n",
    "morgans_computer = Computer(\"Windows\", \"182.112.81.991\")\n",
    "jennys_computer = ____(\"Windows\", \"177.511.64.162\")\n",
    "network = ____ ____ jennys_computer\n"
   ]
  },
  {
   "cell_type": "code",
   "execution_count": 15,
   "id": "7d0d05c7-2f00-4b47-bc34-e99df1c035aa",
   "metadata": {},
   "outputs": [],
   "source": [
    "class Computer:\n",
    "  def __init__(self, operating_system, ip_address):\n",
    "    self.operating_system = operating_system\n",
    "    self.ip_address = ip_address\n",
    "    \n",
    "  def __add__(self, other):\n",
    "    if self.operating_system == other.operating_system:\n",
    "    \treturn Network([self.ip_address, other.ip_address])\n",
    "    raise Exception(\"Incompatible operating systems.\")\n",
    "\n",
    "# Build a network using Morgan and Jenny's Computers\n",
    "morgans_computer = Computer(\"Windows\", \"182.112.81.991\")\n",
    "jennys_computer = Computer(\"Windows\", \"177.511.64.162\")\n",
    "network = morgans_computer + jennys_computer\n"
   ]
  },
  {
   "cell_type": "code",
   "execution_count": null,
   "id": "31caa151-2c12-4ab9-94bf-cf465c9c78de",
   "metadata": {},
   "outputs": [],
   "source": [
    "## Multiple Inheritance"
   ]
  },
  {
   "cell_type": "markdown",
   "id": "88f5952d-b2bf-4e3d-b0e5-440b6aa9a12d",
   "metadata": {},
   "source": [
    "![Instructions for exercise](Images/1-14.png)"
   ]
  },
  {
   "cell_type": "code",
   "execution_count": 16,
   "id": "e6602312-8f00-42ac-bfb2-ea619fc2d27e",
   "metadata": {},
   "outputs": [],
   "source": [
    "class Computer:\n",
    "  def __init__(self, brand):\n",
    "    self.brand = brand\n",
    "\n",
    "  def browse_internet(self):\n",
    "    print(f\"Using {self.brand}'s default internet browser.\")\n",
    "\n",
    "class Telephone:\n",
    "  def __init__(self, phone_number):\n",
    "    self.phone_number = phone_number\n",
    "\n",
    "  def make_call(self, recipient):\n",
    "    print(f\"Calling {recipient} from {self.phone_number}\")\n"
   ]
  },
  {
   "cell_type": "raw",
   "id": "57fe0f53-2a1d-4fdb-8d09-160289efeda9",
   "metadata": {},
   "source": [
    "# Define a Smartphone class that inherits from Computer and\n",
    "# Telephone, and takes parameters brand, phone_number, and \n",
    "# music_app\n",
    "class ____(____, ____):\n",
    "  def __init__(self, ____, ____, ____):\n",
    "    # Call the contructor for the Computer and Telephone\n",
    "    # class, define the music_app instance-level attribute\n",
    "    ____.__init__(self, brand)\n",
    "    Telephone.__init__(self, ____)\n",
    "    self.music_app = ____\n"
   ]
  },
  {
   "cell_type": "code",
   "execution_count": null,
   "id": "a6ffa660-a0ae-4f46-be65-e99d249ce755",
   "metadata": {},
   "outputs": [],
   "source": [
    "# Define a Smartphone class that inherits from Computer and\n",
    "# Telephone, and takes parameters brand, phone_number, and \n",
    "# music_app\n",
    "class Smartphone(Computer, Telephone):\n",
    "  def __init__(self, brand, phone_number, music_app):\n",
    "    # Call the contructor for the Computer and Telephone\n",
    "    # class, define the music_app instance-level attribute\n",
    "    Computer.__init__(self, brand)\n",
    "    Telephone.__init__(self, phone_number)\n",
    "    self.music_app = music_app\n"
   ]
  },
  {
   "cell_type": "markdown",
   "id": "f710251c-4e2b-47ca-90ea-079a37730b39",
   "metadata": {},
   "source": [
    "![Instructions for exercise](Images/1-15.png)"
   ]
  },
  {
   "cell_type": "raw",
   "id": "c83571fe-b480-441c-9720-a68ebdb3cc6c",
   "metadata": {},
   "source": [
    "class Smartphone(Computer, Telephone):\n",
    "  def __init__(self, brand, phone_number, music_app):\n",
    "    Computer.__init__(self, brand)\n",
    "    Telephone.__init__(self, phone_number)\n",
    "    self.music_app = music_app\n",
    "  \n",
    "  # Create an instance method to play a song on the\n",
    "  # smartphone's music app\n",
    "  def ____(self, ____):\n",
    "    print(f\"Playing {____} using {____.____}\")\n"
   ]
  },
  {
   "cell_type": "code",
   "execution_count": 17,
   "id": "81fa8387-dd0c-490a-978b-32effa23762f",
   "metadata": {},
   "outputs": [],
   "source": [
    "class Smartphone(Computer, Telephone):\n",
    "  def __init__(self, brand, phone_number, music_app):\n",
    "    Computer.__init__(self, brand)\n",
    "    Telephone.__init__(self, phone_number)\n",
    "    self.music_app = music_app\n",
    "  \n",
    "  # Create an instance method to play a song on the\n",
    "  # smartphone's music app\n",
    "  def play_music(self, song):\n",
    "    print(f\"Playing {song} using {self.music_app}\")\n"
   ]
  },
  {
   "cell_type": "markdown",
   "id": "18c4019b-2fc5-4426-a8bd-c028761a4cf1",
   "metadata": {},
   "source": [
    "![Instructions for exercise](Images/1-16.png)"
   ]
  },
  {
   "cell_type": "code",
   "execution_count": 19,
   "id": "337e1b48-133b-441a-b1e9-e78d6a9c8b43",
   "metadata": {},
   "outputs": [
    {
     "name": "stdout",
     "output_type": "stream",
     "text": [
      "Using Macrosung's default internet browser.\n",
      "Calling Alex from 801-932-7629\n",
      "Playing Creeks and Highways using Dotify\n"
     ]
    }
   ],
   "source": [
    "class Smartphone(Computer, Telephone):\n",
    "  def __init__(self, brand, phone_number, music_app):\n",
    "    Computer.__init__(self, brand)\n",
    "    Telephone.__init__(self, phone_number)\n",
    "    self.music_app = music_app\n",
    "    \n",
    "  def play_music(self, song):\n",
    "    print(f\"Playing {song} using {self.music_app}\")\n",
    "\n",
    "personal_phone = Smartphone(\"Macrosung\", \"801-932-7629\", \"Dotify\")\n",
    "\n",
    "# Browse the internet, make a call to Alex, and play music\n",
    "personal_phone.browse_internet()\n",
    "personal_phone.make_call(\"Alex\")\n",
    "personal_phone.play_music(\"Creeks and Highways\")\n"
   ]
  },
  {
   "cell_type": "markdown",
   "id": "90e6c54f-cc43-44f4-9053-d18ade08ea37",
   "metadata": {},
   "source": [
    "![Instructions for exercise](Images/1-17.png)"
   ]
  },
  {
   "cell_type": "code",
   "execution_count": 20,
   "id": "47816892-a749-4869-94b5-b454683773a3",
   "metadata": {},
   "outputs": [],
   "source": [
    "class Computer:\n",
    "  def __init__(self, brand):\n",
    "    self.brand = brand\n",
    "\n",
    "  def browse_internet(self):\n",
    "    print(f\"Using {self.brand}'s default internet browser.\")\n",
    "\n",
    "class Tablet(Computer):\n",
    "  def __init__(self, brand, apps):\n",
    "    Computer.__init__(self, brand)\n",
    "    self.apps = apps\n",
    "\n",
    "  def uninstall_app(self, app):\n",
    "    if app in self.apps:\n",
    "      self.apps.remove(app)"
   ]
  },
  {
   "cell_type": "raw",
   "id": "0e337c0c-e197-400e-a1c1-ee594b4ca7d4",
   "metadata": {},
   "source": [
    "# Create a Smartphone class that inherits from Tablet\n",
    "class ____(____):\n",
    "  def __init__(self, brand, apps, phone_number):\n",
    "    ____.____(self, ____, ____)\n",
    "    self.phone_number = ____\n",
    "  \n",
    "  # Create send_text to send a message to a recipient\n",
    "  def ____(self, message, recipient):\n",
    "    print(f\"Sending {____} to {____} from {____.____}\")\n",
    "\n",
    "# Create an instance of Smartphone, call methods in each class\n",
    "____ = Smartphone(\"Macrosung\", [\"Weather\", \"Camera\"], \"801-932-7629\")    \n",
    "personal_phone.____()\n",
    "personal_phone.____(\"____\")\n",
    "personal_phone.____(\"____\", \"Chuck\")"
   ]
  },
  {
   "cell_type": "code",
   "execution_count": 22,
   "id": "96ac2db2-91d0-4e8f-a9b5-b2bb7c5beb43",
   "metadata": {},
   "outputs": [
    {
     "name": "stdout",
     "output_type": "stream",
     "text": [
      "Using Macrosung's default internet browser.\n",
      "Sending Time for a new mission! to Chuck from 801-932-7629\n"
     ]
    }
   ],
   "source": [
    "# Create a Smartphone class that inherits from Tablet\n",
    "class Smartphone(Tablet):\n",
    "  def __init__(self, brand, apps, phone_number):\n",
    "    Tablet.__init__(self, brand, apps)\n",
    "    self.phone_number = phone_number\n",
    "  \n",
    "  # Create send_text to send a message to a recipient\n",
    "  def send_text(self, message, recipient):\n",
    "    print(f\"Sending {message} to {recipient} from {self.phone_number}\")\n",
    "\n",
    "# Create an instance of Smartphone, call methods in each class\n",
    "personal_phone = Smartphone(\"Macrosung\", [\"Weather\", \"Camera\"], \"801-932-7629\")    \n",
    "personal_phone.browse_internet()\n",
    "personal_phone.uninstall_app(\"Weather\")\n",
    "personal_phone.send_text(\"Time for a new mission!\", \"Chuck\")"
   ]
  },
  {
   "cell_type": "markdown",
   "id": "d842badc-7c7c-49bb-a2c6-5959821e8155",
   "metadata": {},
   "source": [
    "![Instructions for exercise](Images/1-18.png)"
   ]
  },
  {
   "cell_type": "raw",
   "id": "c3301dc7-04e5-4d64-b77b-ef9069a3d560",
   "metadata": {},
   "source": [
    "![Instructions for exercise](Images/1-19.png)"
   ]
  }
 ],
 "metadata": {
  "kernelspec": {
   "display_name": "Python 3 (ipykernel)",
   "language": "python",
   "name": "python3"
  },
  "language_info": {
   "codemirror_mode": {
    "name": "ipython",
    "version": 3
   },
   "file_extension": ".py",
   "mimetype": "text/x-python",
   "name": "python",
   "nbconvert_exporter": "python",
   "pygments_lexer": "ipython3",
   "version": "3.13.2"
  }
 },
 "nbformat": 4,
 "nbformat_minor": 5
}
