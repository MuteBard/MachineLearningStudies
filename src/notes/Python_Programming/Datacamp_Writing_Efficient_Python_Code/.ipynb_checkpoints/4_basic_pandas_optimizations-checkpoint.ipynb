{
 "cells": [
  {
   "cell_type": "code",
   "execution_count": null,
   "id": "ce6b0b6c-8771-45ac-b6f2-e1485497d5e9",
   "metadata": {},
   "outputs": [],
   "source": []
  }
 ],
 "metadata": {
  "kernelspec": {
   "display_name": "",
   "name": ""
  },
  "language_info": {
   "name": ""
  }
 },
 "nbformat": 4,
 "nbformat_minor": 5
}
