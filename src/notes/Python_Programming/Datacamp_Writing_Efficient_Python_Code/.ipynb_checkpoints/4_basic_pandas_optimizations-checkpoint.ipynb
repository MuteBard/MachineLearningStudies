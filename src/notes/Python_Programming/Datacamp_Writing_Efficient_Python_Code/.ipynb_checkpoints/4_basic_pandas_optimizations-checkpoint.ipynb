{
 "cells": [
  {
   "cell_type": "code",
   "execution_count": 4,
   "id": "ce6b0b6c-8771-45ac-b6f2-e1485497d5e9",
   "metadata": {},
   "outputs": [],
   "source": [
    "# Prerequisites: Pandas Unit (Pandas_Foundations)"
   ]
  },
  {
   "cell_type": "code",
   "execution_count": 3,
   "id": "f469745f-6e62-407a-a1fb-65da89f711ac",
   "metadata": {},
   "outputs": [
    {
     "name": "stdout",
     "output_type": "stream",
     "text": [
      "  Team League  Year   RS   RA   W    G  Playoffs\n",
      "0  PIT     NL  2012  651  674  79  162         0\n",
      "1  PIT     NL  2011  610  712  72  162         0\n",
      "2  PIT     NL  2010  587  866  57  162         0\n",
      "3  PIT     NL  2009  636  768  62  161         0\n",
      "4  PIT     NL  2008  735  884  67  162         0\n"
     ]
    }
   ],
   "source": [
    "import pandas as pd\n",
    "fileName = \"./csvs/pit.csv\"\n",
    "pit_df = pd.read_csv(fileName)\n",
    "\n",
    "print(pit_df)"
   ]
  },
  {
   "cell_type": "code",
   "execution_count": 6,
   "id": "9ca978e3-53fd-4996-8f5d-61281f909459",
   "metadata": {},
   "outputs": [
    {
     "name": "stdout",
     "output_type": "stream",
     "text": [
      "Team         PIT\n",
      "League        NL\n",
      "Year        2012\n",
      "RS           651\n",
      "RA           674\n",
      "W             79\n",
      "G            162\n",
      "Playoffs       0\n",
      "Name: 0, dtype: object\n",
      "Team         PIT\n",
      "League        NL\n",
      "Year        2011\n",
      "RS           610\n",
      "RA           712\n",
      "W             72\n",
      "G            162\n",
      "Playoffs       0\n",
      "Name: 1, dtype: object\n",
      "Team         PIT\n",
      "League        NL\n",
      "Year        2010\n",
      "RS           587\n",
      "RA           866\n",
      "W             57\n",
      "G            162\n",
      "Playoffs       0\n",
      "Name: 2, dtype: object\n",
      "Team         PIT\n",
      "League        NL\n",
      "Year        2009\n",
      "RS           636\n",
      "RA           768\n",
      "W             62\n",
      "G            161\n",
      "Playoffs       0\n",
      "Name: 3, dtype: object\n",
      "Team         PIT\n",
      "League        NL\n",
      "Year        2008\n",
      "RS           735\n",
      "RA           884\n",
      "W             67\n",
      "G            162\n",
      "Playoffs       0\n",
      "Name: 4, dtype: object\n"
     ]
    }
   ],
   "source": [
    "# # Iterate over pit_df and print each row\n",
    "for i, row in pit_df.iterrows():\n",
    "    print(row)"
   ]
  },
  {
   "cell_type": "code",
   "execution_count": 7,
   "id": "fbbb6b7b-65ed-440e-b183-50d9f4f484ab",
   "metadata": {},
   "outputs": [
    {
     "name": "stdout",
     "output_type": "stream",
     "text": [
      "0\n",
      "Team         PIT\n",
      "League        NL\n",
      "Year        2012\n",
      "RS           651\n",
      "RA           674\n",
      "W             79\n",
      "G            162\n",
      "Playoffs       0\n",
      "Name: 0, dtype: object\n",
      "<class 'pandas.core.series.Series'>\n",
      "1\n",
      "Team         PIT\n",
      "League        NL\n",
      "Year        2011\n",
      "RS           610\n",
      "RA           712\n",
      "W             72\n",
      "G            162\n",
      "Playoffs       0\n",
      "Name: 1, dtype: object\n",
      "<class 'pandas.core.series.Series'>\n",
      "2\n",
      "Team         PIT\n",
      "League        NL\n",
      "Year        2010\n",
      "RS           587\n",
      "RA           866\n",
      "W             57\n",
      "G            162\n",
      "Playoffs       0\n",
      "Name: 2, dtype: object\n",
      "<class 'pandas.core.series.Series'>\n",
      "3\n",
      "Team         PIT\n",
      "League        NL\n",
      "Year        2009\n",
      "RS           636\n",
      "RA           768\n",
      "W             62\n",
      "G            161\n",
      "Playoffs       0\n",
      "Name: 3, dtype: object\n",
      "<class 'pandas.core.series.Series'>\n",
      "4\n",
      "Team         PIT\n",
      "League        NL\n",
      "Year        2008\n",
      "RS           735\n",
      "RA           884\n",
      "W             67\n",
      "G            162\n",
      "Playoffs       0\n",
      "Name: 4, dtype: object\n",
      "<class 'pandas.core.series.Series'>\n"
     ]
    }
   ],
   "source": [
    "# Iterate over pit_df and print each index variable, row, and row type\n",
    "for i, row in pit_df.iterrows():\n",
    "    print(i)\n",
    "    print(row)\n",
    "    print(type(row))"
   ]
  },
  {
   "cell_type": "code",
   "execution_count": 9,
   "id": "369f501c-7525-4ff2-9bc4-b76d427ce09e",
   "metadata": {},
   "outputs": [
    {
     "name": "stdout",
     "output_type": "stream",
     "text": [
      "(0, Team         PIT\n",
      "League        NL\n",
      "Year        2012\n",
      "RS           651\n",
      "RA           674\n",
      "W             79\n",
      "G            162\n",
      "Playoffs       0\n",
      "Name: 0, dtype: object)\n",
      "(1, Team         PIT\n",
      "League        NL\n",
      "Year        2011\n",
      "RS           610\n",
      "RA           712\n",
      "W             72\n",
      "G            162\n",
      "Playoffs       0\n",
      "Name: 1, dtype: object)\n",
      "(2, Team         PIT\n",
      "League        NL\n",
      "Year        2010\n",
      "RS           587\n",
      "RA           866\n",
      "W             57\n",
      "G            162\n",
      "Playoffs       0\n",
      "Name: 2, dtype: object)\n",
      "(3, Team         PIT\n",
      "League        NL\n",
      "Year        2009\n",
      "RS           636\n",
      "RA           768\n",
      "W             62\n",
      "G            161\n",
      "Playoffs       0\n",
      "Name: 3, dtype: object)\n",
      "(4, Team         PIT\n",
      "League        NL\n",
      "Year        2008\n",
      "RS           735\n",
      "RA           884\n",
      "W             67\n",
      "G            162\n",
      "Playoffs       0\n",
      "Name: 4, dtype: object)\n"
     ]
    }
   ],
   "source": [
    "# Use one variable instead of two to store the result of .iterrows()\n",
    "for row_tuple in pit_df.iterrows():\n",
    "    print(row_tuple)"
   ]
  },
  {
   "cell_type": "code",
   "execution_count": 11,
   "id": "82e73637-287e-4415-b760-8740495da3b9",
   "metadata": {},
   "outputs": [
    {
     "name": "stdout",
     "output_type": "stream",
     "text": [
      "(0, Team         PIT\n",
      "League        NL\n",
      "Year        2012\n",
      "RS           651\n",
      "RA           674\n",
      "W             79\n",
      "G            162\n",
      "Playoffs       0\n",
      "Name: 0, dtype: object)\n",
      "<class 'tuple'>\n",
      "(1, Team         PIT\n",
      "League        NL\n",
      "Year        2011\n",
      "RS           610\n",
      "RA           712\n",
      "W             72\n",
      "G            162\n",
      "Playoffs       0\n",
      "Name: 1, dtype: object)\n",
      "<class 'tuple'>\n",
      "(2, Team         PIT\n",
      "League        NL\n",
      "Year        2010\n",
      "RS           587\n",
      "RA           866\n",
      "W             57\n",
      "G            162\n",
      "Playoffs       0\n",
      "Name: 2, dtype: object)\n",
      "<class 'tuple'>\n",
      "(3, Team         PIT\n",
      "League        NL\n",
      "Year        2009\n",
      "RS           636\n",
      "RA           768\n",
      "W             62\n",
      "G            161\n",
      "Playoffs       0\n",
      "Name: 3, dtype: object)\n",
      "<class 'tuple'>\n",
      "(4, Team         PIT\n",
      "League        NL\n",
      "Year        2008\n",
      "RS           735\n",
      "RA           884\n",
      "W             67\n",
      "G            162\n",
      "Playoffs       0\n",
      "Name: 4, dtype: object)\n",
      "<class 'tuple'>\n"
     ]
    }
   ],
   "source": [
    "# Print the row and type of each row\n",
    "for row_tuple in pit_df.iterrows():\n",
    "    print(row_tuple)\n",
    "    print(type(row_tuple))"
   ]
  },
  {
   "cell_type": "code",
   "execution_count": 12,
   "id": "bbe7c1b0-20e1-4581-a990-dcbe6650c003",
   "metadata": {},
   "outputs": [
    {
     "name": "stdout",
     "output_type": "stream",
     "text": [
      "  Team League  Year   RS   RA   W    G  Playoffs\n",
      "0  SFG     NL  2012  718  649  94  162         1\n",
      "1  SFG     NL  2011  570  578  86  162         0\n",
      "2  SFG     NL  2010  697  583  92  162         1\n",
      "3  SFG     NL  2009  657  611  88  162         0\n",
      "4  SFG     NL  2008  640  759  72  162         0\n"
     ]
    }
   ],
   "source": [
    "import pandas as pd\n",
    "fileName = \"./csvs/giants.csv\"\n",
    "giants_df = pd.read_csv(fileName)\n",
    "\n",
    "print(giants_df)"
   ]
  },
  {
   "cell_type": "code",
   "execution_count": 15,
   "id": "7fd584fa-b88f-483c-bf73-9ec0a2cd01cd",
   "metadata": {},
   "outputs": [],
   "source": [
    "def calc_run_diff(runs_scored, runs_allowed):\n",
    "    run_diff = runs_scored - runs_allowed\n",
    "    return run_diff"
   ]
  },
  {
   "cell_type": "code",
   "execution_count": 13,
   "id": "6edae90a-b246-406c-a70a-f2a2de9d704a",
   "metadata": {},
   "outputs": [],
   "source": [
    "# Create an empty list to store run differentials\n",
    "run_diffs = []"
   ]
  },
  {
   "cell_type": "code",
   "execution_count": 16,
   "id": "e1887ffc-6f93-43e2-88a8-55e8669b928e",
   "metadata": {},
   "outputs": [
    {
     "name": "stdout",
     "output_type": "stream",
     "text": [
      "  Team League  Year   RS   RA   W    G  Playoffs   RD\n",
      "0  SFG     NL  2012  718  649  94  162         1   69\n",
      "1  SFG     NL  2011  570  578  86  162         0   -8\n",
      "2  SFG     NL  2010  697  583  92  162         1  114\n",
      "3  SFG     NL  2009  657  611  88  162         0   46\n",
      "4  SFG     NL  2008  640  759  72  162         0 -119\n"
     ]
    }
   ],
   "source": [
    "# Write a for loop and collect runs allowed and runs scored for each row\n",
    "for i, row in giants_df.iterrows():\n",
    "    runs_scored = row[\"RS\"]\n",
    "    runs_allowed = row[\"RA\"]\n",
    "\n",
    "    run_diff = calc_run_diff(runs_scored, runs_allowed)\n",
    "\n",
    "    run_diffs.append(run_diff)\n",
    "\n",
    "giants_df[\"RD\"] = run_diffs\n",
    "print(giants_df)\n",
    "    "
   ]
  },
  {
   "cell_type": "code",
   "execution_count": 23,
   "id": "a921a0d0-e3e4-43aa-9ab5-6f316f648fcf",
   "metadata": {},
   "outputs": [
    {
     "name": "stdout",
     "output_type": "stream",
     "text": [
      "  Team League  Year   RS   RA   W    G  Playoffs   RD\n",
      "0  SFG     NL  2012  718  649  94  162         1   69\n",
      "1  SFG     NL  2011  570  578  86  162         0   -8\n",
      "2  SFG     NL  2010  697  583  92  162         1  114\n",
      "3  SFG     NL  2009  657  611  88  162         0   46\n",
      "4  SFG     NL  2008  640  759  72  162         0 -119\n"
     ]
    }
   ],
   "source": [
    "giants_df[\"RD\"] = giants_df[\"RS\"] - giants_df[\"RA\"] \n",
    "print(giants_df)"
   ]
  },
  {
   "cell_type": "code",
   "execution_count": 21,
   "id": "4b04034a-a565-4cf7-8fcd-36990e598e50",
   "metadata": {},
   "outputs": [],
   "source": [
    "# Why did we just do that if the second is far more efficient?\n",
    "# Sabi: The first approach is only useful if calc_run_diff() is doing something more complex than simple subtraction. \n",
    "# Otherwise, stick with the second approach! "
   ]
  },
  {
   "cell_type": "code",
   "execution_count": 35,
   "id": "7531a9a9-1370-421b-a1f4-78740647d876",
   "metadata": {},
   "outputs": [
    {
     "name": "stdout",
     "output_type": "stream",
     "text": [
      "98.6 ns ± 0.461 ns per loop (mean ± std. dev. of 7 runs, 10,000,000 loops each)\n"
     ]
    }
   ],
   "source": [
    "%%timeit\n",
    "import pandas as pd\n",
    "\n",
    "run_diffs = []\n",
    "def setDF():\n",
    "    for i, row in giants_df.iterrows():\n",
    "        runs_scored = row[\"RS\"]\n",
    "        runs_allowed = row[\"RA\"]\n",
    "        run_diff = calc_run_diff(runs_scored, runs_allowed)\n",
    "        run_diffs.append(run_diff)\n",
    "    \n",
    "    giants_df[\"RD\"] = run_diffs\n"
   ]
  },
  {
   "cell_type": "code",
   "execution_count": 36,
   "id": "c557e09a-c85d-4dd9-9e3f-b7c353f0ac8b",
   "metadata": {},
   "outputs": [
    {
     "name": "stdout",
     "output_type": "stream",
     "text": [
      "54.1 μs ± 461 ns per loop (mean ± std. dev. of 7 runs, 10,000 loops each)\n"
     ]
    }
   ],
   "source": [
    "%%timeit\n",
    "giants_df[\"RD\"] = giants_df[\"RS\"] - giants_df[\"RA\"] "
   ]
  },
  {
   "cell_type": "code",
   "execution_count": 57,
   "id": "3db283c8-43c8-42e8-9cab-6673c2722c8c",
   "metadata": {},
   "outputs": [],
   "source": [
    "#The second approach is insanely better...\n",
    "# https://www.youtube.com/watch?v=6M-NkQAo-3E"
   ]
  },
  {
   "cell_type": "code",
   "execution_count": null,
   "id": "3dbc4291-cbd9-4bff-a154-76d62e30b1c0",
   "metadata": {},
   "outputs": [],
   "source": [
    "for rt in df.intertuples():\n",
    "    print(df.RD) #Square bracket notation does not work"
   ]
  },
  {
   "cell_type": "code",
   "execution_count": 4,
   "id": "1ef9aea6-e2a5-4c12-ac41-6cbd3538c1a6",
   "metadata": {},
   "outputs": [
    {
     "name": "stdout",
     "output_type": "stream",
     "text": [
      "   Team League  Year   RS   RA   W    G  Playoffs\n",
      "0   TEX     AL  2012  808  707  93  162         1\n",
      "1   TEX     AL  2011  855  677  96  162         1\n",
      "2   TEX     AL  2010  787  687  90  162         1\n",
      "3   TEX     AL  2009  784  740  87  162         0\n",
      "4   TEX     AL  2008  901  967  79  162         0\n",
      "5   TEX     AL  2007  816  844  75  162         0\n",
      "6   TEX     AL  2006  835  784  80  162         0\n",
      "7   TEX     AL  2005  865  858  79  162         0\n",
      "8   TEX     AL  2004  860  794  89  162         0\n",
      "9   TEX     AL  2003  826  969  71  162         0\n",
      "10  TEX     AL  2002  843  882  72  162         0\n",
      "11  TEX     AL  2001  890  968  73  162         0\n",
      "12  TEX     AL  2000  848  974  71  162         0\n",
      "13  TEX     AL  1999  945  859  95  162         1\n",
      "14  TEX     AL  1998  940  871  88  162         1\n",
      "15  TEX     AL  1997  807  823  77  162         0\n",
      "16  TEX     AL  1996  928  799  90  163         1\n",
      "17  TEX     AL  1993  835  751  86  162         0\n",
      "18  TEX     AL  1992  682  753  77  162         0\n",
      "19  TEX     AL  1991  829  814  85  162         0\n",
      "20  TEX     AL  1990  676  696  83  162         0\n",
      "21  TEX     AL  1989  695  714  83  162         0\n",
      "22  TEX     AL  1988  637  735  70  161         0\n",
      "23  TEX     AL  1987  823  849  75  162         0\n",
      "24  TEX     AL  1986  771  743  87  162         0\n",
      "25  TEX     AL  1985  617  785  62  161         0\n",
      "26  TEX     AL  1984  656  714  69  161         0\n",
      "27  TEX     AL  1983  639  609  77  163         0\n",
      "28  TEX     AL  1982  590  749  64  162         0\n",
      "29  TEX     AL  1980  756  752  76  163         0\n",
      "30  TEX     AL  1979  750  698  83  162         0\n",
      "31  TEX     AL  1978  692  632  87  162         0\n",
      "32  TEX     AL  1977  767  657  94  162         0\n",
      "33  TEX     AL  1976  616  652  76  162         0\n",
      "34  TEX     AL  1975  714  733  79  162         0\n",
      "35  TEX     AL  1974  690  698  83  161         0\n",
      "36  TEX     AL  1973  619  844  57  162         0\n"
     ]
    }
   ],
   "source": [
    "import pandas as pd\n",
    "fileName = \"./csvs/rangers.csv\"\n",
    "rangers_df = pd.read_csv(fileName)\n",
    "\n",
    "print(rangers_df)"
   ]
  },
  {
   "cell_type": "code",
   "execution_count": 9,
   "id": "d31e8697-5f6e-4608-83cf-be5ac37e9b7e",
   "metadata": {},
   "outputs": [
    {
     "name": "stdout",
     "output_type": "stream",
     "text": [
      "Pandas(Index=0, Team='TEX', League='AL', Year=2012, RS=808, RA=707, W=93, G=162, Playoffs=1)\n",
      "Pandas(Index=1, Team='TEX', League='AL', Year=2011, RS=855, RA=677, W=96, G=162, Playoffs=1)\n",
      "Pandas(Index=2, Team='TEX', League='AL', Year=2010, RS=787, RA=687, W=90, G=162, Playoffs=1)\n",
      "Pandas(Index=3, Team='TEX', League='AL', Year=2009, RS=784, RA=740, W=87, G=162, Playoffs=0)\n",
      "Pandas(Index=4, Team='TEX', League='AL', Year=2008, RS=901, RA=967, W=79, G=162, Playoffs=0)\n",
      "Pandas(Index=5, Team='TEX', League='AL', Year=2007, RS=816, RA=844, W=75, G=162, Playoffs=0)\n",
      "Pandas(Index=6, Team='TEX', League='AL', Year=2006, RS=835, RA=784, W=80, G=162, Playoffs=0)\n",
      "Pandas(Index=7, Team='TEX', League='AL', Year=2005, RS=865, RA=858, W=79, G=162, Playoffs=0)\n",
      "Pandas(Index=8, Team='TEX', League='AL', Year=2004, RS=860, RA=794, W=89, G=162, Playoffs=0)\n",
      "Pandas(Index=9, Team='TEX', League='AL', Year=2003, RS=826, RA=969, W=71, G=162, Playoffs=0)\n",
      "Pandas(Index=10, Team='TEX', League='AL', Year=2002, RS=843, RA=882, W=72, G=162, Playoffs=0)\n",
      "Pandas(Index=11, Team='TEX', League='AL', Year=2001, RS=890, RA=968, W=73, G=162, Playoffs=0)\n",
      "Pandas(Index=12, Team='TEX', League='AL', Year=2000, RS=848, RA=974, W=71, G=162, Playoffs=0)\n",
      "Pandas(Index=13, Team='TEX', League='AL', Year=1999, RS=945, RA=859, W=95, G=162, Playoffs=1)\n",
      "Pandas(Index=14, Team='TEX', League='AL', Year=1998, RS=940, RA=871, W=88, G=162, Playoffs=1)\n",
      "Pandas(Index=15, Team='TEX', League='AL', Year=1997, RS=807, RA=823, W=77, G=162, Playoffs=0)\n",
      "Pandas(Index=16, Team='TEX', League='AL', Year=1996, RS=928, RA=799, W=90, G=163, Playoffs=1)\n",
      "Pandas(Index=17, Team='TEX', League='AL', Year=1993, RS=835, RA=751, W=86, G=162, Playoffs=0)\n",
      "Pandas(Index=18, Team='TEX', League='AL', Year=1992, RS=682, RA=753, W=77, G=162, Playoffs=0)\n",
      "Pandas(Index=19, Team='TEX', League='AL', Year=1991, RS=829, RA=814, W=85, G=162, Playoffs=0)\n",
      "Pandas(Index=20, Team='TEX', League='AL', Year=1990, RS=676, RA=696, W=83, G=162, Playoffs=0)\n",
      "Pandas(Index=21, Team='TEX', League='AL', Year=1989, RS=695, RA=714, W=83, G=162, Playoffs=0)\n",
      "Pandas(Index=22, Team='TEX', League='AL', Year=1988, RS=637, RA=735, W=70, G=161, Playoffs=0)\n",
      "Pandas(Index=23, Team='TEX', League='AL', Year=1987, RS=823, RA=849, W=75, G=162, Playoffs=0)\n",
      "Pandas(Index=24, Team='TEX', League='AL', Year=1986, RS=771, RA=743, W=87, G=162, Playoffs=0)\n",
      "Pandas(Index=25, Team='TEX', League='AL', Year=1985, RS=617, RA=785, W=62, G=161, Playoffs=0)\n",
      "Pandas(Index=26, Team='TEX', League='AL', Year=1984, RS=656, RA=714, W=69, G=161, Playoffs=0)\n",
      "Pandas(Index=27, Team='TEX', League='AL', Year=1983, RS=639, RA=609, W=77, G=163, Playoffs=0)\n",
      "Pandas(Index=28, Team='TEX', League='AL', Year=1982, RS=590, RA=749, W=64, G=162, Playoffs=0)\n",
      "Pandas(Index=29, Team='TEX', League='AL', Year=1980, RS=756, RA=752, W=76, G=163, Playoffs=0)\n",
      "Pandas(Index=30, Team='TEX', League='AL', Year=1979, RS=750, RA=698, W=83, G=162, Playoffs=0)\n",
      "Pandas(Index=31, Team='TEX', League='AL', Year=1978, RS=692, RA=632, W=87, G=162, Playoffs=0)\n",
      "Pandas(Index=32, Team='TEX', League='AL', Year=1977, RS=767, RA=657, W=94, G=162, Playoffs=0)\n",
      "Pandas(Index=33, Team='TEX', League='AL', Year=1976, RS=616, RA=652, W=76, G=162, Playoffs=0)\n",
      "Pandas(Index=34, Team='TEX', League='AL', Year=1975, RS=714, RA=733, W=79, G=162, Playoffs=0)\n",
      "Pandas(Index=35, Team='TEX', League='AL', Year=1974, RS=690, RA=698, W=83, G=161, Playoffs=0)\n",
      "Pandas(Index=36, Team='TEX', League='AL', Year=1973, RS=619, RA=844, W=57, G=162, Playoffs=0)\n"
     ]
    }
   ],
   "source": [
    "for rt in rangers_df.itertuples():\n",
    "    print(rt)\n"
   ]
  },
  {
   "cell_type": "code",
   "execution_count": 10,
   "id": "2d76602f-2fcf-4217-b76d-df5a1a6b3951",
   "metadata": {},
   "outputs": [
    {
     "name": "stdout",
     "output_type": "stream",
     "text": [
      "0 2012 93\n",
      "1 2011 96\n",
      "2 2010 90\n",
      "3 2009 87\n",
      "4 2008 79\n",
      "5 2007 75\n",
      "6 2006 80\n",
      "7 2005 79\n",
      "8 2004 89\n",
      "9 2003 71\n",
      "10 2002 72\n",
      "11 2001 73\n",
      "12 2000 71\n",
      "13 1999 95\n",
      "14 1998 88\n",
      "15 1997 77\n",
      "16 1996 90\n",
      "17 1993 86\n",
      "18 1992 77\n",
      "19 1991 85\n",
      "20 1990 83\n",
      "21 1989 83\n",
      "22 1988 70\n",
      "23 1987 75\n",
      "24 1986 87\n",
      "25 1985 62\n",
      "26 1984 69\n",
      "27 1983 77\n",
      "28 1982 64\n",
      "29 1980 76\n",
      "30 1979 83\n",
      "31 1978 87\n",
      "32 1977 94\n",
      "33 1976 76\n",
      "34 1975 79\n",
      "35 1974 83\n",
      "36 1973 57\n"
     ]
    }
   ],
   "source": [
    "for row in rangers_df.itertuples():\n",
    "    i = row.Index\n",
    "    year = row.Year\n",
    "    wins = row.W\n",
    "    print(i, year, wins)"
   ]
  },
  {
   "cell_type": "code",
   "execution_count": 23,
   "id": "b9a4fbcb-5921-48a7-aa67-7ada67c2fd12",
   "metadata": {},
   "outputs": [
    {
     "name": "stdout",
     "output_type": "stream",
     "text": [
      "0 2012 93\n",
      "1 2011 96\n",
      "2 2010 90\n",
      "13 1999 95\n",
      "14 1998 88\n",
      "16 1996 90\n"
     ]
    }
   ],
   "source": [
    "for row in rangers_df.itertuples():\n",
    "    i = row.Index\n",
    "    year = row.Year\n",
    "    wins = row.W\n",
    "    if row.Playoffs == 1:\n",
    "        print(i, year, wins)"
   ]
  },
  {
   "cell_type": "code",
   "execution_count": 24,
   "id": "10f5a425-e327-4cc7-ad3b-51c2435c111b",
   "metadata": {},
   "outputs": [
    {
     "name": "stdout",
     "output_type": "stream",
     "text": [
      "    Year  Wins\n",
      "0   2012    93\n",
      "1   2011    96\n",
      "2   2010    90\n",
      "13  1999    95\n",
      "14  1998    88\n",
      "16  1996    90\n"
     ]
    }
   ],
   "source": [
    "rangers_df_playoffs = rangers_df[rangers_df[\"Playoffs\"] == 1].sort_values(\"Year\", ascending = False)\n",
    "# Rename the 'W' column to 'wins'\n",
    "rangers_df_playoffs.rename(columns={'W': 'Wins'}, inplace=True)\n",
    "\n",
    "print(rangers_df_playoffs[[\"Year\", \"Wins\"]])"
   ]
  },
  {
   "cell_type": "code",
   "execution_count": 34,
   "id": "a988bb26-e0b0-4b59-a880-d9cd16e68eb7",
   "metadata": {},
   "outputs": [
    {
     "name": "stdout",
     "output_type": "stream",
     "text": [
      "195 μs ± 1.98 μs per loop (mean ± std. dev. of 7 runs, 1,000 loops each)\n"
     ]
    }
   ],
   "source": [
    "%%timeit\n",
    "for row in rangers_df.itertuples():\n",
    "    i = row.Index\n",
    "    year = row.Year\n",
    "    wins = row.W\n",
    "    if row.Playoffs == 1:\n",
    "        x = 0"
   ]
  },
  {
   "cell_type": "code",
   "execution_count": 27,
   "id": "cb31ee56-7b2e-48b8-9d1b-384890e99c01",
   "metadata": {},
   "outputs": [
    {
     "name": "stdout",
     "output_type": "stream",
     "text": [
      "228 μs ± 4.4 μs per loop (mean ± std. dev. of 7 runs, 1,000 loops each)\n"
     ]
    }
   ],
   "source": [
    "%%timeit\n",
    "rangers_df_playoffs = rangers_df[rangers_df[\"Playoffs\"] == 1].sort_values(\"Year\", ascending = False)\n",
    "# Rename the 'W' column to 'wins'\n",
    "rangers_df_playoffs.rename(columns={'W': 'Wins'}, inplace=True)"
   ]
  },
  {
   "cell_type": "code",
   "execution_count": null,
   "id": "a7b4a948-3a2b-4635-89f4-1735c75fe263",
   "metadata": {},
   "outputs": [],
   "source": [
    "# interesting"
   ]
  },
  {
   "cell_type": "code",
   "execution_count": 37,
   "id": "a371d254-9cab-4859-9089-9c53d95f8a48",
   "metadata": {},
   "outputs": [
    {
     "name": "stdout",
     "output_type": "stream",
     "text": [
      "   Team League  Year   RS   RA    W    G  Playoffs\n",
      "0   NYY     AL  2012  804  668   95  162         1\n",
      "1   NYY     AL  2011  867  657   97  162         1\n",
      "2   NYY     AL  2010  859  693   95  162         1\n",
      "3   NYY     AL  2009  915  753  103  162         1\n",
      "4   NYY     AL  2008  789  727   89  162         0\n",
      "5   NYY     AL  2007  968  777   94  162         1\n",
      "6   NYY     AL  2006  930  767   97  162         1\n",
      "7   NYY     AL  2005  886  789   95  162         1\n",
      "8   NYY     AL  2004  897  808  101  162         1\n",
      "9   NYY     AL  2003  877  716  101  163         1\n",
      "10  NYY     AL  2002  897  697  103  161         1\n",
      "11  NYY     AL  2001  804  713   95  161         1\n",
      "12  NYY     AL  2000  871  814   87  161         1\n",
      "13  NYY     AL  1999  900  731   98  162         1\n",
      "14  NYY     AL  1998  965  656  114  162         1\n",
      "15  NYY     AL  1997  891  688   96  162         1\n",
      "16  NYY     AL  1996  871  787   92  162         1\n",
      "17  NYY     AL  1993  821  761   88  162         0\n",
      "18  NYY     AL  1992  733  746   76  162         0\n",
      "19  NYY     AL  1991  674  777   71  162         0\n",
      "20  NYY     AL  1990  603  749   67  162         0\n",
      "21  NYY     AL  1989  698  792   74  161         0\n",
      "22  NYY     AL  1988  772  748   85  161         0\n",
      "23  NYY     AL  1987  788  758   89  162         0\n",
      "24  NYY     AL  1986  797  738   90  162         0\n",
      "25  NYY     AL  1985  839  660   97  161         0\n",
      "26  NYY     AL  1984  758  679   87  162         0\n",
      "27  NYY     AL  1983  770  703   91  162         0\n",
      "28  NYY     AL  1982  709  716   79  162         0\n",
      "29  NYY     AL  1980  820  662  103  162         1\n",
      "30  NYY     AL  1979  734  672   89  160         0\n",
      "31  NYY     AL  1978  735  582  100  163         1\n",
      "32  NYY     AL  1977  831  651  100  162         1\n",
      "33  NYY     AL  1976  730  575   97  159         1\n",
      "34  NYY     AL  1975  681  588   83  160         0\n",
      "35  NYY     AL  1974  671  623   89  162         0\n",
      "36  NYY     AL  1973  641  610   80  162         0\n",
      "37  NYY     AL  1971  648  641   81  162         0\n",
      "38  NYY     AL  1970  680  612   93  163         0\n",
      "39  NYY     AL  1969  562  587   80  162         0\n",
      "40  NYY     AL  1968  536  531   83  164         0\n",
      "41  NYY     AL  1967  522  621   72  163         0\n",
      "42  NYY     AL  1966  611  612   70  160         0\n",
      "43  NYY     AL  1965  611  604   77  162         0\n",
      "44  NYY     AL  1964  730  577   99  164         1\n",
      "45  NYY     AL  1963  714  547  104  161         1\n",
      "46  NYY     AL  1962  817  680   96  162         1\n"
     ]
    }
   ],
   "source": [
    "import pandas as pd\n",
    "fileName = \"./csvs/yankees.csv\"\n",
    "yankees_df = pd.read_csv(fileName)\n",
    "\n",
    "print(yankees_df)"
   ]
  },
  {
   "cell_type": "code",
   "execution_count": 41,
   "id": "09e83bb9-f46f-4b32-a078-e3ef0bf812a9",
   "metadata": {},
   "outputs": [],
   "source": [
    "\n",
    "def calc_run_diff(runs_scored, runs_allowed):\n",
    "    run_diff = runs_scored - runs_allowed\n",
    "    return run_diff"
   ]
  },
  {
   "cell_type": "code",
   "execution_count": 44,
   "id": "8634ebc5-7081-4109-a91b-94452eeb9ea1",
   "metadata": {},
   "outputs": [],
   "source": [
    "run_diffs = []\n",
    "\n",
    "for row in yankees_df.itertuples():\n",
    "    runs_scored = row.RS\n",
    "    runs_allowed = row.RA\n",
    "    run_diff = calc_run_diff(runs_scored, runs_allowed)\n",
    "    run_diffs.append(run_diff)\n"
   ]
  },
  {
   "cell_type": "code",
   "execution_count": 45,
   "id": "cb2eb7ca-5a1c-432b-aa3c-b83ceb1899a5",
   "metadata": {},
   "outputs": [
    {
     "name": "stdout",
     "output_type": "stream",
     "text": [
      "   Team League  Year   RS   RA    W    G  Playoffs   RD\n",
      "0   NYY     AL  2012  804  668   95  162         1  136\n",
      "1   NYY     AL  2011  867  657   97  162         1  210\n",
      "2   NYY     AL  2010  859  693   95  162         1  166\n",
      "3   NYY     AL  2009  915  753  103  162         1  162\n",
      "4   NYY     AL  2008  789  727   89  162         0   62\n",
      "5   NYY     AL  2007  968  777   94  162         1  191\n",
      "6   NYY     AL  2006  930  767   97  162         1  163\n",
      "7   NYY     AL  2005  886  789   95  162         1   97\n",
      "8   NYY     AL  2004  897  808  101  162         1   89\n",
      "9   NYY     AL  2003  877  716  101  163         1  161\n",
      "10  NYY     AL  2002  897  697  103  161         1  200\n",
      "11  NYY     AL  2001  804  713   95  161         1   91\n",
      "12  NYY     AL  2000  871  814   87  161         1   57\n",
      "13  NYY     AL  1999  900  731   98  162         1  169\n",
      "14  NYY     AL  1998  965  656  114  162         1  309\n",
      "15  NYY     AL  1997  891  688   96  162         1  203\n",
      "16  NYY     AL  1996  871  787   92  162         1   84\n",
      "17  NYY     AL  1993  821  761   88  162         0   60\n",
      "18  NYY     AL  1992  733  746   76  162         0  -13\n",
      "19  NYY     AL  1991  674  777   71  162         0 -103\n",
      "20  NYY     AL  1990  603  749   67  162         0 -146\n",
      "21  NYY     AL  1989  698  792   74  161         0  -94\n",
      "22  NYY     AL  1988  772  748   85  161         0   24\n",
      "23  NYY     AL  1987  788  758   89  162         0   30\n",
      "24  NYY     AL  1986  797  738   90  162         0   59\n",
      "25  NYY     AL  1985  839  660   97  161         0  179\n",
      "26  NYY     AL  1984  758  679   87  162         0   79\n",
      "27  NYY     AL  1983  770  703   91  162         0   67\n",
      "28  NYY     AL  1982  709  716   79  162         0   -7\n",
      "29  NYY     AL  1980  820  662  103  162         1  158\n",
      "30  NYY     AL  1979  734  672   89  160         0   62\n",
      "31  NYY     AL  1978  735  582  100  163         1  153\n",
      "32  NYY     AL  1977  831  651  100  162         1  180\n",
      "33  NYY     AL  1976  730  575   97  159         1  155\n",
      "34  NYY     AL  1975  681  588   83  160         0   93\n",
      "35  NYY     AL  1974  671  623   89  162         0   48\n",
      "36  NYY     AL  1973  641  610   80  162         0   31\n",
      "37  NYY     AL  1971  648  641   81  162         0    7\n",
      "38  NYY     AL  1970  680  612   93  163         0   68\n",
      "39  NYY     AL  1969  562  587   80  162         0  -25\n",
      "40  NYY     AL  1968  536  531   83  164         0    5\n",
      "41  NYY     AL  1967  522  621   72  163         0  -99\n",
      "42  NYY     AL  1966  611  612   70  160         0   -1\n",
      "43  NYY     AL  1965  611  604   77  162         0    7\n",
      "44  NYY     AL  1964  730  577   99  164         1  153\n",
      "45  NYY     AL  1963  714  547  104  161         1  167\n",
      "46  NYY     AL  1962  817  680   96  162         1  137\n"
     ]
    }
   ],
   "source": [
    "yankees_df[\"RD\"] = run_diffs\n",
    "print(yankees_df)"
   ]
  },
  {
   "cell_type": "code",
   "execution_count": 50,
   "id": "9089eb4f-49d9-42ca-a8ae-627f062d64a3",
   "metadata": {},
   "outputs": [
    {
     "name": "stdout",
     "output_type": "stream",
     "text": [
      "Team         0\n",
      "League       0\n",
      "Year         0\n",
      "RS           5\n",
      "RA          12\n",
      "W           14\n",
      "G           40\n",
      "Playoffs     0\n",
      "RD          14\n",
      "dtype: int64\n"
     ]
    }
   ],
   "source": [
    "max_rows = yankees_df.apply(lambda x: x.idxmax())\n",
    "print(max_rows)"
   ]
  },
  {
   "cell_type": "code",
   "execution_count": 53,
   "id": "7f813fce-42c9-4688-bf97-0cd5b4636548",
   "metadata": {},
   "outputs": [
    {
     "name": "stdout",
     "output_type": "stream",
     "text": [
      "    Year   RD\n",
      "14  1998  309\n",
      "1   2011  210\n",
      "15  1997  203\n",
      "10  2002  200\n",
      "5   2007  191\n"
     ]
    }
   ],
   "source": [
    "yankees_df_diff_sorted = yankees_df.sort_values(\"RD\", ascending = False)[[\"Year\", \"RD\"]]\n",
    "print(yankees_df_diff_sorted.head())"
   ]
  },
  {
   "cell_type": "code",
   "execution_count": null,
   "id": "2eaaf373-b6ed-470a-a21d-793d3e3f9cbb",
   "metadata": {},
   "outputs": [],
   "source": []
  }
 ],
 "metadata": {
  "kernelspec": {
   "display_name": "Python 3 (ipykernel)",
   "language": "python",
   "name": "python3"
  },
  "language_info": {
   "codemirror_mode": {
    "name": "ipython",
    "version": 3
   },
   "file_extension": ".py",
   "mimetype": "text/x-python",
   "name": "python",
   "nbconvert_exporter": "python",
   "pygments_lexer": "ipython3",
   "version": "3.13.2"
  }
 },
 "nbformat": 4,
 "nbformat_minor": 5
}
