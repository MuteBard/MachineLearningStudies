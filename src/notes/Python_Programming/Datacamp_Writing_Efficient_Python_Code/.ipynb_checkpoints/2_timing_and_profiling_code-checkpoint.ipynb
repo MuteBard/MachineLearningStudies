{
 "cells": [
  {
   "cell_type": "code",
   "execution_count": 2,
   "metadata": {},
   "outputs": [
    {
     "name": "stdout",
     "output_type": "stream",
     "text": [
      "The slowest run took 106.75 times longer than the fastest. This could mean that an intermediate result is being cached.\n",
      "261 μs ± 256 μs per loop (mean ± std. dev. of 2 runs, 10 loops each)\n",
      "4.849990364164114e-06\n",
      "0.0005177400074899196\n"
     ]
    }
   ],
   "source": [
    "import numpy as np\n",
    "\n",
    "# pip install notebook\n",
    "# jupyter notebook\n",
    "\n",
    "#Set number of runs to 2 (-r2)\n",
    "#Set number of loops to 10 (-n10)\n",
    "#Use -o to permit the expression to become a variable\n",
    "\n",
    "times = %timeit -r2 -n10 -o rand_nums = np.random.rand(1000);\n",
    "\n",
    "print(times.best)\n",
    "print(times.worst)\n"
   ]
  },
  {
   "cell_type": "code",
   "execution_count": 3,
   "metadata": {},
   "outputs": [
    {
     "name": "stdout",
     "output_type": "stream",
     "text": [
      "70 ns ± 30 ns per loop (mean ± std. dev. of 2 runs, 10 loops each)\n",
      "50 ns ± 10 ns per loop (mean ± std. dev. of 2 runs, 10 loops each)\n"
     ]
    }
   ],
   "source": [
    "formal_list = list()\n",
    "formal_dict = dict()\n",
    "formal_tuple = tuple()\n",
    "formal_set = set()\n",
    "\n",
    "literal_list = []\n",
    "literal_dict = {}\n",
    "literal_tuple = ()\n",
    "literal_set = {}\n",
    "\n",
    "%timeit -r2 -n10 fl = list()\n",
    "%timeit -r2 -n10 ll = []"
   ]
  },
  {
   "cell_type": "code",
   "execution_count": 5,
   "metadata": {},
   "outputs": [
    {
     "name": "stdout",
     "output_type": "stream",
     "text": [
      "[0, 1, 2, 3, 4, 5, 6, 7, 8, 9, 10, 11, 12, 13, 14, 15, 16, 17, 18, 19, 20, 21, 22, 23, 24, 25, 26, 27, 28, 29, 30, 31, 32, 33, 34, 35, 36, 37, 38, 39, 40, 41, 42, 43, 44, 45, 46, 47, 48, 49, 50]\n",
      "[0, 1, 2, 3, 4, 5, 6, 7, 8, 9, 10, 11, 12, 13, 14, 15, 16, 17, 18, 19, 20, 21, 22, 23, 24, 25, 26, 27, 28, 29, 30, 31, 32, 33, 34, 35, 36, 37, 38, 39, 40, 41, 42, 43, 44, 45, 46, 47, 48, 49, 50]\n"
     ]
    }
   ],
   "source": [
    "# # Create a list of integers (0-50) using list comprehension\n",
    "nums_list_comp = [num for num in range(51)]\n",
    "print(nums_list_comp)\n",
    "\n",
    "# # Create a list of integers (0-50) by unpacking range\n",
    "nums_unpack = [*range(51)]\n",
    "print(nums_unpack)"
   ]
  },
  {
   "cell_type": "code",
   "execution_count": 6,
   "metadata": {},
   "outputs": [
    {
     "name": "stdout",
     "output_type": "stream",
     "text": [
      "481 ns ± 50.7 ns per loop (mean ± std. dev. of 10 runs, 10 loops each)\n",
      "481 ns ± 50.7 ns per loop (mean ± std. dev. of 10 runs, 10 loops each)\n",
      "186 ns ± 38.5 ns per loop (mean ± std. dev. of 10 runs, 10 loops each)\n",
      "186 ns ± 38.5 ns per loop (mean ± std. dev. of 10 runs, 10 loops each)\n"
     ]
    }
   ],
   "source": [
    "# # Create a list of integers (0-50) using list comprehension\n",
    "nums_list_comp = %timeit -r10 -n10 -o [num for num in range(51)]\n",
    "print(nums_list_comp)\n",
    "\n",
    "# # Create a list of integers (0-50) by unpacking range\n",
    "nums_unpack = %timeit -r10 -n10 -o [*range(51)]\n",
    "print(nums_unpack)\n"
   ]
  },
  {
   "cell_type": "code",
   "execution_count": 8,
   "metadata": {},
   "outputs": [
    {
     "name": "stdout",
     "output_type": "stream",
     "text": [
      "6.34 μs ± 2.07 μs per loop (mean ± std. dev. of 5 runs, 25 loops each)\n"
     ]
    }
   ],
   "source": [
    "import random\n",
    "\n",
    "heros = []\n",
    "for i in range(480):\n",
    "    char1 = chr(65 + random.randint(0, 25)) \n",
    "    char2 = chr(65 + random.randint(0, 25))\n",
    "    heros.append(char1 + char2)\n",
    "\n",
    "%timeit -r5 -n25 set(heros)"
   ]
  },
  {
   "cell_type": "code",
   "execution_count": 9,
   "metadata": {},
   "outputs": [
    {
     "name": "stdout",
     "output_type": "stream",
     "text": [
      "20.5 ns ± 0.938 ns per loop (mean ± std. dev. of 7 runs, 10,000,000 loops each)\n",
      "20.5 ns ± 0.938 ns per loop (mean ± std. dev. of 7 runs, 10,000,000 loops each)\n",
      "11 ns ± 0.0378 ns per loop (mean ± std. dev. of 7 runs, 100,000,000 loops each)\n",
      "11 ns ± 0.0378 ns per loop (mean ± std. dev. of 7 runs, 100,000,000 loops each)\n"
     ]
    }
   ],
   "source": [
    "formal_list = %timeit -o list()\n",
    "print(formal_list)\n",
    "\n",
    "literal_list = %timeit -o  []\n",
    "print(literal_list)\n"
   ]
  },
  {
   "cell_type": "code",
   "execution_count": 3,
   "metadata": {},
   "outputs": [
    {
     "name": "stdout",
     "output_type": "stream",
     "text": [
      "The line_profiler extension is already loaded. To reload it, use:\n",
      "  %reload_ext line_profiler\n"
     ]
    },
    {
     "data": {
      "text/plain": [
       "Timer unit: 1e-07 s\n",
       "\n",
       "Total time: 0.0043678 s\n",
       "File: C:\\Users\\carls\\AppData\\Local\\Temp\\ipykernel_7360\\708947137.py\n",
       "Function: getHeros at line 4\n",
       "\n",
       "Line #      Hits         Time  Per Hit   % Time  Line Contents\n",
       "==============================================================\n",
       "     4                                           def getHeros():\n",
       "     5         1          3.0      3.0      0.0      heros = []\n",
       "     6       481       1337.0      2.8      3.1      for i in range(480):\n",
       "     7       480      20557.0     42.8     47.1          char1 = chr(65 + random.randint(0, 25)) \n",
       "     8       480      20111.0     41.9     46.0          char2 = chr(65 + random.randint(0, 25))\n",
       "     9       480       1664.0      3.5      3.8          heros.append(char1 + char2)\n",
       "    10         1          6.0      6.0      0.0      return heros"
      ]
     },
     "metadata": {},
     "output_type": "display_data"
    }
   ],
   "source": [
    "import random\n",
    "%load_ext line_profiler\n",
    "\n",
    "def getHeros():\n",
    "    heros = []\n",
    "    for i in range(480):\n",
    "        char1 = chr(65 + random.randint(0, 25)) \n",
    "        char2 = chr(65 + random.randint(0, 25))\n",
    "        heros.append(char1 + char2)\n",
    "    return heros\n",
    "\n",
    "%lprun -f getHeros getHeros()"
   ]
  },
  {
   "cell_type": "code",
   "execution_count": 16,
   "metadata": {},
   "outputs": [
    {
     "name": "stdout",
     "output_type": "stream",
     "text": [
      "The line_profiler extension is already loaded. To reload it, use:\n",
      "  %reload_ext line_profiler\n"
     ]
    },
    {
     "data": {
      "text/plain": [
       "Timer unit: 1e-07 s\n",
       "\n",
       "Total time: 0.0096935 s\n",
       "File: C:\\Users\\carls\\AppData\\Local\\Temp\\ipykernel_7360\\676072851.py\n",
       "Function: convert_units at line 24\n",
       "\n",
       "Line #      Hits         Time  Per Hit   % Time  Line Contents\n",
       "==============================================================\n",
       "    24                                           def convert_units(heroes, heights, weights):\n",
       "    25       481      19450.0     40.4     20.1      new_hts = [ht * 0.39370  for ht in heights]\n",
       "    26       481      52611.0    109.4     54.3      new_wts = [wt * 2.20462  for wt in weights]\n",
       "    27                                           \n",
       "    28         1         12.0     12.0      0.0      hero_data = {}\n",
       "    29                                           \n",
       "    30       481      10487.0     21.8     10.8      for i,hero in enumerate(heroes):\n",
       "    31       480      14343.0     29.9     14.8          hero_data[hero] = (new_hts[i], new_wts[i])\n",
       "    32                                           \n",
       "    33         1         32.0     32.0      0.0      return hero_data"
      ]
     },
     "metadata": {},
     "output_type": "display_data"
    }
   ],
   "source": [
    "import random\n",
    "%load_ext line_profiler\n",
    "\n",
    "def getHeros():\n",
    "    heros = []\n",
    "    for i in range(480):\n",
    "        char1 = chr(65 + random.randint(0, 25)) \n",
    "        char2 = chr(65 + random.randint(0, 25))\n",
    "        heros.append(char1 + char2)\n",
    "    return heros\n",
    "    \n",
    "def getWt():\n",
    "    wt = []\n",
    "    for i in range(480):\n",
    "        wt.append(random.randint(0, 250))\n",
    "    return wt\n",
    "    \n",
    "def getHt():\n",
    "    ht = []\n",
    "    for i in range(480):\n",
    "        ht.append(random.randint(0, 250))\n",
    "    return ht\n",
    "\n",
    "def convert_units(heroes, heights, weights):\n",
    "    new_hts = [ht * 0.39370  for ht in heights]\n",
    "    new_wts = [wt * 2.20462  for wt in weights]\n",
    "\n",
    "    hero_data = {}\n",
    "\n",
    "    for i,hero in enumerate(heroes):\n",
    "        hero_data[hero] = (new_hts[i], new_wts[i])\n",
    "\n",
    "    return hero_data\n",
    "\n",
    "heroes = np.array(getHeros())\n",
    "weights = np.array(getWt())\n",
    "heights = np.array(getHt())\n",
    "\n",
    "\n",
    "%lprun -f convert_units convert_units(heroes, heights, weights)"
   ]
  },
  {
   "cell_type": "code",
   "execution_count": 5,
   "metadata": {},
   "outputs": [
    {
     "name": "stdout",
     "output_type": "stream",
     "text": [
      "The line_profiler extension is already loaded. To reload it, use:\n",
      "  %reload_ext line_profiler\n"
     ]
    },
    {
     "data": {
      "text/plain": [
       "Timer unit: 1e-07 s\n",
       "\n",
       "Total time: 0.0003521 s\n",
       "File: C:\\Users\\carls\\AppData\\Local\\Temp\\ipykernel_17292\\408051103.py\n",
       "Function: convert_units_broadcast at line 25\n",
       "\n",
       "Line #      Hits         Time  Per Hit   % Time  Line Contents\n",
       "==============================================================\n",
       "    25                                           def convert_units_broadcast(heroes, heights, weights):\n",
       "    26                                           \n",
       "    27                                               # Array broadcasting instead of list comprehension\n",
       "    28         1        295.0    295.0      8.4      new_hts = heights * 0.39370\n",
       "    29         1         26.0     26.0      0.7      new_wts = weights * 2.20462\n",
       "    30                                           \n",
       "    31         1          2.0      2.0      0.1      hero_data = {}\n",
       "    32                                           \n",
       "    33       481       1610.0      3.3     45.7      for i,hero in enumerate(heroes):\n",
       "    34       480       1582.0      3.3     44.9          hero_data[hero] = (new_hts[i], new_wts[i])\n",
       "    35                                           \n",
       "    36         1          6.0      6.0      0.2      return hero_data"
      ]
     },
     "metadata": {},
     "output_type": "display_data"
    }
   ],
   "source": [
    "import random\n",
    "import numpy as np\n",
    "%load_ext line_profiler\n",
    "\n",
    "def getHeros():\n",
    "    heros = []\n",
    "    for i in range(480):\n",
    "        char1 = chr(65 + random.randint(0, 25)) \n",
    "        char2 = chr(65 + random.randint(0, 25))\n",
    "        heros.append(char1 + char2)\n",
    "    return heros\n",
    "    \n",
    "def getWt():\n",
    "    wt = []\n",
    "    for i in range(480):\n",
    "        wt.append(random.randint(0, 250))\n",
    "    return wt\n",
    "    \n",
    "def getHt():\n",
    "    ht = []\n",
    "    for i in range(480):\n",
    "        ht.append(random.randint(0, 250))\n",
    "    return ht\n",
    "\n",
    "def convert_units_broadcast(heroes, heights, weights):\n",
    "\n",
    "    # Array broadcasting instead of list comprehension\n",
    "    new_hts = heights * 0.39370\n",
    "    new_wts = weights * 2.20462\n",
    "\n",
    "    hero_data = {}\n",
    "\n",
    "    for i,hero in enumerate(heroes):\n",
    "        hero_data[hero] = (new_hts[i], new_wts[i])\n",
    "\n",
    "    return hero_data\n",
    "\n",
    "heroes = np.array(getHeros())\n",
    "weights = np.array(getWt())\n",
    "heights = np.array(getHt())\n",
    "\n",
    "\n",
    "%lprun -f convert_units_broadcast convert_units_broadcast(heroes, heights, weights)"
   ]
  },
  {
   "cell_type": "code",
   "execution_count": 10,
   "metadata": {
    "scrolled": true
   },
   "outputs": [
    {
     "name": "stdout",
     "output_type": "stream",
     "text": [
      "\n"
     ]
    },
    {
     "data": {
      "text/plain": [
       "Filename: C:\\Users\\carls\\Desktop\\dev\\cssstudies\\ML\\src\\notes\\Python_Programming\\Datacamp_Writing_Efficient_Python_Code\\functionExports.py\n",
       "\n",
       "Line #    Mem usage    Increment  Occurrences   Line Contents\n",
       "=============================================================\n",
       "     2     79.9 MiB     79.9 MiB           1   def get_heros():\n",
       "     3     79.9 MiB      0.0 MiB           1       heros = []\n",
       "     4     79.9 MiB      0.0 MiB         481       for _ in range(480):\n",
       "     5     79.9 MiB      0.0 MiB         480           char1 = chr(65 + random.randint(0, 25))\n",
       "     6     79.9 MiB      0.0 MiB         480           char2 = chr(65 + random.randint(0, 25))\n",
       "     7     79.9 MiB      0.0 MiB         480           heros.append(char1 + char2)\n",
       "     8     79.9 MiB      0.0 MiB           1       return heros"
      ]
     },
     "metadata": {},
     "output_type": "display_data"
    }
   ],
   "source": [
    "from functionExports import get_heros\n",
    "%load_ext memory_profiler\n",
    "\n",
    "%mprun -f get_heros get_heros()"
   ]
  },
  {
   "cell_type": "code",
   "execution_count": null,
   "metadata": {},
   "outputs": [],
   "source": []
  }
 ],
 "metadata": {
  "kernelspec": {
   "display_name": "Python 3 (ipykernel)",
   "language": "python",
   "name": "python3"
  },
  "language_info": {
   "codemirror_mode": {
    "name": "ipython",
    "version": 3
   },
   "file_extension": ".py",
   "mimetype": "text/x-python",
   "name": "python",
   "nbconvert_exporter": "python",
   "pygments_lexer": "ipython3",
   "version": "3.13.2"
  }
 },
 "nbformat": 4,
 "nbformat_minor": 4
}
