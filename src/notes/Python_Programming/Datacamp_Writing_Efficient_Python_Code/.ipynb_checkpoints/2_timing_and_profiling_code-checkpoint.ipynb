{
 "cells": [
  {
   "cell_type": "code",
   "execution_count": 3,
   "metadata": {},
   "outputs": [
    {
     "name": "stdout",
     "output_type": "stream",
     "text": [
      "The slowest run took 147.02 times longer than the fastest. This could mean that an intermediate result is being cached.\n",
      "286 μs ± 283 μs per loop (mean ± std. dev. of 2 runs, 10 loops each)\n"
     ]
    }
   ],
   "source": [
    "import numpy as np\n",
    "\n",
    "# pip install notebook\n",
    "# jupyter notebook\n",
    "\n",
    "#Set number of runs to 2 (-r2)\n",
    "#Set number of loops to 10 (-n10)\n",
    "#Use -o to permit the expression to become a variable\n",
    "\n",
    "times = %timeit -r2 -n10 -o rand_nums = np.random.rand(1000);\n",
    "\n",
    "# print(times.best)\n",
    "# print(times.worst)\n"
   ]
  },
  {
   "cell_type": "code",
   "execution_count": 4,
   "metadata": {},
   "outputs": [
    {
     "name": "stdout",
     "output_type": "stream",
     "text": [
      "110 ns ± 40 ns per loop (mean ± std. dev. of 2 runs, 10 loops each)\n",
      "55 ns ± 15 ns per loop (mean ± std. dev. of 2 runs, 10 loops each)\n"
     ]
    }
   ],
   "source": [
    "formal_list = list()\n",
    "formal_dict = dict()\n",
    "formal_tuple = tuple()\n",
    "formal_set = set()\n",
    "\n",
    "literal_list = []\n",
    "literal_dict = {}\n",
    "literal_tuple = ()\n",
    "literal_set = {}\n",
    "\n",
    "%timeit -r2 -n10 fl = list()\n",
    "%timeit -r2 -n10 ll = []"
   ]
  },
  {
   "cell_type": "code",
   "execution_count": 5,
   "metadata": {},
   "outputs": [
    {
     "name": "stdout",
     "output_type": "stream",
     "text": [
      "[0, 1, 2, 3, 4, 5, 6, 7, 8, 9, 10, 11, 12, 13, 14, 15, 16, 17, 18, 19, 20, 21, 22, 23, 24, 25, 26, 27, 28, 29, 30, 31, 32, 33, 34, 35, 36, 37, 38, 39, 40, 41, 42, 43, 44, 45, 46, 47, 48, 49, 50]\n",
      "[0, 1, 2, 3, 4, 5, 6, 7, 8, 9, 10, 11, 12, 13, 14, 15, 16, 17, 18, 19, 20, 21, 22, 23, 24, 25, 26, 27, 28, 29, 30, 31, 32, 33, 34, 35, 36, 37, 38, 39, 40, 41, 42, 43, 44, 45, 46, 47, 48, 49, 50]\n"
     ]
    }
   ],
   "source": [
    "# # Create a list of integers (0-50) using list comprehension\n",
    "nums_list_comp = [num for num in range(51)]\n",
    "print(nums_list_comp)\n",
    "\n",
    "# # Create a list of integers (0-50) by unpacking range\n",
    "nums_unpack = [*range(51)]\n",
    "print(nums_unpack)"
   ]
  },
  {
   "cell_type": "code",
   "execution_count": 6,
   "metadata": {},
   "outputs": [
    {
     "name": "stdout",
     "output_type": "stream",
     "text": [
      "481 ns ± 50.7 ns per loop (mean ± std. dev. of 10 runs, 10 loops each)\n",
      "481 ns ± 50.7 ns per loop (mean ± std. dev. of 10 runs, 10 loops each)\n",
      "186 ns ± 38.5 ns per loop (mean ± std. dev. of 10 runs, 10 loops each)\n",
      "186 ns ± 38.5 ns per loop (mean ± std. dev. of 10 runs, 10 loops each)\n"
     ]
    }
   ],
   "source": [
    "# # Create a list of integers (0-50) using list comprehension\n",
    "nums_list_comp = %timeit -r10 -n10 -o [num for num in range(51)]\n",
    "print(nums_list_comp)\n",
    "\n",
    "# # Create a list of integers (0-50) by unpacking range\n",
    "nums_unpack = %timeit -r10 -n10 -o [*range(51)]\n",
    "print(nums_unpack)\n"
   ]
  },
  {
   "cell_type": "code",
   "execution_count": 8,
   "metadata": {},
   "outputs": [
    {
     "name": "stdout",
     "output_type": "stream",
     "text": [
      "6.34 μs ± 2.07 μs per loop (mean ± std. dev. of 5 runs, 25 loops each)\n"
     ]
    }
   ],
   "source": [
    "import random\n",
    "\n",
    "heros = []\n",
    "for i in range(480):\n",
    "    char1 = chr(65 + random.randint(0, 25)) \n",
    "    char2 = chr(65 + random.randint(0, 25))\n",
    "    heros.append(char1 + char2)\n",
    "\n",
    "%timeit -r5 -n25 set(heros)"
   ]
  },
  {
   "cell_type": "code",
   "execution_count": 9,
   "metadata": {},
   "outputs": [
    {
     "name": "stdout",
     "output_type": "stream",
     "text": [
      "20.5 ns ± 0.938 ns per loop (mean ± std. dev. of 7 runs, 10,000,000 loops each)\n",
      "20.5 ns ± 0.938 ns per loop (mean ± std. dev. of 7 runs, 10,000,000 loops each)\n",
      "11 ns ± 0.0378 ns per loop (mean ± std. dev. of 7 runs, 100,000,000 loops each)\n",
      "11 ns ± 0.0378 ns per loop (mean ± std. dev. of 7 runs, 100,000,000 loops each)\n"
     ]
    }
   ],
   "source": [
    "formal_list = %timeit -o list()\n",
    "print(formal_list)\n",
    "\n",
    "literal_list = %timeit -o  []\n",
    "print(literal_list)\n"
   ]
  },
  {
   "cell_type": "code",
   "execution_count": 15,
   "metadata": {},
   "outputs": [
    {
     "name": "stdout",
     "output_type": "stream",
     "text": [
      "The line_profiler extension is already loaded. To reload it, use:\n",
      "  %reload_ext line_profiler\n"
     ]
    },
    {
     "data": {
      "text/plain": [
       "Timer unit: 1e-07 s\n",
       "\n",
       "Total time: 0.0030239 s\n",
       "File: C:\\Users\\carls\\AppData\\Local\\Temp\\ipykernel_23012\\2767735706.py\n",
       "Function: getHeros at line 3\n",
       "\n",
       "Line #      Hits         Time  Per Hit   % Time  Line Contents\n",
       "==============================================================\n",
       "     3                                           def getHeros():\n",
       "     4         1          4.0      4.0      0.0      heros = []\n",
       "     5       481        965.0      2.0      3.2      for i in range(480):\n",
       "     6       480      14524.0     30.3     48.0          char1 = chr(65 + random.randint(0, 25)) \n",
       "     7       480      13477.0     28.1     44.6          char2 = chr(65 + random.randint(0, 25))\n",
       "     8       480       1266.0      2.6      4.2          heros.append(char1 + char2)\n",
       "     9         1          3.0      3.0      0.0      return heros"
      ]
     },
     "metadata": {},
     "output_type": "display_data"
    }
   ],
   "source": [
    "%load_ext line_profiler\n",
    "\n",
    "def getHeros():\n",
    "    heros = []\n",
    "    for i in range(480):\n",
    "        char1 = chr(65 + random.randint(0, 25)) \n",
    "        char2 = chr(65 + random.randint(0, 25))\n",
    "        heros.append(char1 + char2)\n",
    "    return heros\n",
    "\n",
    "%lprun -f getHeros getHeros()"
   ]
  },
  {
   "cell_type": "code",
   "execution_count": null,
   "metadata": {},
   "outputs": [],
   "source": []
  }
 ],
 "metadata": {
  "kernelspec": {
   "display_name": "Python 3 (ipykernel)",
   "language": "python",
   "name": "python3"
  },
  "language_info": {
   "codemirror_mode": {
    "name": "ipython",
    "version": 3
   },
   "file_extension": ".py",
   "mimetype": "text/x-python",
   "name": "python",
   "nbconvert_exporter": "python",
   "pygments_lexer": "ipython3",
   "version": "3.13.2"
  }
 },
 "nbformat": 4,
 "nbformat_minor": 4
}
