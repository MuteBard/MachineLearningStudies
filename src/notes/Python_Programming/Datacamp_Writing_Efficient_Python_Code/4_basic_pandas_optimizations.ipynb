{
 "cells": [
  {
   "cell_type": "code",
   "execution_count": 4,
   "id": "ce6b0b6c-8771-45ac-b6f2-e1485497d5e9",
   "metadata": {},
   "outputs": [],
   "source": [
    "# Prerequisites: Pandas Unit (Pandas_Foundations)"
   ]
  },
  {
   "cell_type": "code",
   "execution_count": 3,
   "id": "f469745f-6e62-407a-a1fb-65da89f711ac",
   "metadata": {},
   "outputs": [
    {
     "name": "stdout",
     "output_type": "stream",
     "text": [
      "  Team League  Year   RS   RA   W    G  Playoffs\n",
      "0  PIT     NL  2012  651  674  79  162         0\n",
      "1  PIT     NL  2011  610  712  72  162         0\n",
      "2  PIT     NL  2010  587  866  57  162         0\n",
      "3  PIT     NL  2009  636  768  62  161         0\n",
      "4  PIT     NL  2008  735  884  67  162         0\n"
     ]
    }
   ],
   "source": [
    "import pandas as pd\n",
    "fileName = \"./csvs/pit.csv\"\n",
    "pit_df = pd.read_csv(fileName)\n",
    "\n",
    "print(pit_df)"
   ]
  },
  {
   "cell_type": "code",
   "execution_count": 6,
   "id": "9ca978e3-53fd-4996-8f5d-61281f909459",
   "metadata": {},
   "outputs": [
    {
     "name": "stdout",
     "output_type": "stream",
     "text": [
      "Team         PIT\n",
      "League        NL\n",
      "Year        2012\n",
      "RS           651\n",
      "RA           674\n",
      "W             79\n",
      "G            162\n",
      "Playoffs       0\n",
      "Name: 0, dtype: object\n",
      "Team         PIT\n",
      "League        NL\n",
      "Year        2011\n",
      "RS           610\n",
      "RA           712\n",
      "W             72\n",
      "G            162\n",
      "Playoffs       0\n",
      "Name: 1, dtype: object\n",
      "Team         PIT\n",
      "League        NL\n",
      "Year        2010\n",
      "RS           587\n",
      "RA           866\n",
      "W             57\n",
      "G            162\n",
      "Playoffs       0\n",
      "Name: 2, dtype: object\n",
      "Team         PIT\n",
      "League        NL\n",
      "Year        2009\n",
      "RS           636\n",
      "RA           768\n",
      "W             62\n",
      "G            161\n",
      "Playoffs       0\n",
      "Name: 3, dtype: object\n",
      "Team         PIT\n",
      "League        NL\n",
      "Year        2008\n",
      "RS           735\n",
      "RA           884\n",
      "W             67\n",
      "G            162\n",
      "Playoffs       0\n",
      "Name: 4, dtype: object\n"
     ]
    }
   ],
   "source": [
    "# # Iterate over pit_df and print each row\n",
    "for i, row in pit_df.iterrows():\n",
    "    print(row)"
   ]
  },
  {
   "cell_type": "code",
   "execution_count": 7,
   "id": "fbbb6b7b-65ed-440e-b183-50d9f4f484ab",
   "metadata": {},
   "outputs": [
    {
     "name": "stdout",
     "output_type": "stream",
     "text": [
      "0\n",
      "Team         PIT\n",
      "League        NL\n",
      "Year        2012\n",
      "RS           651\n",
      "RA           674\n",
      "W             79\n",
      "G            162\n",
      "Playoffs       0\n",
      "Name: 0, dtype: object\n",
      "<class 'pandas.core.series.Series'>\n",
      "1\n",
      "Team         PIT\n",
      "League        NL\n",
      "Year        2011\n",
      "RS           610\n",
      "RA           712\n",
      "W             72\n",
      "G            162\n",
      "Playoffs       0\n",
      "Name: 1, dtype: object\n",
      "<class 'pandas.core.series.Series'>\n",
      "2\n",
      "Team         PIT\n",
      "League        NL\n",
      "Year        2010\n",
      "RS           587\n",
      "RA           866\n",
      "W             57\n",
      "G            162\n",
      "Playoffs       0\n",
      "Name: 2, dtype: object\n",
      "<class 'pandas.core.series.Series'>\n",
      "3\n",
      "Team         PIT\n",
      "League        NL\n",
      "Year        2009\n",
      "RS           636\n",
      "RA           768\n",
      "W             62\n",
      "G            161\n",
      "Playoffs       0\n",
      "Name: 3, dtype: object\n",
      "<class 'pandas.core.series.Series'>\n",
      "4\n",
      "Team         PIT\n",
      "League        NL\n",
      "Year        2008\n",
      "RS           735\n",
      "RA           884\n",
      "W             67\n",
      "G            162\n",
      "Playoffs       0\n",
      "Name: 4, dtype: object\n",
      "<class 'pandas.core.series.Series'>\n"
     ]
    }
   ],
   "source": [
    "# Iterate over pit_df and print each index variable, row, and row type\n",
    "for i, row in pit_df.iterrows():\n",
    "    print(i)\n",
    "    print(row)\n",
    "    print(type(row))"
   ]
  },
  {
   "cell_type": "code",
   "execution_count": 9,
   "id": "369f501c-7525-4ff2-9bc4-b76d427ce09e",
   "metadata": {},
   "outputs": [
    {
     "name": "stdout",
     "output_type": "stream",
     "text": [
      "(0, Team         PIT\n",
      "League        NL\n",
      "Year        2012\n",
      "RS           651\n",
      "RA           674\n",
      "W             79\n",
      "G            162\n",
      "Playoffs       0\n",
      "Name: 0, dtype: object)\n",
      "(1, Team         PIT\n",
      "League        NL\n",
      "Year        2011\n",
      "RS           610\n",
      "RA           712\n",
      "W             72\n",
      "G            162\n",
      "Playoffs       0\n",
      "Name: 1, dtype: object)\n",
      "(2, Team         PIT\n",
      "League        NL\n",
      "Year        2010\n",
      "RS           587\n",
      "RA           866\n",
      "W             57\n",
      "G            162\n",
      "Playoffs       0\n",
      "Name: 2, dtype: object)\n",
      "(3, Team         PIT\n",
      "League        NL\n",
      "Year        2009\n",
      "RS           636\n",
      "RA           768\n",
      "W             62\n",
      "G            161\n",
      "Playoffs       0\n",
      "Name: 3, dtype: object)\n",
      "(4, Team         PIT\n",
      "League        NL\n",
      "Year        2008\n",
      "RS           735\n",
      "RA           884\n",
      "W             67\n",
      "G            162\n",
      "Playoffs       0\n",
      "Name: 4, dtype: object)\n"
     ]
    }
   ],
   "source": [
    "# Use one variable instead of two to store the result of .iterrows()\n",
    "for row_tuple in pit_df.iterrows():\n",
    "    print(row_tuple)"
   ]
  },
  {
   "cell_type": "code",
   "execution_count": 11,
   "id": "82e73637-287e-4415-b760-8740495da3b9",
   "metadata": {},
   "outputs": [
    {
     "name": "stdout",
     "output_type": "stream",
     "text": [
      "(0, Team         PIT\n",
      "League        NL\n",
      "Year        2012\n",
      "RS           651\n",
      "RA           674\n",
      "W             79\n",
      "G            162\n",
      "Playoffs       0\n",
      "Name: 0, dtype: object)\n",
      "<class 'tuple'>\n",
      "(1, Team         PIT\n",
      "League        NL\n",
      "Year        2011\n",
      "RS           610\n",
      "RA           712\n",
      "W             72\n",
      "G            162\n",
      "Playoffs       0\n",
      "Name: 1, dtype: object)\n",
      "<class 'tuple'>\n",
      "(2, Team         PIT\n",
      "League        NL\n",
      "Year        2010\n",
      "RS           587\n",
      "RA           866\n",
      "W             57\n",
      "G            162\n",
      "Playoffs       0\n",
      "Name: 2, dtype: object)\n",
      "<class 'tuple'>\n",
      "(3, Team         PIT\n",
      "League        NL\n",
      "Year        2009\n",
      "RS           636\n",
      "RA           768\n",
      "W             62\n",
      "G            161\n",
      "Playoffs       0\n",
      "Name: 3, dtype: object)\n",
      "<class 'tuple'>\n",
      "(4, Team         PIT\n",
      "League        NL\n",
      "Year        2008\n",
      "RS           735\n",
      "RA           884\n",
      "W             67\n",
      "G            162\n",
      "Playoffs       0\n",
      "Name: 4, dtype: object)\n",
      "<class 'tuple'>\n"
     ]
    }
   ],
   "source": [
    "# Print the row and type of each row\n",
    "for row_tuple in pit_df.iterrows():\n",
    "    print(row_tuple)\n",
    "    print(type(row_tuple))"
   ]
  },
  {
   "cell_type": "code",
   "execution_count": 12,
   "id": "bbe7c1b0-20e1-4581-a990-dcbe6650c003",
   "metadata": {},
   "outputs": [
    {
     "name": "stdout",
     "output_type": "stream",
     "text": [
      "  Team League  Year   RS   RA   W    G  Playoffs\n",
      "0  SFG     NL  2012  718  649  94  162         1\n",
      "1  SFG     NL  2011  570  578  86  162         0\n",
      "2  SFG     NL  2010  697  583  92  162         1\n",
      "3  SFG     NL  2009  657  611  88  162         0\n",
      "4  SFG     NL  2008  640  759  72  162         0\n"
     ]
    }
   ],
   "source": [
    "import pandas as pd\n",
    "fileName = \"./csvs/giants.csv\"\n",
    "giants_df = pd.read_csv(fileName)\n",
    "\n",
    "print(giants_df)"
   ]
  },
  {
   "cell_type": "code",
   "execution_count": 15,
   "id": "7fd584fa-b88f-483c-bf73-9ec0a2cd01cd",
   "metadata": {},
   "outputs": [],
   "source": [
    "def calc_run_diff(runs_scored, runs_allowed):\n",
    "    run_diff = runs_scored - runs_allowed\n",
    "    return run_diff"
   ]
  },
  {
   "cell_type": "code",
   "execution_count": 13,
   "id": "6edae90a-b246-406c-a70a-f2a2de9d704a",
   "metadata": {},
   "outputs": [],
   "source": [
    "# Create an empty list to store run differentials\n",
    "run_diffs = []"
   ]
  },
  {
   "cell_type": "code",
   "execution_count": 16,
   "id": "e1887ffc-6f93-43e2-88a8-55e8669b928e",
   "metadata": {},
   "outputs": [
    {
     "name": "stdout",
     "output_type": "stream",
     "text": [
      "  Team League  Year   RS   RA   W    G  Playoffs   RD\n",
      "0  SFG     NL  2012  718  649  94  162         1   69\n",
      "1  SFG     NL  2011  570  578  86  162         0   -8\n",
      "2  SFG     NL  2010  697  583  92  162         1  114\n",
      "3  SFG     NL  2009  657  611  88  162         0   46\n",
      "4  SFG     NL  2008  640  759  72  162         0 -119\n"
     ]
    }
   ],
   "source": [
    "# Write a for loop and collect runs allowed and runs scored for each row\n",
    "for i, row in giants_df.iterrows():\n",
    "    runs_scored = row[\"RS\"]\n",
    "    runs_allowed = row[\"RA\"]\n",
    "\n",
    "    run_diff = calc_run_diff(runs_scored, runs_allowed)\n",
    "\n",
    "    run_diffs.append(run_diff)\n",
    "\n",
    "giants_df[\"RD\"] = run_diffs\n",
    "print(giants_df)\n",
    "    "
   ]
  },
  {
   "cell_type": "code",
   "execution_count": 23,
   "id": "a921a0d0-e3e4-43aa-9ab5-6f316f648fcf",
   "metadata": {},
   "outputs": [
    {
     "name": "stdout",
     "output_type": "stream",
     "text": [
      "  Team League  Year   RS   RA   W    G  Playoffs   RD\n",
      "0  SFG     NL  2012  718  649  94  162         1   69\n",
      "1  SFG     NL  2011  570  578  86  162         0   -8\n",
      "2  SFG     NL  2010  697  583  92  162         1  114\n",
      "3  SFG     NL  2009  657  611  88  162         0   46\n",
      "4  SFG     NL  2008  640  759  72  162         0 -119\n"
     ]
    }
   ],
   "source": [
    "giants_df[\"RD\"] = giants_df[\"RS\"] - giants_df[\"RA\"] \n",
    "print(giants_df)"
   ]
  },
  {
   "cell_type": "code",
   "execution_count": 21,
   "id": "4b04034a-a565-4cf7-8fcd-36990e598e50",
   "metadata": {},
   "outputs": [],
   "source": [
    "# Why did we just do that if the second is far more efficient?\n",
    "# Sabi: The first approach is only useful if calc_run_diff() is doing something more complex than simple subtraction. \n",
    "# Otherwise, stick with the second approach! "
   ]
  },
  {
   "cell_type": "code",
   "execution_count": 56,
   "id": "7531a9a9-1370-421b-a1f4-78740647d876",
   "metadata": {},
   "outputs": [
    {
     "name": "stdout",
     "output_type": "stream",
     "text": [
      "102 ns ± 0.897 ns per loop (mean ± std. dev. of 7 runs, 10,000,000 loops each)\n"
     ]
    }
   ],
   "source": [
    "%%timeit\n",
    "import pandas as pd\n",
    "\n",
    "run_diffs = []\n",
    "def setDF():\n",
    "    for i, row in giants_df.iterrows():\n",
    "        runs_scored = row[\"RS\"]\n",
    "        runs_allowed = row[\"RA\"]\n",
    "        run_diff = calc_run_diff(runs_scored, runs_allowed)\n",
    "        run_diffs.append(run_diff)\n",
    "    \n",
    "    giants_df[\"RD\"] = run_diffs\n"
   ]
  },
  {
   "cell_type": "code",
   "execution_count": 55,
   "id": "c557e09a-c85d-4dd9-9e3f-b7c353f0ac8b",
   "metadata": {},
   "outputs": [
    {
     "name": "stdout",
     "output_type": "stream",
     "text": [
      "55.2 μs ± 473 ns per loop (mean ± std. dev. of 7 runs, 10,000 loops each)\n"
     ]
    }
   ],
   "source": [
    "%%timeit\n",
    "giants_df[\"RD\"] = giants_df[\"RS\"] - giants_df[\"RA\"] "
   ]
  },
  {
   "cell_type": "code",
   "execution_count": 57,
   "id": "3db283c8-43c8-42e8-9cab-6673c2722c8c",
   "metadata": {},
   "outputs": [],
   "source": [
    "#The second approach is insanely better...\n",
    "# https://www.youtube.com/watch?v=6M-NkQAo-3E"
   ]
  },
  {
   "cell_type": "code",
   "execution_count": null,
   "id": "3dbc4291-cbd9-4bff-a154-76d62e30b1c0",
   "metadata": {},
   "outputs": [],
   "source": [
    "for rt in df.intertuples():\n",
    "    print(df.RD) #Square bracket notation does not work"
   ]
  },
  {
   "cell_type": "code",
   "execution_count": null,
   "id": "1ef9aea6-e2a5-4c12-ac41-6cbd3538c1a6",
   "metadata": {},
   "outputs": [],
   "source": []
  }
 ],
 "metadata": {
  "kernelspec": {
   "display_name": "Python 3 (ipykernel)",
   "language": "python",
   "name": "python3"
  },
  "language_info": {
   "codemirror_mode": {
    "name": "ipython",
    "version": 3
   },
   "file_extension": ".py",
   "mimetype": "text/x-python",
   "name": "python",
   "nbconvert_exporter": "python",
   "pygments_lexer": "ipython3",
   "version": "3.13.2"
  }
 },
 "nbformat": 4,
 "nbformat_minor": 5
}
