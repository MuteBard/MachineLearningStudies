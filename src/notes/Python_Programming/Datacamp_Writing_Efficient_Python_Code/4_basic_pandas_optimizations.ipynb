{
 "cells": [
  {
   "cell_type": "code",
   "execution_count": null,
   "id": "ce6b0b6c-8771-45ac-b6f2-e1485497d5e9",
   "metadata": {},
   "outputs": [],
   "source": [
    "# Prerequisites: Pandas Unit"
   ]
  }
 ],
 "metadata": {
  "kernelspec": {
   "display_name": "Python 3 (ipykernel)",
   "language": "python",
   "name": "python3"
  },
  "language_info": {
   "codemirror_mode": {
    "name": "ipython",
    "version": 3
   },
   "file_extension": ".py",
   "mimetype": "text/x-python",
   "name": "python",
   "nbconvert_exporter": "python",
   "pygments_lexer": "ipython3",
   "version": "3.13.2"
  }
 },
 "nbformat": 4,
 "nbformat_minor": 5
}
