{
 "cells": [
  {
   "cell_type": "code",
   "execution_count": null,
   "id": "f0b54431-54c1-409c-86e8-e169d9d5ff4a",
   "metadata": {},
   "outputs": [],
   "source": [
    "##### CLASS LEVEL ATTRIBUTES #####"
   ]
  },
  {
   "cell_type": "code",
   "execution_count": null,
   "id": "0ffe6d17-ffd4-4560-8ceb-0134dd164c96",
   "metadata": {},
   "outputs": [],
   "source": [
    "from datetime import datetime\n",
    "\n",
    "class Employee:\n",
    "    \n",
    "    def __init__(self, name, salary=0):\n",
    "        self.name = name\n",
    "        if (salary < 0):\n",
    "            print (\"Invalid salary!\")\n",
    "            salary = 0\n",
    "        self.salary = salary \n",
    "        self.hire_date = datetime.today()\n",
    "        "
   ]
  },
  {
   "cell_type": "code",
   "execution_count": null,
   "id": "55ac199a-53d4-4303-872c-f72485e2f965",
   "metadata": {},
   "outputs": [],
   "source": [
    "# name and salary are instance attributes, self binds to an instance"
   ]
  },
  {
   "cell_type": "code",
   "execution_count": null,
   "id": "fc64a792-25cf-4cd9-90fc-0b91e5811707",
   "metadata": {},
   "outputs": [],
   "source": [
    "# Data that is shared among all instances of a class is class level data"
   ]
  },
  {
   "cell_type": "code",
   "execution_count": null,
   "id": "e6c084a5-3d55-4ecc-833f-29c62e1e0edf",
   "metadata": {},
   "outputs": [],
   "source": [
    "class Employee:\n",
    "\n",
    "    MIN_SALARY = 30000\n",
    "    \n",
    "    def __init__(self, name, salary=0):\n",
    "        self.name = name\n",
    "        if (salary < 0):\n",
    "            print (\"Invalid salary!\")\n",
    "            salary = 0\n",
    "        self.salary = salary \n",
    "        self.hire_date = datetime.today()\n",
    "        "
   ]
  },
  {
   "cell_type": "code",
   "execution_count": null,
   "id": "652039d9-ff52-4517-9793-c30060ad9b70",
   "metadata": {},
   "outputs": [],
   "source": [
    "#MIN_SALARY is shared among all instances"
   ]
  },
  {
   "cell_type": "code",
   "execution_count": null,
   "id": "d6bc02c7-ea84-4ba8-a207-dbed5511e219",
   "metadata": {},
   "outputs": [],
   "source": [
    "# For methods, it is possible to define methods bound to a class rather than in instance, but they habe a narrow application scope\n",
    "# because these methods will not be able to use any instance level data"
   ]
  },
  {
   "cell_type": "code",
   "execution_count": null,
   "id": "49b4198c-0602-41f5-9881-10c1576ca579",
   "metadata": {},
   "outputs": [],
   "source": [
    "class Employee:\n",
    "\n",
    "    MIN_SALARY = 30000\n",
    "    \n",
    "    def __init__(self, name, salary=0):\n",
    "        self.name = name\n",
    "        if (salary < 0):\n",
    "            print (\"Invalid salary!\")\n",
    "            salary = 0\n",
    "        self.salary = salary \n",
    "        self.hire_date = datetime.today()\n",
    "\n",
    "    @classmethod\n",
    "    def from_file(cls, filename):\n",
    "        with open(filename, r) as f:\n",
    "            name = f.readline()\n",
    "        return cls(name) #will call __init__"
   ]
  },
  {
   "cell_type": "code",
   "execution_count": null,
   "id": "cc04d8e1-173a-4768-bdf7-7598044161e2",
   "metadata": {},
   "outputs": [],
   "source": [
    "# Why do we care about class methods? They serve as alertnative contructors"
   ]
  },
  {
   "cell_type": "code",
   "execution_count": null,
   "id": "912accf7-f287-4e31-9680-6ce527fa1dff",
   "metadata": {},
   "outputs": [],
   "source": [
    "emp = Employee.from_file(\"employee.txt\")"
   ]
  },
  {
   "cell_type": "code",
   "execution_count": null,
   "id": "7cbba130-67dc-4fac-9b2f-ad54d5b1da69",
   "metadata": {},
   "outputs": [],
   "source": [
    "#### Practice ####"
   ]
  },
  {
   "cell_type": "code",
   "execution_count": null,
   "id": "337bdcdf-d7ab-4199-820a-893c3ef1429a",
   "metadata": {},
   "outputs": [],
   "source": [
    "#### Class-level attributes #### "
   ]
  },
  {
   "cell_type": "code",
   "execution_count": 2,
   "id": "c192a5a6-4b79-488a-9be8-f45a41b33553",
   "metadata": {},
   "outputs": [
    {
     "name": "stdout",
     "output_type": "stream",
     "text": [
      "10\n",
      "10\n"
     ]
    }
   ],
   "source": [
    "# Create a Player class\n",
    "class Player:\n",
    "    MAX_POSITION = 10\n",
    "    def __init__(self):\n",
    "        self.position = 0\n",
    "\n",
    "\n",
    "# Print Player.MAX_POSITION       \n",
    "print(Player.MAX_POSITION)\n",
    "\n",
    "# Create a player p and print its MAX_POSITITON\n",
    "p = Player()\n",
    "print(p.MAX_POSITION)"
   ]
  },
  {
   "cell_type": "code",
   "execution_count": 5,
   "id": "2ed8b772-2ce2-403c-9274-172dd9ff3d57",
   "metadata": {},
   "outputs": [
    {
     "name": "stdout",
     "output_type": "stream",
     "text": [
      "|----------\n",
      "----|------\n",
      "---------|-\n",
      "----------|\n"
     ]
    }
   ],
   "source": [
    "class Player:\n",
    "    MAX_POSITION = 10\n",
    "    MAX_SPEED = 3\n",
    "    \n",
    "    def __init__(self):\n",
    "        self.position = 0\n",
    "\n",
    "    # Add a move() method with steps parameter\n",
    "    def move(self, steps):\n",
    "        updated_position = self.position + steps\n",
    "        updated_position = updated_position if updated_position < Player.MAX_POSITION else Player.MAX_POSITION \n",
    "        self.position = updated_position\n",
    "    \n",
    "    # This method provides a rudimentary visualization in the console    \n",
    "    def draw(self):\n",
    "        drawing = \"-\" * self.position + \"|\" +\"-\"*(Player.MAX_POSITION - self.position)\n",
    "        print(drawing)\n",
    "\n",
    "p = Player(); p.draw()\n",
    "p.move(4); p.draw()\n",
    "p.move(5); p.draw()\n",
    "p.move(3); p.draw()"
   ]
  },
  {
   "cell_type": "code",
   "execution_count": null,
   "id": "a9d93fd9-6d1b-4e07-afdf-e0d325cb6512",
   "metadata": {},
   "outputs": [],
   "source": [
    "#### Changing class attributes #### "
   ]
  },
  {
   "cell_type": "code",
   "execution_count": 6,
   "id": "26827bf8-cc55-48fe-b871-66187507d8c5",
   "metadata": {},
   "outputs": [
    {
     "name": "stdout",
     "output_type": "stream",
     "text": [
      "MAX_SPEED of p1 and p2 before assignment:\n",
      "3\n",
      "3\n",
      "MAX_SPEED of p1 and p2 after assignment:\n",
      "7\n",
      "3\n",
      "MAX_SPEED of Player:\n",
      "3\n"
     ]
    }
   ],
   "source": [
    "# Create Players p1 and p2\n",
    "p1 = Player()\n",
    "p2 = Player()\n",
    "\n",
    "print(\"MAX_SPEED of p1 and p2 before assignment:\")\n",
    "# Print p1.MAX_SPEED and p2.MAX_SPEED\n",
    "print(p1.MAX_SPEED)\n",
    "print(p2.MAX_SPEED)\n",
    "\n",
    "# Assign 7 to p1.MAX_SPEED\n",
    "p1.MAX_SPEED = 7\n",
    "\n",
    "print(\"MAX_SPEED of p1 and p2 after assignment:\")\n",
    "# Print p1.MAX_SPEED and p2.MAX_SPEED\n",
    "print(p1.MAX_SPEED)\n",
    "print(p2.MAX_SPEED)\n",
    "\n",
    "\n",
    "print(\"MAX_SPEED of Player:\")\n",
    "# Print Player.MAX_SPEED\n",
    "print(Player.MAX_SPEED)"
   ]
  },
  {
   "cell_type": "code",
   "execution_count": null,
   "id": "49fd4166-4397-45f4-862f-747794efb100",
   "metadata": {},
   "outputs": [],
   "source": [
    "# The change is only for that instance"
   ]
  },
  {
   "cell_type": "code",
   "execution_count": 7,
   "id": "7b2f074e-ed29-4488-961a-5fbb6b01038e",
   "metadata": {},
   "outputs": [
    {
     "name": "stdout",
     "output_type": "stream",
     "text": [
      "MAX_SPEED of p1 and p2 before assignment:\n",
      "3\n",
      "3\n",
      "MAX_SPEED of p1 and p2 after assignment:\n",
      "7\n",
      "7\n",
      "MAX_SPEED of Player:\n",
      "7\n"
     ]
    }
   ],
   "source": [
    "# Create Players p1 and p2\n",
    "p1 = Player()\n",
    "p2 = Player()\n",
    "\n",
    "print(\"MAX_SPEED of p1 and p2 before assignment:\")\n",
    "# Print p1.MAX_SPEED and p2.MAX_SPEED\n",
    "print(p1.MAX_SPEED)\n",
    "print(p2.MAX_SPEED)\n",
    "\n",
    "# Assign 7 to p1.MAX_SPEED\n",
    "Player.MAX_SPEED = 7\n",
    "\n",
    "print(\"MAX_SPEED of p1 and p2 after assignment:\")\n",
    "# Print p1.MAX_SPEED and p2.MAX_SPEED\n",
    "print(p1.MAX_SPEED)\n",
    "print(p2.MAX_SPEED)\n",
    "\n",
    "\n",
    "print(\"MAX_SPEED of Player:\")\n",
    "# Print Player.MAX_SPEED\n",
    "print(Player.MAX_SPEED)"
   ]
  },
  {
   "cell_type": "code",
   "execution_count": null,
   "id": "e9ae99e8-7662-4b38-80fb-397322fe4ff8",
   "metadata": {},
   "outputs": [],
   "source": [
    "#### Alternative constructors ####"
   ]
  },
  {
   "cell_type": "code",
   "execution_count": 8,
   "id": "a15f1726-33be-4130-b5f2-2a3f475cf63b",
   "metadata": {},
   "outputs": [
    {
     "name": "stdout",
     "output_type": "stream",
     "text": [
      "2020\n",
      "4\n",
      "30\n"
     ]
    }
   ],
   "source": [
    "class BetterDate:    \n",
    "    # Constructor\n",
    "    def __init__(self, year, month, day):\n",
    "      # Recall that Python allows multiple variable assignments in one line\n",
    "      self.year, self.month, self.day = year, month, day\n",
    "    \n",
    "    # Define a class method from_str\n",
    "    @classmethod\n",
    "    def from_str(cls, datestr):\n",
    "        # Split the string at \"-\" and convert each part to integer\n",
    "        parts = datestr.split(\"-\")\n",
    "        year, month, day = int(parts[0]), int(parts[1]), int(parts[2])\n",
    "        # Return the class instance\n",
    "        return cls(year, month, day)\n",
    "        \n",
    "bd = BetterDate.from_str('2020-04-30')   \n",
    "print(bd.year)\n",
    "print(bd.month)\n",
    "print(bd.day)"
   ]
  },
  {
   "cell_type": "code",
   "execution_count": 16,
   "id": "f2d92bcc-32ba-4165-9295-5c80cb52f92b",
   "metadata": {},
   "outputs": [
    {
     "name": "stdout",
     "output_type": "stream",
     "text": [
      "2025\n",
      "3\n",
      "14\n"
     ]
    }
   ],
   "source": [
    "from datetime import datetime\n",
    "\n",
    "class BetterDate:\n",
    "    def __init__(self, year, month, day):\n",
    "      self.year, self.month, self.day = year, month, day\n",
    "      \n",
    "    @classmethod\n",
    "    def from_str(cls, datestr):\n",
    "        year, month, day = map(int, datestr.split(\"-\"))\n",
    "        return cls(year, month, day)\n",
    "      \n",
    "    # Define a class method from_datetime accepting a datetime object\n",
    "    @classmethod\n",
    "    def from_datetime(cls, date):\n",
    "        datestr, _ = str(date).split(\" \")\n",
    "        year, month, day = map(int, datestr.split(\"-\"))\n",
    "        return cls(year, month, day)\n",
    "        \n",
    "\n",
    "# You should be able to run the code below with no errors: \n",
    "today = datetime.today()     \n",
    "bd = BetterDate.from_datetime(today)   \n",
    "print(bd.year)\n",
    "print(bd.month)\n",
    "print(bd.day)"
   ]
  },
  {
   "cell_type": "code",
   "execution_count": null,
   "id": "b8369563-72a8-415c-b735-b3a4e83dbe68",
   "metadata": {},
   "outputs": [],
   "source": [
    "##### CLASS INHERITANCE #####"
   ]
  },
  {
   "cell_type": "code",
   "execution_count": null,
   "id": "230bb2d2-43e3-4712-90a6-36cd95ee7bb5",
   "metadata": {},
   "outputs": [],
   "source": [
    "#### Practice ####"
   ]
  },
  {
   "cell_type": "code",
   "execution_count": null,
   "id": "e1fba3c1-f1bb-4148-b29d-3f890853c80c",
   "metadata": {},
   "outputs": [],
   "source": [
    "#### Create a subclass #### "
   ]
  },
  {
   "cell_type": "code",
   "execution_count": 21,
   "id": "bfe8b468-8131-4fdb-a2bb-c83659e98b98",
   "metadata": {},
   "outputs": [
    {
     "name": "stdout",
     "output_type": "stream",
     "text": [
      "Debbie Lashko\n",
      "Manager Debbie Lashko\n"
     ]
    }
   ],
   "source": [
    "class Employee:\n",
    "  MIN_SALARY = 30000    \n",
    "\n",
    "  def __init__(self, name, salary=MIN_SALARY):\n",
    "      self.name = name\n",
    "      if salary >= Employee.MIN_SALARY:\n",
    "        self.salary = salary\n",
    "      else:\n",
    "        self.salary = Employee.MIN_SALARY\n",
    "        \n",
    "  def give_raise(self, amount):\n",
    "      self.salary += amount      \n",
    "        \n",
    "# Define a new class Manager inheriting from Employee\n",
    "class Manager(Employee):\n",
    "    def display(self):\n",
    "        return f\"Manager {self.name}\"\n",
    "# Define a Manager object\n",
    "mng = Manager(\"Debbie Lashko\", 86500)\n",
    "\n",
    "# Print mng's name\n",
    "print(mng.name)\n",
    "print(mng.display())"
   ]
  },
  {
   "cell_type": "code",
   "execution_count": null,
   "id": "5be8c005-12c6-4912-802b-3fbfcd29aa03",
   "metadata": {},
   "outputs": [],
   "source": [
    "##### CUSTOMIZING FUNCTIONALITY VIA INHERITANCE #####"
   ]
  },
  {
   "cell_type": "code",
   "execution_count": 25,
   "id": "a50ed30e-2879-47af-bfb9-28cad11fdcba",
   "metadata": {},
   "outputs": [],
   "source": [
    "#### Practice ####"
   ]
  },
  {
   "cell_type": "code",
   "execution_count": null,
   "id": "46a9fbfe-a91f-49c1-8d0b-4ce8fa6ea854",
   "metadata": {},
   "outputs": [],
   "source": [
    "class Employee:\n",
    "    def __init__(self, name, salary=30000):\n",
    "        self.name = name\n",
    "        self.salary = salary\n",
    "\n",
    "    def give_raise(self, amount):\n",
    "        self.salary += amount\n",
    "\n",
    "        \n",
    "class Manager(Employee):\n",
    "  # Add a constructor \n",
    "    def __init__(self, name, salary=50000, project=None):\n",
    "\n",
    "        # Call the parent's constructor   \n",
    "        Employee.__init__(self, name, salary)\n",
    "\n",
    "        # Assign project attribute\n",
    "        self.project = project\n",
    "\n",
    "  \n",
    "    def display(self):\n",
    "        print(\"Manager \", self.name)\n",
    " "
   ]
  },
  {
   "cell_type": "code",
   "execution_count": 26,
   "id": "fbeecf1b-e680-4689-8b88-41ce3a9274d5",
   "metadata": {},
   "outputs": [
    {
     "name": "stdout",
     "output_type": "stream",
     "text": [
      "79550.0\n",
      "81610.0\n"
     ]
    }
   ],
   "source": [
    "class Employee:\n",
    "    def __init__(self, name, salary=30000):\n",
    "        self.name = name\n",
    "        self.salary = salary\n",
    "\n",
    "    def give_raise(self, amount):\n",
    "        self.salary += amount\n",
    "\n",
    "        \n",
    "class Manager(Employee):\n",
    "    def display(self):\n",
    "        print(\"Manager \", self.name)\n",
    "\n",
    "    def __init__(self, name, salary=50000, project=None):\n",
    "        Employee.__init__(self, name, salary)\n",
    "        self.project = project\n",
    "\n",
    "    # Add a give_raise method\n",
    "    def give_raise(self, amount, bonus=1.05):\n",
    "        Employee.give_raise(self, amount * bonus)\n",
    "    \n",
    "    \n",
    "mngr = Manager(\"Ashta Dunbar\", 78500)\n",
    "mngr.give_raise(1000)\n",
    "print(mngr.salary)\n",
    "mngr.give_raise(2000, bonus=1.03)\n",
    "print(mngr.salary)\n",
    " "
   ]
  },
  {
   "cell_type": "code",
   "execution_count": null,
   "id": "63e60a62-91e9-4cbb-9416-a02ad5249081",
   "metadata": {},
   "outputs": [],
   "source": [
    "# Import pandas as pd\n",
    "import pandas as pd\n",
    "\n",
    "# Define LoggedDF inherited from pd.DataFrame and add the constructor\n",
    "class LoggedDF(pd.DataFrame):\n",
    "    pass\n",
    "    \n",
    "ldf = LoggedDF({\"col1\": [1,2], \"col2\": [3,4]})\n",
    "print(ldf.values)\n",
    "print(ldf.created_at)"
   ]
  },
  {
   "cell_type": "code",
   "execution_count": 27,
   "id": "e4ef4661-1425-49a9-a799-afa771343c15",
   "metadata": {},
   "outputs": [
    {
     "name": "stdout",
     "output_type": "stream",
     "text": [
      "[[1 3]\n",
      " [2 4]]\n",
      "2025-03-14 14:00:18.569139\n"
     ]
    }
   ],
   "source": [
    "# Import pandas as pd\n",
    "import pandas as pd\n",
    "from datetime import datetime\n",
    "\n",
    "# Define LoggedDF inherited from pd.DataFrame and add the constructor\n",
    "class LoggedDF(pd.DataFrame):\n",
    "    def __init__(self, *args, **kwargs):\n",
    "        super().__init__(*args, **kwargs)\n",
    "        self.created_at = datetime.today()\n",
    "\n",
    "    \n",
    "ldf = LoggedDF({\"col1\": [1,2], \"col2\": [3,4]})\n",
    "print(ldf.values)\n",
    "print(ldf.created_at)"
   ]
  },
  {
   "cell_type": "code",
   "execution_count": 32,
   "id": "934a34e0-7688-49f3-b68c-f2aed9f78398",
   "metadata": {},
   "outputs": [
    {
     "name": "stdout",
     "output_type": "stream",
     "text": [
      "First argument: A\n",
      "Additional positional arguments: ('B', 'C')\n",
      "Additional keyword arguments: {'key1': 'value1', 'key2': 'value2'}\n"
     ]
    }
   ],
   "source": [
    "def example_func(arg1, *args, **kwargs):\n",
    "    print(\"First argument:\", arg1)\n",
    "    print(\"Additional positional arguments:\", args)\n",
    "    print(\"Additional keyword arguments:\", kwargs)\n",
    "\n",
    "example_func('A', 'B', 'C', key1='value1', key2='value2')\n"
   ]
  },
  {
   "cell_type": "code",
   "execution_count": 33,
   "id": "4bb10f5c-6697-4755-be47-74ef63a4c18e",
   "metadata": {},
   "outputs": [
    {
     "name": "stdout",
     "output_type": "stream",
     "text": [
      "Additional positional arguments: ('A', 'B', 'C')\n",
      "Additional keyword arguments: {'key1': 'value1', 'key2': 'value2'}\n"
     ]
    }
   ],
   "source": [
    "def example_func(*args, **kwargs):\n",
    "    print(\"Additional positional arguments:\", args)\n",
    "    print(\"Additional keyword arguments:\", kwargs)\n",
    "\n",
    "example_func('A', 'B', 'C', key1='value1', key2='value2')"
   ]
  },
  {
   "cell_type": "code",
   "execution_count": 37,
   "id": "a916f735-40f4-467f-a84d-ac16ac424bca",
   "metadata": {},
   "outputs": [],
   "source": [
    "# Import pandas as pd\n",
    "import pandas as pd\n",
    "\n",
    "# Define LoggedDF inherited from pd.DataFrame and add the constructor\n",
    "class LoggedDF(pd.DataFrame):\n",
    "  \n",
    "  def __init__(self, *args, **kwargs):\n",
    "    pd.DataFrame.__init__(self, *args, **kwargs)\n",
    "    self.created_at = datetime.today()\n",
    "    \n",
    "  def to_csv(self, *args, **kwargs):\n",
    "    # Copy self to a temporary DataFrame\n",
    "    temp = self.copy()\n",
    "    \n",
    "    # Create a new column filled with self.created_at\n",
    "    temp[\"created_at\"] = self.created_at\n",
    "    \n",
    "    # Call pd.DataFrame.to_csv on temp, passing in *args and **kwargs\n",
    "    pd.DataFrame.to_csv(temp, *args, **kwargs)"
   ]
  },
  {
   "cell_type": "code",
   "execution_count": null,
   "id": "d9c9be34-c7c3-4be1-be0d-5369a678afd6",
   "metadata": {},
   "outputs": [],
   "source": [
    "##### OPERATOR OVERLOADING: COMPARISON #####"
   ]
  },
  {
   "cell_type": "code",
   "execution_count": 48,
   "id": "ce24bcca-1efa-4be7-bcd7-a6a9f436778b",
   "metadata": {},
   "outputs": [
    {
     "name": "stdout",
     "output_type": "stream",
     "text": [
      "True\n",
      "False\n",
      "<__main__.Customer object at 0x000001DD63831590>\n"
     ]
    }
   ],
   "source": [
    "class Customer:\n",
    "    def __init__ (self, id, name):\n",
    "        self.id, self.name = id, name\n",
    "\n",
    "    def __eq__(self, other):\n",
    "        return (self.id == other.id) and (self.name == other.name)\n",
    "\n",
    "    # def __repr__(self):\n",
    "    #     return f\"Customer({self.id}, '{self.name}')\"\n",
    "\n",
    "\n",
    "c1 = Customer(1,\"abc\")\n",
    "c2 = Customer(1,\"abc\")\n",
    "c3 = Customer(3,\"abcd\")\n",
    "\n",
    "print(c1 == c2)\n",
    "print(c2 == c3)\n",
    "print(c3)"
   ]
  },
  {
   "cell_type": "code",
   "execution_count": null,
   "id": "42776422-d778-4be7-ad15-7533d45e3fd7",
   "metadata": {},
   "outputs": [],
   "source": [
    "# __eq__\n",
    "# __ne__\n",
    "# __ge__\n",
    "# __le__\n",
    "# __gt__\n",
    "# __lt__\n",
    "# __str__\n",
    "# __reper"
   ]
  }
 ],
 "metadata": {
  "kernelspec": {
   "display_name": "Python 3 (ipykernel)",
   "language": "python",
   "name": "python3"
  },
  "language_info": {
   "codemirror_mode": {
    "name": "ipython",
    "version": 3
   },
   "file_extension": ".py",
   "mimetype": "text/x-python",
   "name": "python",
   "nbconvert_exporter": "python",
   "pygments_lexer": "ipython3",
   "version": "3.13.2"
  }
 },
 "nbformat": 4,
 "nbformat_minor": 5
}
