{
 "cells": [
  {
   "cell_type": "markdown",
   "id": "3abe5484-2714-4e4e-916f-7a66fa91a554",
   "metadata": {},
   "source": [
    "![Instructions for exercise](Images/4-1.png)"
   ]
  },
  {
   "cell_type": "raw",
   "id": "9fb8a0fb-cec4-4b37-b014-16595b91c774",
   "metadata": {},
   "source": [
    "# Define a Rectangle class\n",
    "____\n",
    "\n",
    "# Define a Square class\n",
    "____"
   ]
  },
  {
   "cell_type": "code",
   "execution_count": null,
   "id": "692fd2ff-5a5e-4e35-94ca-8c8f460a5ad9",
   "metadata": {},
   "outputs": [],
   "source": [
    "# Define a Rectangle class\n",
    "class Rectangle:\n",
    "    def __init__(self, h, w):\n",
    "        self.h = h\n",
    "        self.w = w\n",
    "\n",
    "# Define a Square class\n",
    "class Square(Rectangle):\n",
    "    def __init__(self, w):\n",
    "        self.w = w\n",
    "        self.h = w"
   ]
  },
  {
   "cell_type": "markdown",
   "id": "41ef9e5c-e8be-491e-b633-617ed4e4873a",
   "metadata": {},
   "source": [
    "![Instructions for exercise](Images/4-2.png)"
   ]
  },
  {
   "cell_type": "raw",
   "id": "1f13fc52-cea1-47cf-96ba-7f0f6574058d",
   "metadata": {},
   "source": [
    "class Rectangle:\n",
    "    def __init__(self, w,h):\n",
    "      self.w, self.h = w,h\n",
    "\n",
    "# Define set_h to set h      \n",
    "    def set_h(self, h):\n",
    "      ____.h = ____\n",
    "      \n",
    "# Define set_w to set w          \n",
    "    ____\n",
    "      \n",
    "      \n",
    "class Square(Rectangle):\n",
    "    def __init__(self, w):\n",
    "      self.w, self.h = w, w \n",
    "\n",
    "# Define set_h to set w and h\n",
    "    def set_h(self, h):\n",
    "      self.h = h\n",
    "      self.w = h\n",
    "\n",
    "# Define set_w to set w and h      \n",
    "    ____ \n",
    "      "
   ]
  },
  {
   "cell_type": "code",
   "execution_count": null,
   "id": "112dd0d1-7322-41f9-a8f1-41c75f5e5b14",
   "metadata": {},
   "outputs": [],
   "source": [
    "class Rectangle:\n",
    "    def __init__(self, w,h):\n",
    "        self.w, self.h = w,h\n",
    "\n",
    "# Define set_h to set h      \n",
    "    def set_h(self, h):\n",
    "        self.h = h\n",
    "      \n",
    "# Define set_w to set w          \n",
    "    def set_w(self, w):\n",
    "        self.w = w\n",
    "      \n",
    "      \n",
    "class Square(Rectangle):\n",
    "    def __init__(self, w):\n",
    "        self.w, self.h = w, w \n",
    "\n",
    "# Define set_h to set w and h\n",
    "    def set_h(self, h):\n",
    "        self.h = h\n",
    "        self.w = h\n",
    "\n",
    "# Define set_w to set w and h      \n",
    "    def set_w(self, w):\n",
    "        self.h = w\n",
    "        self.w = w\n",
    "      "
   ]
  },
  {
   "cell_type": "raw",
   "id": "50495113-8251-4cce-84bf-bf692d5d425e",
   "metadata": {},
   "source": [
    "Remember that the substitution principle requires the substitution to preserve the oversall state of the program."
   ]
  },
  {
   "cell_type": "raw",
   "id": "9010ba58-aad5-47dc-8f82-2fbaf8465bbb",
   "metadata": {},
   "source": [
    "❌ Why it violates LSP\n",
    "Code that expects a Rectangle to allow independent width and height will behave incorrectly when given a Square.\n",
    "The subclass (Square) strengthens the contract by adding an invariant (w == h) that didn’t exist in the base class.\n",
    "\n",
    "✅ How to fix it?\n",
    "\n",
    "A better approach is not to use inheritance. Instead, use composition, or have a common shape interface (e.g. Shape, or Quadrilateral) and let Rectangle and Square be siblings, not parent/child."
   ]
  },
  {
   "cell_type": "code",
   "execution_count": null,
   "id": "dd4d1bd9-32ae-45b7-a240-e376188d8210",
   "metadata": {},
   "outputs": [],
   "source": [
    "## Managing data access: private attributes"
   ]
  },
  {
   "cell_type": "code",
   "execution_count": 3,
   "id": "717f1845-7240-4eb9-a78d-25ed9c4e61bd",
   "metadata": {},
   "outputs": [
    {
     "name": "stdout",
     "output_type": "stream",
     "text": [
      "99\n",
      "Repeat\n",
      "Repeat\n",
      "Repeat\n"
     ]
    }
   ],
   "source": [
    "# ✅ 1. Single leading underscore: _var\n",
    "# Convention: “Internal use” indicator\n",
    "\n",
    "class MyClass:\n",
    "    def __init__(self):\n",
    "        self._secret = 42  # Meant for internal use\n",
    "\n",
    "# ✅ 2. Double leading underscore: __var\n",
    "# Name mangling for avoiding name conflicts in subclasses.\n",
    "\n",
    "class MyClass:\n",
    "    def __init__(self):\n",
    "        self.__value = 99\n",
    "\n",
    "obj = MyClass()\n",
    "# print(obj.__value)  # ❌ AttributeError\n",
    "print(obj._MyClass__value)  # ✅ Works due to name mangling\n",
    "\n",
    "\n",
    "# ✅ 3. Double leading and trailing: __init__, __str__, etc.\n",
    "# Reserved by Python for special/magic methods.\n",
    "\n",
    "def __init__(self):\n",
    "    ...\n",
    "\n",
    "# ✅ 4. Single underscore: _\n",
    "# Commonly used for:\n",
    "\n",
    "# Ignored values:\n",
    "\n",
    "for _ in range(3):\n",
    "    print(\"Repeat\")\n",
    "\n",
    "# Temporary/throwaway variables:\n",
    "\n",
    "x, _, z = (1, 2, 3)\n"
   ]
  },
  {
   "cell_type": "markdown",
   "id": "620ed616-634f-436d-9a68-577a5eb8d138",
   "metadata": {},
   "source": [
    "![Instructions for exercise](Images/4-3.png)"
   ]
  },
  {
   "cell_type": "markdown",
   "id": "6a7f0144-f3cb-4591-a56e-8500d0775f09",
   "metadata": {},
   "source": [
    "![Instructions for exercise](Images/4-4.png)"
   ]
  },
  {
   "cell_type": "raw",
   "id": "bd758eaf-7665-4eb4-913a-a6bdd6fbf020",
   "metadata": {},
   "source": [
    "# Add class attributes for max number of days and months\n",
    "class BetterDate:\n",
    "    ____\n",
    "    \n",
    "    def __init__(self, year, month, day):\n",
    "        self.year, self.month, self.day = year, month, day\n",
    "        \n",
    "    @classmethod\n",
    "    def from_str(cls, datestr):\n",
    "        year, month, day = map(int, datestr.split(\"-\"))\n",
    "        return cls(year, month, day)\n",
    "    \n",
    "    # Add _is_valid() checking day and month values\n",
    "    ____\n",
    "    \n",
    "bd1 = BetterDate(2020, 4, 30)\n",
    "print(bd1._is_valid())\n",
    "\n",
    "bd2 = BetterDate(2020, 6, 45)\n",
    "print(bd2._is_valid())"
   ]
  },
  {
   "cell_type": "code",
   "execution_count": 8,
   "id": "0418d8c0-9950-4269-8b57-40f91590c0d8",
   "metadata": {},
   "outputs": [
    {
     "name": "stdout",
     "output_type": "stream",
     "text": [
      "True\n",
      "False\n"
     ]
    }
   ],
   "source": [
    "# Add class attributes for max number of days and months\n",
    "class BetterDate:\n",
    "    _MAX_DAYS = 31\n",
    "    _MAX_MONTHS = 12\n",
    "    \n",
    "    def __init__(self, year, month, day):\n",
    "        self.year, self.month, self.day = year, month, day\n",
    "        \n",
    "    @classmethod\n",
    "    def from_str(cls, datestr):\n",
    "        year, month, day = map(int, datestr.split(\"-\"))\n",
    "        return cls(year, month, day)\n",
    "    \n",
    "    # Add _is_valid() checking day and month values\n",
    "    def _is_valid(self):\n",
    "        if (self.month > self._MAX_MONTHS): return False\n",
    "        if (self.day > self._MAX_DAYS): return False\n",
    "        return True\n",
    "    \n",
    "    \n",
    "bd1 = BetterDate(2020, 4, 30)\n",
    "print(bd1._is_valid())\n",
    "\n",
    "bd2 = BetterDate(2020, 6, 45)\n",
    "print(bd2._is_valid())"
   ]
  },
  {
   "cell_type": "code",
   "execution_count": null,
   "id": "cc4d411a-97d1-45c5-88af-3384adbe0aae",
   "metadata": {},
   "outputs": [],
   "source": [
    "## Properties"
   ]
  },
  {
   "cell_type": "code",
   "execution_count": null,
   "id": "f99c8872-d8a3-4dad-8372-dfa2a10ee986",
   "metadata": {},
   "outputs": [],
   "source": [
    "class Person:\n",
    "    def __init__(self, name):\n",
    "        self._name = name\n",
    "\n",
    "    @property\n",
    "    def name(self):  # acts like a getter\n",
    "        print(\"Getting name\")\n",
    "        return self._name\n",
    "\n",
    "    @name.setter\n",
    "    def name(self, value):  # acts like a setter\n",
    "        print(\"Setting name\")\n",
    "        if not value:\n",
    "            raise ValueError(\"Name cannot be empty\")\n",
    "        self._name = value"
   ]
  },
  {
   "cell_type": "code",
   "execution_count": null,
   "id": "9e2dc14c-614b-4ff9-8b61-4ae0134ca50d",
   "metadata": {},
   "outputs": [],
   "source": [
    "p = Person(\"Alice\")\n",
    "print(p.name)   # ✅ calls the getter\n",
    "p.name = \"Bob\"  # ✅ calls the setter"
   ]
  },
  {
   "cell_type": "raw",
   "id": "52494809-a964-4d09-b84b-4aad42080bf0",
   "metadata": {},
   "source": [
    "🧠 Without @property, you'd have to do this:"
   ]
  },
  {
   "cell_type": "code",
   "execution_count": null,
   "id": "cd0a5c44-54d4-4d0d-b554-f80ed5ae669c",
   "metadata": {},
   "outputs": [],
   "source": [
    "p.get_name()\n",
    "p.set_name(\"Bob\")"
   ]
  },
  {
   "cell_type": "code",
   "execution_count": null,
   "id": "f5f01e3e-b88b-49f5-93aa-84b5973ae85b",
   "metadata": {},
   "outputs": [],
   "source": [
    "#🧩 Anatomy of @property:\n",
    "@property\n",
    "def attr(self):\n",
    "    # getter logic\n",
    "\n",
    "@attr.setter\n",
    "def attr(self, value):\n",
    "    # setter logic\n",
    "\n",
    "@attr.deleter\n",
    "def attr(self):\n",
    "    # deleter logic (optional)"
   ]
  },
  {
   "cell_type": "raw",
   "id": "f51e28e1-d304-4b8e-ba57-02bebd685619",
   "metadata": {},
   "source": [
    "The @property decorator in Python has a companion called @<property>.deleter, \n",
    "which lets you customize what happens when you delete a property using del."
   ]
  },
  {
   "cell_type": "code",
   "execution_count": null,
   "id": "3cc8a39b-de4e-4f10-837b-3f558e1dc9a0",
   "metadata": {},
   "outputs": [],
   "source": [
    "class MyClass:\n",
    "    def __init__(self):\n",
    "        self._value = 42\n",
    "\n",
    "    @property\n",
    "    def value(self):\n",
    "        return self._value\n",
    "\n",
    "    @value.deleter\n",
    "    def value(self):\n",
    "        print(\"Deleting value!\")\n",
    "        del self._value"
   ]
  },
  {
   "cell_type": "raw",
   "id": "5518379f-62c3-4a19-a795-952966509d96",
   "metadata": {},
   "source": [
    "🔍 When is this useful?\n",
    "Logging or auditing deletes\n",
    "Cleaning up dependent data\n",
    "Preventing deletion entirely (raise an error instead)"
   ]
  },
  {
   "cell_type": "code",
   "execution_count": null,
   "id": "5cbec27d-3db0-4518-b05e-ff006f682b37",
   "metadata": {},
   "outputs": [],
   "source": [
    "@value.deleter\n",
    "def value(self):\n",
    "    raise AttributeError(\"You can't delete this!\")"
   ]
  },
  {
   "cell_type": "markdown",
   "id": "e13db6ef-06bd-49d4-8a79-4ca0c002d37d",
   "metadata": {},
   "source": [
    "![Instructions for exercise](Images/4-5.png)"
   ]
  },
  {
   "cell_type": "raw",
   "id": "b5eb6990-4cf5-4e95-9484-073a5e8a89a1",
   "metadata": {},
   "source": [
    "# Create a Customer class\n",
    "____"
   ]
  },
  {
   "cell_type": "code",
   "execution_count": 15,
   "id": "2aa07015-443a-4f68-a776-84e04773467b",
   "metadata": {},
   "outputs": [],
   "source": [
    "# Create a Customer class\n",
    "class Customer():\n",
    "    def __init__(self, name, new_bal):\n",
    "        self._name = name\n",
    "        self._balance = new_bal\n",
    "    \n",
    "    @property\n",
    "    def name(self):\n",
    "        return self._name\n",
    "\n",
    "    @name.setter\n",
    "    def name(self, name):\n",
    "        if not name:\n",
    "            raise ValueError(\"Name cannot be empty\")\n",
    "        self._name = name\n",
    "\n",
    "    @property\n",
    "    def balance(self):\n",
    "        return self._balance\n",
    "\n",
    "    @balance.setter\n",
    "    def balance(self, new_bal):\n",
    "        print(\"Setter method is called\")\n",
    "        if new_bal < 0:\n",
    "            raise ValueError(\"Balance cannot be less than 0\")\n",
    "        self._balance = new_bal"
   ]
  },
  {
   "cell_type": "code",
   "execution_count": null,
   "id": "f98472db-13cb-44e7-9b3a-7e05bf7cda00",
   "metadata": {},
   "outputs": [],
   "source": []
  }
 ],
 "metadata": {
  "kernelspec": {
   "display_name": "Python 3 (ipykernel)",
   "language": "python",
   "name": "python3"
  },
  "language_info": {
   "codemirror_mode": {
    "name": "ipython",
    "version": 3
   },
   "file_extension": ".py",
   "mimetype": "text/x-python",
   "name": "python",
   "nbconvert_exporter": "python",
   "pygments_lexer": "ipython3",
   "version": "3.13.2"
  }
 },
 "nbformat": 4,
 "nbformat_minor": 5
}
