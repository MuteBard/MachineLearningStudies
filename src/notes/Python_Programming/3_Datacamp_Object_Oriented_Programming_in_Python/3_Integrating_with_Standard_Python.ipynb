{
 "cells": [
  {
   "cell_type": "code",
   "execution_count": null,
   "id": "6a157a31-a21b-4226-8ed4-e2a77d82d25a",
   "metadata": {},
   "outputs": [],
   "source": [
    "##### OPERATOR OVERLOADING: COMPARISON #####"
   ]
  },
  {
   "cell_type": "code",
   "execution_count": 1,
   "id": "b3450c17-fd27-420e-845c-a74194b4a00f",
   "metadata": {},
   "outputs": [
    {
     "name": "stdout",
     "output_type": "stream",
     "text": [
      "True\n",
      "False\n",
      "<__main__.Customer object at 0x00000154836BE210>\n"
     ]
    }
   ],
   "source": [
    "class Customer:\n",
    "    def __init__ (self, id, name):\n",
    "        self.id, self.name = id, name\n",
    "\n",
    "    def __eq__(self, other):\n",
    "        return (self.id == other.id) and (self.name == other.name)\n",
    "\n",
    "    # def __repr__(self):\n",
    "    #     return f\"Customer({self.id}, '{self.name}')\"\n",
    "\n",
    "\n",
    "c1 = Customer(1,\"abc\")\n",
    "c2 = Customer(1,\"abc\")\n",
    "c3 = Customer(3,\"abcd\")\n",
    "\n",
    "print(c1 == c2)\n",
    "print(c2 == c3)\n",
    "print(c3)"
   ]
  },
  {
   "cell_type": "code",
   "execution_count": 2,
   "id": "e58f02b4-b4e3-4f15-aded-090afd10d37b",
   "metadata": {},
   "outputs": [],
   "source": [
    "# __eq__\n",
    "# __ne__\n",
    "# __ge__\n",
    "# __le__\n",
    "# __gt__\n",
    "# __lt__\n",
    "# __str__\n",
    "# __reper"
   ]
  },
  {
   "cell_type": "markdown",
   "id": "d39713cb-2dd5-4c05-9d1c-4851e007d91b",
   "metadata": {},
   "source": [
    "![Instructions for exercise](Images/3-1.png)"
   ]
  },
  {
   "cell_type": "raw",
   "id": "ab46b853-4759-4bc0-9775-7106d727b4d2",
   "metadata": {},
   "source": [
    "class BankAccount:\n",
    "   # MODIFY to initialize a number attribute\n",
    "    def __init__(self, balance=0):\n",
    "        self.balance = balance\n",
    "      \n",
    "    def withdraw(self, amount):\n",
    "        self.balance -= amount \n",
    "    \n",
    "    # Define __eq__ that returns True if the number attributes are equal \n",
    "    def ____(____, ____):\n",
    "        return ____.number == ____.____   \n",
    "\n",
    "# Create accounts and compare them       \n",
    "acct1 = BankAccount(123, 1000)\n",
    "acct2 = BankAccount(123, 1000)\n",
    "acct3 = BankAccount(456, 1000)\n",
    "print(acct1 == acct2)\n",
    "print(acct1 == acct3)\n",
    "    "
   ]
  },
  {
   "cell_type": "code",
   "execution_count": 6,
   "id": "eaf9f209-a598-418f-91cf-d00b541b849f",
   "metadata": {},
   "outputs": [
    {
     "name": "stdout",
     "output_type": "stream",
     "text": [
      "True\n",
      "False\n"
     ]
    }
   ],
   "source": [
    "class BankAccount:\n",
    "    def __init__(self, number, balance=0):\n",
    "        self.balance = balance\n",
    "        self.number = number\n",
    "      \n",
    "    def withdraw(self, amount):\n",
    "        self.balance -= amount \n",
    "    \n",
    "    def __eq__(self, other):\n",
    "        return self.number == other.number   \n",
    "     \n",
    "acct1 = BankAccount(123, 1000)\n",
    "acct2 = BankAccount(123, 1000)\n",
    "acct3 = BankAccount(456, 1000)\n",
    "print(acct1 == acct2)\n",
    "print(acct1 == acct3)"
   ]
  },
  {
   "cell_type": "markdown",
   "id": "a93d06b7-104e-4a0a-9853-9ba9da921518",
   "metadata": {},
   "source": [
    "## Side note\n",
    "M outside cell to switch to Markdown cell\n",
    "Y outside cell to switch to Code cell"
   ]
  },
  {
   "cell_type": "code",
   "execution_count": null,
   "id": "7b15cf39-6e00-48a0-a7b2-7d688c04289f",
   "metadata": {},
   "outputs": [],
   "source": [
    "import os\n",
    "os.getcwd()\n",
    "# ![Instructions for exercise](Images/3-1.png)"
   ]
  },
  {
   "cell_type": "markdown",
   "id": "33be9b9c-9328-4e58-9747-351ceea1031c",
   "metadata": {},
   "source": [
    "![Instructions for exercise](Images/3-2.png)"
   ]
  },
  {
   "cell_type": "raw",
   "id": "c182e595-05a6-4ae6-8e98-f94d51a17d45",
   "metadata": {},
   "source": [
    "class BankAccount:\n",
    "    def __init__(self, number, balance=0):\n",
    "        self.number, self.balance = number, balance\n",
    "      \n",
    "    def withdraw(self, amount):\n",
    "        self.balance -= amount \n",
    "\n",
    "    # MODIFY to add a check for the type()\n",
    "    def __eq__(self, other):\n",
    "        return (self.number == other.number)\n",
    "\n",
    "acct = BankAccount(873555333)\n",
    "pn = Phone(873555333)\n",
    "print(acct == pn)"
   ]
  },
  {
   "cell_type": "code",
   "execution_count": 17,
   "id": "009361be-b18f-40d2-b9b1-46838d059c40",
   "metadata": {},
   "outputs": [
    {
     "name": "stdout",
     "output_type": "stream",
     "text": [
      "False\n",
      "True\n"
     ]
    }
   ],
   "source": [
    "class Phone:\n",
    "  def __init__(self, number):\n",
    "     self.number = number\n",
    "\n",
    "  def __eq__(self, other):\n",
    "    return self.number == \\\n",
    "          other.number\n",
    "\n",
    "class BankAccount:\n",
    "    def __init__(self, number, balance=0):\n",
    "        self.number, self.balance = number, balance\n",
    "      \n",
    "    def withdraw(self, amount):\n",
    "        self.balance -= amount \n",
    "\n",
    "    def __eq__(self, other):\n",
    "        if not isinstance(other, BankAccount):\n",
    "            return False\n",
    "        return (self.number == other.number)\n",
    "\n",
    "acct = BankAccount(873555333)\n",
    "pn = Phone(873555333)\n",
    "print(acct == pn)\n",
    "print(acct == acct)"
   ]
  },
  {
   "cell_type": "markdown",
   "id": "601d4d93-f803-4342-9e36-32f4a13b89e1",
   "metadata": {},
   "source": [
    "![Instructions for exercise](Images/3-3.png)"
   ]
  },
  {
   "cell_type": "code",
   "execution_count": null,
   "id": "8fee4a2f-b15f-4d78-9ffa-a4f08f161708",
   "metadata": {},
   "outputs": [],
   "source": [
    "class Parent:\n",
    "    def __eq__(self, other):\n",
    "        print(\"Parent's __eq__() called\")\n",
    "        return True\n",
    "\n",
    "class Child(Parent):\n",
    "    def __eq__(self, other):\n",
    "        print(\"Child's __eq__() called\")\n",
    "        return True\n"
   ]
  },
  {
   "cell_type": "markdown",
   "id": "4d6e7941-36cb-43e7-962a-8b39c2bdc62e",
   "metadata": {},
   "source": [
    "![Instructions for exercise](Images/3-4.png)"
   ]
  },
  {
   "cell_type": "markdown",
   "id": "f58e02ff-1ff2-4087-8936-66450c8ed468",
   "metadata": {},
   "source": [
    "![Instructions for exercise](Images/3-5.png)"
   ]
  },
  {
   "cell_type": "markdown",
   "id": "f4379bf7-017f-4ee9-99fe-5878662f621b",
   "metadata": {},
   "source": [
    "![Instructions for exercise](Images/3-6.png)"
   ]
  },
  {
   "cell_type": "raw",
   "id": "920adb71-4a43-41e9-90fd-c1acbdb4f533",
   "metadata": {},
   "source": [
    "class Employee:\n",
    "    def __init__(self, name, salary=30000):\n",
    "        self.name, self.salary = name, salary\n",
    "            \n",
    "    # Add the __str__() method\n",
    "    ____\n",
    "\n",
    "emp1 = Employee(\"Amar Howard\", 30000)\n",
    "print(emp1)\n",
    "emp2 = Employee(\"Carolyn Ramirez\", 35000)\n",
    "print(emp2)"
   ]
  },
  {
   "cell_type": "code",
   "execution_count": 21,
   "id": "7fed05a7-987f-45ca-a2c8-3bafc70d71f7",
   "metadata": {},
   "outputs": [
    {
     "name": "stdout",
     "output_type": "stream",
     "text": [
      "Employee name: Amar Howard\n",
      "Employee salary: 30000\n",
      "Employee name: Carolyn Ramirez\n",
      "Employee salary: 35000\n"
     ]
    }
   ],
   "source": [
    "class Employee:\n",
    "    def __init__(self, name, salary=30000):\n",
    "        self.name, self.salary = name, salary\n",
    "            \n",
    "    def __str__(self):\n",
    "        return \"\"\"Employee name: {}\\nEmployee salary: {}\"\"\".format(self.name, self.salary).strip()\n",
    "\n",
    "emp1 = Employee(\"Amar Howard\", 30000)\n",
    "print(emp1)\n",
    "emp2 = Employee(\"Carolyn Ramirez\", 35000)\n",
    "print(emp2)"
   ]
  },
  {
   "cell_type": "markdown",
   "id": "14a66bb4-4053-4322-935c-472a9a04901b",
   "metadata": {},
   "source": [
    "![Instructions for exercise](Images/3-7.png)"
   ]
  },
  {
   "cell_type": "raw",
   "id": "377fd5ee-a92b-4264-835d-b5593a1a39e2",
   "metadata": {},
   "source": [
    "class Employee:\n",
    "    def __init__(self, name, salary=30000):\n",
    "        self.name, self.salary = name, salary\n",
    "      \n",
    "\n",
    "    def __str__(self):\n",
    "        s = \"Employee name: {name}\\nEmployee salary: {salary}\".format(name=self.name, salary=self.salary)      \n",
    "        return s\n",
    "      \n",
    "    # Add the __repr__method  \n",
    "    ____   \n",
    "\n",
    "emp1 = Employee(\"Amar Howard\", 30000)\n",
    "print(repr(emp1))\n",
    "emp2 = Employee(\"Carolyn Ramirez\", 35000)\n",
    "print(repr(emp2))"
   ]
  },
  {
   "cell_type": "code",
   "execution_count": 23,
   "id": "e5a881d4-34c9-468e-804e-fa652bce7e8e",
   "metadata": {},
   "outputs": [
    {
     "name": "stdout",
     "output_type": "stream",
     "text": [
      "Employee('Amar Howard', 30000)\n",
      "Employee('Carolyn Ramirez', 35000)\n"
     ]
    }
   ],
   "source": [
    "class Employee:\n",
    "    def __init__(self, name, salary=30000):\n",
    "        self.name, self.salary = name, salary\n",
    "      \n",
    "    def __str__(self):\n",
    "        return \"\"\"Employee name: {}\\nEmployee salary: {}\"\"\".format(self.name, self.salary).strip()\n",
    "      \n",
    "    def __repr__(self):\n",
    "        return \"\"\"Employee('{}', {})\"\"\".format(self.name, self.salary).strip()\n",
    "\n",
    "emp1 = Employee(\"Amar Howard\", 30000)\n",
    "print(repr(emp1))\n",
    "emp2 = Employee(\"Carolyn Ramirez\", 35000)\n",
    "print(repr(emp2))"
   ]
  },
  {
   "cell_type": "code",
   "execution_count": null,
   "id": "cd348b35-4e92-45c9-8c94-47bf8b20b3bf",
   "metadata": {},
   "outputs": [],
   "source": [
    "## Exceptions"
   ]
  },
  {
   "cell_type": "markdown",
   "id": "6125eb44-1d61-4026-8884-cd7856d2e2c0",
   "metadata": {},
   "source": [
    "![Instructions for exercise](Images/3-8.png)"
   ]
  },
  {
   "cell_type": "raw",
   "id": "d22d8a44-c16e-41c6-9885-70568a864a7e",
   "metadata": {},
   "source": [
    "# MODIFY the function to catch exceptions\n",
    "def invert_at_index(x, ind):\n",
    "    return 1/x[ind]\n",
    " \n",
    "a = [5,6,0,7]\n",
    "\n",
    "# Works okay\n",
    "print(invert_at_index(a, 1))\n",
    "\n",
    "# Potential ZeroDivisionError\n",
    "print(invert_at_index(a, 2))\n",
    "\n",
    "# Potential IndexError\n",
    "print(invert_at_index(a, 5))"
   ]
  },
  {
   "cell_type": "code",
   "execution_count": 39,
   "id": "4804f950-04e3-4721-9c9b-5cf37e881465",
   "metadata": {},
   "outputs": [
    {
     "name": "stdout",
     "output_type": "stream",
     "text": [
      "0.16666666666666666\n",
      "Cannot Divide By zero!\n",
      "None\n",
      "Index out of range!\n",
      "None\n"
     ]
    }
   ],
   "source": [
    "def invert_at_index(x, ind):\n",
    "    try: \n",
    "        return 1/x[ind]\n",
    "    except ZeroDivisionError:\n",
    "        print(\"Cannot Divide By zero!\")\n",
    "    except IndexError:\n",
    "        print(\"Index out of range!\")\n",
    " \n",
    "a = [5,6,0,7]\n",
    "\n",
    "# Works okay\n",
    "print(invert_at_index(a, 1))\n",
    "\n",
    "# Potential ZeroDivisionError\n",
    "print(invert_at_index(a, 2))\n",
    "\n",
    "# Potential IndexError\n",
    "print(invert_at_index(a, 5))"
   ]
  },
  {
   "cell_type": "code",
   "execution_count": null,
   "id": "f2e87193-fcb9-4bcb-878a-3740207715e1",
   "metadata": {},
   "outputs": [],
   "source": [
    "# ![Instructions for exercise](Images/3-9.png)"
   ]
  },
  {
   "cell_type": "markdown",
   "id": "f8dead7c-b3eb-47f0-af13-8120e17db1a8",
   "metadata": {},
   "source": [
    "![Instructions for exercise](Images/3-9.png)"
   ]
  },
  {
   "cell_type": "raw",
   "id": "b885f11c-fa7a-4fb6-a85d-f8398b755ffd",
   "metadata": {},
   "source": [
    "# Define SalaryError inherited from ValueError\n",
    "____\n",
    "\n",
    "# Define BonusError inherited from SalaryError\n",
    "____\n",
    "\n"
   ]
  },
  {
   "cell_type": "code",
   "execution_count": 44,
   "id": "b151854b-54b5-4e74-9766-13eb900bf24e",
   "metadata": {},
   "outputs": [],
   "source": [
    "class SalaryError(ValueError): pass\n",
    "class BonusError(SalaryError): pass"
   ]
  },
  {
   "cell_type": "raw",
   "id": "7e7abe90-00e4-4d55-963c-16448a2cbf8b",
   "metadata": {},
   "source": [
    "class SalaryError(ValueError): pass\n",
    "class BonusError(SalaryError): pass\n",
    "\n",
    "class Employee:\n",
    "  MIN_SALARY = 30000\n",
    "  MAX_RAISE = 5000\n",
    "\n",
    "  def __init__(self, name, salary = 30000):\n",
    "    self.name = name\n",
    "    \n",
    "    # If salary is too low\n",
    "    if ____:\n",
    "      # Raise a SalaryError exception\n",
    "      ____\n",
    "      \n",
    "    self.salary = salary\n",
    "      "
   ]
  },
  {
   "cell_type": "code",
   "execution_count": 45,
   "id": "df863ebd-ecfb-4ab0-9c99-baee0bb72c81",
   "metadata": {},
   "outputs": [],
   "source": [
    "class SalaryError(ValueError): pass\n",
    "class BonusError(SalaryError): pass\n",
    "\n",
    "class Employee:\n",
    "  MIN_SALARY = 30000\n",
    "  MAX_RAISE = 5000\n",
    "\n",
    "  def __init__(self, name, salary = 30000):\n",
    "    self.name = name\n",
    "    \n",
    "    if (salary < MIN_SALARY):\n",
    "        \n",
    "      raise SalaryError(\"Salary is too low\")\n",
    "      \n",
    "    self.salary = salary\n",
    "      "
   ]
  },
  {
   "cell_type": "raw",
   "id": "3ad612e3-c231-46fa-92bd-bfc0b6ba94c5",
   "metadata": {},
   "source": [
    "class SalaryError(ValueError): pass\n",
    "class BonusError(SalaryError): pass\n",
    "\n",
    "class Employee:\n",
    "  MIN_SALARY = 30000\n",
    "  MAX_BONUS = 5000\n",
    "\n",
    "  def __init__(self, name, salary = 30000):\n",
    "    self.name = name    \n",
    "    if salary < Employee.MIN_SALARY:\n",
    "      raise SalaryError(\"Salary is too low!\")      \n",
    "    self.salary = salary\n",
    "    \n",
    "  # Rewrite using exceptions  \n",
    "  def give_bonus(self, amount):\n",
    "    if amount > Employee.MAX_BONUS:\n",
    "       print(\"The bonus amount is too high!\")  \n",
    "        \n",
    "    elif self.salary + amount <  Employee.MIN_SALARY:\n",
    "       print(\"The salary after bonus is too low!\")\n",
    "      \n",
    "    else:  \n",
    "      self.salary += amount"
   ]
  },
  {
   "cell_type": "code",
   "execution_count": 46,
   "id": "e03ba7a2-6881-41b4-836b-b2ad8f3d6510",
   "metadata": {},
   "outputs": [],
   "source": [
    "class SalaryError(ValueError): pass\n",
    "class BonusError(SalaryError): pass\n",
    "\n",
    "class Employee:\n",
    "  MIN_SALARY = 30000\n",
    "  MAX_BONUS = 5000\n",
    "\n",
    "  def __init__(self, name, salary = 30000):\n",
    "    self.name = name    \n",
    "    if salary < Employee.MIN_SALARY:\n",
    "      raise SalaryError(\"Salary is too low!\")      \n",
    "    self.salary = salary\n",
    "    \n",
    "  # Rewrite using exceptions  \n",
    "  def give_bonus(self, amount):\n",
    "    if amount > Employee.MAX_BONUS:\n",
    "       raise BonusError(\"The bonus amount is too high!\")  \n",
    "        \n",
    "    elif self.salary + amount <  Employee.MIN_SALARY:\n",
    "       raise BonusError(\"The salary after bonus is too low!\")\n",
    "      \n",
    "    else:  \n",
    "      self.salary += amount"
   ]
  },
  {
   "cell_type": "markdown",
   "id": "1d4d8f16-6dfa-489d-9af7-dea4a8a4941e",
   "metadata": {},
   "source": [
    "![Instructions for exercise](Images/3-10.png)"
   ]
  },
  {
   "cell_type": "code",
   "execution_count": null,
   "id": "5c1d64ae-093b-4661-9240-eb87dedcd29f",
   "metadata": {},
   "outputs": [],
   "source": []
  }
 ],
 "metadata": {
  "kernelspec": {
   "display_name": "Python 3 (ipykernel)",
   "language": "python",
   "name": "python3"
  },
  "language_info": {
   "codemirror_mode": {
    "name": "ipython",
    "version": 3
   },
   "file_extension": ".py",
   "mimetype": "text/x-python",
   "name": "python",
   "nbconvert_exporter": "python",
   "pygments_lexer": "ipython3",
   "version": "3.13.2"
  }
 },
 "nbformat": 4,
 "nbformat_minor": 5
}
