{
 "cells": [
  {
   "cell_type": "code",
   "execution_count": null,
   "id": "be75fa1f-c47f-4366-89e7-d9ca9a7c64fe",
   "metadata": {},
   "outputs": [],
   "source": [
    "import inspect\n",
    "print(inspect.getsource(func))"
   ]
  },
  {
   "cell_type": "code",
   "execution_count": null,
   "id": "40672653-13e1-487e-b5e0-0d20a9b157d1",
   "metadata": {},
   "outputs": [],
   "source": [
    "print(type(ClassInstance))"
   ]
  },
  {
   "cell_type": "code",
   "execution_count": null,
   "id": "c9dc011f-d958-4b35-926b-a35355179201",
   "metadata": {},
   "outputs": [],
   "source": [
    "dir(ClassInstance)"
   ]
  },
  {
   "cell_type": "code",
   "execution_count": null,
   "id": "797fe878-9150-4d0e-a323-d998d5621294",
   "metadata": {},
   "outputs": [],
   "source": [
    "vars(ClassInstance)"
   ]
  },
  {
   "cell_type": "code",
   "execution_count": null,
   "id": "8a7ccf79-6c7d-48de-a488-f0f44987a0e6",
   "metadata": {},
   "outputs": [],
   "source": [
    "help(ClassInstance)"
   ]
  }
 ],
 "metadata": {
  "kernelspec": {
   "display_name": "Python 3 (ipykernel)",
   "language": "python",
   "name": "python3"
  },
  "language_info": {
   "codemirror_mode": {
    "name": "ipython",
    "version": 3
   },
   "file_extension": ".py",
   "mimetype": "text/x-python",
   "name": "python",
   "nbconvert_exporter": "python",
   "pygments_lexer": "ipython3",
   "version": "3.13.2"
  }
 },
 "nbformat": 4,
 "nbformat_minor": 5
}
