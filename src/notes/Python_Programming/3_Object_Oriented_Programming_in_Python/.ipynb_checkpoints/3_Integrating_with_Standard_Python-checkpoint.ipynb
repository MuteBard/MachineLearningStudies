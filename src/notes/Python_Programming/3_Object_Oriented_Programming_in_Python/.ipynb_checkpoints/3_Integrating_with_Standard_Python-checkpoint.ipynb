{
 "cells": [
  {
   "cell_type": "code",
   "execution_count": null,
   "id": "6a157a31-a21b-4226-8ed4-e2a77d82d25a",
   "metadata": {},
   "outputs": [],
   "source": [
    "##### OPERATOR OVERLOADING: COMPARISON #####"
   ]
  },
  {
   "cell_type": "code",
   "execution_count": 1,
   "id": "b3450c17-fd27-420e-845c-a74194b4a00f",
   "metadata": {},
   "outputs": [
    {
     "name": "stdout",
     "output_type": "stream",
     "text": [
      "True\n",
      "False\n",
      "<__main__.Customer object at 0x00000154836BE210>\n"
     ]
    }
   ],
   "source": [
    "class Customer:\n",
    "    def __init__ (self, id, name):\n",
    "        self.id, self.name = id, name\n",
    "\n",
    "    def __eq__(self, other):\n",
    "        return (self.id == other.id) and (self.name == other.name)\n",
    "\n",
    "    # def __repr__(self):\n",
    "    #     return f\"Customer({self.id}, '{self.name}')\"\n",
    "\n",
    "\n",
    "c1 = Customer(1,\"abc\")\n",
    "c2 = Customer(1,\"abc\")\n",
    "c3 = Customer(3,\"abcd\")\n",
    "\n",
    "print(c1 == c2)\n",
    "print(c2 == c3)\n",
    "print(c3)"
   ]
  },
  {
   "cell_type": "code",
   "execution_count": 2,
   "id": "e58f02b4-b4e3-4f15-aded-090afd10d37b",
   "metadata": {},
   "outputs": [],
   "source": [
    "# __eq__\n",
    "# __ne__\n",
    "# __ge__\n",
    "# __le__\n",
    "# __gt__\n",
    "# __lt__\n",
    "# __str__\n",
    "# __reper"
   ]
  },
  {
   "cell_type": "code",
   "execution_count": null,
   "id": "4db10055-4b27-44dd-9fc4-9daf82f693f8",
   "metadata": {},
   "outputs": [],
   "source": [
    "\"\"\"\n",
    "When comparing two objects of a custom class using ==, Python by default compares just the object references, \n",
    "not the data contained in the objects. To override this behavior, the class can implement the special __eq__() method, which accepts two arguments -- \n",
    "the objects to be compared -- and returns True or False. This method will be implicitly called when two objects are compared.\n",
    "\n",
    "The BankAccount class from the previous chapter is available for you in the script pane. It has one attribute, balance, and a withdraw() method. \n",
    "Two bank accounts with the same balance are not necessarily the same account, but a bank account usually has an account number, and two accounts with \n",
    "the same account number should be considered the same.\n",
    "\"\"\""
   ]
  },
  {
   "cell_type": "code",
   "execution_count": null,
   "id": "d872dc07-c5e6-4c05-b09d-943c29fbedd5",
   "metadata": {},
   "outputs": [],
   "source": [
    "\n",
    "\"\"\"\n",
    "Try selecting the code in lines 1-7 and pressing the \"Run code\" button. Then try to create a few BankAccount objects in the console and compare them.\n",
    "\n",
    "    Modify the __init__() method to accept a new parameter - number - and initialize a new number attribute.\n",
    "    Define an __eq__() method that returns True if the number attribute of two objects is equal.\n",
    "    Examine the print statements and the output in the console.\n",
    "\"\"\""
   ]
  },
  {
   "cell_type": "code",
   "execution_count": null,
   "id": "a1a735c7-16f0-4189-b4fb-59839f473649",
   "metadata": {},
   "outputs": [],
   "source": [
    "class BankAccount:\n",
    "   # MODIFY to initialize a number attribute\n",
    "    def __init__(self, balance=0):\n",
    "        self.balance = balance\n",
    "      \n",
    "    def withdraw(self, amount):\n",
    "        self.balance -= amount \n",
    "    \n",
    "    # Define __eq__ that returns True if the number attributes are equal \n",
    "    def ____(____, ____):\n",
    "        return ____.number == ____.____   \n",
    "\n",
    "# Create accounts and compare them       \n",
    "acct1 = BankAccount(123, 1000)\n",
    "acct2 = BankAccount(123, 1000)\n",
    "acct3 = BankAccount(456, 1000)\n",
    "print(acct1 == acct2)\n",
    "print(acct1 == acct3)\n",
    "    "
   ]
  },
  {
   "cell_type": "code",
   "execution_count": 6,
   "id": "eaf9f209-a598-418f-91cf-d00b541b849f",
   "metadata": {},
   "outputs": [
    {
     "name": "stdout",
     "output_type": "stream",
     "text": [
      "True\n",
      "False\n"
     ]
    }
   ],
   "source": [
    "class BankAccount:\n",
    "    def __init__(self, number, balance=0):\n",
    "        self.balance = balance\n",
    "        self.number = number\n",
    "      \n",
    "    def withdraw(self, amount):\n",
    "        self.balance -= amount \n",
    "    \n",
    "    def __eq__(self, other):\n",
    "        return self.number == other.number   \n",
    "     \n",
    "acct1 = BankAccount(123, 1000)\n",
    "acct2 = BankAccount(123, 1000)\n",
    "acct3 = BankAccount(456, 1000)\n",
    "print(acct1 == acct2)\n",
    "print(acct1 == acct3)"
   ]
  },
  {
   "cell_type": "markdown",
   "id": "33be9b9c-9328-4e58-9747-351ceea1031c",
   "metadata": {},
   "source": [
    "![Alt text](src/notes/Python_Programming/3_Object_Oriented_Programming_in_Python/Images/3-1.png)"
   ]
  },
  {
   "cell_type": "markdown",
   "id": "1c2dafbd-2cec-4b72-a4fc-046c717c4f64",
   "metadata": {},
   "source": []
  }
 ],
 "metadata": {
  "kernelspec": {
   "display_name": "Python 3 (ipykernel)",
   "language": "python",
   "name": "python3"
  },
  "language_info": {
   "codemirror_mode": {
    "name": "ipython",
    "version": 3
   },
   "file_extension": ".py",
   "mimetype": "text/x-python",
   "name": "python",
   "nbconvert_exporter": "python",
   "pygments_lexer": "ipython3",
   "version": "3.13.2"
  }
 },
 "nbformat": 4,
 "nbformat_minor": 5
}
