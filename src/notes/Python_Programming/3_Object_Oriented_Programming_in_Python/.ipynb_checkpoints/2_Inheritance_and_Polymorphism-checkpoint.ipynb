{
 "cells": [
  {
   "cell_type": "code",
   "execution_count": null,
   "id": "f0b54431-54c1-409c-86e8-e169d9d5ff4a",
   "metadata": {},
   "outputs": [],
   "source": [
    "# Instance level data vs Class level data"
   ]
  },
  {
   "cell_type": "code",
   "execution_count": null,
   "id": "0ffe6d17-ffd4-4560-8ceb-0134dd164c96",
   "metadata": {},
   "outputs": [],
   "source": [
    "from datetime import datetime\n",
    "\n",
    "class Employee:\n",
    "    \n",
    "    def __init__(self, name, salary=0):\n",
    "        self.name = name\n",
    "        if (salary < 0):\n",
    "            print (\"Invalid salary!\")\n",
    "            salary = 0\n",
    "        self.salary = salary \n",
    "        self.hire_date = datetime.today()\n",
    "        "
   ]
  },
  {
   "cell_type": "code",
   "execution_count": null,
   "id": "55ac199a-53d4-4303-872c-f72485e2f965",
   "metadata": {},
   "outputs": [],
   "source": [
    "# name and salary are instance attributes, self binds to an instance"
   ]
  },
  {
   "cell_type": "code",
   "execution_count": null,
   "id": "fc64a792-25cf-4cd9-90fc-0b91e5811707",
   "metadata": {},
   "outputs": [],
   "source": [
    "# Data that is shared among all instances of a class is class level data"
   ]
  },
  {
   "cell_type": "code",
   "execution_count": null,
   "id": "e6c084a5-3d55-4ecc-833f-29c62e1e0edf",
   "metadata": {},
   "outputs": [],
   "source": [
    "class Employee:\n",
    "\n",
    "    MIN_SALARY = 30000\n",
    "    \n",
    "    def __init__(self, name, salary=0):\n",
    "        self.name = name\n",
    "        if (salary < 0):\n",
    "            print (\"Invalid salary!\")\n",
    "            salary = 0\n",
    "        self.salary = salary \n",
    "        self.hire_date = datetime.today()\n",
    "        "
   ]
  },
  {
   "cell_type": "code",
   "execution_count": null,
   "id": "652039d9-ff52-4517-9793-c30060ad9b70",
   "metadata": {},
   "outputs": [],
   "source": [
    "#MIN_SALARY is shared among all instances"
   ]
  },
  {
   "cell_type": "code",
   "execution_count": null,
   "id": "d6bc02c7-ea84-4ba8-a207-dbed5511e219",
   "metadata": {},
   "outputs": [],
   "source": [
    "# For methods, it is possible to define methods bound to a class rather than in instance, but they habe a narrow application scope\n",
    "# because these methods will not be able to use any instance level data"
   ]
  },
  {
   "cell_type": "code",
   "execution_count": null,
   "id": "49b4198c-0602-41f5-9881-10c1576ca579",
   "metadata": {},
   "outputs": [],
   "source": [
    "class Employee:\n",
    "\n",
    "    MIN_SALARY = 30000\n",
    "    \n",
    "    def __init__(self, name, salary=0):\n",
    "        self.name = name\n",
    "        if (salary < 0):\n",
    "            print (\"Invalid salary!\")\n",
    "            salary = 0\n",
    "        self.salary = salary \n",
    "        self.hire_date = datetime.today()\n",
    "\n",
    "    @classmethod\n",
    "    def from_file(cls, filename):\n",
    "        with open(filename, r) as f:\n",
    "            name = f.readline()\n",
    "        return cls(name) #will call __init__"
   ]
  },
  {
   "cell_type": "code",
   "execution_count": null,
   "id": "cc04d8e1-173a-4768-bdf7-7598044161e2",
   "metadata": {},
   "outputs": [],
   "source": [
    "# Why do we care about class methods? They serve as alertnative contructors"
   ]
  },
  {
   "cell_type": "code",
   "execution_count": null,
   "id": "912accf7-f287-4e31-9680-6ce527fa1dff",
   "metadata": {},
   "outputs": [],
   "source": [
    "emp = Employee.from_file(\"employee.txt\")"
   ]
  },
  {
   "cell_type": "code",
   "execution_count": null,
   "id": "7cbba130-67dc-4fac-9b2f-ad54d5b1da69",
   "metadata": {},
   "outputs": [],
   "source": [
    "#### Practice ####"
   ]
  },
  {
   "cell_type": "code",
   "execution_count": 2,
   "id": "c192a5a6-4b79-488a-9be8-f45a41b33553",
   "metadata": {},
   "outputs": [
    {
     "name": "stdout",
     "output_type": "stream",
     "text": [
      "10\n",
      "10\n"
     ]
    }
   ],
   "source": [
    "# Create a Player class\n",
    "class Player:\n",
    "    MAX_POSITION = 10\n",
    "    def __init__(self):\n",
    "        self.position = 0\n",
    "\n",
    "\n",
    "# Print Player.MAX_POSITION       \n",
    "print(Player.MAX_POSITION)\n",
    "\n",
    "# Create a player p and print its MAX_POSITITON\n",
    "p = Player()\n",
    "print(p.MAX_POSITION)"
   ]
  },
  {
   "cell_type": "code",
   "execution_count": 3,
   "id": "2ed8b772-2ce2-403c-9274-172dd9ff3d57",
   "metadata": {},
   "outputs": [
    {
     "name": "stdout",
     "output_type": "stream",
     "text": [
      "|----------\n",
      "----|------\n",
      "---------|-\n",
      "----------|\n"
     ]
    }
   ],
   "source": [
    "class Player:\n",
    "    MAX_POSITION = 10\n",
    "    \n",
    "    def __init__(self):\n",
    "        self.position = 0\n",
    "\n",
    "    # Add a move() method with steps parameter\n",
    "    def move(self, steps):\n",
    "        updated_position = self.position + steps\n",
    "        updated_position = updated_position if updated_position < Player.MAX_POSITION else Player.MAX_POSITION \n",
    "        self.position = updated_position\n",
    "    \n",
    "    # This method provides a rudimentary visualization in the console    \n",
    "    def draw(self):\n",
    "        drawing = \"-\" * self.position + \"|\" +\"-\"*(Player.MAX_POSITION - self.position)\n",
    "        print(drawing)\n",
    "\n",
    "p = Player(); p.draw()\n",
    "p.move(4); p.draw()\n",
    "p.move(5); p.draw()\n",
    "p.move(3); p.draw()"
   ]
  },
  {
   "cell_type": "code",
   "execution_count": null,
   "id": "26827bf8-cc55-48fe-b871-66187507d8c5",
   "metadata": {},
   "outputs": [],
   "source": [
    "# Create Players p1 and p2\n",
    "p1 = Player()\n",
    "p2 = Player()\n",
    "\n",
    "print(\"MAX_SPEED of p1 and p2 before assignment:\")\n",
    "# Print p1.MAX_SPEED and p2.MAX_SPEED\n",
    "print(p1.MAX_SPEED)\n",
    "print(p2.MAX_SPEED)\n",
    "\n",
    "# Assign 7 to p1.MAX_SPEED\n",
    "p1.MAX_SPEED = 7\n",
    "\n",
    "print(\"MAX_SPEED of p1 and p2 after assignment:\")\n",
    "# Print p1.MAX_SPEED and p2.MAX_SPEED\n",
    "print(p1.MAX_SPEED)\n",
    "print(p2.MAX_SPEED)\n",
    "\n",
    "\n",
    "print(\"MAX_SPEED of Player:\")\n",
    "# Print Player.MAX_SPEED\n",
    "print(Player.MAX_SPEED)"
   ]
  }
 ],
 "metadata": {
  "kernelspec": {
   "display_name": "Python 3 (ipykernel)",
   "language": "python",
   "name": "python3"
  },
  "language_info": {
   "codemirror_mode": {
    "name": "ipython",
    "version": 3
   },
   "file_extension": ".py",
   "mimetype": "text/x-python",
   "name": "python",
   "nbconvert_exporter": "python",
   "pygments_lexer": "ipython3",
   "version": "3.13.2"
  }
 },
 "nbformat": 4,
 "nbformat_minor": 5
}
