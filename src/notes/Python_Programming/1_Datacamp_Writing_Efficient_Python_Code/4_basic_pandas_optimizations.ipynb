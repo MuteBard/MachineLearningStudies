{
 "cells": [
  {
   "cell_type": "code",
   "execution_count": 4,
   "id": "ce6b0b6c-8771-45ac-b6f2-e1485497d5e9",
   "metadata": {},
   "outputs": [],
   "source": [
    "# Prerequisites: Pandas Unit (Pandas_Foundations)"
   ]
  },
  {
   "cell_type": "code",
   "execution_count": 3,
   "id": "f469745f-6e62-407a-a1fb-65da89f711ac",
   "metadata": {},
   "outputs": [
    {
     "name": "stdout",
     "output_type": "stream",
     "text": [
      "  Team League  Year   RS   RA   W    G  Playoffs\n",
      "0  PIT     NL  2012  651  674  79  162         0\n",
      "1  PIT     NL  2011  610  712  72  162         0\n",
      "2  PIT     NL  2010  587  866  57  162         0\n",
      "3  PIT     NL  2009  636  768  62  161         0\n",
      "4  PIT     NL  2008  735  884  67  162         0\n"
     ]
    }
   ],
   "source": [
    "import pandas as pd\n",
    "fileName = \"./csvs/pit.csv\"\n",
    "pit_df = pd.read_csv(fileName)\n",
    "\n",
    "print(pit_df)"
   ]
  },
  {
   "cell_type": "code",
   "execution_count": 6,
   "id": "9ca978e3-53fd-4996-8f5d-61281f909459",
   "metadata": {},
   "outputs": [
    {
     "name": "stdout",
     "output_type": "stream",
     "text": [
      "Team         PIT\n",
      "League        NL\n",
      "Year        2012\n",
      "RS           651\n",
      "RA           674\n",
      "W             79\n",
      "G            162\n",
      "Playoffs       0\n",
      "Name: 0, dtype: object\n",
      "Team         PIT\n",
      "League        NL\n",
      "Year        2011\n",
      "RS           610\n",
      "RA           712\n",
      "W             72\n",
      "G            162\n",
      "Playoffs       0\n",
      "Name: 1, dtype: object\n",
      "Team         PIT\n",
      "League        NL\n",
      "Year        2010\n",
      "RS           587\n",
      "RA           866\n",
      "W             57\n",
      "G            162\n",
      "Playoffs       0\n",
      "Name: 2, dtype: object\n",
      "Team         PIT\n",
      "League        NL\n",
      "Year        2009\n",
      "RS           636\n",
      "RA           768\n",
      "W             62\n",
      "G            161\n",
      "Playoffs       0\n",
      "Name: 3, dtype: object\n",
      "Team         PIT\n",
      "League        NL\n",
      "Year        2008\n",
      "RS           735\n",
      "RA           884\n",
      "W             67\n",
      "G            162\n",
      "Playoffs       0\n",
      "Name: 4, dtype: object\n"
     ]
    }
   ],
   "source": [
    "# # Iterate over pit_df and print each row\n",
    "for i, row in pit_df.iterrows():\n",
    "    print(row)"
   ]
  },
  {
   "cell_type": "code",
   "execution_count": 7,
   "id": "fbbb6b7b-65ed-440e-b183-50d9f4f484ab",
   "metadata": {},
   "outputs": [
    {
     "name": "stdout",
     "output_type": "stream",
     "text": [
      "0\n",
      "Team         PIT\n",
      "League        NL\n",
      "Year        2012\n",
      "RS           651\n",
      "RA           674\n",
      "W             79\n",
      "G            162\n",
      "Playoffs       0\n",
      "Name: 0, dtype: object\n",
      "<class 'pandas.core.series.Series'>\n",
      "1\n",
      "Team         PIT\n",
      "League        NL\n",
      "Year        2011\n",
      "RS           610\n",
      "RA           712\n",
      "W             72\n",
      "G            162\n",
      "Playoffs       0\n",
      "Name: 1, dtype: object\n",
      "<class 'pandas.core.series.Series'>\n",
      "2\n",
      "Team         PIT\n",
      "League        NL\n",
      "Year        2010\n",
      "RS           587\n",
      "RA           866\n",
      "W             57\n",
      "G            162\n",
      "Playoffs       0\n",
      "Name: 2, dtype: object\n",
      "<class 'pandas.core.series.Series'>\n",
      "3\n",
      "Team         PIT\n",
      "League        NL\n",
      "Year        2009\n",
      "RS           636\n",
      "RA           768\n",
      "W             62\n",
      "G            161\n",
      "Playoffs       0\n",
      "Name: 3, dtype: object\n",
      "<class 'pandas.core.series.Series'>\n",
      "4\n",
      "Team         PIT\n",
      "League        NL\n",
      "Year        2008\n",
      "RS           735\n",
      "RA           884\n",
      "W             67\n",
      "G            162\n",
      "Playoffs       0\n",
      "Name: 4, dtype: object\n",
      "<class 'pandas.core.series.Series'>\n"
     ]
    }
   ],
   "source": [
    "# Iterate over pit_df and print each index variable, row, and row type\n",
    "for i, row in pit_df.iterrows():\n",
    "    print(i)\n",
    "    print(row)\n",
    "    print(type(row))"
   ]
  },
  {
   "cell_type": "code",
   "execution_count": 9,
   "id": "369f501c-7525-4ff2-9bc4-b76d427ce09e",
   "metadata": {},
   "outputs": [
    {
     "name": "stdout",
     "output_type": "stream",
     "text": [
      "(0, Team         PIT\n",
      "League        NL\n",
      "Year        2012\n",
      "RS           651\n",
      "RA           674\n",
      "W             79\n",
      "G            162\n",
      "Playoffs       0\n",
      "Name: 0, dtype: object)\n",
      "(1, Team         PIT\n",
      "League        NL\n",
      "Year        2011\n",
      "RS           610\n",
      "RA           712\n",
      "W             72\n",
      "G            162\n",
      "Playoffs       0\n",
      "Name: 1, dtype: object)\n",
      "(2, Team         PIT\n",
      "League        NL\n",
      "Year        2010\n",
      "RS           587\n",
      "RA           866\n",
      "W             57\n",
      "G            162\n",
      "Playoffs       0\n",
      "Name: 2, dtype: object)\n",
      "(3, Team         PIT\n",
      "League        NL\n",
      "Year        2009\n",
      "RS           636\n",
      "RA           768\n",
      "W             62\n",
      "G            161\n",
      "Playoffs       0\n",
      "Name: 3, dtype: object)\n",
      "(4, Team         PIT\n",
      "League        NL\n",
      "Year        2008\n",
      "RS           735\n",
      "RA           884\n",
      "W             67\n",
      "G            162\n",
      "Playoffs       0\n",
      "Name: 4, dtype: object)\n"
     ]
    }
   ],
   "source": [
    "# Use one variable instead of two to store the result of .iterrows()\n",
    "for row_tuple in pit_df.iterrows():\n",
    "    print(row_tuple)"
   ]
  },
  {
   "cell_type": "code",
   "execution_count": 11,
   "id": "82e73637-287e-4415-b760-8740495da3b9",
   "metadata": {},
   "outputs": [
    {
     "name": "stdout",
     "output_type": "stream",
     "text": [
      "(0, Team         PIT\n",
      "League        NL\n",
      "Year        2012\n",
      "RS           651\n",
      "RA           674\n",
      "W             79\n",
      "G            162\n",
      "Playoffs       0\n",
      "Name: 0, dtype: object)\n",
      "<class 'tuple'>\n",
      "(1, Team         PIT\n",
      "League        NL\n",
      "Year        2011\n",
      "RS           610\n",
      "RA           712\n",
      "W             72\n",
      "G            162\n",
      "Playoffs       0\n",
      "Name: 1, dtype: object)\n",
      "<class 'tuple'>\n",
      "(2, Team         PIT\n",
      "League        NL\n",
      "Year        2010\n",
      "RS           587\n",
      "RA           866\n",
      "W             57\n",
      "G            162\n",
      "Playoffs       0\n",
      "Name: 2, dtype: object)\n",
      "<class 'tuple'>\n",
      "(3, Team         PIT\n",
      "League        NL\n",
      "Year        2009\n",
      "RS           636\n",
      "RA           768\n",
      "W             62\n",
      "G            161\n",
      "Playoffs       0\n",
      "Name: 3, dtype: object)\n",
      "<class 'tuple'>\n",
      "(4, Team         PIT\n",
      "League        NL\n",
      "Year        2008\n",
      "RS           735\n",
      "RA           884\n",
      "W             67\n",
      "G            162\n",
      "Playoffs       0\n",
      "Name: 4, dtype: object)\n",
      "<class 'tuple'>\n"
     ]
    }
   ],
   "source": [
    "# Print the row and type of each row\n",
    "for row_tuple in pit_df.iterrows():\n",
    "    print(row_tuple)\n",
    "    print(type(row_tuple))"
   ]
  },
  {
   "cell_type": "code",
   "execution_count": 12,
   "id": "bbe7c1b0-20e1-4581-a990-dcbe6650c003",
   "metadata": {},
   "outputs": [
    {
     "name": "stdout",
     "output_type": "stream",
     "text": [
      "  Team League  Year   RS   RA   W    G  Playoffs\n",
      "0  SFG     NL  2012  718  649  94  162         1\n",
      "1  SFG     NL  2011  570  578  86  162         0\n",
      "2  SFG     NL  2010  697  583  92  162         1\n",
      "3  SFG     NL  2009  657  611  88  162         0\n",
      "4  SFG     NL  2008  640  759  72  162         0\n"
     ]
    }
   ],
   "source": [
    "import pandas as pd\n",
    "fileName = \"./csvs/giants.csv\"\n",
    "giants_df = pd.read_csv(fileName)\n",
    "\n",
    "print(giants_df)"
   ]
  },
  {
   "cell_type": "code",
   "execution_count": 15,
   "id": "7fd584fa-b88f-483c-bf73-9ec0a2cd01cd",
   "metadata": {},
   "outputs": [],
   "source": [
    "def calc_run_diff(runs_scored, runs_allowed):\n",
    "    run_diff = runs_scored - runs_allowed\n",
    "    return run_diff"
   ]
  },
  {
   "cell_type": "code",
   "execution_count": 13,
   "id": "6edae90a-b246-406c-a70a-f2a2de9d704a",
   "metadata": {},
   "outputs": [],
   "source": [
    "# Create an empty list to store run differentials\n",
    "run_diffs = []"
   ]
  },
  {
   "cell_type": "code",
   "execution_count": 16,
   "id": "e1887ffc-6f93-43e2-88a8-55e8669b928e",
   "metadata": {},
   "outputs": [
    {
     "name": "stdout",
     "output_type": "stream",
     "text": [
      "  Team League  Year   RS   RA   W    G  Playoffs   RD\n",
      "0  SFG     NL  2012  718  649  94  162         1   69\n",
      "1  SFG     NL  2011  570  578  86  162         0   -8\n",
      "2  SFG     NL  2010  697  583  92  162         1  114\n",
      "3  SFG     NL  2009  657  611  88  162         0   46\n",
      "4  SFG     NL  2008  640  759  72  162         0 -119\n"
     ]
    }
   ],
   "source": [
    "# Write a for loop and collect runs allowed and runs scored for each row\n",
    "for i, row in giants_df.iterrows():\n",
    "    runs_scored = row[\"RS\"]\n",
    "    runs_allowed = row[\"RA\"]\n",
    "\n",
    "    run_diff = calc_run_diff(runs_scored, runs_allowed)\n",
    "\n",
    "    run_diffs.append(run_diff)\n",
    "\n",
    "giants_df[\"RD\"] = run_diffs\n",
    "print(giants_df)\n",
    "    "
   ]
  },
  {
   "cell_type": "code",
   "execution_count": 23,
   "id": "a921a0d0-e3e4-43aa-9ab5-6f316f648fcf",
   "metadata": {},
   "outputs": [
    {
     "name": "stdout",
     "output_type": "stream",
     "text": [
      "  Team League  Year   RS   RA   W    G  Playoffs   RD\n",
      "0  SFG     NL  2012  718  649  94  162         1   69\n",
      "1  SFG     NL  2011  570  578  86  162         0   -8\n",
      "2  SFG     NL  2010  697  583  92  162         1  114\n",
      "3  SFG     NL  2009  657  611  88  162         0   46\n",
      "4  SFG     NL  2008  640  759  72  162         0 -119\n"
     ]
    }
   ],
   "source": [
    "giants_df[\"RD\"] = giants_df[\"RS\"] - giants_df[\"RA\"] \n",
    "print(giants_df)"
   ]
  },
  {
   "cell_type": "code",
   "execution_count": 21,
   "id": "4b04034a-a565-4cf7-8fcd-36990e598e50",
   "metadata": {},
   "outputs": [],
   "source": [
    "# Why did we just do that if the second is far more efficient?\n",
    "# Sabi: The first approach is only useful if calc_run_diff() is doing something more complex than simple subtraction. \n",
    "# Otherwise, stick with the second approach! "
   ]
  },
  {
   "cell_type": "code",
   "execution_count": 35,
   "id": "7531a9a9-1370-421b-a1f4-78740647d876",
   "metadata": {},
   "outputs": [
    {
     "name": "stdout",
     "output_type": "stream",
     "text": [
      "98.6 ns ± 0.461 ns per loop (mean ± std. dev. of 7 runs, 10,000,000 loops each)\n"
     ]
    }
   ],
   "source": [
    "%%timeit\n",
    "import pandas as pd\n",
    "\n",
    "run_diffs = []\n",
    "def setDF():\n",
    "    for i, row in giants_df.iterrows():\n",
    "        runs_scored = row[\"RS\"]\n",
    "        runs_allowed = row[\"RA\"]\n",
    "        run_diff = calc_run_diff(runs_scored, runs_allowed)\n",
    "        run_diffs.append(run_diff)\n",
    "    \n",
    "    giants_df[\"RD\"] = run_diffs\n"
   ]
  },
  {
   "cell_type": "code",
   "execution_count": 36,
   "id": "c557e09a-c85d-4dd9-9e3f-b7c353f0ac8b",
   "metadata": {},
   "outputs": [
    {
     "name": "stdout",
     "output_type": "stream",
     "text": [
      "54.1 μs ± 461 ns per loop (mean ± std. dev. of 7 runs, 10,000 loops each)\n"
     ]
    }
   ],
   "source": [
    "%%timeit\n",
    "giants_df[\"RD\"] = giants_df[\"RS\"] - giants_df[\"RA\"] "
   ]
  },
  {
   "cell_type": "code",
   "execution_count": 57,
   "id": "3db283c8-43c8-42e8-9cab-6673c2722c8c",
   "metadata": {},
   "outputs": [],
   "source": [
    "#The second approach is insanely better...\n",
    "# https://www.youtube.com/watch?v=6M-NkQAo-3E"
   ]
  },
  {
   "cell_type": "code",
   "execution_count": null,
   "id": "3dbc4291-cbd9-4bff-a154-76d62e30b1c0",
   "metadata": {},
   "outputs": [],
   "source": [
    "for rt in df.intertuples():\n",
    "    print(df.RD) #Square bracket notation does not work"
   ]
  },
  {
   "cell_type": "code",
   "execution_count": 4,
   "id": "1ef9aea6-e2a5-4c12-ac41-6cbd3538c1a6",
   "metadata": {},
   "outputs": [
    {
     "name": "stdout",
     "output_type": "stream",
     "text": [
      "   Team League  Year   RS   RA   W    G  Playoffs\n",
      "0   TEX     AL  2012  808  707  93  162         1\n",
      "1   TEX     AL  2011  855  677  96  162         1\n",
      "2   TEX     AL  2010  787  687  90  162         1\n",
      "3   TEX     AL  2009  784  740  87  162         0\n",
      "4   TEX     AL  2008  901  967  79  162         0\n",
      "5   TEX     AL  2007  816  844  75  162         0\n",
      "6   TEX     AL  2006  835  784  80  162         0\n",
      "7   TEX     AL  2005  865  858  79  162         0\n",
      "8   TEX     AL  2004  860  794  89  162         0\n",
      "9   TEX     AL  2003  826  969  71  162         0\n",
      "10  TEX     AL  2002  843  882  72  162         0\n",
      "11  TEX     AL  2001  890  968  73  162         0\n",
      "12  TEX     AL  2000  848  974  71  162         0\n",
      "13  TEX     AL  1999  945  859  95  162         1\n",
      "14  TEX     AL  1998  940  871  88  162         1\n",
      "15  TEX     AL  1997  807  823  77  162         0\n",
      "16  TEX     AL  1996  928  799  90  163         1\n",
      "17  TEX     AL  1993  835  751  86  162         0\n",
      "18  TEX     AL  1992  682  753  77  162         0\n",
      "19  TEX     AL  1991  829  814  85  162         0\n",
      "20  TEX     AL  1990  676  696  83  162         0\n",
      "21  TEX     AL  1989  695  714  83  162         0\n",
      "22  TEX     AL  1988  637  735  70  161         0\n",
      "23  TEX     AL  1987  823  849  75  162         0\n",
      "24  TEX     AL  1986  771  743  87  162         0\n",
      "25  TEX     AL  1985  617  785  62  161         0\n",
      "26  TEX     AL  1984  656  714  69  161         0\n",
      "27  TEX     AL  1983  639  609  77  163         0\n",
      "28  TEX     AL  1982  590  749  64  162         0\n",
      "29  TEX     AL  1980  756  752  76  163         0\n",
      "30  TEX     AL  1979  750  698  83  162         0\n",
      "31  TEX     AL  1978  692  632  87  162         0\n",
      "32  TEX     AL  1977  767  657  94  162         0\n",
      "33  TEX     AL  1976  616  652  76  162         0\n",
      "34  TEX     AL  1975  714  733  79  162         0\n",
      "35  TEX     AL  1974  690  698  83  161         0\n",
      "36  TEX     AL  1973  619  844  57  162         0\n"
     ]
    }
   ],
   "source": [
    "import pandas as pd\n",
    "fileName = \"./csvs/rangers.csv\"\n",
    "rangers_df = pd.read_csv(fileName)\n",
    "\n",
    "print(rangers_df)"
   ]
  },
  {
   "cell_type": "code",
   "execution_count": 9,
   "id": "d31e8697-5f6e-4608-83cf-be5ac37e9b7e",
   "metadata": {},
   "outputs": [
    {
     "name": "stdout",
     "output_type": "stream",
     "text": [
      "Pandas(Index=0, Team='TEX', League='AL', Year=2012, RS=808, RA=707, W=93, G=162, Playoffs=1)\n",
      "Pandas(Index=1, Team='TEX', League='AL', Year=2011, RS=855, RA=677, W=96, G=162, Playoffs=1)\n",
      "Pandas(Index=2, Team='TEX', League='AL', Year=2010, RS=787, RA=687, W=90, G=162, Playoffs=1)\n",
      "Pandas(Index=3, Team='TEX', League='AL', Year=2009, RS=784, RA=740, W=87, G=162, Playoffs=0)\n",
      "Pandas(Index=4, Team='TEX', League='AL', Year=2008, RS=901, RA=967, W=79, G=162, Playoffs=0)\n",
      "Pandas(Index=5, Team='TEX', League='AL', Year=2007, RS=816, RA=844, W=75, G=162, Playoffs=0)\n",
      "Pandas(Index=6, Team='TEX', League='AL', Year=2006, RS=835, RA=784, W=80, G=162, Playoffs=0)\n",
      "Pandas(Index=7, Team='TEX', League='AL', Year=2005, RS=865, RA=858, W=79, G=162, Playoffs=0)\n",
      "Pandas(Index=8, Team='TEX', League='AL', Year=2004, RS=860, RA=794, W=89, G=162, Playoffs=0)\n",
      "Pandas(Index=9, Team='TEX', League='AL', Year=2003, RS=826, RA=969, W=71, G=162, Playoffs=0)\n",
      "Pandas(Index=10, Team='TEX', League='AL', Year=2002, RS=843, RA=882, W=72, G=162, Playoffs=0)\n",
      "Pandas(Index=11, Team='TEX', League='AL', Year=2001, RS=890, RA=968, W=73, G=162, Playoffs=0)\n",
      "Pandas(Index=12, Team='TEX', League='AL', Year=2000, RS=848, RA=974, W=71, G=162, Playoffs=0)\n",
      "Pandas(Index=13, Team='TEX', League='AL', Year=1999, RS=945, RA=859, W=95, G=162, Playoffs=1)\n",
      "Pandas(Index=14, Team='TEX', League='AL', Year=1998, RS=940, RA=871, W=88, G=162, Playoffs=1)\n",
      "Pandas(Index=15, Team='TEX', League='AL', Year=1997, RS=807, RA=823, W=77, G=162, Playoffs=0)\n",
      "Pandas(Index=16, Team='TEX', League='AL', Year=1996, RS=928, RA=799, W=90, G=163, Playoffs=1)\n",
      "Pandas(Index=17, Team='TEX', League='AL', Year=1993, RS=835, RA=751, W=86, G=162, Playoffs=0)\n",
      "Pandas(Index=18, Team='TEX', League='AL', Year=1992, RS=682, RA=753, W=77, G=162, Playoffs=0)\n",
      "Pandas(Index=19, Team='TEX', League='AL', Year=1991, RS=829, RA=814, W=85, G=162, Playoffs=0)\n",
      "Pandas(Index=20, Team='TEX', League='AL', Year=1990, RS=676, RA=696, W=83, G=162, Playoffs=0)\n",
      "Pandas(Index=21, Team='TEX', League='AL', Year=1989, RS=695, RA=714, W=83, G=162, Playoffs=0)\n",
      "Pandas(Index=22, Team='TEX', League='AL', Year=1988, RS=637, RA=735, W=70, G=161, Playoffs=0)\n",
      "Pandas(Index=23, Team='TEX', League='AL', Year=1987, RS=823, RA=849, W=75, G=162, Playoffs=0)\n",
      "Pandas(Index=24, Team='TEX', League='AL', Year=1986, RS=771, RA=743, W=87, G=162, Playoffs=0)\n",
      "Pandas(Index=25, Team='TEX', League='AL', Year=1985, RS=617, RA=785, W=62, G=161, Playoffs=0)\n",
      "Pandas(Index=26, Team='TEX', League='AL', Year=1984, RS=656, RA=714, W=69, G=161, Playoffs=0)\n",
      "Pandas(Index=27, Team='TEX', League='AL', Year=1983, RS=639, RA=609, W=77, G=163, Playoffs=0)\n",
      "Pandas(Index=28, Team='TEX', League='AL', Year=1982, RS=590, RA=749, W=64, G=162, Playoffs=0)\n",
      "Pandas(Index=29, Team='TEX', League='AL', Year=1980, RS=756, RA=752, W=76, G=163, Playoffs=0)\n",
      "Pandas(Index=30, Team='TEX', League='AL', Year=1979, RS=750, RA=698, W=83, G=162, Playoffs=0)\n",
      "Pandas(Index=31, Team='TEX', League='AL', Year=1978, RS=692, RA=632, W=87, G=162, Playoffs=0)\n",
      "Pandas(Index=32, Team='TEX', League='AL', Year=1977, RS=767, RA=657, W=94, G=162, Playoffs=0)\n",
      "Pandas(Index=33, Team='TEX', League='AL', Year=1976, RS=616, RA=652, W=76, G=162, Playoffs=0)\n",
      "Pandas(Index=34, Team='TEX', League='AL', Year=1975, RS=714, RA=733, W=79, G=162, Playoffs=0)\n",
      "Pandas(Index=35, Team='TEX', League='AL', Year=1974, RS=690, RA=698, W=83, G=161, Playoffs=0)\n",
      "Pandas(Index=36, Team='TEX', League='AL', Year=1973, RS=619, RA=844, W=57, G=162, Playoffs=0)\n"
     ]
    }
   ],
   "source": [
    "for rt in rangers_df.itertuples():\n",
    "    print(rt)\n"
   ]
  },
  {
   "cell_type": "code",
   "execution_count": 10,
   "id": "2d76602f-2fcf-4217-b76d-df5a1a6b3951",
   "metadata": {},
   "outputs": [
    {
     "name": "stdout",
     "output_type": "stream",
     "text": [
      "0 2012 93\n",
      "1 2011 96\n",
      "2 2010 90\n",
      "3 2009 87\n",
      "4 2008 79\n",
      "5 2007 75\n",
      "6 2006 80\n",
      "7 2005 79\n",
      "8 2004 89\n",
      "9 2003 71\n",
      "10 2002 72\n",
      "11 2001 73\n",
      "12 2000 71\n",
      "13 1999 95\n",
      "14 1998 88\n",
      "15 1997 77\n",
      "16 1996 90\n",
      "17 1993 86\n",
      "18 1992 77\n",
      "19 1991 85\n",
      "20 1990 83\n",
      "21 1989 83\n",
      "22 1988 70\n",
      "23 1987 75\n",
      "24 1986 87\n",
      "25 1985 62\n",
      "26 1984 69\n",
      "27 1983 77\n",
      "28 1982 64\n",
      "29 1980 76\n",
      "30 1979 83\n",
      "31 1978 87\n",
      "32 1977 94\n",
      "33 1976 76\n",
      "34 1975 79\n",
      "35 1974 83\n",
      "36 1973 57\n"
     ]
    }
   ],
   "source": [
    "for row in rangers_df.itertuples():\n",
    "    i = row.Index\n",
    "    year = row.Year\n",
    "    wins = row.W\n",
    "    print(i, year, wins)"
   ]
  },
  {
   "cell_type": "code",
   "execution_count": 23,
   "id": "b9a4fbcb-5921-48a7-aa67-7ada67c2fd12",
   "metadata": {},
   "outputs": [
    {
     "name": "stdout",
     "output_type": "stream",
     "text": [
      "0 2012 93\n",
      "1 2011 96\n",
      "2 2010 90\n",
      "13 1999 95\n",
      "14 1998 88\n",
      "16 1996 90\n"
     ]
    }
   ],
   "source": [
    "for row in rangers_df.itertuples():\n",
    "    i = row.Index\n",
    "    year = row.Year\n",
    "    wins = row.W\n",
    "    if row.Playoffs == 1:\n",
    "        print(i, year, wins)"
   ]
  },
  {
   "cell_type": "code",
   "execution_count": 24,
   "id": "10f5a425-e327-4cc7-ad3b-51c2435c111b",
   "metadata": {},
   "outputs": [
    {
     "name": "stdout",
     "output_type": "stream",
     "text": [
      "    Year  Wins\n",
      "0   2012    93\n",
      "1   2011    96\n",
      "2   2010    90\n",
      "13  1999    95\n",
      "14  1998    88\n",
      "16  1996    90\n"
     ]
    }
   ],
   "source": [
    "rangers_df_playoffs = rangers_df[rangers_df[\"Playoffs\"] == 1].sort_values(\"Year\", ascending = False)\n",
    "# Rename the 'W' column to 'wins'\n",
    "rangers_df_playoffs.rename(columns={'W': 'Wins'}, inplace=True)\n",
    "\n",
    "print(rangers_df_playoffs[[\"Year\", \"Wins\"]])"
   ]
  },
  {
   "cell_type": "code",
   "execution_count": 34,
   "id": "a988bb26-e0b0-4b59-a880-d9cd16e68eb7",
   "metadata": {},
   "outputs": [
    {
     "name": "stdout",
     "output_type": "stream",
     "text": [
      "195 μs ± 1.98 μs per loop (mean ± std. dev. of 7 runs, 1,000 loops each)\n"
     ]
    }
   ],
   "source": [
    "%%timeit\n",
    "for row in rangers_df.itertuples():\n",
    "    i = row.Index\n",
    "    year = row.Year\n",
    "    wins = row.W\n",
    "    if row.Playoffs == 1:\n",
    "        x = 0"
   ]
  },
  {
   "cell_type": "code",
   "execution_count": 27,
   "id": "cb31ee56-7b2e-48b8-9d1b-384890e99c01",
   "metadata": {},
   "outputs": [
    {
     "name": "stdout",
     "output_type": "stream",
     "text": [
      "228 μs ± 4.4 μs per loop (mean ± std. dev. of 7 runs, 1,000 loops each)\n"
     ]
    }
   ],
   "source": [
    "%%timeit\n",
    "rangers_df_playoffs = rangers_df[rangers_df[\"Playoffs\"] == 1].sort_values(\"Year\", ascending = False)\n",
    "# Rename the 'W' column to 'wins'\n",
    "rangers_df_playoffs.rename(columns={'W': 'Wins'}, inplace=True)"
   ]
  },
  {
   "cell_type": "code",
   "execution_count": null,
   "id": "a7b4a948-3a2b-4635-89f4-1735c75fe263",
   "metadata": {},
   "outputs": [],
   "source": [
    "# interesting"
   ]
  },
  {
   "cell_type": "code",
   "execution_count": 3,
   "id": "a371d254-9cab-4859-9089-9c53d95f8a48",
   "metadata": {},
   "outputs": [
    {
     "name": "stdout",
     "output_type": "stream",
     "text": [
      "   Team League  Year   RS   RA    W    G  Playoffs\n",
      "0   NYY     AL  2012  804  668   95  162         1\n",
      "1   NYY     AL  2011  867  657   97  162         1\n",
      "2   NYY     AL  2010  859  693   95  162         1\n",
      "3   NYY     AL  2009  915  753  103  162         1\n",
      "4   NYY     AL  2008  789  727   89  162         0\n",
      "5   NYY     AL  2007  968  777   94  162         1\n",
      "6   NYY     AL  2006  930  767   97  162         1\n",
      "7   NYY     AL  2005  886  789   95  162         1\n",
      "8   NYY     AL  2004  897  808  101  162         1\n",
      "9   NYY     AL  2003  877  716  101  163         1\n",
      "10  NYY     AL  2002  897  697  103  161         1\n",
      "11  NYY     AL  2001  804  713   95  161         1\n",
      "12  NYY     AL  2000  871  814   87  161         1\n",
      "13  NYY     AL  1999  900  731   98  162         1\n",
      "14  NYY     AL  1998  965  656  114  162         1\n",
      "15  NYY     AL  1997  891  688   96  162         1\n",
      "16  NYY     AL  1996  871  787   92  162         1\n",
      "17  NYY     AL  1993  821  761   88  162         0\n",
      "18  NYY     AL  1992  733  746   76  162         0\n",
      "19  NYY     AL  1991  674  777   71  162         0\n",
      "20  NYY     AL  1990  603  749   67  162         0\n",
      "21  NYY     AL  1989  698  792   74  161         0\n",
      "22  NYY     AL  1988  772  748   85  161         0\n",
      "23  NYY     AL  1987  788  758   89  162         0\n",
      "24  NYY     AL  1986  797  738   90  162         0\n",
      "25  NYY     AL  1985  839  660   97  161         0\n",
      "26  NYY     AL  1984  758  679   87  162         0\n",
      "27  NYY     AL  1983  770  703   91  162         0\n",
      "28  NYY     AL  1982  709  716   79  162         0\n",
      "29  NYY     AL  1980  820  662  103  162         1\n",
      "30  NYY     AL  1979  734  672   89  160         0\n",
      "31  NYY     AL  1978  735  582  100  163         1\n",
      "32  NYY     AL  1977  831  651  100  162         1\n",
      "33  NYY     AL  1976  730  575   97  159         1\n",
      "34  NYY     AL  1975  681  588   83  160         0\n",
      "35  NYY     AL  1974  671  623   89  162         0\n",
      "36  NYY     AL  1973  641  610   80  162         0\n",
      "37  NYY     AL  1971  648  641   81  162         0\n",
      "38  NYY     AL  1970  680  612   93  163         0\n",
      "39  NYY     AL  1969  562  587   80  162         0\n",
      "40  NYY     AL  1968  536  531   83  164         0\n",
      "41  NYY     AL  1967  522  621   72  163         0\n",
      "42  NYY     AL  1966  611  612   70  160         0\n",
      "43  NYY     AL  1965  611  604   77  162         0\n",
      "44  NYY     AL  1964  730  577   99  164         1\n",
      "45  NYY     AL  1963  714  547  104  161         1\n",
      "46  NYY     AL  1962  817  680   96  162         1\n"
     ]
    }
   ],
   "source": [
    "import pandas as pd\n",
    "fileName = \"./csvs/yankees.csv\"\n",
    "yankees_df = pd.read_csv(fileName)\n",
    "\n",
    "print(yankees_df)"
   ]
  },
  {
   "cell_type": "code",
   "execution_count": 4,
   "id": "09e83bb9-f46f-4b32-a078-e3ef0bf812a9",
   "metadata": {},
   "outputs": [],
   "source": [
    "\n",
    "def calc_run_diff(runs_scored, runs_allowed):\n",
    "    run_diff = runs_scored - runs_allowed\n",
    "    return run_diff"
   ]
  },
  {
   "cell_type": "code",
   "execution_count": 44,
   "id": "8634ebc5-7081-4109-a91b-94452eeb9ea1",
   "metadata": {},
   "outputs": [],
   "source": [
    "run_diffs = []\n",
    "\n",
    "for row in yankees_df.itertuples():\n",
    "    runs_scored = row.RS\n",
    "    runs_allowed = row.RA\n",
    "    run_diff = calc_run_diff(runs_scored, runs_allowed)\n",
    "    run_diffs.append(run_diff)\n"
   ]
  },
  {
   "cell_type": "code",
   "execution_count": 45,
   "id": "cb2eb7ca-5a1c-432b-aa3c-b83ceb1899a5",
   "metadata": {},
   "outputs": [
    {
     "name": "stdout",
     "output_type": "stream",
     "text": [
      "   Team League  Year   RS   RA    W    G  Playoffs   RD\n",
      "0   NYY     AL  2012  804  668   95  162         1  136\n",
      "1   NYY     AL  2011  867  657   97  162         1  210\n",
      "2   NYY     AL  2010  859  693   95  162         1  166\n",
      "3   NYY     AL  2009  915  753  103  162         1  162\n",
      "4   NYY     AL  2008  789  727   89  162         0   62\n",
      "5   NYY     AL  2007  968  777   94  162         1  191\n",
      "6   NYY     AL  2006  930  767   97  162         1  163\n",
      "7   NYY     AL  2005  886  789   95  162         1   97\n",
      "8   NYY     AL  2004  897  808  101  162         1   89\n",
      "9   NYY     AL  2003  877  716  101  163         1  161\n",
      "10  NYY     AL  2002  897  697  103  161         1  200\n",
      "11  NYY     AL  2001  804  713   95  161         1   91\n",
      "12  NYY     AL  2000  871  814   87  161         1   57\n",
      "13  NYY     AL  1999  900  731   98  162         1  169\n",
      "14  NYY     AL  1998  965  656  114  162         1  309\n",
      "15  NYY     AL  1997  891  688   96  162         1  203\n",
      "16  NYY     AL  1996  871  787   92  162         1   84\n",
      "17  NYY     AL  1993  821  761   88  162         0   60\n",
      "18  NYY     AL  1992  733  746   76  162         0  -13\n",
      "19  NYY     AL  1991  674  777   71  162         0 -103\n",
      "20  NYY     AL  1990  603  749   67  162         0 -146\n",
      "21  NYY     AL  1989  698  792   74  161         0  -94\n",
      "22  NYY     AL  1988  772  748   85  161         0   24\n",
      "23  NYY     AL  1987  788  758   89  162         0   30\n",
      "24  NYY     AL  1986  797  738   90  162         0   59\n",
      "25  NYY     AL  1985  839  660   97  161         0  179\n",
      "26  NYY     AL  1984  758  679   87  162         0   79\n",
      "27  NYY     AL  1983  770  703   91  162         0   67\n",
      "28  NYY     AL  1982  709  716   79  162         0   -7\n",
      "29  NYY     AL  1980  820  662  103  162         1  158\n",
      "30  NYY     AL  1979  734  672   89  160         0   62\n",
      "31  NYY     AL  1978  735  582  100  163         1  153\n",
      "32  NYY     AL  1977  831  651  100  162         1  180\n",
      "33  NYY     AL  1976  730  575   97  159         1  155\n",
      "34  NYY     AL  1975  681  588   83  160         0   93\n",
      "35  NYY     AL  1974  671  623   89  162         0   48\n",
      "36  NYY     AL  1973  641  610   80  162         0   31\n",
      "37  NYY     AL  1971  648  641   81  162         0    7\n",
      "38  NYY     AL  1970  680  612   93  163         0   68\n",
      "39  NYY     AL  1969  562  587   80  162         0  -25\n",
      "40  NYY     AL  1968  536  531   83  164         0    5\n",
      "41  NYY     AL  1967  522  621   72  163         0  -99\n",
      "42  NYY     AL  1966  611  612   70  160         0   -1\n",
      "43  NYY     AL  1965  611  604   77  162         0    7\n",
      "44  NYY     AL  1964  730  577   99  164         1  153\n",
      "45  NYY     AL  1963  714  547  104  161         1  167\n",
      "46  NYY     AL  1962  817  680   96  162         1  137\n"
     ]
    }
   ],
   "source": [
    "yankees_df[\"RD\"] = run_diffs\n",
    "print(yankees_df)"
   ]
  },
  {
   "cell_type": "code",
   "execution_count": 50,
   "id": "9089eb4f-49d9-42ca-a8ae-627f062d64a3",
   "metadata": {},
   "outputs": [
    {
     "name": "stdout",
     "output_type": "stream",
     "text": [
      "Team         0\n",
      "League       0\n",
      "Year         0\n",
      "RS           5\n",
      "RA          12\n",
      "W           14\n",
      "G           40\n",
      "Playoffs     0\n",
      "RD          14\n",
      "dtype: int64\n"
     ]
    }
   ],
   "source": [
    "max_rows = yankees_df.apply(lambda x: x.idxmax())\n",
    "print(max_rows) \n",
    "# Gets the index that has max value for that column"
   ]
  },
  {
   "cell_type": "code",
   "execution_count": 53,
   "id": "7f813fce-42c9-4688-bf97-0cd5b4636548",
   "metadata": {},
   "outputs": [
    {
     "name": "stdout",
     "output_type": "stream",
     "text": [
      "    Year   RD\n",
      "14  1998  309\n",
      "1   2011  210\n",
      "15  1997  203\n",
      "10  2002  200\n",
      "5   2007  191\n"
     ]
    }
   ],
   "source": [
    "yankees_df_diff_sorted = yankees_df.sort_values(\"RD\", ascending = False)[[\"Year\", \"RD\"]]\n",
    "print(yankees_df_diff_sorted.head())"
   ]
  },
  {
   "cell_type": "code",
   "execution_count": 9,
   "id": "2eaaf373-b6ed-470a-a21d-793d3e3f9cbb",
   "metadata": {},
   "outputs": [
    {
     "name": "stdout",
     "output_type": "stream",
     "text": [
      "    Year   RD\n",
      "14  1998  309\n",
      "1   2011  210\n",
      "15  1997  203\n",
      "10  2002  200\n",
      "5   2007  191\n"
     ]
    }
   ],
   "source": [
    "run_diffs_apply = yankees_df.apply(lambda row: calc_run_diff(row['RS'], row['RA']), axis = 1)\n",
    "yankees_df['RD'] = run_diffs_apply\n",
    "yankees_df_diff_sorted = yankees_df.sort_values(\"RD\", ascending = False)[[\"Year\", \"RD\"]]\n",
    "print(yankees_df_diff_sorted.head())\n",
    "# axis=0 typically refers to operations along rows or index (vertical direction).\n",
    "# axis=1 refers to operations along columns (horizontal direction)."
   ]
  },
  {
   "cell_type": "code",
   "execution_count": 10,
   "id": "8df48a0a-150e-4ac5-bfaf-8417d7dc1318",
   "metadata": {},
   "outputs": [
    {
     "name": "stdout",
     "output_type": "stream",
     "text": [
      "561 μs ± 7.47 μs per loop (mean ± std. dev. of 7 runs, 1,000 loops each)\n"
     ]
    }
   ],
   "source": [
    "%%timeit\n",
    "run_diffs_apply = yankees_df.apply(lambda row: calc_run_diff(row['RS'], row['RA']), axis = 1)\n",
    "yankees_df['RD'] = run_diffs_apply\n",
    "yankees_df_diff_sorted = yankees_df.sort_values(\"RD\", ascending = False)[[\"Year\", \"RD\"]]"
   ]
  },
  {
   "cell_type": "code",
   "execution_count": 27,
   "id": "dbff7d88-e252-40fc-8024-43e6e38d32bd",
   "metadata": {},
   "outputs": [
    {
     "name": "stdout",
     "output_type": "stream",
     "text": [
      "       RS   RA   W  Playoffs\n",
      "Year                        \n",
      "2012  697  577  90         0\n",
      "2011  707  614  91         1\n",
      "2010  802  649  96         1\n",
      "2009  803  754  84         0\n",
      "2008  774  671  97         1\n"
     ]
    }
   ],
   "source": [
    "import pandas as pd\n",
    "fileName = \"./csvs/rays.csv\"\n",
    "rays_df = pd.read_csv(fileName)\n",
    "rays_df.set_index('Year', inplace=True)\n",
    "print(rays_df)"
   ]
  },
  {
   "cell_type": "code",
   "execution_count": 18,
   "id": "86986b56-16d1-4f44-b967-aed3a0f25094",
   "metadata": {},
   "outputs": [
    {
     "name": "stdout",
     "output_type": "stream",
     "text": [
      "RS          3783\n",
      "RA          3265\n",
      "W            458\n",
      "Playoffs       3\n",
      "dtype: int64\n"
     ]
    }
   ],
   "source": [
    "# stat_totals = rays_df.apply(lambda row: sum, axis = 1) Wrong\n",
    "stat_totals = rays_df.sum(axis=0) #add vertically\n",
    "print(stat_totals)"
   ]
  },
  {
   "cell_type": "code",
   "execution_count": 28,
   "id": "e695193a-259c-4291-821c-d0fce89cd47b",
   "metadata": {},
   "outputs": [
    {
     "name": "stdout",
     "output_type": "stream",
     "text": [
      "Year\n",
      "2012    1274\n",
      "2011    1321\n",
      "2010    1451\n",
      "2009    1557\n",
      "2008    1445\n",
      "dtype: int64\n"
     ]
    }
   ],
   "source": [
    "total_runs_scored = rays_df[['RS', 'RA']].sum(axis=1)\n",
    "print(total_runs_scored)"
   ]
  },
  {
   "cell_type": "code",
   "execution_count": null,
   "id": "b8ae0901-fa55-4ef4-88e4-e8628f10c733",
   "metadata": {},
   "outputs": [],
   "source": [
    "# rays_df.reset_index(inplace=True)"
   ]
  },
  {
   "cell_type": "code",
   "execution_count": 29,
   "id": "8315f003-1514-4f8a-9456-ae2d7a8ec491",
   "metadata": {},
   "outputs": [
    {
     "name": "stdout",
     "output_type": "stream",
     "text": [
      "Year\n",
      "2012     No\n",
      "2011    Yes\n",
      "2010    Yes\n",
      "2009     No\n",
      "2008    Yes\n",
      "dtype: object\n"
     ]
    }
   ],
   "source": [
    "def text_playoffs(num_playoffs): \n",
    "    if num_playoffs == 1:\n",
    "        return 'Yes'\n",
    "    else:\n",
    "        return 'No'\n",
    "\n",
    "textual_playoffs = rays_df.apply(lambda row: text_playoffs(row['Playoffs']), axis=1)\n",
    "print(textual_playoffs)\n"
   ]
  },
  {
   "cell_type": "code",
   "execution_count": 35,
   "id": "f200ac3c-1363-4c84-ad43-62e003e982ff",
   "metadata": {},
   "outputs": [
    {
     "name": "stdout",
     "output_type": "stream",
     "text": [
      "   Team League  Year   RS   RA    W    G  Playoffs\n",
      "0   ARI     NL  2012  734  688   81  162         0\n",
      "1   ARI     NL  2011  731  662   94  162         1\n",
      "2   ARI     NL  2010  713  836   65  162         0\n",
      "3   ARI     NL  2009  720  782   70  162         0\n",
      "4   ARI     NL  2008  720  706   82  162         0\n",
      "5   ARI     NL  2007  712  732   90  162         1\n",
      "6   ARI     NL  2006  773  788   76  162         0\n",
      "7   ARI     NL  2005  696  856   77  162         0\n",
      "8   ARI     NL  2004  615  899   51  162         0\n",
      "9   ARI     NL  2003  717  685   84  162         0\n",
      "10  ARI     NL  2002  819  674   98  162         1\n",
      "11  ARI     NL  2001  818  677   92  162         1\n",
      "12  ARI     NL  2000  792  754   85  162         0\n",
      "13  ARI     NL  1999  908  676  100  162         1\n",
      "14  ARI     NL  1998  665  812   65  162         0\n"
     ]
    }
   ],
   "source": [
    "import pandas as pd\n",
    "\n",
    "fileName = \"./csvs/dbacks.csv\"\n",
    "dbacks_df = pd.read_csv(fileName)\n",
    "print(dbacks_df)"
   ]
  },
  {
   "cell_type": "code",
   "execution_count": 32,
   "id": "f8eeda9a-f59d-4fab-8a6e-07626d94417c",
   "metadata": {},
   "outputs": [
    {
     "name": "stdout",
     "output_type": "stream",
     "text": [
      "  Team League  Year   RS   RA   W    G  Playoffs\n",
      "0  ARI     NL  2012  734  688  81  162         0\n",
      "1  ARI     NL  2011  731  662  94  162         1\n",
      "2  ARI     NL  2010  713  836  65  162         0\n",
      "3  ARI     NL  2009  720  782  70  162         0\n",
      "4  ARI     NL  2008  720  706  82  162         0\n"
     ]
    }
   ],
   "source": [
    "print(dbacks_df.head())"
   ]
  },
  {
   "cell_type": "code",
   "execution_count": 37,
   "id": "19c76791-9c63-4b28-b476-c788324dc1cf",
   "metadata": {},
   "outputs": [],
   "source": [
    "import numpy as np\n",
    "\n",
    "def calc_win_perc(wins, games_played):\n",
    "    win_perc = wins / games_played\n",
    "    return np.round(win_perc,2)\n"
   ]
  },
  {
   "cell_type": "code",
   "execution_count": 43,
   "id": "2fe557ab-3217-451b-9cf4-1eb3f0bf4085",
   "metadata": {},
   "outputs": [
    {
     "name": "stdout",
     "output_type": "stream",
     "text": [
      "Year\n",
      "2012    0.50\n",
      "2011    0.58\n",
      "2010    0.40\n",
      "2009    0.43\n",
      "2008    0.51\n",
      "2007    0.56\n",
      "2006    0.47\n",
      "2005    0.48\n",
      "2004    0.31\n",
      "2003    0.52\n",
      "2002    0.60\n",
      "2001    0.57\n",
      "2000    0.52\n",
      "1999    0.62\n",
      "1998    0.40\n",
      "dtype: float64 \n",
      "\n"
     ]
    }
   ],
   "source": [
    "# Create a win percentage Series \n",
    "win_percs = dbacks_df.apply(lambda row: calc_win_perc(row['W'], row['G']), axis=1)\n",
    "print(win_percs, '\\n')"
   ]
  },
  {
   "cell_type": "code",
   "execution_count": 45,
   "id": "6136491b-915e-4f8d-aa36-67ae92dbd839",
   "metadata": {},
   "outputs": [
    {
     "name": "stdout",
     "output_type": "stream",
     "text": [
      "     Team League   RS   RA    W    G  Playoffs    WP\n",
      "Year                                                \n",
      "2012  ARI     NL  734  688   81  162         0  0.50\n",
      "2011  ARI     NL  731  662   94  162         1  0.58\n",
      "2010  ARI     NL  713  836   65  162         0  0.40\n",
      "2009  ARI     NL  720  782   70  162         0  0.43\n",
      "2008  ARI     NL  720  706   82  162         0  0.51\n",
      "2007  ARI     NL  712  732   90  162         1  0.56\n",
      "2006  ARI     NL  773  788   76  162         0  0.47\n",
      "2005  ARI     NL  696  856   77  162         0  0.48\n",
      "2004  ARI     NL  615  899   51  162         0  0.31\n",
      "2003  ARI     NL  717  685   84  162         0  0.52\n",
      "2002  ARI     NL  819  674   98  162         1  0.60\n",
      "2001  ARI     NL  818  677   92  162         1  0.57\n",
      "2000  ARI     NL  792  754   85  162         0  0.52\n",
      "1999  ARI     NL  908  676  100  162         1  0.62\n",
      "1998  ARI     NL  665  812   65  162         0  0.40\n"
     ]
    }
   ],
   "source": [
    "# Append a new column to dbacks_df\n",
    "dbacks_df['WP'] = win_percs\n",
    "print(dbacks_df)"
   ]
  },
  {
   "cell_type": "code",
   "execution_count": 47,
   "id": "45083155-6b24-4268-824a-0403ac08b90b",
   "metadata": {},
   "outputs": [
    {
     "name": "stdout",
     "output_type": "stream",
     "text": [
      "     Team League   RS   RA    W    G  Playoffs    WP\n",
      "Year                                                \n",
      "2012  ARI     NL  734  688   81  162         0  0.50\n",
      "2011  ARI     NL  731  662   94  162         1  0.58\n",
      "2008  ARI     NL  720  706   82  162         0  0.51\n",
      "2007  ARI     NL  712  732   90  162         1  0.56\n",
      "2003  ARI     NL  717  685   84  162         0  0.52\n",
      "2002  ARI     NL  819  674   98  162         1  0.60\n",
      "2001  ARI     NL  818  677   92  162         1  0.57\n",
      "2000  ARI     NL  792  754   85  162         0  0.52\n",
      "1999  ARI     NL  908  676  100  162         1  0.62\n"
     ]
    }
   ],
   "source": [
    "# Display dbacks_df where WP is greater than 0.50\n",
    "good_WP_dback_df = dbacks_df[dbacks_df['WP'] >= 0.50]\n",
    "print(good_WP_dback_df)"
   ]
  },
  {
   "cell_type": "code",
   "execution_count": 49,
   "id": "add13e9f-182e-40a2-8d02-75350c87cb84",
   "metadata": {},
   "outputs": [
    {
     "name": "stdout",
     "output_type": "stream",
     "text": [
      "     Team League   RS   RA    W    G  Playoffs    WP\n",
      "Year                                                \n",
      "1999  ARI     NL  908  676  100  162         1  0.62\n",
      "2002  ARI     NL  819  674   98  162         1  0.60\n",
      "2011  ARI     NL  731  662   94  162         1  0.58\n",
      "2001  ARI     NL  818  677   92  162         1  0.57\n",
      "2007  ARI     NL  712  732   90  162         1  0.56\n",
      "2000  ARI     NL  792  754   85  162         0  0.52\n",
      "2003  ARI     NL  717  685   84  162         0  0.52\n",
      "2008  ARI     NL  720  706   82  162         0  0.51\n",
      "2012  ARI     NL  734  688   81  162         0  0.50\n"
     ]
    }
   ],
   "source": [
    "dbacks_df_WP_sorted = good_WP_dback_df.sort_values(\"WP\", ascending = False)\n",
    "print(dbacks_df_WP_sorted)"
   ]
  },
  {
   "cell_type": "code",
   "execution_count": 55,
   "id": "ebe50296-00b1-4205-be71-49e7cbb51ece",
   "metadata": {},
   "outputs": [
    {
     "name": "stdout",
     "output_type": "stream",
     "text": [
      "     Team League  Year   RS   RA    W    G  Playoffs\n",
      "0     ARI     NL  2012  734  688   81  162         0\n",
      "1     ATL     NL  2012  700  600   94  162         1\n",
      "2     BAL     AL  2012  712  705   93  162         1\n",
      "3     BOS     AL  2012  734  806   69  162         0\n",
      "4     CHC     NL  2012  613  759   61  162         0\n",
      "...   ...    ...   ...  ...  ...  ...  ...       ...\n",
      "1227  PHI     NL  1962  705  759   81  161         0\n",
      "1228  PIT     NL  1962  706  626   93  161         0\n",
      "1229  SFG     NL  1962  878  690  103  165         1\n",
      "1230  STL     NL  1962  774  664   84  163         0\n",
      "1231  WSA     AL  1962  599  716   60  162         0\n",
      "\n",
      "[1232 rows x 8 columns]\n"
     ]
    }
   ],
   "source": [
    "import pandas as pd\n",
    "\n",
    "data = {\n",
    "    \"Team\": ['ARI', 'ATL', 'BAL', 'BOS', 'CHC', 'CHW', 'CIN', 'CLE', 'COL', 'DET', 'HOU', 'KCR', 'LAA', 'LAD', 'MIA', 'MIL', 'MIN', 'NYM', 'NYY', 'OAK', 'PHI', 'PIT', 'SDP', 'SEA', 'SFG', 'STL', 'TBR', 'TEX', 'TOR', 'WSN', 'ARI', 'ATL', 'BAL', 'BOS', 'CHC', 'CHW', 'CIN', 'CLE', 'COL', 'DET', 'FLA', 'HOU', 'KCR', 'LAA', 'LAD', 'MIL', 'MIN', 'NYM', 'NYY', 'OAK', 'PHI', 'PIT', 'SDP', 'SEA', 'SFG', 'STL', 'TBR', 'TEX', 'TOR', 'WSN', 'ARI', 'ATL', 'BAL', 'BOS', 'CHC', 'CHW', 'CIN', 'CLE', 'COL', 'DET', 'FLA', 'HOU', 'KCR', 'LAA', 'LAD', 'MIL', 'MIN', 'NYM', 'NYY', 'OAK', 'PHI', 'PIT', 'SDP', 'SEA', 'SFG', 'STL', 'TBR', 'TEX', 'TOR', 'WSN', 'ARI', 'ATL', 'BAL', 'BOS', 'CHC', 'CHW', 'CIN', 'CLE', 'COL', 'DET', 'FLA', 'HOU', 'KCR', 'LAA', 'LAD', 'MIL', 'MIN', 'NYM', 'NYY', 'OAK', 'PHI', 'PIT', 'SDP', 'SEA', 'SFG', 'STL', 'TBR', 'TEX', 'TOR', 'WSN', 'ARI', 'ATL', 'BAL', 'BOS', 'CHC', 'CHW', 'CIN', 'CLE', 'COL', 'DET', 'FLA', 'HOU', 'KCR', 'LAA', 'LAD', 'MIL', 'MIN', 'NYM', 'NYY', 'OAK', 'PHI', 'PIT', 'SDP', 'SEA', 'SFG', 'STL', 'TBR', 'TEX', 'TOR', 'WSN', 'ARI', 'ATL', 'BAL', 'BOS', 'CHC', 'CHW', 'CIN', 'CLE', 'COL', 'DET', 'FLA', 'HOU', 'KCR', 'LAA', 'LAD', 'MIL', 'MIN', 'NYM', 'NYY', 'OAK', 'PHI', 'PIT', 'SDP', 'SEA', 'SFG', 'STL', 'TBD', 'TEX', 'TOR', 'WSN', 'ARI', 'ATL', 'BAL', 'BOS', 'CHC', 'CHW', 'CIN', 'CLE', 'COL', 'DET', 'FLA', 'HOU', 'KCR', 'LAA', 'LAD', 'MIL', 'MIN', 'NYM', 'NYY', 'OAK', 'PHI', 'PIT', 'SDP', 'SEA', 'SFG', 'STL', 'TBD', 'TEX', 'TOR', 'WSN', 'ARI', 'ATL', 'BAL', 'BOS', 'CHC', 'CHW', 'CIN', 'CLE', 'COL', 'DET', 'FLA', 'HOU', 'KCR', 'LAA', 'LAD', 'MIL', 'MIN', 'NYM', 'NYY', 'OAK', 'PHI', 'PIT', 'SDP', 'SEA', 'SFG', 'STL', 'TBD', 'TEX', 'TOR', 'WSN', 'ANA', 'ARI', 'ATL', 'BAL', 'BOS', 'CHC', 'CHW', 'CIN', 'CLE', 'COL', 'DET', 'FLA', 'HOU', 'KCR', 'LAD', 'MIL', 'MIN', 'MON', 'NYM', 'NYY', 'OAK', 'PHI', 'PIT', 'SDP', 'SEA', 'SFG', 'STL', 'TBD', 'TEX', 'TOR', 'ANA', 'ARI', 'ATL', 'BAL', 'BOS', 'CHC', 'CHW', 'CIN', 'CLE', 'COL', 'DET', 'FLA', 'HOU', 'KCR', 'LAD', 'MIL', 'MIN', 'MON', 'NYM', 'NYY', 'OAK', 'PHI', 'PIT', 'SDP', 'SEA', 'SFG', 'STL', 'TBD', 'TEX', 'TOR', 'ANA', 'ARI', 'ATL', 'BAL', 'BOS', 'CHC', 'CHW', 'CIN', 'CLE', 'COL', 'DET', 'FLA', 'HOU', 'KCR', 'LAD', 'MIL', 'MIN', 'MON', 'NYM', 'NYY', 'OAK', 'PHI', 'PIT', 'SDP', 'SEA', 'SFG', 'STL', 'TBD', 'TEX', 'TOR', 'ANA', 'ARI', 'ATL', 'BAL', 'BOS', 'CHC', 'CHW', 'CIN', 'CLE', 'COL', 'DET', 'FLA', 'HOU', 'KCR', 'LAD', 'MIL', 'MIN', 'MON', 'NYM', 'NYY', 'OAK', 'PHI', 'PIT', 'SDP', 'SEA', 'SFG', 'STL', 'TBD', 'TEX', 'TOR', 'ANA', 'ARI', 'ATL', 'BAL', 'BOS', 'CHC', 'CHW', 'CIN', 'CLE', 'COL', 'DET', 'FLA', 'HOU', 'KCR', 'LAD', 'MIL', 'MIN', 'MON', 'NYM', 'NYY', 'OAK', 'PHI', 'PIT', 'SDP', 'SEA', 'SFG', 'STL', 'TBD', 'TEX', 'TOR', 'ANA', 'ARI', 'ATL', 'BAL', 'BOS', 'CHC', 'CHW', 'CIN', 'CLE', 'COL', 'DET', 'FLA', 'HOU', 'KCR', 'LAD', 'MIL', 'MIN', 'MON', 'NYM', 'NYY', 'OAK', 'PHI', 'PIT', 'SDP', 'SEA', 'SFG', 'STL', 'TBD', 'TEX', 'TOR', 'ANA', 'ARI', 'ATL', 'BAL', 'BOS', 'CHC', 'CHW', 'CIN', 'CLE', 'COL', 'DET', 'FLA', 'HOU', 'KCR', 'LAD', 'MIL', 'MIN', 'MON', 'NYM', 'NYY', 'OAK', 'PHI', 'PIT', 'SDP', 'SEA', 'SFG', 'STL', 'TBD', 'TEX', 'TOR', 'ANA', 'ATL', 'BAL', 'BOS', 'CHC', 'CHW', 'CIN', 'CLE', 'COL', 'DET', 'FLA', 'HOU', 'KCR', 'LAD', 'MIL', 'MIN', 'MON', 'NYM', 'NYY', 'OAK', 'PHI', 'PIT', 'SDP', 'SEA', 'SFG', 'STL', 'TEX', 'TOR', 'ATL', 'BAL', 'BOS', 'CAL', 'CHC', 'CHW', 'CIN', 'CLE', 'COL', 'DET', 'FLA', 'HOU', 'KCR', 'LAD', 'MIL', 'MIN', 'MON', 'NYM', 'NYY', 'OAK', 'PHI', 'PIT', 'SDP', 'SEA', 'SFG', 'STL', 'TEX', 'TOR', 'ATL', 'BAL', 'BOS', 'CAL', 'CHC', 'CHW', 'CIN', 'CLE', 'COL', 'DET', 'FLA', 'HOU', 'KCR', 'LAD', 'MIL', 'MIN', 'MON', 'NYM', 'NYY', 'OAK', 'PHI', 'PIT', 'SDP', 'SEA', 'SFG', 'STL', 'TEX', 'TOR', 'ATL', 'BAL', 'BOS', 'CAL', 'CHC', 'CHW', 'CIN', 'CLE', 'DET', 'HOU', 'KCR', 'LAD', 'MIL', 'MIN', 'MON', 'NYM', 'NYY', 'OAK', 'PHI', 'PIT', 'SDP', 'SEA', 'SFG', 'STL', 'TEX', 'TOR', 'ATL', 'BAL', 'BOS', 'CAL', 'CHC', 'CHW', 'CIN', 'CLE', 'DET', 'HOU', 'KCR', 'LAD', 'MIL', 'MIN', 'MON', 'NYM', 'NYY', 'OAK', 'PHI', 'PIT', 'SDP', 'SEA', 'SFG', 'STL', 'TEX', 'TOR', 'ATL', 'BAL', 'BOS', 'CAL', 'CHC', 'CHW', 'CIN', 'CLE', 'DET', 'HOU', 'KCR', 'LAD', 'MIL', 'MIN', 'MON', 'NYM', 'NYY', 'OAK', 'PHI', 'PIT', 'SDP', 'SEA', 'SFG', 'STL', 'TEX', 'TOR', 'ATL', 'BAL', 'BOS', 'CAL', 'CHC', 'CHW', 'CIN', 'CLE', 'DET', 'HOU', 'KCR', 'LAD', 'MIL', 'MIN', 'MON', 'NYM', 'NYY', 'OAK', 'PHI', 'PIT', 'SDP', 'SEA', 'SFG', 'STL', 'TEX', 'TOR', 'ATL', 'BAL', 'BOS', 'CAL', 'CHC', 'CHW', 'CIN', 'CLE', 'DET', 'HOU', 'KCR', 'LAD', 'MIL', 'MIN', 'MON', 'NYM', 'NYY', 'OAK', 'PHI', 'PIT', 'SDP', 'SEA', 'SFG', 'STL', 'TEX', 'TOR', 'ATL', 'BAL', 'BOS', 'CAL', 'CHC', 'CHW', 'CIN', 'CLE', 'DET', 'HOU', 'KCR', 'LAD', 'MIL', 'MIN', 'MON', 'NYM', 'NYY', 'OAK', 'PHI', 'PIT', 'SDP', 'SEA', 'SFG', 'STL', 'TEX', 'TOR', 'ATL', 'BAL', 'BOS', 'CAL', 'CHC', 'CHW', 'CIN', 'CLE', 'DET', 'HOU', 'KCR', 'LAD', 'MIL', 'MIN', 'MON', 'NYM', 'NYY', 'OAK', 'PHI', 'PIT', 'SDP', 'SEA', 'SFG', 'STL', 'TEX', 'TOR', 'ATL', 'BAL', 'BOS', 'CAL', 'CHC', 'CHW', 'CIN', 'CLE', 'DET', 'HOU', 'KCR', 'LAD', 'MIL', 'MIN', 'MON', 'NYM', 'NYY', 'OAK', 'PHI', 'PIT', 'SDP', 'SEA', 'SFG', 'STL', 'TEX', 'TOR', 'ATL', 'BAL', 'BOS', 'CAL', 'CHC', 'CHW', 'CIN', 'CLE', 'DET', 'HOU', 'KCR', 'LAD', 'MIL', 'MIN', 'MON', 'NYM', 'NYY', 'OAK', 'PHI', 'PIT', 'SDP', 'SEA', 'SFG', 'STL', 'TEX', 'TOR', 'ATL', 'BAL', 'BOS', 'CAL', 'CHC', 'CHW', 'CIN', 'CLE', 'DET', 'HOU', 'KCR', 'LAD', 'MIL', 'MIN', 'MON', 'NYM', 'NYY', 'OAK', 'PHI', 'PIT', 'SDP', 'SEA', 'SFG', 'STL', 'TEX', 'TOR', 'ATL', 'BAL', 'BOS', 'CAL', 'CHC', 'CHW', 'CIN', 'CLE', 'DET', 'HOU', 'KCR', 'LAD', 'MIL', 'MIN', 'MON', 'NYM', 'NYY', 'OAK', 'PHI', 'PIT', 'SDP', 'SEA', 'SFG', 'STL', 'TEX', 'TOR', 'ATL', 'BAL', 'BOS', 'CAL', 'CHC', 'CHW', 'CIN', 'CLE', 'DET', 'HOU', 'KCR', 'LAD', 'MIL', 'MIN', 'MON', 'NYM', 'NYY', 'OAK', 'PHI', 'PIT', 'SDP', 'SEA', 'SFG', 'STL', 'TEX', 'TOR', 'ATL', 'BAL', 'BOS', 'CAL', 'CHC', 'CHW', 'CIN', 'CLE', 'DET', 'HOU', 'KCR', 'LAD', 'MIL', 'MIN', 'MON', 'NYM', 'NYY', 'OAK', 'PHI', 'PIT', 'SDP', 'SEA', 'SFG', 'STL', 'TEX', 'TOR', 'ATL', 'BAL', 'BOS', 'CAL', 'CHC', 'CHW', 'CIN', 'CLE', 'DET', 'HOU', 'KCR', 'LAD', 'MIL', 'MIN', 'MON', 'NYM', 'NYY', 'OAK', 'PHI', 'PIT', 'SDP', 'SEA', 'SFG', 'STL', 'TEX', 'TOR', 'ATL', 'BAL', 'BOS', 'CAL', 'CHC', 'CHW', 'CIN', 'CLE', 'DET', 'HOU', 'KCR', 'LAD', 'MIL', 'MIN', 'MON', 'NYM', 'NYY', 'OAK', 'PHI', 'PIT', 'SDP', 'SEA', 'SFG', 'STL', 'TEX', 'TOR', 'ATL', 'BAL', 'BOS', 'CAL', 'CHC', 'CHW', 'CIN', 'CLE', 'DET', 'HOU', 'KCR', 'LAD', 'MIL', 'MIN', 'MON', 'NYM', 'NYY', 'OAK', 'PHI', 'PIT', 'SDP', 'SFG', 'STL', 'TEX', 'ATL', 'BAL', 'BOS', 'CAL', 'CHC', 'CHW', 'CIN', 'CLE', 'DET', 'HOU', 'KCR', 'LAD', 'MIL', 'MIN', 'MON', 'NYM', 'NYY', 'OAK', 'PHI', 'PIT', 'SDP', 'SFG', 'STL', 'TEX', 'ATL', 'BAL', 'BOS', 'CAL', 'CHC', 'CHW', 'CIN', 'CLE', 'DET', 'HOU', 'KCR', 'LAD', 'MIL', 'MIN', 'MON', 'NYM', 'NYY', 'OAK', 'PHI', 'PIT', 'SDP', 'SFG', 'STL', 'TEX', 'ATL', 'BAL', 'BOS', 'CAL', 'CHC', 'CHW', 'CIN', 'CLE', 'DET', 'HOU', 'KCR', 'LAD', 'MIL', 'MIN', 'MON', 'NYM', 'NYY', 'OAK', 'PHI', 'PIT', 'SDP', 'SFG', 'STL', 'TEX', 'ATL', 'BAL', 'BOS', 'CAL', 'CHC', 'CHW', 'CIN', 'CLE', 'DET', 'HOU', 'KCR', 'LAD', 'MIL', 'MIN', 'MON', 'NYM', 'NYY', 'OAK', 'PHI', 'PIT', 'SDP', 'SFG', 'STL', 'WSA', 'ATL', 'BAL', 'BOS', 'CAL', 'CHC', 'CHW', 'CIN', 'CLE', 'DET', 'HOU', 'KCR', 'LAD', 'MIL', 'MIN', 'MON', 'NYM', 'NYY', 'OAK', 'PHI', 'PIT', 'SDP', 'SFG', 'STL', 'WSA', 'ATL', 'BAL', 'BOS', 'CAL', 'CHC', 'CHW', 'CIN', 'CLE', 'DET', 'HOU', 'KCR', 'LAD', 'MIN', 'MON', 'NYM', 'NYY', 'OAK', 'PHI', 'PIT', 'SDP', 'SEP', 'SFG', 'STL', 'WSA', 'ATL', 'BAL', 'BOS', 'CAL', 'CHC', 'CHW', 'CIN', 'CLE', 'DET', 'HOU', 'LAD', 'MIN', 'NYM', 'NYY', 'OAK', 'PHI', 'PIT', 'SFG', 'STL', 'WSA', 'ATL', 'BAL', 'BOS', 'CAL', 'CHC', 'CHW', 'CIN', 'CLE', 'DET', 'HOU', 'KCA', 'LAD', 'MIN', 'NYM', 'NYY', 'PHI', 'PIT', 'SFG', 'STL', 'WSA', 'ATL', 'BAL', 'BOS', 'CAL', 'CHC', 'CHW', 'CIN', 'CLE', 'DET', 'HOU', 'KCA', 'LAD', 'MIN', 'NYM', 'NYY', 'PHI', 'PIT', 'SFG', 'STL', 'WSA', 'BAL', 'BOS', 'CAL', 'CHC', 'CHW', 'CIN', 'CLE', 'DET', 'HOU', 'KCA', 'LAD', 'MIN', 'MLN', 'NYM', 'NYY', 'PHI', 'PIT', 'SFG', 'STL', 'WSA', 'BAL', 'BOS', 'CHC', 'CHW', 'CIN', 'CLE', 'DET', 'HOU', 'KCA', 'LAA', 'LAD', 'MIN', 'MLN', 'NYM', 'NYY', 'PHI', 'PIT', 'SFG', 'STL', 'WSA', 'BAL', 'BOS', 'CHC', 'CHW', 'CIN', 'CLE', 'DET', 'HOU', 'KCA', 'LAA', 'LAD', 'MIN', 'MLN', 'NYM', 'NYY', 'PHI', 'PIT', 'SFG', 'STL', 'WSA', 'BAL', 'BOS', 'CHC', 'CHW', 'CIN', 'CLE', 'DET', 'HOU', 'KCA', 'LAA', 'LAD', 'MIN', 'MLN', 'NYM', 'NYY', 'PHI', 'PIT', 'SFG', 'STL', 'WSA'],\n",
    "    \"League\": ['NL', 'NL', 'AL', 'AL', 'NL', 'AL', 'NL', 'AL', 'NL', 'AL', 'NL', 'AL', 'AL', 'NL', 'NL', 'NL', 'AL', 'NL', 'AL', 'AL', 'NL', 'NL', 'NL', 'AL', 'NL', 'NL', 'AL', 'AL', 'AL', 'NL', 'NL', 'NL', 'AL', 'AL', 'NL', 'AL', 'NL', 'AL', 'NL', 'AL', 'NL', 'NL', 'AL', 'AL', 'NL', 'NL', 'AL', 'NL', 'AL', 'AL', 'NL', 'NL', 'NL', 'AL', 'NL', 'NL', 'AL', 'AL', 'AL', 'NL', 'NL', 'NL', 'AL', 'AL', 'NL', 'AL', 'NL', 'AL', 'NL', 'AL', 'NL', 'NL', 'AL', 'AL', 'NL', 'NL', 'AL', 'NL', 'AL', 'AL', 'NL', 'NL', 'NL', 'AL', 'NL', 'NL', 'AL', 'AL', 'AL', 'NL', 'NL', 'NL', 'AL', 'AL', 'NL', 'AL', 'NL', 'AL', 'NL', 'AL', 'NL', 'NL', 'AL', 'AL', 'NL', 'NL', 'AL', 'NL', 'AL', 'AL', 'NL', 'NL', 'NL', 'AL', 'NL', 'NL', 'AL', 'AL', 'AL', 'NL', 'NL', 'NL', 'AL', 'AL', 'NL', 'AL', 'NL', 'AL', 'NL', 'AL', 'NL', 'NL', 'AL', 'AL', 'NL', 'NL', 'AL', 'NL', 'AL', 'AL', 'NL', 'NL', 'NL', 'AL', 'NL', 'NL', 'AL', 'AL', 'AL', 'NL', 'NL', 'NL', 'AL', 'AL', 'NL', 'AL', 'NL', 'AL', 'NL', 'AL', 'NL', 'NL', 'AL', 'AL', 'NL', 'NL', 'AL', 'NL', 'AL', 'AL', 'NL', 'NL', 'NL', 'AL', 'NL', 'NL', 'AL', 'AL', 'AL', 'NL', 'NL', 'NL', 'AL', 'AL', 'NL', 'AL', 'NL', 'AL', 'NL', 'AL', 'NL', 'NL', 'AL', 'AL', 'NL', 'NL', 'AL', 'NL', 'AL', 'AL', 'NL', 'NL', 'NL', 'AL', 'NL', 'NL', 'AL', 'AL', 'AL', 'NL', 'NL', 'NL', 'AL', 'AL', 'NL', 'AL', 'NL', 'AL', 'NL', 'AL', 'NL', 'NL', 'AL', 'AL', 'NL', 'NL', 'AL', 'NL', 'AL', 'AL', 'NL', 'NL', 'NL', 'AL', 'NL', 'NL', 'AL', 'AL', 'AL', 'NL', 'AL', 'NL', 'NL', 'AL', 'AL', 'NL', 'AL', 'NL', 'AL', 'NL', 'AL', 'NL', 'NL', 'AL', 'NL', 'NL', 'AL', 'NL', 'NL', 'AL', 'AL', 'NL', 'NL', 'NL', 'AL', 'NL', 'NL', 'AL', 'AL', 'AL', 'AL', 'NL', 'NL', 'AL', 'AL', 'NL', 'AL', 'NL', 'AL', 'NL', 'AL', 'NL', 'NL', 'AL', 'NL', 'NL', 'AL', 'NL', 'NL', 'AL', 'AL', 'NL', 'NL', 'NL', 'AL', 'NL', 'NL', 'AL', 'AL', 'AL', 'AL', 'NL', 'NL', 'AL', 'AL', 'NL', 'AL', 'NL', 'AL', 'NL', 'AL', 'NL', 'NL', 'AL', 'NL', 'NL', 'AL', 'NL', 'NL', 'AL', 'AL', 'NL', 'NL', 'NL', 'AL', 'NL', 'NL', 'AL', 'AL', 'AL', 'AL', 'NL', 'NL', 'AL', 'AL', 'NL', 'AL', 'NL', 'AL', 'NL', 'AL', 'NL', 'NL', 'AL', 'NL', 'NL', 'AL', 'NL', 'NL', 'AL', 'AL', 'NL', 'NL', 'NL', 'AL', 'NL', 'NL', 'AL', 'AL', 'AL', 'AL', 'NL', 'NL', 'AL', 'AL', 'NL', 'AL', 'NL', 'AL', 'NL', 'AL', 'NL', 'NL', 'AL', 'NL', 'NL', 'AL', 'NL', 'NL', 'AL', 'AL', 'NL', 'NL', 'NL', 'AL', 'NL', 'NL', 'AL', 'AL', 'AL', 'AL', 'NL', 'NL', 'AL', 'AL', 'NL', 'AL', 'NL', 'AL', 'NL', 'AL', 'NL', 'NL', 'AL', 'NL', 'NL', 'AL', 'NL', 'NL', 'AL', 'AL', 'NL', 'NL', 'NL', 'AL', 'NL', 'NL', 'AL', 'AL', 'AL', 'AL', 'NL', 'NL', 'AL', 'AL', 'NL', 'AL', 'NL', 'AL', 'NL', 'AL', 'NL', 'NL', 'AL', 'NL', 'NL', 'AL', 'NL', 'NL', 'AL', 'AL', 'NL', 'NL', 'NL', 'AL', 'NL', 'NL', 'AL', 'AL', 'AL', 'AL', 'NL', 'AL', 'AL', 'NL', 'AL', 'NL', 'AL', 'NL', 'AL', 'NL', 'NL', 'AL', 'NL', 'AL', 'AL', 'NL', 'NL', 'AL', 'AL', 'NL', 'NL', 'NL', 'AL', 'NL', 'NL', 'AL', 'AL', 'NL', 'AL', 'AL', 'AL', 'NL', 'AL', 'NL', 'AL', 'NL', 'AL', 'NL', 'NL', 'AL', 'NL', 'AL', 'AL', 'NL', 'NL', 'AL', 'AL', 'NL', 'NL', 'NL', 'AL', 'NL', 'NL', 'AL', 'AL', 'NL', 'AL', 'AL', 'AL', 'NL', 'AL', 'NL', 'AL', 'NL', 'AL', 'NL', 'NL', 'AL', 'NL', 'AL', 'AL', 'NL', 'NL', 'AL', 'AL', 'NL', 'NL', 'NL', 'AL', 'NL', 'NL', 'AL', 'AL', 'NL', 'AL', 'AL', 'AL', 'NL', 'AL', 'NL', 'AL', 'AL', 'NL', 'AL', 'NL', 'AL', 'AL', 'NL', 'NL', 'AL', 'AL', 'NL', 'NL', 'NL', 'AL', 'NL', 'NL', 'AL', 'AL', 'NL', 'AL', 'AL', 'AL', 'NL', 'AL', 'NL', 'AL', 'AL', 'NL', 'AL', 'NL', 'AL', 'AL', 'NL', 'NL', 'AL', 'AL', 'NL', 'NL', 'NL', 'AL', 'NL', 'NL', 'AL', 'AL', 'NL', 'AL', 'AL', 'AL', 'NL', 'AL', 'NL', 'AL', 'AL', 'NL', 'AL', 'NL', 'AL', 'AL', 'NL', 'NL', 'AL', 'AL', 'NL', 'NL', 'NL', 'AL', 'NL', 'NL', 'AL', 'AL', 'NL', 'AL', 'AL', 'AL', 'NL', 'AL', 'NL', 'AL', 'AL', 'NL', 'AL', 'NL', 'AL', 'AL', 'NL', 'NL', 'AL', 'AL', 'NL', 'NL', 'NL', 'AL', 'NL', 'NL', 'AL', 'AL', 'NL', 'AL', 'AL', 'AL', 'NL', 'AL', 'NL', 'AL', 'AL', 'NL', 'AL', 'NL', 'AL', 'AL', 'NL', 'NL', 'AL', 'AL', 'NL', 'NL', 'NL', 'AL', 'NL', 'NL', 'AL', 'AL', 'NL', 'AL', 'AL', 'AL', 'NL', 'AL', 'NL', 'AL', 'AL', 'NL', 'AL', 'NL', 'AL', 'AL', 'NL', 'NL', 'AL', 'AL', 'NL', 'NL', 'NL', 'AL', 'NL', 'NL', 'AL', 'AL', 'NL', 'AL', 'AL', 'AL', 'NL', 'AL', 'NL', 'AL', 'AL', 'NL', 'AL', 'NL', 'AL', 'AL', 'NL', 'NL', 'AL', 'AL', 'NL', 'NL', 'NL', 'AL', 'NL', 'NL', 'AL', 'AL', 'NL', 'AL', 'AL', 'AL', 'NL', 'AL', 'NL', 'AL', 'AL', 'NL', 'AL', 'NL', 'AL', 'AL', 'NL', 'NL', 'AL', 'AL', 'NL', 'NL', 'NL', 'AL', 'NL', 'NL', 'AL', 'AL', 'NL', 'AL', 'AL', 'AL', 'NL', 'AL', 'NL', 'AL', 'AL', 'NL', 'AL', 'NL', 'AL', 'AL', 'NL', 'NL', 'AL', 'AL', 'NL', 'NL', 'NL', 'AL', 'NL', 'NL', 'AL', 'AL', 'NL', 'AL', 'AL', 'AL', 'NL', 'AL', 'NL', 'AL', 'AL', 'NL', 'AL', 'NL', 'AL', 'AL', 'NL', 'NL', 'AL', 'AL', 'NL', 'NL', 'NL', 'AL', 'NL', 'NL', 'AL', 'AL', 'NL', 'AL', 'AL', 'AL', 'NL', 'AL', 'NL', 'AL', 'AL', 'NL', 'AL', 'NL', 'AL', 'AL', 'NL', 'NL', 'AL', 'AL', 'NL', 'NL', 'NL', 'AL', 'NL', 'NL', 'AL', 'AL', 'NL', 'AL', 'AL', 'AL', 'NL', 'AL', 'NL', 'AL', 'AL', 'NL', 'AL', 'NL', 'AL', 'AL', 'NL', 'NL', 'AL', 'AL', 'NL', 'NL', 'NL', 'AL', 'NL', 'NL', 'AL', 'AL', 'NL', 'AL', 'AL', 'AL', 'NL', 'AL', 'NL', 'AL', 'AL', 'NL', 'AL', 'NL', 'AL', 'AL', 'NL', 'NL', 'AL', 'AL', 'NL', 'NL', 'NL', 'AL', 'NL', 'NL', 'AL', 'AL', 'NL', 'AL', 'AL', 'AL', 'NL', 'AL', 'NL', 'AL', 'AL', 'NL', 'AL', 'NL', 'AL', 'AL', 'NL', 'NL', 'AL', 'AL', 'NL', 'NL', 'NL', 'AL', 'NL', 'NL', 'AL', 'AL', 'NL', 'AL', 'AL', 'AL', 'NL', 'AL', 'NL', 'AL', 'AL', 'NL', 'AL', 'NL', 'AL', 'AL', 'NL', 'NL', 'AL', 'AL', 'NL', 'NL', 'NL', 'AL', 'NL', 'NL', 'AL', 'AL', 'NL', 'AL', 'AL', 'AL', 'NL', 'AL', 'NL', 'AL', 'AL', 'NL', 'AL', 'NL', 'AL', 'AL', 'NL', 'NL', 'AL', 'AL', 'NL', 'NL', 'NL', 'NL', 'NL', 'AL', 'NL', 'AL', 'AL', 'AL', 'NL', 'AL', 'NL', 'AL', 'AL', 'NL', 'AL', 'NL', 'AL', 'AL', 'NL', 'NL', 'AL', 'AL', 'NL', 'NL', 'NL', 'NL', 'NL', 'AL', 'NL', 'AL', 'AL', 'AL', 'NL', 'AL', 'NL', 'AL', 'AL', 'NL', 'AL', 'NL', 'AL', 'AL', 'NL', 'NL', 'AL', 'AL', 'NL', 'NL', 'NL', 'NL', 'NL', 'AL', 'NL', 'AL', 'AL', 'AL', 'NL', 'AL', 'NL', 'AL', 'AL', 'NL', 'AL', 'NL', 'AL', 'AL', 'NL', 'NL', 'AL', 'AL', 'NL', 'NL', 'NL', 'NL', 'NL', 'AL', 'NL', 'AL', 'AL', 'AL', 'NL', 'AL', 'NL', 'AL', 'AL', 'NL', 'AL', 'NL', 'AL', 'AL', 'NL', 'NL', 'AL', 'AL', 'NL', 'NL', 'NL', 'NL', 'NL', 'AL', 'NL', 'AL', 'AL', 'AL', 'NL', 'AL', 'NL', 'AL', 'AL', 'NL', 'AL', 'NL', 'AL', 'AL', 'NL', 'NL', 'AL', 'AL', 'NL', 'NL', 'NL', 'NL', 'NL', 'AL', 'NL', 'AL', 'AL', 'AL', 'NL', 'AL', 'NL', 'AL', 'AL', 'NL', 'AL', 'NL', 'AL', 'NL', 'NL', 'AL', 'AL', 'NL', 'NL', 'NL', 'AL', 'NL', 'NL', 'AL', 'NL', 'AL', 'AL', 'AL', 'NL', 'AL', 'NL', 'AL', 'AL', 'NL', 'NL', 'AL', 'NL', 'AL', 'AL', 'NL', 'NL', 'NL', 'NL', 'AL', 'NL', 'AL', 'AL', 'AL', 'NL', 'AL', 'NL', 'AL', 'AL', 'NL', 'AL', 'NL', 'AL', 'NL', 'AL', 'NL', 'NL', 'NL', 'NL', 'AL', 'NL', 'AL', 'AL', 'AL', 'NL', 'AL', 'NL', 'AL', 'AL', 'NL', 'AL', 'NL', 'AL', 'NL', 'AL', 'NL', 'NL', 'NL', 'NL', 'AL', 'AL', 'AL', 'AL', 'NL', 'AL', 'NL', 'AL', 'AL', 'NL', 'AL', 'NL', 'AL', 'NL', 'NL', 'AL', 'NL', 'NL', 'NL', 'NL', 'AL', 'AL', 'AL', 'NL', 'AL', 'NL', 'AL', 'AL', 'NL', 'AL', 'AL', 'NL', 'AL', 'NL', 'NL', 'AL', 'NL', 'NL', 'NL', 'NL', 'AL', 'AL', 'AL', 'NL', 'AL', 'NL', 'AL', 'AL', 'NL', 'AL', 'AL', 'NL', 'AL', 'NL', 'NL', 'AL', 'NL', 'NL', 'NL', 'NL', 'AL', 'AL', 'AL', 'NL', 'AL', 'NL', 'AL', 'AL', 'NL', 'AL', 'AL', 'NL', 'AL', 'NL', 'NL', 'AL', 'NL', 'NL', 'NL', 'NL', 'AL'],\n",
    "    \"Year\": [2012, 2012, 2012, 2012, 2012, 2012, 2012, 2012, 2012, 2012, 2012, 2012, 2012, 2012, 2012, 2012, 2012, 2012, 2012, 2012, 2012, 2012, 2012, 2012, 2012, 2012, 2012, 2012, 2012, 2012, 2011, 2011, 2011, 2011, 2011, 2011, 2011, 2011, 2011, 2011, 2011, 2011, 2011, 2011, 2011, 2011, 2011, 2011, 2011, 2011, 2011, 2011, 2011, 2011, 2011, 2011, 2011, 2011, 2011, 2011, 2010, 2010, 2010, 2010, 2010, 2010, 2010, 2010, 2010, 2010, 2010, 2010, 2010, 2010, 2010, 2010, 2010, 2010, 2010, 2010, 2010, 2010, 2010, 2010, 2010, 2010, 2010, 2010, 2010, 2010, 2009, 2009, 2009, 2009, 2009, 2009, 2009, 2009, 2009, 2009, 2009, 2009, 2009, 2009, 2009, 2009, 2009, 2009, 2009, 2009, 2009, 2009, 2009, 2009, 2009, 2009, 2009, 2009, 2009, 2009, 2008, 2008, 2008, 2008, 2008, 2008, 2008, 2008, 2008, 2008, 2008, 2008, 2008, 2008, 2008, 2008, 2008, 2008, 2008, 2008, 2008, 2008, 2008, 2008, 2008, 2008, 2008, 2008, 2008, 2008, 2007, 2007, 2007, 2007, 2007, 2007, 2007, 2007, 2007, 2007, 2007, 2007, 2007, 2007, 2007, 2007, 2007, 2007, 2007, 2007, 2007, 2007, 2007, 2007, 2007, 2007, 2007, 2007, 2007, 2007, 2006, 2006, 2006, 2006, 2006, 2006, 2006, 2006, 2006, 2006, 2006, 2006, 2006, 2006, 2006, 2006, 2006, 2006, 2006, 2006, 2006, 2006, 2006, 2006, 2006, 2006, 2006, 2006, 2006, 2006, 2005, 2005, 2005, 2005, 2005, 2005, 2005, 2005, 2005, 2005, 2005, 2005, 2005, 2005, 2005, 2005, 2005, 2005, 2005, 2005, 2005, 2005, 2005, 2005, 2005, 2005, 2005, 2005, 2005, 2005, 2004, 2004, 2004, 2004, 2004, 2004, 2004, 2004, 2004, 2004, 2004, 2004, 2004, 2004, 2004, 2004, 2004, 2004, 2004, 2004, 2004, 2004, 2004, 2004, 2004, 2004, 2004, 2004, 2004, 2004, 2003, 2003, 2003, 2003, 2003, 2003, 2003, 2003, 2003, 2003, 2003, 2003, 2003, 2003, 2003, 2003, 2003, 2003, 2003, 2003, 2003, 2003, 2003, 2003, 2003, 2003, 2003, 2003, 2003, 2003, 2002, 2002, 2002, 2002, 2002, 2002, 2002, 2002, 2002, 2002, 2002, 2002, 2002, 2002, 2002, 2002, 2002, 2002, 2002, 2002, 2002, 2002, 2002, 2002, 2002, 2002, 2002, 2002, 2002, 2002, 2001, 2001, 2001, 2001, 2001, 2001, 2001, 2001, 2001, 2001, 2001, 2001, 2001, 2001, 2001, 2001, 2001, 2001, 2001, 2001, 2001, 2001, 2001, 2001, 2001, 2001, 2001, 2001, 2001, 2001, 2000, 2000, 2000, 2000, 2000, 2000, 2000, 2000, 2000, 2000, 2000, 2000, 2000, 2000, 2000, 2000, 2000, 2000, 2000, 2000, 2000, 2000, 2000, 2000, 2000, 2000, 2000, 2000, 2000, 2000, 1999, 1999, 1999, 1999, 1999, 1999, 1999, 1999, 1999, 1999, 1999, 1999, 1999, 1999, 1999, 1999, 1999, 1999, 1999, 1999, 1999, 1999, 1999, 1999, 1999, 1999, 1999, 1999, 1999, 1999, 1998, 1998, 1998, 1998, 1998, 1998, 1998, 1998, 1998, 1998, 1998, 1998, 1998, 1998, 1998, 1998, 1998, 1998, 1998, 1998, 1998, 1998, 1998, 1998, 1998, 1998, 1998, 1998, 1998, 1998, 1997, 1997, 1997, 1997, 1997, 1997, 1997, 1997, 1997, 1997, 1997, 1997, 1997, 1997, 1997, 1997, 1997, 1997, 1997, 1997, 1997, 1997, 1997, 1997, 1997, 1997, 1997, 1997, 1996, 1996, 1996, 1996, 1996, 1996, 1996, 1996, 1996, 1996, 1996, 1996, 1996, 1996, 1996, 1996, 1996, 1996, 1996, 1996, 1996, 1996, 1996, 1996, 1996, 1996, 1996, 1996, 1993, 1993, 1993, 1993, 1993, 1993, 1993, 1993, 1993, 1993, 1993, 1993, 1993, 1993, 1993, 1993, 1993, 1993, 1993, 1993, 1993, 1993, 1993, 1993, 1993, 1993, 1993, 1993, 1992, 1992, 1992, 1992, 1992, 1992, 1992, 1992, 1992, 1992, 1992, 1992, 1992, 1992, 1992, 1992, 1992, 1992, 1992, 1992, 1992, 1992, 1992, 1992, 1992, 1992, 1991, 1991, 1991, 1991, 1991, 1991, 1991, 1991, 1991, 1991, 1991, 1991, 1991, 1991, 1991, 1991, 1991, 1991, 1991, 1991, 1991, 1991, 1991, 1991, 1991, 1991, 1990, 1990, 1990, 1990, 1990, 1990, 1990, 1990, 1990, 1990, 1990, 1990, 1990, 1990, 1990, 1990, 1990, 1990, 1990, 1990, 1990, 1990, 1990, 1990, 1990, 1990, 1989, 1989, 1989, 1989, 1989, 1989, 1989, 1989, 1989, 1989, 1989, 1989, 1989, 1989, 1989, 1989, 1989, 1989, 1989, 1989, 1989, 1989, 1989, 1989, 1989, 1989, 1988, 1988, 1988, 1988, 1988, 1988, 1988, 1988, 1988, 1988, 1988, 1988, 1988, 1988, 1988, 1988, 1988, 1988, 1988, 1988, 1988, 1988, 1988, 1988, 1988, 1988, 1987, 1987, 1987, 1987, 1987, 1987, 1987, 1987, 1987, 1987, 1987, 1987, 1987, 1987, 1987, 1987, 1987, 1987, 1987, 1987, 1987, 1987, 1987, 1987, 1987, 1987, 1986, 1986, 1986, 1986, 1986, 1986, 1986, 1986, 1986, 1986, 1986, 1986, 1986, 1986, 1986, 1986, 1986, 1986, 1986, 1986, 1986, 1986, 1986, 1986, 1986, 1986, 1985, 1985, 1985, 1985, 1985, 1985, 1985, 1985, 1985, 1985, 1985, 1985, 1985, 1985, 1985, 1985, 1985, 1985, 1985, 1985, 1985, 1985, 1985, 1985, 1985, 1985, 1984, 1984, 1984, 1984, 1984, 1984, 1984, 1984, 1984, 1984, 1984, 1984, 1984, 1984, 1984, 1984, 1984, 1984, 1984, 1984, 1984, 1984, 1984, 1984, 1984, 1984, 1983, 1983, 1983, 1983, 1983, 1983, 1983, 1983, 1983, 1983, 1983, 1983, 1983, 1983, 1983, 1983, 1983, 1983, 1983, 1983, 1983, 1983, 1983, 1983, 1983, 1983, 1982, 1982, 1982, 1982, 1982, 1982, 1982, 1982, 1982, 1982, 1982, 1982, 1982, 1982, 1982, 1982, 1982, 1982, 1982, 1982, 1982, 1982, 1982, 1982, 1982, 1982, 1980, 1980, 1980, 1980, 1980, 1980, 1980, 1980, 1980, 1980, 1980, 1980, 1980, 1980, 1980, 1980, 1980, 1980, 1980, 1980, 1980, 1980, 1980, 1980, 1980, 1980, 1979, 1979, 1979, 1979, 1979, 1979, 1979, 1979, 1979, 1979, 1979, 1979, 1979, 1979, 1979, 1979, 1979, 1979, 1979, 1979, 1979, 1979, 1979, 1979, 1979, 1979, 1978, 1978, 1978, 1978, 1978, 1978, 1978, 1978, 1978, 1978, 1978, 1978, 1978, 1978, 1978, 1978, 1978, 1978, 1978, 1978, 1978, 1978, 1978, 1978, 1978, 1978, 1977, 1977, 1977, 1977, 1977, 1977, 1977, 1977, 1977, 1977, 1977, 1977, 1977, 1977, 1977, 1977, 1977, 1977, 1977, 1977, 1977, 1977, 1977, 1977, 1977, 1977, 1976, 1976, 1976, 1976, 1976, 1976, 1976, 1976, 1976, 1976, 1976, 1976, 1976, 1976, 1976, 1976, 1976, 1976, 1976, 1976, 1976, 1976, 1976, 1976, 1975, 1975, 1975, 1975, 1975, 1975, 1975, 1975, 1975, 1975, 1975, 1975, 1975, 1975, 1975, 1975, 1975, 1975, 1975, 1975, 1975, 1975, 1975, 1975, 1974, 1974, 1974, 1974, 1974, 1974, 1974, 1974, 1974, 1974, 1974, 1974, 1974, 1974, 1974, 1974, 1974, 1974, 1974, 1974, 1974, 1974, 1974, 1974, 1973, 1973, 1973, 1973, 1973, 1973, 1973, 1973, 1973, 1973, 1973, 1973, 1973, 1973, 1973, 1973, 1973, 1973, 1973, 1973, 1973, 1973, 1973, 1973, 1971, 1971, 1971, 1971, 1971, 1971, 1971, 1971, 1971, 1971, 1971, 1971, 1971, 1971, 1971, 1971, 1971, 1971, 1971, 1971, 1971, 1971, 1971, 1971, 1970, 1970, 1970, 1970, 1970, 1970, 1970, 1970, 1970, 1970, 1970, 1970, 1970, 1970, 1970, 1970, 1970, 1970, 1970, 1970, 1970, 1970, 1970, 1970, 1969, 1969, 1969, 1969, 1969, 1969, 1969, 1969, 1969, 1969, 1969, 1969, 1969, 1969, 1969, 1969, 1969, 1969, 1969, 1969, 1969, 1969, 1969, 1969, 1968, 1968, 1968, 1968, 1968, 1968, 1968, 1968, 1968, 1968, 1968, 1968, 1968, 1968, 1968, 1968, 1968, 1968, 1968, 1968, 1967, 1967, 1967, 1967, 1967, 1967, 1967, 1967, 1967, 1967, 1967, 1967, 1967, 1967, 1967, 1967, 1967, 1967, 1967, 1967, 1966, 1966, 1966, 1966, 1966, 1966, 1966, 1966, 1966, 1966, 1966, 1966, 1966, 1966, 1966, 1966, 1966, 1966, 1966, 1966, 1965, 1965, 1965, 1965, 1965, 1965, 1965, 1965, 1965, 1965, 1965, 1965, 1965, 1965, 1965, 1965, 1965, 1965, 1965, 1965, 1964, 1964, 1964, 1964, 1964, 1964, 1964, 1964, 1964, 1964, 1964, 1964, 1964, 1964, 1964, 1964, 1964, 1964, 1964, 1964, 1963, 1963, 1963, 1963, 1963, 1963, 1963, 1963, 1963, 1963, 1963, 1963, 1963, 1963, 1963, 1963, 1963, 1963, 1963, 1963, 1962, 1962, 1962, 1962, 1962, 1962, 1962, 1962, 1962, 1962, 1962, 1962, 1962, 1962, 1962, 1962, 1962, 1962, 1962, 1962],\n",
    "    \"RS\": [734, 700, 712, 734, 613, 748, 669, 667, 758, 726, 583, 676, 767, 637, 609, 776, 701, 650, 804, 713, 684, 651, 651, 619, 718, 765, 697, 808, 716, 731, 731, 641, 708, 875, 654, 654, 735, 704, 735, 787, 625, 615, 730, 667, 644, 721, 619, 718, 867, 645, 713, 610, 593, 556, 570, 762, 707, 855, 743, 624, 713, 738, 613, 818, 685, 752, 790, 646, 770, 751, 719, 611, 676, 681, 667, 750, 781, 656, 859, 663, 772, 587, 665, 513, 697, 736, 802, 787, 755, 655, 720, 735, 741, 872, 707, 724, 673, 773, 804, 743, 772, 643, 686, 883, 780, 785, 817, 671, 915, 759, 820, 636, 638, 640, 657, 730, 803, 784, 798, 710, 720, 753, 782, 845, 855, 811, 704, 805, 747, 821, 770, 712, 691, 765, 700, 750, 829, 799, 789, 646, 799, 735, 637, 671, 640, 779, 774, 901, 714, 641, 712, 810, 756, 867, 752, 693, 783, 811, 860, 887, 790, 723, 706, 822, 735, 801, 718, 804, 968, 741, 892, 724, 741, 794, 683, 725, 782, 816, 753, 673, 773, 849, 768, 820, 716, 868, 749, 870, 813, 822, 758, 735, 757, 766, 820, 730, 801, 834, 930, 771, 865, 691, 731, 756, 746, 781, 689, 835, 809, 746, 696, 769, 729, 910, 703, 741, 820, 790, 740, 723, 717, 693, 701, 761, 685, 726, 688, 722, 886, 772, 807, 680, 684, 699, 649, 805, 750, 865, 775, 639, 836, 615, 803, 842, 949, 789, 865, 750, 858, 833, 827, 718, 803, 720, 761, 634, 780, 635, 684, 897, 793, 840, 680, 768, 698, 850, 855, 714, 860, 719, 736, 717, 907, 743, 961, 724, 791, 694, 699, 853, 591, 751, 805, 836, 574, 714, 801, 711, 642, 877, 768, 791, 753, 678, 795, 755, 876, 715, 826, 894, 851, 819, 708, 667, 859, 706, 856, 709, 739, 778, 575, 699, 749, 737, 713, 627, 768, 735, 690, 897, 800, 710, 641, 662, 814, 783, 787, 673, 843, 813, 691, 818, 729, 687, 772, 777, 798, 735, 897, 923, 724, 742, 847, 729, 758, 740, 771, 670, 642, 804, 884, 746, 657, 789, 927, 799, 814, 672, 890, 767, 864, 792, 810, 794, 792, 764, 978, 825, 950, 968, 823, 731, 938, 879, 798, 740, 748, 738, 807, 871, 947, 708, 793, 752, 907, 925, 887, 733, 848, 861, 711, 908, 840, 851, 836, 747, 777, 865, 1009, 906, 747, 691, 823, 856, 793, 815, 686, 718, 853, 900, 893, 841, 775, 710, 859, 872, 809, 772, 945, 883, 787, 665, 826, 817, 876, 831, 861, 750, 850, 826, 722, 667, 874, 714, 669, 707, 734, 644, 706, 965, 804, 713, 650, 749, 859, 845, 810, 620, 940, 816, 829, 791, 812, 851, 687, 779, 651, 868, 923, 784, 740, 777, 747, 742, 681, 772, 691, 777, 891, 764, 668, 725, 795, 925, 784, 689, 807, 654, 773, 949, 928, 762, 772, 898, 778, 952, 961, 783, 688, 753, 746, 703, 894, 877, 741, 746, 871, 861, 650, 776, 771, 993, 752, 759, 928, 766, 767, 786, 686, 684, 738, 776, 722, 790, 758, 899, 581, 716, 675, 675, 733, 693, 732, 672, 821, 715, 877, 707, 679, 734, 808, 758, 835, 847, 682, 705, 599, 579, 593, 738, 660, 674, 791, 608, 610, 548, 740, 747, 648, 599, 733, 745, 686, 693, 617, 679, 574, 631, 682, 780, 749, 686, 731, 653, 695, 758, 689, 576, 817, 605, 727, 665, 799, 776, 579, 640, 674, 760, 629, 768, 636, 702, 649, 651, 829, 684, 682, 669, 699, 690, 690, 682, 693, 732, 750, 573, 707, 728, 732, 666, 662, 775, 603, 733, 646, 733, 673, 640, 719, 599, 676, 767, 584, 708, 774, 669, 702, 693, 632, 604, 617, 647, 690, 554, 707, 740, 632, 683, 698, 712, 629, 637, 642, 694, 699, 632, 695, 731, 555, 550, 813, 714, 660, 631, 641, 666, 703, 617, 704, 628, 682, 759, 628, 703, 772, 800, 597, 651, 594, 664, 670, 578, 637, 763, 747, 729, 842, 770, 720, 748, 783, 742, 896, 648, 715, 635, 862, 786, 741, 823, 788, 806, 702, 723, 668, 760, 783, 798, 823, 845, 615, 708, 794, 786, 680, 644, 732, 831, 798, 654, 654, 638, 667, 741, 637, 783, 797, 731, 739, 663, 656, 718, 698, 601, 771, 809, 632, 818, 800, 732, 686, 736, 677, 729, 729, 706, 687, 682, 690, 705, 633, 695, 839, 757, 667, 568, 650, 719, 556, 747, 617, 759, 632, 681, 810, 696, 762, 679, 627, 761, 829, 693, 673, 580, 641, 673, 593, 652, 758, 738, 720, 615, 686, 682, 682, 652, 656, 750, 746, 799, 724, 722, 701, 800, 623, 704, 789, 643, 696, 654, 764, 709, 677, 575, 770, 708, 696, 659, 653, 558, 687, 679, 639, 795, 739, 774, 753, 814, 676, 786, 545, 683, 729, 569, 784, 691, 891, 657, 697, 609, 709, 691, 664, 724, 675, 651, 673, 685, 590, 651, 630, 805, 757, 698, 614, 587, 707, 738, 830, 637, 809, 663, 811, 670, 694, 611, 820, 686, 728, 666, 591, 610, 573, 738, 756, 624, 669, 757, 841, 866, 706, 730, 731, 760, 770, 583, 851, 739, 807, 764, 701, 593, 734, 573, 683, 775, 603, 711, 672, 731, 750, 613, 600, 659, 796, 691, 664, 634, 710, 639, 714, 605, 743, 727, 804, 666, 633, 607, 735, 532, 708, 684, 591, 614, 613, 600, 692, 590, 678, 719, 859, 675, 692, 844, 802, 676, 714, 680, 822, 769, 639, 867, 665, 587, 831, 605, 847, 734, 692, 624, 673, 737, 767, 605, 620, 619, 716, 550, 611, 586, 857, 615, 609, 625, 713, 608, 570, 743, 531, 615, 730, 686, 770, 708, 570, 595, 629, 616, 583, 682, 796, 628, 712, 655, 840, 688, 570, 664, 710, 648, 675, 724, 601, 646, 681, 758, 735, 712, 552, 659, 662, 714, 661, 659, 696, 618, 669, 684, 776, 662, 620, 653, 667, 798, 647, 673, 662, 572, 671, 689, 676, 751, 541, 634, 677, 690, 799, 754, 738, 629, 614, 652, 741, 680, 642, 681, 755, 675, 708, 738, 668, 608, 641, 758, 642, 704, 548, 739, 643, 619, 643, 742, 691, 511, 637, 617, 586, 543, 701, 585, 603, 663, 534, 654, 622, 588, 648, 691, 558, 788, 486, 706, 739, 537, 736, 792, 786, 631, 806, 633, 775, 649, 666, 744, 611, 749, 613, 744, 687, 695, 680, 678, 594, 729, 681, 831, 744, 626, 691, 779, 743, 528, 720, 625, 798, 573, 701, 676, 586, 645, 790, 582, 632, 562, 740, 645, 725, 468, 639, 713, 595, 694, 514, 579, 614, 498, 612, 463, 690, 516, 671, 510, 470, 562, 473, 536, 569, 543, 583, 599, 583, 524, 631, 654, 722, 567, 702, 531, 604, 559, 683, 626, 533, 519, 671, 498, 522, 612, 679, 652, 695, 550, 782, 755, 655, 604, 644, 574, 692, 574, 719, 612, 564, 606, 663, 587, 611, 696, 759, 675, 571, 557, 641, 669, 527, 635, 647, 825, 663, 680, 569, 585, 608, 774, 708, 495, 611, 654, 675, 682, 707, 591, 679, 688, 649, 642, 660, 689, 699, 495, 621, 544, 614, 737, 803, 569, 730, 693, 663, 656, 715, 578, 644, 666, 570, 683, 648, 635, 700, 464, 615, 597, 640, 767, 677, 501, 714, 642, 567, 725, 747, 578, 652, 707, 632, 707, 802, 682, 758, 592, 745, 718, 842, 798, 730, 617, 817, 705, 706, 878, 774, 599],\n",
    "    \"RA\": [688, 600, 705, 806, 759, 676, 588, 845, 890, 670, 794, 746, 699, 597, 724, 733, 832, 709, 668, 614, 680, 674, 710, 651, 649, 648, 577, 707, 784, 594, 662, 605, 860, 737, 756, 706, 720, 760, 774, 711, 702, 796, 762, 633, 612, 638, 804, 742, 657, 679, 529, 712, 611, 675, 578, 692, 614, 677, 761, 643, 836, 629, 785, 744, 767, 704, 685, 752, 717, 743, 717, 729, 845, 702, 692, 804, 671, 652, 693, 626, 640, 866, 581, 698, 583, 641, 649, 687, 728, 742, 782, 641, 876, 736, 672, 732, 723, 865, 715, 745, 766, 770, 842, 761, 611, 818, 765, 757, 753, 761, 709, 768, 769, 692, 611, 640, 754, 740, 771, 874, 706, 778, 869, 694, 671, 729, 800, 761, 822, 857, 767, 743, 781, 697, 648, 689, 745, 715, 727, 690, 680, 884, 764, 811, 759, 725, 671, 967, 610, 825, 732, 733, 868, 657, 690, 839, 853, 704, 758, 797, 891, 813, 778, 731, 727, 776, 725, 750, 777, 758, 821, 846, 666, 813, 720, 829, 944, 844, 699, 783, 788, 805, 899, 825, 834, 794, 801, 782, 812, 675, 772, 719, 971, 732, 751, 833, 683, 731, 767, 727, 812, 797, 679, 792, 790, 762, 856, 784, 754, 872, 856, 674, 800, 805, 714, 645, 889, 642, 862, 787, 732, 609, 935, 643, 755, 697, 662, 648, 789, 658, 726, 769, 726, 751, 745, 634, 936, 858, 705, 673, 734, 899, 668, 830, 768, 665, 831, 907, 857, 923, 844, 700, 698, 905, 684, 757, 715, 769, 731, 808, 742, 781, 744, 705, 823, 770, 659, 842, 794, 823, 743, 685, 740, 820, 809, 683, 715, 886, 778, 892, 928, 692, 677, 867, 556, 873, 758, 716, 754, 716, 643, 697, 801, 831, 637, 638, 796, 852, 969, 826, 644, 674, 565, 773, 665, 759, 798, 774, 837, 898, 864, 763, 695, 891, 643, 821, 712, 718, 703, 697, 654, 724, 730, 815, 699, 616, 648, 918, 882, 828, 730, 677, 643, 829, 745, 701, 795, 850, 821, 906, 876, 744, 769, 858, 744, 806, 766, 812, 713, 713, 645, 719, 858, 812, 627, 748, 684, 887, 968, 753, 869, 754, 714, 913, 745, 904, 839, 765, 816, 897, 827, 797, 944, 930, 729, 826, 880, 902, 738, 814, 813, 830, 888, 815, 780, 747, 771, 842, 974, 908, 826, 676, 661, 815, 718, 920, 870, 711, 860, 1028, 882, 852, 675, 921, 787, 886, 845, 853, 711, 731, 846, 846, 782, 781, 905, 831, 838, 913, 859, 862, 783, 812, 581, 785, 729, 792, 931, 760, 779, 855, 863, 923, 620, 899, 678, 812, 818, 783, 645, 656, 866, 808, 718, 635, 855, 739, 782, 751, 871, 768, 794, 581, 681, 857, 759, 833, 764, 815, 908, 790, 669, 660, 820, 645, 742, 861, 740, 709, 688, 946, 840, 760, 891, 833, 793, 708, 823, 694, 648, 903, 921, 943, 771, 794, 773, 769, 964, 1103, 703, 792, 786, 652, 899, 900, 668, 779, 787, 900, 790, 833, 682, 895, 862, 706, 799, 809, 559, 745, 698, 770, 739, 664, 785, 813, 967, 837, 724, 630, 694, 662, 792, 830, 682, 744, 761, 846, 740, 806, 772, 731, 636, 744, 751, 742, 569, 656, 669, 671, 624, 690, 609, 746, 794, 668, 667, 636, 604, 653, 581, 653, 746, 672, 717, 595, 636, 799, 647, 604, 753, 682, 644, 796, 712, 649, 734, 681, 691, 759, 794, 717, 722, 565, 744, 652, 655, 646, 777, 776, 680, 632, 646, 674, 697, 648, 814, 622, 821, 698, 664, 706, 774, 633, 597, 737, 754, 656, 709, 685, 760, 729, 598, 613, 749, 570, 729, 619, 673, 680, 710, 698, 696, 661, 680, 686, 735, 578, 623, 750, 691, 654, 816, 669, 635, 536, 679, 738, 630, 595, 792, 576, 735, 680, 626, 728, 600, 608, 714, 651, 741, 789, 689, 771, 694, 757, 596, 731, 658, 631, 648, 544, 616, 672, 592, 532, 748, 620, 734, 616, 583, 744, 626, 633, 735, 680, 829, 880, 825, 803, 801, 746, 752, 957, 735, 678, 691, 675, 817, 806, 720, 698, 758, 789, 749, 744, 763, 801, 669, 693, 849, 655, 719, 760, 696, 684, 781, 699, 717, 841, 714, 569, 673, 679, 734, 839, 688, 578, 738, 760, 713, 700, 723, 835, 618, 611, 743, 733, 781, 764, 720, 703, 729, 720, 666, 861, 688, 691, 639, 579, 802, 782, 636, 568, 660, 787, 673, 708, 622, 818, 674, 572, 785, 588, 655, 667, 764, 697, 658, 736, 747, 766, 643, 630, 686, 600, 734, 675, 585, 676, 679, 796, 690, 567, 634, 774, 807, 645, 714, 696, 640, 652, 775, 779, 719, 650, 710, 785, 679, 646, 767, 609, 708, 822, 646, 680, 703, 782, 635, 648, 653, 740, 697, 710, 609, 726, 702, 687, 713, 670, 709, 710, 661, 748, 685, 620, 717, 612, 717, 819, 616, 723, 716, 819, 654, 696, 658, 712, 687, 609, 749, 701, 660, 640, 767, 797, 728, 722, 670, 807, 757, 589, 694, 591, 682, 724, 629, 702, 662, 642, 639, 646, 654, 793, 634, 710, 752, 762, 763, 582, 711, 768, 707, 748, 644, 805, 738, 582, 816, 717, 722, 725, 581, 706, 672, 860, 718, 643, 681, 820, 751, 693, 698, 862, 750, 633, 657, 666, 724, 731, 688, 694, 653, 634, 634, 573, 650, 678, 611, 690, 582, 690, 586, 637, 598, 834, 594, 657, 632, 775, 895, 653, 712, 695, 739, 771, 725, 739, 751, 650, 651, 582, 765, 776, 736, 663, 651, 749, 668, 665, 834, 855, 711, 688, 657, 822, 700, 598, 660, 631, 728, 745, 633, 615, 709, 657, 611, 543, 655, 704, 734, 538, 575, 598, 557, 630, 662, 686, 671, 652, 739, 553, 709, 723, 827, 703, 586, 703, 786, 711, 649, 534, 792, 736, 690, 625, 588, 606, 694, 565, 683, 671, 689, 733, 563, 612, 661, 657, 826, 721, 631, 694, 768, 632, 662, 561, 660, 669, 657, 646, 623, 551, 701, 657, 830, 723, 643, 698, 774, 561, 647, 657, 655, 705, 621, 826, 674, 672, 752, 565, 731, 692, 702, 588, 610, 615, 717, 693, 770, 702, 603, 844, 699, 530, 667, 576, 648, 597, 581, 747, 645, 567, 566, 587, 609, 670, 729, 550, 641, 564, 688, 599, 610, 644, 699, 660, 772, 574, 722, 630, 679, 822, 681, 675, 731, 763, 705, 684, 751, 605, 807, 630, 612, 593, 730, 664, 788, 826, 747, 689, 631, 517, 736, 652, 611, 723, 768, 717, 601, 668, 688, 561, 618, 791, 541, 587, 678, 745, 652, 746, 799, 636, 540, 644, 549, 497, 611, 615, 611, 527, 673, 504, 492, 588, 509, 546, 499, 531, 544, 615, 532, 529, 472, 665, 640, 592, 614, 587, 624, 491, 563, 613, 587, 742, 660, 595, 590, 672, 621, 581, 693, 551, 557, 637, 683, 601, 731, 643, 809, 517, 702, 586, 698, 695, 648, 490, 581, 761, 612, 640, 641, 626, 577, 659, 578, 791, 569, 723, 555, 704, 613, 602, 711, 755, 521, 600, 633, 752, 604, 667, 580, 593, 674, 721, 567, 793, 724, 501, 566, 693, 678, 628, 836, 551, 572, 678, 744, 776, 577, 632, 636, 587, 652, 733, 621, 704, 578, 544, 594, 702, 703, 640, 704, 660, 550, 602, 603, 774, 547, 578, 595, 641, 628, 812, 680, 756, 827, 658, 685, 745, 692, 717, 837, 706, 697, 713, 665, 948, 680, 759, 626, 690, 664, 716],\n",
    "    \"W\": [81, 94, 93, 69, 61, 85, 97, 68, 64, 88, 55, 72, 89, 86, 69, 83, 66, 74, 95, 94, 81, 79, 76, 75, 94, 88, 90, 93, 73, 98, 94, 89, 69, 90, 71, 79, 79, 80, 73, 95, 72, 56, 71, 86, 82, 96, 63, 77, 97, 74, 102, 72, 71, 67, 86, 90, 91, 96, 81, 80, 65, 91, 66, 89, 75, 88, 91, 69, 83, 81, 80, 76, 67, 80, 80, 77, 94, 79, 95, 81, 97, 57, 90, 61, 92, 86, 96, 90, 85, 69, 70, 86, 64, 95, 83, 79, 78, 65, 92, 86, 87, 74, 65, 97, 95, 80, 87, 70, 103, 75, 93, 62, 75, 85, 88, 91, 84, 87, 75, 59, 82, 72, 68, 95, 97, 89, 74, 81, 74, 74, 84, 86, 75, 100, 84, 90, 88, 89, 89, 75, 92, 67, 63, 61, 72, 86, 97, 79, 86, 59, 90, 84, 69, 96, 85, 72, 72, 96, 90, 88, 71, 73, 69, 94, 82, 83, 79, 88, 94, 76, 89, 68, 89, 88, 71, 78, 66, 75, 83, 73, 76, 79, 70, 86, 66, 90, 80, 78, 76, 95, 78, 82, 62, 89, 88, 75, 96, 97, 97, 93, 85, 67, 88, 78, 76, 83, 61, 80, 87, 71, 77, 90, 74, 95, 79, 99, 73, 93, 67, 71, 83, 89, 56, 95, 71, 81, 83, 83, 95, 88, 88, 67, 82, 69, 75, 100, 67, 79, 80, 81, 92, 51, 96, 78, 98, 89, 83, 76, 80, 68, 72, 83, 92, 58, 93, 67, 92, 67, 71, 101, 91, 86, 72, 87, 63, 91, 105, 70, 89, 67, 77, 84, 101, 71, 95, 88, 86, 69, 68, 74, 43, 91, 87, 83, 85, 68, 90, 83, 66, 101, 96, 86, 75, 64, 93, 100, 85, 63, 71, 86, 99, 98, 101, 67, 93, 67, 81, 78, 74, 73, 55, 79, 84, 62, 92, 56, 94, 83, 75, 103, 103, 80, 72, 66, 93, 95, 97, 55, 72, 78, 75, 92, 88, 63, 82, 88, 83, 66, 91, 73, 66, 76, 93, 65, 86, 68, 85, 68, 82, 95, 102, 86, 62, 79, 116, 90, 93, 62, 73, 80, 82, 85, 95, 74, 85, 65, 95, 85, 90, 82, 79, 79, 72, 77, 86, 73, 69, 67, 94, 87, 91, 65, 69, 76, 91, 97, 95, 69, 71, 83, 70, 100, 103, 78, 94, 67, 75, 96, 97, 72, 69, 64, 97, 64, 77, 74, 63, 68, 97, 98, 87, 77, 78, 74, 79, 86, 75, 69, 95, 84, 85, 65, 106, 79, 92, 90, 80, 77, 89, 77, 65, 54, 102, 72, 83, 74, 70, 65, 88, 114, 74, 75, 69, 98, 76, 89, 83, 63, 88, 88, 84, 101, 98, 78, 68, 80, 76, 86, 83, 79, 92, 84, 67, 88, 78, 68, 78, 88, 96, 65, 68, 79, 76, 90, 90, 73, 77, 76, 96, 88, 85, 70, 76, 85, 81, 99, 83, 53, 80, 82, 75, 90, 80, 78, 88, 71, 92, 78, 67, 73, 91, 85, 68, 88, 90, 74, 104, 85, 80, 71, 84, 94, 73, 76, 67, 85, 64, 85, 84, 81, 69, 71, 94, 59, 88, 68, 97, 75, 61, 82, 103, 87, 86, 95, 98, 89, 73, 72, 78, 86, 90, 76, 75, 81, 72, 63, 92, 90, 87, 72, 76, 96, 70, 96, 82, 64, 72, 83, 77, 96, 94, 67, 84, 81, 77, 87, 74, 57, 84, 65, 82, 93, 83, 95, 71, 77, 71, 84, 78, 98, 84, 83, 75, 84, 85, 91, 65, 76, 88, 80, 77, 94, 91, 77, 79, 75, 75, 86, 74, 74, 85, 91, 67, 103, 77, 95, 75, 77, 85, 70, 83, 86, 63, 87, 83, 91, 93, 69, 75, 73, 59, 86, 92, 77, 81, 80, 81, 87, 74, 99, 67, 74, 89, 73, 92, 86, 83, 89, 54, 54, 89, 75, 77, 71, 87, 78, 88, 82, 84, 94, 87, 91, 81, 100, 85, 104, 65, 85, 83, 68, 83, 76, 70, 87, 69, 67, 78, 75, 76, 77, 84, 61, 98, 76, 83, 73, 91, 85, 91, 92, 89, 81, 80, 80, 65, 78, 90, 95, 75, 96, 72, 73, 95, 92, 70, 72, 86, 84, 87, 96, 76, 73, 77, 71, 78, 108, 90, 76, 86, 64, 74, 67, 83, 79, 87, 86, 66, 83, 81, 90, 77, 85, 89, 60, 84, 83, 91, 95, 71, 77, 84, 98, 97, 77, 75, 57, 83, 74, 62, 101, 62, 99, 80, 85, 86, 81, 96, 74, 70, 75, 104, 80, 84, 79, 67, 81, 78, 90, 87, 77, 81, 75, 92, 74, 66, 84, 69, 89, 88, 98, 78, 70, 71, 99, 74, 70, 92, 85, 79, 91, 87, 70, 82, 68, 91, 74, 90, 84, 81, 60, 79, 79, 77, 89, 89, 94, 89, 93, 73, 87, 61, 78, 83, 77, 90, 88, 95, 60, 86, 65, 79, 68, 89, 84, 81, 76, 87, 92, 64, 78, 81, 100, 83, 65, 64, 70, 89, 79, 84, 93, 97, 92, 86, 77, 90, 67, 103, 83, 91, 83, 73, 59, 75, 74, 76, 67, 66, 102, 91, 88, 80, 73, 90, 81, 84, 89, 85, 79, 95, 82, 95, 63, 89, 54, 84, 98, 68, 67, 71, 86, 83, 53, 69, 90, 99, 87, 79, 71, 92, 69, 86, 74, 92, 95, 93, 73, 76, 66, 100, 69, 90, 88, 84, 56, 89, 69, 87, 59, 61, 97, 97, 74, 81, 90, 88, 71, 74, 81, 102, 98, 67, 84, 75, 64, 100, 63, 101, 96, 69, 64, 75, 83, 94, 54, 70, 88, 83, 76, 75, 64, 102, 81, 74, 80, 90, 92, 66, 85, 55, 86, 97, 87, 101, 92, 73, 74, 72, 76, 67, 90, 95, 72, 75, 75, 108, 79, 57, 64, 91, 88, 68, 76, 75, 82, 83, 98, 86, 92, 71, 80, 82, 79, 88, 91, 84, 68, 66, 80, 98, 77, 72, 81, 77, 102, 76, 82, 79, 71, 89, 90, 80, 88, 60, 72, 86, 83, 76, 97, 89, 79, 77, 77, 99, 71, 85, 82, 88, 95, 74, 81, 79, 82, 80, 94, 71, 80, 60, 88, 81, 57, 82, 101, 85, 76, 83, 79, 79, 60, 91, 79, 85, 89, 69, 74, 71, 83, 81, 101, 67, 97, 61, 90, 90, 63, 76, 108, 87, 86, 84, 56, 102, 76, 79, 79, 65, 87, 65, 98, 73, 83, 93, 89, 73, 89, 63, 86, 76, 70, 93, 109, 87, 71, 92, 68, 89, 62, 90, 81, 69, 85, 97, 52, 100, 80, 88, 63, 88, 52, 64, 90, 87, 86, 81, 91, 86, 67, 84, 67, 83, 86, 103, 72, 76, 79, 73, 83, 82, 76, 80, 88, 97, 65, 77, 76, 92, 84, 87, 89, 87, 75, 91, 69, 62, 73, 91, 61, 72, 82, 81, 91, 101, 76, 85, 97, 72, 80, 59, 83, 76, 81, 88, 72, 74, 95, 89, 66, 70, 87, 92, 93, 83, 71, 94, 62, 75, 72, 95, 89, 87, 89, 65, 59, 97, 102, 86, 50, 77, 85, 90, 95, 80, 70, 97, 72, 76, 98, 92, 79, 85, 66, 57, 82, 80, 79, 88, 53, 99, 92, 80, 90, 93, 62, 86, 76, 82, 94, 86, 79, 79, 66, 73, 70, 99, 91, 84, 51, 104, 87, 74, 88, 93, 56, 77, 76, 59, 85, 98, 80, 85, 64, 72, 86, 102, 91, 86, 40, 96, 81, 93, 103, 84, 60],\n",
    "    \"G\": [162, 162, 162, 162, 162, 162, 162, 162, 162, 162, 162, 162, 162, 162, 162, 162, 162, 162, 162, 162, 162, 162, 162, 162, 162, 162, 162, 162, 162, 162, 162, 162, 162, 162, 162, 162, 162, 162, 162, 162, 162, 162, 162, 162, 161, 162, 162, 162, 162, 162, 162, 162, 162, 162, 162, 162, 162, 162, 162, 161, 162, 162, 162, 162, 162, 162, 162, 162, 162, 162, 162, 162, 162, 162, 162, 162, 162, 162, 162, 162, 162, 162, 162, 162, 162, 162, 162, 162, 162, 162, 162, 162, 162, 162, 161, 162, 162, 162, 162, 163, 162, 162, 162, 162, 162, 162, 163, 162, 162, 162, 162, 161, 162, 162, 162, 162, 162, 162, 162, 162, 162, 162, 161, 162, 161, 163, 162, 162, 162, 162, 161, 161, 162, 162, 162, 162, 163, 162, 162, 161, 162, 162, 162, 162, 162, 162, 162, 162, 162, 161, 162, 162, 162, 162, 162, 162, 162, 162, 163, 162, 162, 162, 162, 162, 162, 162, 162, 162, 162, 162, 162, 162, 163, 162, 162, 162, 162, 162, 162, 162, 162, 162, 162, 162, 162, 162, 162, 162, 162, 162, 162, 162, 162, 162, 162, 162, 162, 162, 162, 162, 162, 162, 162, 162, 161, 161, 162, 162, 162, 162, 162, 162, 162, 162, 162, 162, 163, 162, 162, 162, 162, 163, 162, 162, 162, 162, 162, 162, 162, 162, 162, 162, 162, 162, 162, 162, 162, 162, 162, 162, 162, 162, 162, 162, 162, 162, 162, 162, 162, 162, 162, 162, 162, 162, 162, 161, 162, 162, 162, 162, 162, 162, 161, 162, 162, 162, 162, 161, 162, 161, 162, 162, 162, 163, 162, 162, 162, 162, 162, 162, 162, 162, 162, 162, 162, 162, 162, 162, 161, 163, 162, 162, 162, 162, 162, 161, 162, 162, 162, 162, 162, 162, 161, 162, 162, 162, 162, 162, 162, 162, 161, 162, 162, 162, 162, 162, 161, 162, 161, 161, 162, 161, 161, 162, 162, 162, 162, 161, 162, 162, 162, 162, 162, 162, 161, 162, 162, 162, 162, 162, 162, 162, 162, 162, 162, 162, 162, 162, 162, 161, 162, 162, 162, 162, 162, 162, 162, 162, 162, 162, 162, 162, 162, 162, 162, 162, 162, 163, 162, 162, 162, 161, 162, 162, 162, 163, 162, 162, 162, 161, 161, 162, 162, 162, 162, 162, 162, 161, 162, 162, 162, 162, 162, 162, 162, 162, 162, 163, 162, 162, 161, 162, 162, 161, 162, 161, 161, 162, 163, 162, 162, 162, 161, 162, 162, 162, 161, 162, 162, 162, 162, 162, 162, 162, 162, 163, 163, 162, 162, 162, 162, 162, 162, 161, 162, 162, 162, 162, 162, 162, 162, 162, 163, 162, 161, 163, 163, 162, 162, 163, 162, 162, 162, 162, 162, 161, 162, 161, 162, 162, 162, 162, 161, 162, 161, 162, 162, 162, 162, 162, 162, 162, 162, 162, 162, 162, 162, 162, 162, 163, 162, 161, 162, 162, 162, 161, 162, 162, 162, 162, 161, 162, 162, 162, 162, 162, 162, 162, 162, 162, 162, 161, 162, 162, 163, 162, 162, 162, 162, 162, 163, 162, 162, 162, 162, 162, 162, 162, 162, 162, 162, 162, 163, 162, 162, 162, 162, 162, 162, 162, 162, 162, 162, 162, 162, 162, 162, 162, 162, 162, 162, 162, 162, 162, 162, 162, 162, 162, 162, 162, 162, 162, 162, 162, 162, 162, 162, 162, 162, 162, 162, 162, 162, 162, 160, 162, 162, 162, 162, 162, 162, 162, 162, 162, 161, 161, 162, 162, 162, 162, 162, 162, 162, 162, 162, 162, 162, 161, 162, 162, 162, 162, 162, 162, 162, 162, 161, 162, 162, 162, 162, 162, 162, 162, 162, 162, 162, 162, 162, 162, 162, 162, 161, 162, 162, 162, 162, 161, 162, 162, 162, 162, 162, 160, 162, 162, 162, 162, 161, 162, 163, 164, 162, 162, 162, 164, 162, 162, 160, 161, 162, 162, 163, 161, 161, 162, 162, 162, 161, 162, 162, 162, 163, 160, 161, 162, 162, 160, 161, 161, 162, 162, 161, 162, 161, 162, 162, 162, 161, 162, 162, 162, 162, 162, 162, 162, 162, 162, 162, 162, 162, 162, 162, 162, 162, 162, 162, 162, 162, 162, 161, 162, 161, 162, 160, 162, 162, 163, 162, 162, 162, 162, 161, 162, 161, 162, 162, 162, 161, 162, 162, 162, 162, 161, 162, 163, 162, 161, 163, 162, 162, 163, 162, 162, 161, 162, 162, 162, 161, 162, 161, 162, 161, 162, 162, 161, 162, 162, 162, 162, 161, 161, 162, 162, 162, 162, 161, 162, 162, 163, 162, 162, 162, 162, 161, 162, 161, 162, 162, 162, 162, 162, 162, 162, 162, 162, 161, 163, 162, 162, 162, 162, 162, 162, 162, 162, 162, 162, 163, 163, 162, 162, 163, 162, 162, 162, 163, 162, 163, 162, 162, 162, 163, 162, 162, 163, 162, 162, 162, 162, 162, 162, 162, 162, 162, 162, 163, 162, 162, 162, 162, 162, 162, 162, 162, 162, 162, 162, 162, 162, 161, 162, 160, 160, 162, 162, 163, 160, 163, 163, 162, 163, 162, 161, 162, 162, 162, 162, 162, 162, 163, 163, 161, 162, 163, 162, 160, 159, 160, 162, 162, 160, 161, 161, 161, 162, 162, 162, 161, 162, 160, 163, 160, 162, 163, 163, 161, 162, 162, 163, 162, 162, 162, 161, 163, 162, 162, 161, 161, 159, 162, 162, 162, 162, 162, 162, 162, 162, 163, 162, 162, 161, 162, 160, 162, 162, 162, 161, 162, 161, 161, 162, 162, 162, 162, 161, 162, 162, 162, 162, 162, 161, 162, 162, 162, 161, 162, 162, 162, 162, 162, 162, 162, 161, 162, 162, 162, 162, 162, 161, 162, 159, 161, 162, 162, 162, 161, 162, 162, 162, 159, 161, 162, 162, 162, 162, 162, 162, 161, 159, 160, 161, 162, 161, 162, 159, 159, 162, 162, 162, 162, 159, 162, 162, 160, 162, 162, 161, 162, 161, 163, 162, 163, 162, 162, 163, 162, 163, 163, 162, 162, 162, 162, 162, 162, 163, 161, 162, 162, 162, 162, 162, 162, 162, 161, 161, 162, 162, 162, 162, 161, 162, 162, 162, 162, 162, 162, 162, 162, 162, 162, 161, 162, 162, 162, 162, 162, 162, 162, 162, 162, 158, 162, 162, 162, 162, 162, 162, 162, 162, 161, 162, 161, 160, 162, 162, 162, 161, 162, 162, 161, 162, 163, 159, 162, 162, 162, 162, 162, 162, 162, 162, 162, 162, 162, 161, 163, 162, 162, 162, 163, 162, 161, 162, 162, 162, 162, 162, 162, 162, 162, 163, 163, 162, 163, 161, 162, 162, 163, 162, 162, 162, 162, 162, 162, 162, 162, 162, 163, 162, 162, 162, 163, 162, 162, 162, 163, 162, 163, 162, 164, 162, 162, 162, 163, 164, 163, 162, 163, 163, 162, 161, 162, 161, 162, 161, 162, 162, 162, 162, 163, 162, 161, 162, 164, 162, 163, 162, 163, 162, 161, 161, 163, 160, 162, 162, 162, 163, 160, 162, 162, 163, 160, 162, 162, 161, 160, 162, 162, 161, 162, 159, 162, 162, 162, 164, 162, 162, 162, 162, 162, 162, 162, 162, 162, 164, 162, 162, 163, 163, 162, 162, 163, 162, 162, 162, 163, 164, 163, 162, 163, 162, 164, 163, 162, 163, 164, 162, 162, 162, 162, 162, 162, 161, 162, 162, 162, 162, 162, 162, 162, 161, 163, 161, 163, 162, 161, 162, 162, 162, 162, 162, 162, 160, 162, 162, 162, 162, 161, 162, 162, 162, 165, 163, 162, 161, 162, 161, 161, 165, 163, 162],\n",
    "    \"Playoffs\": [0, 1, 1, 0, 0, 0, 1, 0, 0, 1, 0, 0, 0, 0, 0, 0, 0, 0, 1, 1, 0, 0, 0, 0, 1, 1, 0, 1, 0, 1, 1, 0, 0, 0, 0, 0, 0, 0, 0, 1, 0, 0, 0, 0, 0, 1, 0, 0, 1, 0, 1, 0, 0, 0, 0, 1, 1, 1, 0, 0, 0, 1, 0, 0, 0, 0, 1, 0, 0, 0, 0, 0, 0, 0, 0, 0, 1, 0, 1, 0, 1, 0, 0, 0, 1, 0, 1, 1, 0, 0, 0, 0, 0, 1, 0, 0, 0, 0, 1, 0, 0, 0, 0, 1, 1, 0, 1, 0, 1, 0, 1, 0, 0, 0, 0, 1, 0, 0, 0, 0, 0, 0, 0, 1, 1, 1, 0, 0, 0, 0, 0, 0, 0, 1, 1, 1, 0, 0, 0, 0, 1, 0, 0, 0, 0, 0, 1, 0, 0, 0, 1, 0, 0, 1, 1, 0, 0, 1, 1, 0, 0, 0, 0, 1, 0, 0, 0, 0, 1, 0, 1, 0, 0, 0, 0, 0, 0, 0, 0, 0, 0, 0, 0, 0, 0, 0, 0, 0, 0, 1, 0, 0, 0, 0, 1, 0, 1, 1, 1, 1, 0, 0, 1, 0, 0, 1, 0, 0, 0, 0, 0, 1, 0, 1, 0, 1, 0, 0, 0, 0, 0, 1, 0, 1, 0, 0, 0, 0, 1, 0, 0, 0, 1, 0, 0, 1, 0, 0, 0, 0, 1, 0, 1, 0, 1, 0, 0, 0, 0, 0, 0, 0, 1, 0, 1, 0, 1, 0, 0, 1, 0, 0, 0, 0, 0, 0, 1, 0, 0, 0, 0, 0, 1, 0, 1, 1, 0, 0, 0, 0, 0, 1, 0, 0, 0, 0, 1, 0, 0, 1, 1, 0, 0, 0, 0, 1, 0, 0, 0, 0, 1, 1, 1, 0, 0, 0, 0, 0, 0, 0, 0, 0, 0, 0, 0, 0, 1, 0, 0, 1, 1, 0, 0, 0, 0, 1, 1, 0, 0, 0, 0, 1, 1, 0, 0, 0, 0, 0, 1, 0, 0, 0, 1, 0, 0, 0, 0, 0, 0, 1, 1, 0, 0, 0, 1, 0, 1, 0, 0, 0, 0, 0, 1, 0, 0, 0, 1, 0, 0, 0, 0, 0, 0, 0, 0, 0, 0, 0, 1, 1, 1, 0, 0, 0, 1, 1, 1, 0, 0, 0, 0, 1, 1, 0, 1, 0, 0, 0, 1, 0, 0, 0, 1, 0, 0, 0, 0, 0, 1, 1, 0, 0, 0, 0, 0, 0, 0, 0, 1, 0, 0, 0, 1, 0, 1, 1, 0, 0, 1, 0, 0, 0, 1, 0, 0, 0, 0, 0, 0, 1, 0, 0, 0, 1, 0, 0, 0, 0, 1, 0, 0, 1, 1, 0, 0, 0, 0, 1, 0, 0, 1, 1, 0, 0, 0, 0, 0, 0, 1, 0, 0, 0, 0, 1, 1, 0, 0, 0, 1, 1, 0, 0, 0, 0, 0, 1, 0, 0, 0, 0, 0, 1, 0, 0, 0, 0, 1, 0, 0, 0, 1, 0, 0, 1, 1, 0, 1, 0, 0, 0, 0, 1, 0, 0, 0, 0, 0, 0, 0, 0, 0, 0, 0, 0, 0, 0, 1, 0, 0, 0, 0, 0, 0, 1, 1, 0, 0, 0, 0, 0, 0, 0, 0, 0, 0, 0, 0, 0, 0, 0, 0, 1, 0, 1, 0, 0, 0, 0, 0, 1, 1, 0, 0, 0, 0, 0, 0, 0, 0, 0, 0, 0, 0, 1, 0, 0, 0, 0, 0, 1, 0, 0, 0, 0, 0, 1, 0, 0, 1, 0, 0, 0, 1, 0, 0, 0, 0, 0, 0, 0, 0, 0, 0, 1, 0, 1, 0, 0, 0, 0, 0, 0, 0, 0, 0, 0, 1, 0, 0, 0, 0, 0, 0, 0, 0, 0, 0, 0, 0, 1, 0, 0, 0, 0, 1, 0, 0, 1, 0, 0, 1, 0, 0, 0, 0, 0, 0, 0, 0, 1, 0, 0, 0, 1, 0, 1, 0, 0, 0, 0, 0, 0, 0, 0, 0, 0, 0, 0, 0, 0, 0, 0, 1, 0, 0, 0, 0, 1, 0, 0, 0, 0, 0, 0, 0, 0, 1, 1, 0, 0, 0, 0, 1, 1, 0, 0, 0, 0, 0, 1, 0, 0, 0, 0, 0, 1, 0, 0, 0, 0, 0, 0, 0, 0, 0, 0, 0, 0, 0, 0, 0, 0, 0, 0, 0, 0, 1, 1, 0, 0, 0, 0, 0, 0, 0, 0, 0, 0, 0, 1, 0, 1, 0, 0, 0, 0, 1, 0, 0, 0, 1, 0, 1, 0, 0, 0, 0, 0, 0, 0, 0, 0, 1, 0, 0, 0, 0, 0, 0, 1, 0, 0, 0, 1, 0, 0, 0, 0, 0, 1, 0, 0, 0, 0, 0, 0, 1, 0, 0, 0, 0, 0, 0, 0, 1, 0, 0, 1, 0, 0, 0, 0, 0, 0, 0, 0, 1, 0, 0, 0, 0, 0, 0, 0, 0, 0, 0, 1, 0, 0, 0, 0, 0, 0, 0, 0, 0, 0, 0, 1, 1, 0, 0, 0, 0, 0, 1, 0, 1, 0, 0, 0, 0, 0, 0, 0, 0, 1, 0, 1, 0, 0, 1, 0, 0, 0, 0, 0, 0, 0, 0, 0, 0, 0, 0, 1, 0, 0, 0, 0, 0, 0, 0, 0, 0, 0, 0, 0, 0, 0, 0, 0, 1, 1, 0, 0, 0, 0, 1, 0, 1, 0, 0, 0, 0, 0, 0, 0, 0, 0, 0, 0, 0, 0, 0, 0, 0, 0, 1, 1, 0, 0, 0, 0, 1, 0, 1, 0, 0, 0, 0, 0, 0, 0, 0, 0, 0, 0, 0, 0, 1, 0, 0, 0, 1, 0, 0, 0, 0, 0, 1, 0, 1, 0, 0, 0, 0, 0, 0, 0, 1, 0, 0, 0, 1, 0, 0, 0, 0, 0, 0, 0, 0, 0, 0, 1, 0, 1, 0, 0, 0, 0, 0, 1, 0, 0, 0, 0, 0, 0, 0, 0, 0, 1, 0, 0, 0, 0, 0, 1, 0, 1, 0, 0, 0, 0, 0, 1, 0, 0, 0, 0, 1, 0, 0, 0, 0, 0, 0, 0, 0, 1, 0, 1, 0, 0, 0, 0, 0, 0, 0, 1, 0, 0, 0, 0, 0, 0, 0, 0, 0, 0, 0, 0, 0, 0, 0, 1, 0, 1, 0, 1, 0, 0, 0, 1, 0, 0, 0, 0, 1, 0, 0, 0, 0, 0, 0, 1, 0, 0, 0, 0, 0, 1, 0, 0, 0, 0, 1, 1, 0, 0, 0, 0, 0, 0, 0, 0, 0, 0, 1, 0, 1, 0, 0, 0, 0, 0, 0, 0, 0, 0, 0, 0, 0, 0, 0, 0, 0, 0, 1, 0, 0, 0, 0, 0, 0, 0, 0, 0, 1, 0, 0, 0, 1, 0, 0, 0, 0, 0, 0, 0, 0, 0, 0, 0, 0, 0, 0, 0, 1, 0, 0, 1, 0, 0, 0, 0, 0, 0, 0, 0, 0, 1, 0, 0, 0, 0, 0, 0, 0, 0, 0, 0, 0, 0, 0, 0, 0, 0, 0, 0, 1, 1, 0, 0, 0, 0, 0, 0, 0, 0, 0, 0, 0, 0, 0, 0, 0, 0, 0, 0, 0, 0, 0, 0, 1, 0, 0, 0, 1, 0, 0, 0, 0, 0, 0, 0, 0, 0, 0, 0, 1, 0, 0, 0, 1, 0, 0, 0, 0, 0, 0, 0, 0, 0, 0, 0, 0, 0, 0, 0, 0, 0, 0, 0, 1, 0, 0, 1, 0, 0]\n",
    "}\n",
    "\n",
    "baseball_df = pd.DataFrame(data)\n",
    "print(baseball_df)\n"
   ]
  },
  {
   "cell_type": "code",
   "execution_count": 68,
   "id": "4153c233-759a-49eb-8a1b-0acba4dee06b",
   "metadata": {},
   "outputs": [],
   "source": [
    "def calc_win_perc(wins, games_played):\n",
    "    win_perc = wins / games_played\n",
    "    return np.round(win_perc,2)\n"
   ]
  },
  {
   "cell_type": "code",
   "execution_count": 69,
   "id": "01467944-9136-4a26-b6f7-feb15baf4c85",
   "metadata": {},
   "outputs": [
    {
     "name": "stdout",
     "output_type": "stream",
     "text": [
      "  Team League  Year   RS   RA   W    G  Playoffs    WP\n",
      "0  ARI     NL  2012  734  688  81  162         0  0.50\n",
      "1  ATL     NL  2012  700  600  94  162         1  0.58\n",
      "2  BAL     AL  2012  712  705  93  162         1  0.57\n",
      "3  BOS     AL  2012  734  806  69  162         0  0.43\n",
      "4  CHC     NL  2012  613  759  61  162         0  0.38\n"
     ]
    }
   ],
   "source": [
    "win_percs_np = calc_win_perc(baseball_df[\"W\"], baseball_df[\"G\"])\n",
    "baseball_df[\"WP\"] = win_percs_np\n",
    "print(baseball_df.head())"
   ]
  },
  {
   "cell_type": "code",
   "execution_count": 71,
   "id": "e1859ca0-e76a-4fcf-8177-e6783c23a4e1",
   "metadata": {},
   "outputs": [
    {
     "name": "stdout",
     "output_type": "stream",
     "text": [
      "23.9 ms ± 242 μs per loop (mean ± std. dev. of 7 runs, 10 loops each)\n"
     ]
    }
   ],
   "source": [
    "%%timeit\n",
    "win_percs_list = []\n",
    "for i in range(len(baseball_df)):\n",
    "    row = baseball_df.iloc[i]\n",
    "\n",
    "    wins = row['W']\n",
    "    games_played = row['G']\n",
    "\n",
    "    win_perc = calc_win_perc(wins, games_played)\n",
    "\n",
    "    win_percs_list.append(win_perc)\n",
    "\n",
    "baseball_df['WP'] = win_percs_list"
   ]
  },
  {
   "cell_type": "code",
   "execution_count": 66,
   "id": "2ae6ed1a-a75e-42a8-8960-20a790c64e9a",
   "metadata": {},
   "outputs": [
    {
     "name": "stdout",
     "output_type": "stream",
     "text": [
      "72.6 μs ± 719 ns per loop (mean ± std. dev. of 7 runs, 10,000 loops each)\n"
     ]
    }
   ],
   "source": [
    "%%timeit\n",
    "win_percs_np = calc_win_perc(baseball_df[\"W\"], baseball_df[\"G\"])\n",
    "baseball_df[\"WP\"] = win_percs_np"
   ]
  },
  {
   "cell_type": "code",
   "execution_count": 73,
   "id": "eb7165e4-cd57-495a-a345-0cec03d63011",
   "metadata": {},
   "outputs": [],
   "source": [
    "def predict_win_perc(RS, RA):\n",
    "    prediction = RS ** 2 / (RS ** 2 + RA ** 2)\n",
    "    return np.round(prediction, 2)"
   ]
  },
  {
   "cell_type": "code",
   "execution_count": 74,
   "id": "ebd7e2bc-cd46-497a-9d07-152198fbea2c",
   "metadata": {},
   "outputs": [],
   "source": [
    "win_perc_preds_loop = []\n",
    "\n",
    "for rows in baseball_df.itertuples():\n",
    "    runs_scored = rows.RS\n",
    "    runs_allowed = rows.RA\n",
    "    win_perc_pred = predict_win_perc(runs_scored, runs_allowed)\n",
    "    win_perc_preds_loop.append(win_perc_pred)\n",
    "    "
   ]
  },
  {
   "cell_type": "code",
   "execution_count": 78,
   "id": "2d947d31-6178-423c-ab45-2b945ad8c366",
   "metadata": {},
   "outputs": [
    {
     "name": "stdout",
     "output_type": "stream",
     "text": [
      "Team\n",
      "ARI    0.53\n",
      "ATL    0.58\n",
      "BAL    0.50\n",
      "BOS    0.45\n",
      "CHC    0.39\n",
      "       ... \n",
      "PHI    0.46\n",
      "PIT    0.56\n",
      "SFG    0.62\n",
      "STL    0.58\n",
      "WSA    0.41\n",
      "Length: 1232, dtype: float64\n"
     ]
    }
   ],
   "source": [
    "baseball_df.set_index('Team', inplace=True)\n",
    "win_perc_preds_apply = baseball_df.apply(lambda row: predict_win_perc(row[\"RS\"], row[\"RA\"]), axis=1)\n",
    "print(win_perc_preds_apply)"
   ]
  },
  {
   "cell_type": "code",
   "execution_count": 80,
   "id": "c845a105-c716-40f6-9383-4a1ab1627a59",
   "metadata": {},
   "outputs": [
    {
     "name": "stdout",
     "output_type": "stream",
     "text": [
      "     League  Year   RS   RA   W    G  Playoffs    WP  WP_preds\n",
      "Team                                                          \n",
      "ARI      NL  2012  734  688  81  162         0  0.50      0.53\n",
      "ATL      NL  2012  700  600  94  162         1  0.58      0.58\n",
      "BAL      AL  2012  712  705  93  162         1  0.57      0.50\n",
      "BOS      AL  2012  734  806  69  162         0  0.43      0.45\n",
      "CHC      NL  2012  613  759  61  162         0  0.38      0.39\n"
     ]
    }
   ],
   "source": [
    "win_perc_preds_np = predict_win_perc(baseball_df[\"RS\"].values, baseball_df[\"RA\"].values)\n",
    "baseball_df['WP_preds'] = win_perc_preds_np\n",
    "print(baseball_df.head())"
   ]
  },
  {
   "cell_type": "code",
   "execution_count": 83,
   "id": "8b6f30eb-1c42-4e80-938e-fbc3c54d438d",
   "metadata": {},
   "outputs": [
    {
     "name": "stdout",
     "output_type": "stream",
     "text": [
      "39.7 μs ± 207 ns per loop (mean ± std. dev. of 7 runs, 10,000 loops each)\n"
     ]
    }
   ],
   "source": [
    "%%timeit\n",
    "win_perc_preds_np = predict_win_perc(baseball_df[\"RS\"].values, baseball_df[\"RA\"].values)\n",
    "baseball_df['WP_preds'] = win_perc_preds_np\n",
    "#NUMPY"
   ]
  },
  {
   "cell_type": "code",
   "execution_count": 84,
   "id": "7d464fd4-fc58-4b44-abbd-cdb7cab08862",
   "metadata": {},
   "outputs": [
    {
     "name": "stdout",
     "output_type": "stream",
     "text": [
      "175 μs ± 751 ns per loop (mean ± std. dev. of 7 runs, 10,000 loops each)\n"
     ]
    }
   ],
   "source": [
    "%%timeit\n",
    "win_perc_preds_np = predict_win_perc(baseball_df[\"RS\"], baseball_df[\"RA\"])\n",
    "baseball_df['WP_preds'] = win_perc_preds_np"
   ]
  },
  {
   "cell_type": "code",
   "execution_count": null,
   "id": "a5bb65cb-00c5-40a5-a1e7-84a6682d0cfd",
   "metadata": {},
   "outputs": [],
   "source": [
    "#Although they provide the same results, providing .values is more efficient and seems to remove load from the compiler"
   ]
  },
  {
   "cell_type": "code",
   "execution_count": 87,
   "id": "6a387a97-2cbc-4b08-a46c-86b45d34aea7",
   "metadata": {},
   "outputs": [
    {
     "name": "stdout",
     "output_type": "stream",
     "text": [
      "5.12 ms ± 25.1 μs per loop (mean ± std. dev. of 7 runs, 100 loops each)\n"
     ]
    }
   ],
   "source": [
    "%%timeit\n",
    "win_perc_preds_loop = []\n",
    "\n",
    "for rows in baseball_df.itertuples():\n",
    "    runs_scored = rows.RS\n",
    "    runs_allowed = rows.RA\n",
    "    win_perc_pred = predict_win_perc(runs_scored, runs_allowed)\n",
    "    win_perc_preds_loop.append(win_perc_pred)\n",
    "#ITERTUPLES"
   ]
  },
  {
   "cell_type": "code",
   "execution_count": 89,
   "id": "23577b1c-6e85-45a2-8851-fdec4ad9abbc",
   "metadata": {},
   "outputs": [
    {
     "name": "stdout",
     "output_type": "stream",
     "text": [
      "8.46 ms ± 66.5 μs per loop (mean ± std. dev. of 7 runs, 100 loops each)\n"
     ]
    }
   ],
   "source": [
    "%%timeit\n",
    "def predict_win_perc(RS, RA):\n",
    "    prediction = RS ** 2 / (RS ** 2 + RA ** 2)\n",
    "    return np.round(prediction, 2)\n",
    "\n",
    "win_perc_preds_apply = baseball_df.apply(lambda row: predict_win_perc(row[\"RS\"], row[\"RA\"]), axis=1)\n",
    "#APPLY"
   ]
  },
  {
   "cell_type": "code",
   "execution_count": 90,
   "id": "b56b56fd-c5bd-4274-9143-704bc607947b",
   "metadata": {},
   "outputs": [],
   "source": [
    "#In terms of fastest\n",
    "# NUMPY >> ITERTUPLES > APPLY"
   ]
  },
  {
   "cell_type": "code",
   "execution_count": null,
   "id": "47cd4357-ffc5-47b0-bfac-ad32661a9276",
   "metadata": {},
   "outputs": [],
   "source": []
  },
  {
   "cell_type": "code",
   "execution_count": null,
   "id": "9173437e-7a17-4758-be2d-59c1b9ac04a3",
   "metadata": {},
   "outputs": [],
   "source": []
  }
 ],
 "metadata": {
  "kernelspec": {
   "display_name": "Python 3 (ipykernel)",
   "language": "python",
   "name": "python3"
  },
  "language_info": {
   "codemirror_mode": {
    "name": "ipython",
    "version": 3
   },
   "file_extension": ".py",
   "mimetype": "text/x-python",
   "name": "python",
   "nbconvert_exporter": "python",
   "pygments_lexer": "ipython3",
   "version": "3.13.2"
  }
 },
 "nbformat": 4,
 "nbformat_minor": 5
}
