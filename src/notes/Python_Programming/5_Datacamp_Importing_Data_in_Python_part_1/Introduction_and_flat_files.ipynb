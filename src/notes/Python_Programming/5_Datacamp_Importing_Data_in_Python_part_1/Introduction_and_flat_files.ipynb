{
 "cells": [
  {
   "cell_type": "code",
   "execution_count": 3,
   "id": "2500f784-a4ba-4e34-b815-bbe484a60e06",
   "metadata": {},
   "outputs": [
    {
     "name": "stdout",
     "output_type": "stream",
     "text": [
      "C:\\Users\\carls\\Desktop\\dev\\cssstudies\\ML\\src\\notes\\Python_Programming\\5_Datacamp_Importing_Data_in_Python_part_1\n"
     ]
    }
   ],
   "source": [
    "import os\n",
    "print(os.getcwd())"
   ]
  },
  {
   "cell_type": "code",
   "execution_count": 7,
   "id": "87a6068c-4f1e-4f0b-956e-dbdd76d2b5a1",
   "metadata": {},
   "outputs": [
    {
     "data": {
      "text/plain": [
       "'just writing some garbage'"
      ]
     },
     "execution_count": 7,
     "metadata": {},
     "output_type": "execute_result"
    }
   ],
   "source": [
    "def readFilev1(filename):\n",
    "    file = open(filename, mode='r')\n",
    "    text = file.read()\n",
    "    file.close()\n",
    "    return text\n",
    "\n",
    "readFilev1('Data/sample.txt')"
   ]
  },
  {
   "cell_type": "code",
   "execution_count": 24,
   "id": "ef96677a-5130-46bd-9296-9ddf79ac3729",
   "metadata": {},
   "outputs": [
    {
     "data": {
      "text/plain": [
       "'just writing some garbage'"
      ]
     },
     "execution_count": 24,
     "metadata": {},
     "output_type": "execute_result"
    }
   ],
   "source": [
    "def readFilev2(filename):\n",
    "    with open(filename, 'r') as file:\n",
    "        return file.read()\n",
    "\n",
    "readFilev2('Data/sample.txt')"
   ]
  },
  {
   "cell_type": "code",
   "execution_count": 17,
   "id": "66e993ae-888e-455c-a9ac-aa5b32358d5c",
   "metadata": {},
   "outputs": [],
   "source": [
    "# The with statement is backed by a context manager, which guarantees that:\n",
    "#     The file is opened when the block starts.\n",
    "#     The file is closed automatically when the block ends — even if you return early, raise an error, or break out of a loop."
   ]
  },
  {
   "cell_type": "markdown",
   "id": "b5b8c193-b3ab-439b-8cae-0f1fa42a409f",
   "metadata": {},
   "source": [
    "![Instructions for exercise](Images/1-1.png)"
   ]
  },
  {
   "cell_type": "code",
   "execution_count": 15,
   "id": "8d725a2e-8c25-4dca-b31d-fdeb4fc29016",
   "metadata": {},
   "outputs": [],
   "source": [
    "# Internally its likely doing something like this\n",
    "f = open(filename, 'r')\n",
    "try:\n",
    "    return f.read()\n",
    "finally:\n",
    "    f.close()"
   ]
  },
  {
   "cell_type": "code",
   "execution_count": 31,
   "id": "f9d738bf-4f04-407f-a2c0-ccf776d92309",
   "metadata": {},
   "outputs": [
    {
     "name": "stdout",
     "output_type": "stream",
     "text": [
      "\"CHAPTER 1. Loomings.\\n\\nCall me Ishmael. Some years ago--never mind how long precisely--having\\nlittle or no money in my purse, and nothing particular to interest me on\\nshore, I thought I would sail about a little and see the watery part of\\nthe world. It is a way I have of driving off the spleen and regulating\\nthe circulation. Whenever I find myself growing grim about the mouth;\\nwhenever it is a damp, drizzly November in my soul; whenever I find\\nmyself involuntarily pausing before coffin warehouses, and bringing up\\nthe rear of every funeral I meet; and especially whenever my hypos get\\nsuch an upper hand of me, that it requires a strong moral principle to\\nprevent me from deliberately stepping into the street, and methodically\\nknocking people's hats off--then, I account it high time to get to sea\\nas soon as I can. This is my substitute for pistol and ball. With a\\nphilosophical flourish Cato throws himself upon his sword; I quietly\\ntake to the ship. There is nothing surprising in this. If they but knew\\nit, almost all men in their degree, some time or other, cherish very\\nnearly the same feelings towards the ocean with me.\"\n"
     ]
    }
   ],
   "source": [
    "# Open a file as read-only and bind it to file\n",
    "with open('Data/moby_dick.txt', 'r') as file:\n",
    "  \t# Print it\n",
    "    print(file.read())"
   ]
  },
  {
   "cell_type": "markdown",
   "id": "e07ae675-7c63-449c-8898-a311a4eaa9db",
   "metadata": {},
   "source": [
    "![Instructions for exercise](Images/1-2.png)"
   ]
  },
  {
   "cell_type": "raw",
   "id": "43a1d9e1-778c-404c-9d0b-86de3fef9fd9",
   "metadata": {},
   "source": [
    "# Read & print the first 3 lines\n",
    "with open('moby_dick.txt') as ____:\n",
    "    print(____)\n",
    "    print(____)\n",
    "    print(____)"
   ]
  },
  {
   "cell_type": "code",
   "execution_count": 35,
   "id": "a170c002-c313-4d60-8060-3a7dc1e37f0b",
   "metadata": {},
   "outputs": [
    {
     "name": "stdout",
     "output_type": "stream",
     "text": [
      "CHAPTER 1. Loomings.\n",
      "\n",
      "\n",
      "\n",
      "Call me Ishmael. Some years ago--never mind how long precisely--having\n",
      "\n",
      "little or no money in my purse, and nothing particular to interest me on\n",
      "\n",
      "shore, I thought I would sail about a little and see the watery part of\n",
      "\n"
     ]
    }
   ],
   "source": [
    "# Read & print the first 3 lines\n",
    "with open('Data/moby_dick.txt') as file:\n",
    "    print(file.readline())\n",
    "    print(file.readline())\n",
    "    print(file.readline())"
   ]
  },
  {
   "cell_type": "code",
   "execution_count": null,
   "id": "36f1ea66-969f-4f62-90a6-d5dbbc1ac550",
   "metadata": {},
   "outputs": [],
   "source": [
    "# A flat file is a simple text file that stores data without structured relationships, typically in a plain, tabular format — like rows and columns.\n",
    "\n",
    "# Common formats:\n",
    "#     .txt\n",
    "#     .csv (comma-separated values)\n",
    "#     .tsv (tab-separated values)\n",
    "\n",
    "\n",
    "# Each line is a record\n",
    "# Each field is separated by a delimiter (e.g., comma)\n",
    "# No links, no foreign keys, no data types — just text\n",
    "\n",
    "# Why Are They Called \"Flat\"?\n",
    "\n",
    "# Because they store data in a \"flat\" structure — meaning:\n",
    "#     No hierarchy\n",
    "#     No nesting\n",
    "#     No relationships (like in a relational database)\n",
    "#     Just a linear list of entries"
   ]
  },
  {
   "cell_type": "code",
   "execution_count": null,
   "id": "ec099899-1bad-4f80-8589-413cff7d588e",
   "metadata": {},
   "outputs": [],
   "source": [
    "# Importing flat files using NumPy"
   ]
  },
  {
   "cell_type": "markdown",
   "id": "022503e3-8fa4-48e5-93a6-ce5ea853f0fe",
   "metadata": {},
   "source": [
    "![Instructions for exercise](Images/1-3.png)"
   ]
  },
  {
   "cell_type": "code",
   "execution_count": 53,
   "id": "562c8b17-eb95-4c2b-a18c-b754e4eb965a",
   "metadata": {},
   "outputs": [
    {
     "name": "stdout",
     "output_type": "stream",
     "text": [
      "CHAPTER 1. Loomings.\n",
      "\n",
      "Call me Ishmael. Some years ago--never mind how long precisely--having\n",
      "little or no money in my purse, and nothing particular to interest me on\n",
      "shore, I thought I would sail about a little and see the watery part of\n",
      "the world. It is a way I have of driving off the spleen and regulating\n",
      "the circulation. Whenever I find myself growing grim about the mouth;\n",
      "whenever it is a damp, drizzly November in my soul; whenever I find\n",
      "myself involuntarily pausing before coffin warehouses, and bringing up\n",
      "the rear of every funeral I meet; and especially whenever my hypos get\n",
      "such an upper hand of me, that it requires a strong moral principle to\n",
      "prevent me from deliberately stepping into the street, and methodically\n",
      "knocking people's hats off--then, I account it high time to get to sea\n",
      "as soon as I can. This is my substitute for pistol and ball. With a\n",
      "philosophical flourish Cato throws himself upon his sword; I quietly\n",
      "take to the ship. There is nothing surprising in this. If they but knew\n",
      "it, almost all men in their degree, some time or other, cherish very\n",
      "nearly the same feelings towards the ocean with me.\n"
     ]
    }
   ],
   "source": [
    "## Get csv from datacamp\n",
    "with open('Data/moby_dick.txt', 'r') as file:\n",
    "  \t# Print it\n",
    "    print(file.read())\n",
    "\n",
    "## then regex "
   ]
  },
  {
   "cell_type": "code",
   "execution_count": 50,
   "id": "a5cc82d3-d405-410a-bf85-3caa6aed4a51",
   "metadata": {},
   "outputs": [
    {
     "name": "stdout",
     "output_type": "stream",
     "text": [
      "<class 'numpy.ndarray'>\n"
     ]
    },
    {
     "data": {
      "image/png": "[encoded data removed]",
      "text/plain": [
       "<Figure size 640x480 with 1 Axes>"
      ]
     },
     "metadata": {},
     "output_type": "display_data"
    }
   ],
   "source": [
    "# Import packages\n",
    "import numpy as np\n",
    "import matplotlib.pyplot as plt\n",
    "\n",
    "# np.set_printoptions(threshold=np.inf)\n",
    "\n",
    "# Assign filename to variable: file\n",
    "file = 'Data/digits.csv'\n",
    "\n",
    "# Load file as array: digits\n",
    "digits = np.loadtxt(file, delimiter=',')\n",
    "\n",
    "# Print datatype of digits\n",
    "print(type(digits))\n",
    "\n",
    "# Select and reshape a row\n",
    "im = digits[21, 1:]\n",
    "im_sq = np.reshape(im, (28, 28))\n",
    "\n",
    "# Plot reshaped data (matplotlib.pyplot already loaded as plt)\n",
    "plt.imshow(im_sq, cmap='Greys', interpolation='nearest')\n",
    "plt.show()\n"
   ]
  },
  {
   "cell_type": "markdown",
   "id": "86888e78-5eef-415e-816c-792a8d7e380c",
   "metadata": {},
   "source": [
    "![Instructions for exercise](Images/1-4.png)"
   ]
  },
  {
   "cell_type": "raw",
   "id": "971cd9ae-c459-42d8-bc2f-072e2c0615bb",
   "metadata": {},
   "source": [
    "# Import numpy\n",
    "import numpy as np\n",
    "\n",
    "# Assign the filename: file\n",
    "file = 'digits_header.txt'\n",
    "\n",
    "# Load the data: data\n",
    "data = np.loadtxt(____, delimiter='____', skiprows=____, usecols=[____])\n",
    "\n",
    "# Print data\n",
    "print(____)"
   ]
  },
  {
   "cell_type": "code",
   "execution_count": 46,
   "id": "b76f406a-c40b-44c3-b5d6-2c5308112cb2",
   "metadata": {},
   "outputs": [
    {
     "name": "stdout",
     "output_type": "stream",
     "text": [
      "[[0. 0.]\n",
      " [0. 0.]\n",
      " [0. 0.]\n",
      " [0. 0.]\n",
      " [0. 0.]\n",
      " [0. 0.]\n",
      " [0. 0.]\n",
      " [0. 0.]\n",
      " [0. 0.]\n",
      " [0. 0.]\n",
      " [0. 0.]\n",
      " [0. 0.]\n",
      " [0. 0.]\n",
      " [0. 0.]\n",
      " [0. 0.]\n",
      " [0. 0.]\n",
      " [0. 0.]\n",
      " [0. 0.]\n",
      " [0. 0.]\n",
      " [0. 0.]\n",
      " [0. 0.]\n",
      " [0. 0.]\n",
      " [0. 0.]\n",
      " [0. 0.]\n",
      " [0. 0.]\n",
      " [0. 0.]\n",
      " [0. 0.]\n",
      " [0. 0.]\n",
      " [0. 0.]\n",
      " [0. 0.]\n",
      " [0. 0.]\n",
      " [0. 0.]\n",
      " [0. 0.]\n",
      " [0. 0.]\n",
      " [0. 0.]\n",
      " [0. 0.]\n",
      " [0. 0.]\n",
      " [0. 0.]\n",
      " [0. 0.]\n",
      " [0. 0.]\n",
      " [0. 0.]\n",
      " [0. 0.]\n",
      " [0. 0.]\n",
      " [0. 0.]\n",
      " [0. 0.]\n",
      " [0. 0.]\n",
      " [0. 0.]\n",
      " [0. 0.]\n",
      " [0. 0.]\n",
      " [0. 0.]\n",
      " [0. 0.]\n",
      " [0. 0.]\n",
      " [0. 0.]\n",
      " [0. 0.]\n",
      " [0. 0.]\n",
      " [0. 0.]\n",
      " [0. 0.]\n",
      " [0. 0.]\n",
      " [0. 0.]\n",
      " [0. 0.]\n",
      " [0. 0.]\n",
      " [0. 0.]\n",
      " [0. 0.]\n",
      " [0. 0.]\n",
      " [0. 0.]\n",
      " [0. 0.]\n",
      " [0. 0.]\n",
      " [0. 0.]\n",
      " [0. 0.]\n",
      " [0. 0.]\n",
      " [0. 0.]\n",
      " [0. 0.]\n",
      " [0. 0.]\n",
      " [0. 0.]\n",
      " [0. 0.]\n",
      " [0. 0.]\n",
      " [0. 0.]\n",
      " [0. 0.]\n",
      " [0. 0.]\n",
      " [0. 0.]\n",
      " [0. 0.]\n",
      " [0. 0.]\n",
      " [0. 0.]\n",
      " [0. 0.]\n",
      " [0. 0.]\n",
      " [0. 0.]\n",
      " [0. 0.]\n",
      " [0. 0.]\n",
      " [0. 0.]\n",
      " [0. 0.]\n",
      " [0. 0.]\n",
      " [0. 0.]\n",
      " [0. 0.]\n",
      " [0. 0.]\n",
      " [0. 0.]\n",
      " [0. 0.]\n",
      " [0. 0.]\n",
      " [0. 0.]\n",
      " [0. 0.]\n",
      " [0. 0.]]\n"
     ]
    }
   ],
   "source": [
    "# Import numpy\n",
    "import numpy as np\n",
    "\n",
    "# Assign the filename: file\n",
    "file = 'Data/digits_header.txt'\n",
    "\n",
    "# Load the data: data\n",
    "data = np.loadtxt(file, delimiter='\\t', skiprows=1, usecols=[0,2])\n",
    "\n",
    "# Print data\n",
    "print(data)"
   ]
  },
  {
   "cell_type": "markdown",
   "id": "3b0ca0e9-d9dc-4296-9c2f-682e27523675",
   "metadata": {},
   "source": [
    "![Instructions for exercise](Images/1-5.png)"
   ]
  },
  {
   "cell_type": "raw",
   "id": "3d55cc0b-e5bb-4edd-b130-e89529a72f3a",
   "metadata": {},
   "source": [
    "# Assign filename: file\n",
    "file = 'seaslug.txt'\n",
    "\n",
    "# Import file: data\n",
    "data = np.loadtxt(____, delimiter='\\t', dtype=str)\n",
    "\n",
    "# Print the first element of data\n",
    "print(data[0])\n",
    "\n",
    "# Import file as floats and skip the first row: data_float\n",
    "data_float = np.loadtxt(____, delimiter='____', dtype=____, skiprows=____)\n",
    "\n",
    "# Print the 10th element of data_float\n",
    "print(____)\n",
    "\n",
    "# Plot a scatterplot of the data\n",
    "plt.scatter(data_float[:, 0], data_float[:, 1])\n",
    "plt.xlabel('time (min.)')\n",
    "plt.ylabel('percentage of larvae')\n",
    "plt.show()"
   ]
  },
  {
   "cell_type": "code",
   "execution_count": 60,
   "id": "4aaa76a8-3656-4112-8abb-3054411ed23d",
   "metadata": {},
   "outputs": [
    {
     "name": "stdout",
     "output_type": "stream",
     "text": [
      "['Time' 'Percent']\n",
      "['0' '0.357']\n"
     ]
    },
    {
     "data": {
      "image/png": "[encoded data removed]",
      "text/plain": [
       "<Figure size 640x480 with 1 Axes>"
      ]
     },
     "metadata": {},
     "output_type": "display_data"
    }
   ],
   "source": [
    "# Assign filename: file\n",
    "file = 'Data/seaslug.txt'\n",
    "\n",
    "# Import file: data\n",
    "data = np.loadtxt(file, delimiter='\\t', dtype=str)\n",
    "\n",
    "# Print the first element of data\n",
    "print(data[0])\n",
    "\n",
    "# Import file as floats and skip the first row: data_float\n",
    "data_float = np.loadtxt(file, delimiter='\\t', dtype=float, skiprows=1)\n",
    "\n",
    "# Print the 10th element of data_float\n",
    "print(data_float[9])\n",
    "\n",
    "# Plot a scatterplot of the data\n",
    "plt.scatter(data_float[:, 0], data_float[:, 1])\n",
    "plt.xlabel('time (min.)')\n",
    "plt.ylabel('percentage of larvae')\n",
    "plt.show()"
   ]
  },
  {
   "cell_type": "markdown",
   "id": "9d59c846-0449-4292-81ea-bd29aebe94f3",
   "metadata": {},
   "source": [
    "![Instructions for exercise](Images/1-6.png)"
   ]
  },
  {
   "cell_type": "code",
   "execution_count": null,
   "id": "4cf94557-600d-42d2-a4f5-f3428e43b1f8",
   "metadata": {},
   "outputs": [],
   "source": [
    "import pandas as pd\n",
    "\n",
    "def getHead(name):\n",
    "    pd.read_csv(name)\n",
    "    return data.head()\n",
    "    "
   ]
  },
  {
   "cell_type": "raw",
   "id": "56d745bb-c1eb-4c29-acad-789b42c451d1",
   "metadata": {},
   "source": [
    "# Import pandas as pd\n",
    "____\n",
    "\n",
    "# Assign the filename: file\n",
    "file = 'titanic.csv'\n",
    "\n",
    "# Read the file into a DataFrame: df\n",
    "df = pd.read_csv(____)\n",
    "\n",
    "# View the head of the DataFrame\n",
    "print(____)"
   ]
  },
  {
   "cell_type": "code",
   "execution_count": null,
   "id": "03ab1440-9718-4cb7-9ddf-d3fe36430fb7",
   "metadata": {},
   "outputs": [],
   "source": [
    "# Import pandas as pd\n",
    "import pandas as pd\n",
    "\n",
    "# Assign the filename: file\n",
    "file = 'Data/titanic.csv'\n",
    "\n",
    "# Read the file into a DataFrame: df\n",
    "df = pd.read_csv(file)\n",
    "\n",
    "# View the head of the DataFrame\n",
    "print(df.head())"
   ]
  },
  {
   "cell_type": "markdown",
   "id": "82db1fe7-ee74-4034-a15d-9c9e3f34ad5e",
   "metadata": {},
   "source": [
    "![Instructions for exercise](Images/1-7.png)"
   ]
  },
  {
   "cell_type": "raw",
   "id": "36c5268d-4345-4b71-b357-2d94f5eaa8e4",
   "metadata": {},
   "source": [
    "# Assign the filename: file\n",
    "file = 'digits.csv'\n",
    "\n",
    "# Read the first 5 rows of the file into a DataFrame: data\n",
    "data = ____(____, ____, ____)\n",
    "\n",
    "# Build a numpy array from the DataFrame: data_array\n",
    "data_array = ____\n",
    "\n",
    "# Print the datatype of data_array to the shell\n",
    "print(type(data_array))"
   ]
  },
  {
   "cell_type": "code",
   "execution_count": 62,
   "id": "d43c9735-dfb8-4edd-8254-5b28060b1029",
   "metadata": {},
   "outputs": [
    {
     "name": "stdout",
     "output_type": "stream",
     "text": [
      "   0    1    2    3    4    5    6    7    8    9    ...  775  776  777  778  \\\n",
      "0  1.0  0.0  0.0  0.0  0.0  0.0  0.0  0.0  0.0  0.0  ...  0.0  0.0  0.0  0.0   \n",
      "1  0.0  0.0  0.0  0.0  0.0  0.0  0.0  0.0  0.0  0.0  ...  0.0  0.0  0.0  0.0   \n",
      "2  1.0  0.0  0.0  0.0  0.0  0.0  0.0  0.0  0.0  0.0  ...  0.0  0.0  0.0  0.0   \n",
      "3  4.0  0.0  0.0  0.0  0.0  0.0  0.0  0.0  0.0  0.0  ...  0.0  0.0  0.0  0.0   \n",
      "4  0.0  0.0  0.0  0.0  0.0  0.0  0.0  0.0  0.0  0.0  ...  0.0  0.0  0.0  0.0   \n",
      "\n",
      "   779  780  781  782  783  784  \n",
      "0  0.0  0.0  0.0  0.0  0.0  0.0  \n",
      "1  0.0  0.0  0.0  0.0  0.0  0.0  \n",
      "2  0.0  0.0  0.0  0.0  0.0  0.0  \n",
      "3  0.0  0.0  0.0  0.0  0.0  0.0  \n",
      "4  0.0  0.0  0.0  0.0  0.0  0.0  \n",
      "\n",
      "[5 rows x 785 columns]\n",
      "<class 'numpy.ndarray'>\n"
     ]
    }
   ],
   "source": [
    "import numpy as np\n",
    "import pandas as pd\n",
    "\n",
    "# Assign the filename: file\n",
    "file = 'Data/digits.csv'\n",
    "\n",
    "# Read the first 5 rows of the file into a DataFrame: data\n",
    "data = pd.read_csv(file, nrows=5, header=None)\n",
    "\n",
    "print(data)\n",
    "\n",
    "# Build a numpy array from the DataFrame: data_array\n",
    "data_array = data.to_numpy()\n",
    "\n",
    "# Print the datatype of data_array to the shell\n",
    "print(type(data_array))"
   ]
  },
  {
   "cell_type": "code",
   "execution_count": null,
   "id": "12a871be-0469-46b4-977f-3ba01d1fafb3",
   "metadata": {},
   "outputs": [],
   "source": [
    "# 💡 When to keep it as data:\n",
    "#     You want to use Pandas features like .loc, .groupby(), .merge(), etc.\n",
    "#     You care about column names and labels.\n",
    "\n",
    "# 💡 When to convert to NumPy:\n",
    "#     You’re doing heavy numerical computation (e.g., ML, math).\n",
    "#     You’re passing data to libraries that expect a numpy.ndarray (like scikit-learn)."
   ]
  },
  {
   "cell_type": "markdown",
   "id": "6f936f23-57de-49a6-b4e2-a806f36e447f",
   "metadata": {},
   "source": [
    "![Instructions for exercise](Images/1-8.png)"
   ]
  },
  {
   "cell_type": "code",
   "execution_count": 67,
   "id": "0ac869e1-b18a-4de7-9025-91df30203601",
   "metadata": {},
   "outputs": [
    {
     "name": "stdout",
     "output_type": "stream",
     "text": [
      "   PassengerId  Survived  Pclass     Sex   Age  SibSp  Parch  \\\n",
      "0            1         0       3    male  22.0      1      0   \n",
      "1            2         1       1  female  38.0      1      0   \n",
      "2            3         1       3  female  26.0      0      0   \n",
      "3            4         1       1  female  35.0      1      0   \n",
      "4            5         0       3    male  35.0      0      0   \n",
      "\n",
      "             Ticket    Fare Cabin Embarked  \n",
      "0         A/5 21171   7.250   NaN       S   \n",
      "1          PC 17599     NaN   NaN      NaN  \n",
      "2  STON/O2. 3101282   7.925   NaN        S  \n",
      "3            113803  53.100  C123        S  \n",
      "4            373450   8.050   NaN        S  \n"
     ]
    },
    {
     "data": {
      "image/png": "[encoded data removed]",
      "text/plain": [
       "<Figure size 640x480 with 1 Axes>"
      ]
     },
     "metadata": {},
     "output_type": "display_data"
    }
   ],
   "source": [
    "import numpy as np\n",
    "import pandas as pd\n",
    "import matplotlib.pyplot as plt\n",
    "\n",
    "# Assign filename: file\n",
    "file = 'Data/titanic_corrupt.txt'\n",
    "\n",
    "# Import file: data\n",
    "data = pd.read_csv(file, sep='\\t', comment='#', na_values=['Nothing'])\n",
    "\n",
    "# Print the head of the DataFrame\n",
    "print(data.head())\n",
    "\n",
    "# Plot 'Age' variable in a histogram\n",
    "pd.DataFrame.hist(data[['Age']])\n",
    "plt.xlabel('Age (years)')\n",
    "plt.ylabel('count')\n",
    "plt.show()"
   ]
  },
  {
   "cell_type": "code",
   "execution_count": null,
   "id": "af6ea172-3df3-4cb0-b56e-4debcc6f4ab1",
   "metadata": {},
   "outputs": [],
   "source": [
    "# why is na_values=['Nothing'] a list\n",
    "\n",
    "# 🔍 How it works\n",
    "# You can pass a single string:\n",
    "# na_values='Nothing'\n",
    "\n",
    "# This will only replace \"Nothing\" with NaN.\n",
    "\n",
    "# Or you can pass a list of strings/numbers:\n",
    "# na_values=['Nothing', 'NA', 'N/A', 'Missing', 'null', '-999']\n",
    "\n",
    "# Pandas will treat all of these as missing values.\n",
    "# You can even pass a dict to define different missing values for each column:\n",
    "\n",
    "# na_values={\n",
    "#     'Age': ['Nothing', 'Unknown'],\n",
    "#     'Fare': ['?', -1]\n",
    "# }"
   ]
  },
  {
   "cell_type": "code",
   "execution_count": null,
   "id": "9ffd634c-7f75-46d2-bc9e-a68eae6fcce4",
   "metadata": {},
   "outputs": [],
   "source": []
  },
  {
   "cell_type": "code",
   "execution_count": null,
   "id": "5fb15a5b-6de7-4442-9a0d-a81e24cea4a8",
   "metadata": {},
   "outputs": [],
   "source": []
  }
 ],
 "metadata": {
  "kernelspec": {
   "display_name": "Python 3 (ipykernel)",
   "language": "python",
   "name": "python3"
  },
  "language_info": {
   "codemirror_mode": {
    "name": "ipython",
    "version": 3
   },
   "file_extension": ".py",
   "mimetype": "text/x-python",
   "name": "python",
   "nbconvert_exporter": "python",
   "pygments_lexer": "ipython3",
   "version": "3.13.2"
  }
 },
 "nbformat": 4,
 "nbformat_minor": 5
}
