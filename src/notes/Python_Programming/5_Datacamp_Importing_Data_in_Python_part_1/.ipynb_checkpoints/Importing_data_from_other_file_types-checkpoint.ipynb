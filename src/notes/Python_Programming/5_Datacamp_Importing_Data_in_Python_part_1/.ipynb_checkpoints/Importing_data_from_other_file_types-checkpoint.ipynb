{
 "cells": [
  {
   "cell_type": "markdown",
   "id": "0293ae10-5b53-45fc-be84-e3e6caa9539c",
   "metadata": {},
   "source": [
    "![Instructions for exercise](Images/2-1.png)"
   ]
  },
  {
   "cell_type": "code",
   "execution_count": 8,
   "id": "e63d9d9f-186f-44ba-ac37-68a1433beab4",
   "metadata": {},
   "outputs": [
    {
     "data": {
      "text/plain": [
       "['.ipynb_checkpoints',\n",
       " 'Data',\n",
       " 'Images',\n",
       " 'Importing_data_from_other_file_types.ipynb',\n",
       " 'Introduction_and_flat_files.ipynb',\n",
       " 'Untitled.ipynb']"
      ]
     },
     "execution_count": 8,
     "metadata": {},
     "output_type": "execute_result"
    }
   ],
   "source": [
    "import os\n",
    "wd = os.getcwd()\n",
    "os.listdir(wd)"
   ]
  },
  {
   "cell_type": "markdown",
   "id": "85d2fbd2-86f9-45ad-81f0-cd4d883b31a2",
   "metadata": {},
   "source": [
    "![Instructions for exercise](Images/2-2.png)"
   ]
  },
  {
   "cell_type": "code",
   "execution_count": 3,
   "id": "6aee7623-5e21-45d2-b028-6b6d9c81c94d",
   "metadata": {},
   "outputs": [],
   "source": [
    "# What is a pickled file?\n",
    "\n",
    "# A **pickled file** is just a file that stores Python objects in a special binary format created by Python’s `pickle` module.\n",
    "\n",
    "# Think of it as “freezing” a Python object so you can save it to disk or send it somewhere, then “thawing” it later to get the exact same object back.\n",
    "\n",
    "# * **Pickling** = converting the object → byte stream\n",
    "# * **Unpickling** = converting the byte stream → original object\n",
    "\n",
    "# Example:\n",
    "\n",
    "import pickle\n",
    "\n",
    "# Pickle (save)\n",
    "data = {\"name\": \"Alice\", \"age\": 30}\n",
    "with open(\"data.pkl\", \"wb\") as f:\n",
    "    pickle.dump(data, f)\n",
    "\n",
    "# Unpickle (load)\n",
    "with open(\"data.pkl\", \"rb\") as f:\n",
    "    restored = pickle.load(f)\n",
    "\n",
    "print(restored)  # {'name': 'Alice', 'age': 30}\n",
    "\n",
    "# 📌 **Important:** Never unpickle files from untrusted sources — they can run malicious code on your machine."
   ]
  },
  {
   "cell_type": "code",
   "execution_count": null,
   "id": "4f8ffc5a-bccf-4525-971f-a9500452e671",
   "metadata": {},
   "outputs": [],
   "source": [
    "# So its a nice way to store some data without having to use a txt file\n",
    "\n",
    "# Exactly — it’s like a snapshot of a Python object you can save and load without having to manually format it into text (like CSV, JSON, or plain .txt).\n",
    "\n",
    "# The nice part is:\n",
    "\n",
    "    # You don’t have to worry about converting types — lists, dicts, sets, even custom classes get stored as-is.\n",
    "    # When you load it back, you get the exact same Python object structure.\n",
    "\n",
    "# The not-so-nice parts:\n",
    "\n",
    "    # It’s Python-only — other languages won’t natively understand it.\n",
    "    # It’s not human-readable (binary format).\n",
    "    # It’s unsafe to load from untrusted sources, because it can execute arbitrary code."
   ]
  },
  {
   "cell_type": "raw",
   "id": "73264b86-3a65-4664-8f44-749ad01cc34e",
   "metadata": {},
   "source": [
    "# Import pickle package\n",
    "\n",
    "\n",
    "# Open pickle file and load data: d\n",
    "with open('data.pkl', ____) as file:\n",
    "    d = pickle.load(____)\n",
    "\n",
    "# Print d\n",
    "print(____)\n",
    "\n",
    "# Print datatype of d\n",
    "print(____)"
   ]
  },
  {
   "cell_type": "code",
   "execution_count": 12,
   "id": "6586742e-af63-43e2-9963-0271cc2f553c",
   "metadata": {},
   "outputs": [],
   "source": [
    "# Import pickle package\n",
    "import pickle\n",
    "\n",
    "# SAVING A PICKLE\n",
    "filename = 'Data/data.pkl'\n",
    "data = {'June': '69.4', 'Aug': '85', 'Airline': '8', 'Mar': '84.4'}\n",
    "\n",
    "def save(filename, data):\n",
    "    with open(filename, \"wb\") as f:\n",
    "        pickle.dump(data, f)\n",
    "\n",
    "save(filename, data)"
   ]
  },
  {
   "cell_type": "code",
   "execution_count": 13,
   "id": "3f0c52ea-8101-4261-b3e5-9059b61620e7",
   "metadata": {},
   "outputs": [
    {
     "name": "stdout",
     "output_type": "stream",
     "text": [
      "{'June': '69.4', 'Aug': '85', 'Airline': '8', 'Mar': '84.4'}\n",
      "<class 'dict'>\n"
     ]
    }
   ],
   "source": [
    "# Import pickle package\n",
    "import pickle\n",
    "\n",
    "# GETTING A PICKLE\n",
    "\n",
    "# Open pickle file and load data: d\n",
    "with open('Data/data.pkl', 'rb') as file:\n",
    "    d = pickle.load(file)\n",
    "\n",
    "# Print d\n",
    "print(d)\n",
    "\n",
    "# Print datatype of d\n",
    "print(type(d))"
   ]
  },
  {
   "cell_type": "markdown",
   "id": "e154613b-f768-4cb0-a957-6f4fcd970e0d",
   "metadata": {},
   "source": [
    "![Instructions for exercise](Images/2-3.png)"
   ]
  },
  {
   "cell_type": "raw",
   "id": "a17c8e37-347b-4c8e-8611-4c641d4199f5",
   "metadata": {},
   "source": [
    "# Import pandas\n",
    "import pandas as pd\n",
    "\n",
    "# Assign spreadsheet filename: file\n",
    "file = ____\n",
    "\n",
    "# Load spreadsheet: xls\n",
    "xls = pd.ExcelFile(____)\n",
    "\n",
    "# Print sheet names\n",
    "print(____)\n"
   ]
  },
  {
   "cell_type": "code",
   "execution_count": 18,
   "id": "e441ccdd-5f3a-4fbd-b0cc-be6190f31bd3",
   "metadata": {},
   "outputs": [
    {
     "name": "stdout",
     "output_type": "stream",
     "text": [
      "['Russia Visit Data']\n"
     ]
    }
   ],
   "source": [
    "# Import pandas\n",
    "import pandas as pd\n",
    "\n",
    "\n",
    "# Assign spreadsheet filename: file\n",
    "file = 'Data/testdata.xlsx'\n",
    "\n",
    "# Load spreadsheet: xls\n",
    "xls = pd.ExcelFile(file)\n",
    "\n",
    "# Print sheet names\n",
    "print(xls.sheet_names)\n"
   ]
  },
  {
   "cell_type": "markdown",
   "id": "9725903a-6ecf-4f94-85f8-cb7727954520",
   "metadata": {},
   "source": [
    "![Instructions for exercise](Images/2-4.png)"
   ]
  },
  {
   "cell_type": "raw",
   "id": "03e53769-d59d-4628-a548-660ffd76accb",
   "metadata": {},
   "source": [
    "# Load a sheet into a DataFrame by name: df1\n",
    "df1 = xls.parse(____)\n",
    "\n",
    "# Print the head of the DataFrame df1\n",
    "print(____)\n",
    "\n",
    "# Load a sheet into a DataFrame by index: df2\n",
    "\n",
    "\n",
    "# Print the head of the DataFrame df2\n",
    "print(____)"
   ]
  },
  {
   "cell_type": "code",
   "execution_count": 19,
   "id": "e6b755a2-61a6-4d81-ad71-e058621670b5",
   "metadata": {},
   "outputs": [
    {
     "name": "stdout",
     "output_type": "stream",
     "text": [
      "   No         Leader     Status  Status Id  Leader Id     Country  \\\n",
      "0   1  Boris Yeltsin  President          1          1      France   \n",
      "1   2  Boris Yeltsin  President          1          1     Germany   \n",
      "2   3  Boris Yeltsin  President          1          1     Romania   \n",
      "3   4  Boris Yeltsin  President          1          1     Vatican   \n",
      "4   5  Boris Yeltsin  President          1          1  Kazakhstan   \n",
      "\n",
      "  CountryCode_ CountryCode   Cown  Year  ...            Content City  \\\n",
      "0          FRA         FRN  220.0  1991  ...                NaN  NaN   \n",
      "1          DEU         GMY  255.0  1991  ...                NaN  NaN   \n",
      "2          ROU         ROM  360.0  1991  ...                NaN  NaN   \n",
      "3          NaN         NaN    NaN  1991  ...                NaN  NaN   \n",
      "4          KAZ         KZK  705.0  1991  ...  Alma-Ata Protocol  NaN   \n",
      "\n",
      "  Group Visit  Group Order Group Id  \\\n",
      "0         0.0          1.0      1.0   \n",
      "1         0.0          1.0      2.0   \n",
      "2         0.0          1.0      3.0   \n",
      "3         0.0          1.0      4.0   \n",
      "4         0.0          1.0      5.0   \n",
      "\n",
      "                                              Source Access Date  Source Data  \\\n",
      "0   Yeltsin working for links between Europe, Russia  2023-11-11          1.0   \n",
      "1     Honecker vows never to return to Germany alive  2023-11-11          2.0   \n",
      "2                     Boris Yeltsin to visit Romania  2023-11-11          NaN   \n",
      "3  Religion makes a comeback in the former commun...  2023-11-11          3.0   \n",
      "4  Four former Soviet rePublics to sign nuclear pact  2023-11-11          4.0   \n",
      "\n",
      "                                      Control Source  \\\n",
      "0                                                NaN   \n",
      "1  https://www.latimes.com/archives/la-xpm-1991-1...   \n",
      "2                                                NaN   \n",
      "3    https://sputnikmediabank.com/media/6382715.html   \n",
      "4  https://cdn.istanbul.edu.tr/file/JTA6CLJ8T5/DB...   \n",
      "\n",
      "                                             Note  \n",
      "0  An unOfficial visit during de facto presidency  \n",
      "1                                             NaN  \n",
      "2                                             NaN  \n",
      "3                                             NaN  \n",
      "4                                             NaN  \n",
      "\n",
      "[5 rows x 25 columns]\n"
     ]
    }
   ],
   "source": [
    "# Load a sheet into a DataFrame by name: df1\n",
    "sheet_name = 'Russia Visit Data'\n",
    "df1 = xls.parse(sheet_name)\n",
    "\n",
    "# Print the head of the DataFrame df1\n",
    "print(df1.head())"
   ]
  },
  {
   "cell_type": "code",
   "execution_count": null,
   "id": "0ea3136f-0431-427a-b269-7ac29e5fba55",
   "metadata": {},
   "outputs": [],
   "source": [
    "# Load a sheet into a DataFrame by name: df1\n",
    "\n",
    "sheet_name_1 = '2004'\n",
    "sheet_name_2 = '2002'\n",
    "\n",
    "df1 = xls.parse(sheet_name_1)\n",
    "\n",
    "# Print the head of the DataFrame df1\n",
    "print(df1.head())\n",
    "\n",
    "# Load a sheet into a DataFrame by index: df2\n",
    "df2 = xls.parse(0)\n",
    "\n",
    "# Print the head of the DataFrame df2\n",
    "print(df2.head())"
   ]
  },
  {
   "cell_type": "code",
   "execution_count": null,
   "id": "828e4d03-90c1-4777-8c4a-190de72d3fdc",
   "metadata": {},
   "outputs": [],
   "source": [
    "#   War(country)   2004\n",
    "# 0  Afghanistan  9.451\n",
    "# 1      Albania  0.130\n",
    "# 2      Algeria  3.407\n",
    "# 3      Andorra  0.000\n",
    "# 4       Angola  2.598\n",
    "#   War, age-adjusted mortality due to    2002\n",
    "# 0                        Afghanistan  36.084\n",
    "# 1                            Albania   0.129\n",
    "# 2                            Algeria  18.314\n",
    "# 3                            Andorra   0.000\n",
    "# 4                             Angola  18.965"
   ]
  },
  {
   "cell_type": "markdown",
   "id": "8706ef3e-3336-4dd6-b35b-67395d1728fe",
   "metadata": {},
   "source": [
    "![Instructions for exercise](Images/2-5.png)"
   ]
  },
  {
   "cell_type": "raw",
   "id": "e5f93aec-5d37-41d8-9ec9-28761a41517f",
   "metadata": {},
   "source": [
    "# Parse the first sheet and rename the columns: df1\n",
    "df1 = xls.parse(____, skiprows=____, names=____)\n",
    "\n",
    "# Print the head of the DataFrame df1\n",
    "print(df1.head())\n",
    "\n",
    "# Parse the first column of the second sheet and rename the column: df2\n",
    "df2 = xls.parse(____, usecols=____, skiprows=____, names=____)\n",
    "\n",
    "# Print the head of the DataFrame df2\n",
    "print(df2.head())\n"
   ]
  },
  {
   "cell_type": "code",
   "execution_count": 21,
   "id": "225f4ed3-893c-4330-91e9-7971a05db36f",
   "metadata": {},
   "outputs": [
    {
     "name": "stdout",
     "output_type": "stream",
     "text": [
      "   No         Leader     Status  Status Id  Leader Id     Country  \\\n",
      "0   1  Boris Yeltsin  President          1          1      France   \n",
      "1   2  Boris Yeltsin  President          1          1     Germany   \n",
      "2   3  Boris Yeltsin  President          1          1     Romania   \n",
      "3   4  Boris Yeltsin  President          1          1     Vatican   \n",
      "4   5  Boris Yeltsin  President          1          1  Kazakhstan   \n",
      "\n",
      "  CountryCode_ CountryCode   Cown  Year  ...            Content City  \\\n",
      "0          FRA         FRN  220.0  1991  ...                NaN  NaN   \n",
      "1          DEU         GMY  255.0  1991  ...                NaN  NaN   \n",
      "2          ROU         ROM  360.0  1991  ...                NaN  NaN   \n",
      "3          NaN         NaN    NaN  1991  ...                NaN  NaN   \n",
      "4          KAZ         KZK  705.0  1991  ...  Alma-Ata Protocol  NaN   \n",
      "\n",
      "  Group Visit  Group Order Group Id  \\\n",
      "0         0.0          1.0      1.0   \n",
      "1         0.0          1.0      2.0   \n",
      "2         0.0          1.0      3.0   \n",
      "3         0.0          1.0      4.0   \n",
      "4         0.0          1.0      5.0   \n",
      "\n",
      "                                              Source Access Date  Source Data  \\\n",
      "0   Yeltsin working for links between Europe, Russia  2023-11-11          1.0   \n",
      "1     Honecker vows never to return to Germany alive  2023-11-11          2.0   \n",
      "2                     Boris Yeltsin to visit Romania  2023-11-11          NaN   \n",
      "3  Religion makes a comeback in the former commun...  2023-11-11          3.0   \n",
      "4  Four former Soviet rePublics to sign nuclear pact  2023-11-11          4.0   \n",
      "\n",
      "                                      Control Source  \\\n",
      "0                                                NaN   \n",
      "1  https://www.latimes.com/archives/la-xpm-1991-1...   \n",
      "2                                                NaN   \n",
      "3    https://sputnikmediabank.com/media/6382715.html   \n",
      "4  https://cdn.istanbul.edu.tr/file/JTA6CLJ8T5/DB...   \n",
      "\n",
      "                                             Note  \n",
      "0  An unOfficial visit during de facto presidency  \n",
      "1                                             NaN  \n",
      "2                                             NaN  \n",
      "3                                             NaN  \n",
      "4                                             NaN  \n",
      "\n",
      "[5 rows x 25 columns]\n"
     ]
    }
   ],
   "source": [
    "# Load a sheet into a DataFrame by name: df1\n",
    "sheet_name = 'Russia Visit Data'\n",
    "df1 = xls.parse(sheet_name)\n",
    "\n",
    "# Print the head of the DataFrame df1\n",
    "print(df1.head())"
   ]
  },
  {
   "cell_type": "code",
   "execution_count": null,
   "id": "b4b3754d-c53f-425c-b81c-a1208fbd0cd8",
   "metadata": {},
   "outputs": [],
   "source": [
    "df1 = xls.parse(0, skiprows=[0], names=['Country'])\n",
    "print(df1.head())\n",
    "\n",
    "# Parse the first column of the second sheet (index 1), skip the first row, rename column\n",
    "df2 = xls.parse(1, usecols=[0], skiprows=[0], names=['Country'])\n",
    "print(df2.head())"
   ]
  },
  {
   "cell_type": "code",
   "execution_count": null,
   "id": "6f5cebd5-7690-4181-8cb3-4eae28e64ab3",
   "metadata": {},
   "outputs": [],
   "source": [
    "#                Country  AAM due to War (2002)\n",
    "# 0              Albania                  0.129\n",
    "# 1              Algeria                 18.314\n",
    "# 2              Andorra                  0.000\n",
    "# 3               Angola                 18.965\n",
    "# 4  Antigua and Barbuda                  0.000\n",
    "#                Country\n",
    "# 0              Albania\n",
    "# 1              Algeria\n",
    "# 2              Andorra\n",
    "# 3               Angola\n",
    "# 4  Antigua and Barbuda"
   ]
  },
  {
   "cell_type": "code",
   "execution_count": null,
   "id": "aa4fdcf3-93a7-4f5b-abf8-d848d27d356b",
   "metadata": {},
   "outputs": [],
   "source": [
    "# Your Excel file probably looked something like this:"
   ]
  },
  {
   "cell_type": "code",
   "execution_count": 22,
   "id": "fbd502c6-9a2b-4d50-8f7c-59b1ccacc83e",
   "metadata": {},
   "outputs": [],
   "source": [
    "# Sheet 1 (index 0):\n",
    "# | (row 0)        | (col 0) Country | (col 1) AAM due to War (2002) |\n",
    "# | -------------- | --------------- | ----------------------------- |\n",
    "# | **Header Row** | Country Name    | Deaths                        |\n",
    "# | 1              | Albania         | 0.129                         |\n",
    "# | 2              | Algeria         | 18.314                        |\n",
    "# | 3              | Andorra         | 0.000                         |\n",
    "# | 4              | Angola          | 18.965                        |\n",
    "# | 5              | Antigua ...     | 0.000                         |\n"
   ]
  },
  {
   "cell_type": "code",
   "execution_count": 24,
   "id": "8fddec8c-1bf5-4c61-822d-6d3bc1b0d8f7",
   "metadata": {},
   "outputs": [],
   "source": [
    "# Sheet 2 (index 1):\n",
    "# | (row 0)        | (col 0) Country |\n",
    "# | -------------- | --------------- |\n",
    "# | **Header Row** | Country Name    |\n",
    "# | 1              | Albania         |\n",
    "# | 2              | Algeria         |\n",
    "# | 3              | Andorra         |\n",
    "# | 4              | Angola          |\n",
    "# | 5              | Antigua ...     |\n"
   ]
  },
  {
   "cell_type": "code",
   "execution_count": null,
   "id": "f457d75b-0bc5-46df-9b4d-5b70d35987ee",
   "metadata": {},
   "outputs": [],
   "source": [
    "What your code did:"
   ]
  },
  {
   "cell_type": "code",
   "execution_count": null,
   "id": "7fb847e4-e6c5-4a4e-bbcc-3b1503533887",
   "metadata": {},
   "outputs": [],
   "source": [
    "# For Sheet 1 (df1)\n",
    "\n",
    "#     Skipped row 0 (the header row in Excel) so that Pandas wouldn’t use it automatically.\n",
    "#     Assigned your own column names: \"Country\" and \"AAM due to War (2002)\".\n",
    "#     Result:"
   ]
  },
  {
   "cell_type": "code",
   "execution_count": null,
   "id": "5b9514e4-449d-4e41-8bde-a7c2fb38cb5e",
   "metadata": {},
   "outputs": [],
   "source": [
    "#     Country           AAM due to War (2002)\n",
    "# 0   Albania           0.129\n",
    "# 1   Algeria           18.314\n",
    "# 2   Andorra           0.000\n",
    "# 3   Angola            18.965\n",
    "# 4   Antigua and Barbuda  0.000"
   ]
  },
  {
   "cell_type": "code",
   "execution_count": 26,
   "id": "59428807-e358-431f-8ba6-dfd7c1228bb1",
   "metadata": {},
   "outputs": [],
   "source": [
    "# For Sheet 2 (df2)\n",
    "\n",
    "#     Skipped row 0 (header).\n",
    "#     Selected only the first column (usecols=[0]).\n",
    "#     Renamed it \"Country\"."
   ]
  },
  {
   "cell_type": "code",
   "execution_count": null,
   "id": "d5e43df5-b748-4c71-b0f0-2816e8bddb7e",
   "metadata": {},
   "outputs": [],
   "source": [
    "#     Country\n",
    "# 0   Albania\n",
    "# 1   Algeria\n",
    "# 2   Andorra\n",
    "# 3   Angola\n",
    "# 4   Antigua and Barbuda\n"
   ]
  },
  {
   "cell_type": "code",
   "execution_count": 28,
   "id": "9f480289-d3ea-4b7a-a3e9-d7515b759171",
   "metadata": {},
   "outputs": [],
   "source": [
    "# So that why the output looks like this:\n",
    "\n",
    "#                Country  AAM due to War (2002)\n",
    "# 0              Albania                  0.129\n",
    "# 1              Algeria                 18.314\n",
    "# 2              Andorra                  0.000\n",
    "# 3               Angola                 18.965\n",
    "# 4  Antigua and Barbuda                  0.000\n",
    "#                Country\n",
    "# 0              Albania\n",
    "# 1              Algeria\n",
    "# 2              Andorra\n",
    "# 3               Angola\n",
    "# 4  Antigua and Barbuda"
   ]
  },
  {
   "cell_type": "code",
   "execution_count": null,
   "id": "be0d0357-6030-487e-9c9a-1f8e115e975a",
   "metadata": {},
   "outputs": [],
   "source": [
    "![Instructions for exercise](Images/2-1.png)"
   ]
  }
 ],
 "metadata": {
  "kernelspec": {
   "display_name": "Python 3 (ipykernel)",
   "language": "python",
   "name": "python3"
  },
  "language_info": {
   "codemirror_mode": {
    "name": "ipython",
    "version": 3
   },
   "file_extension": ".py",
   "mimetype": "text/x-python",
   "name": "python",
   "nbconvert_exporter": "python",
   "pygments_lexer": "ipython3",
   "version": "3.13.2"
  }
 },
 "nbformat": 4,
 "nbformat_minor": 5
}
