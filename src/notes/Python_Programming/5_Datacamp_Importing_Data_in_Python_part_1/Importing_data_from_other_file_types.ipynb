{
 "cells": [
  {
   "cell_type": "markdown",
   "id": "0293ae10-5b53-45fc-be84-e3e6caa9539c",
   "metadata": {},
   "source": [
    "![Instructions for exercise](Images/2-1.png)"
   ]
  },
  {
   "cell_type": "code",
   "execution_count": 8,
   "id": "e63d9d9f-186f-44ba-ac37-68a1433beab4",
   "metadata": {},
   "outputs": [
    {
     "data": {
      "text/plain": [
       "['.ipynb_checkpoints',\n",
       " 'Data',\n",
       " 'Images',\n",
       " 'Importing_data_from_other_file_types.ipynb',\n",
       " 'Introduction_and_flat_files.ipynb',\n",
       " 'Untitled.ipynb']"
      ]
     },
     "execution_count": 8,
     "metadata": {},
     "output_type": "execute_result"
    }
   ],
   "source": [
    "import os\n",
    "wd = os.getcwd()\n",
    "os.listdir(wd)"
   ]
  },
  {
   "cell_type": "markdown",
   "id": "85d2fbd2-86f9-45ad-81f0-cd4d883b31a2",
   "metadata": {},
   "source": [
    "![Instructions for exercise](Images/2-2.png)"
   ]
  },
  {
   "cell_type": "code",
   "execution_count": 3,
   "id": "6aee7623-5e21-45d2-b028-6b6d9c81c94d",
   "metadata": {},
   "outputs": [],
   "source": [
    "# What is a pickled file?\n",
    "\n",
    "# A **pickled file** is just a file that stores Python objects in a special binary format created by Python’s `pickle` module.\n",
    "\n",
    "# Think of it as “freezing” a Python object so you can save it to disk or send it somewhere, then “thawing” it later to get the exact same object back.\n",
    "\n",
    "# * **Pickling** = converting the object → byte stream\n",
    "# * **Unpickling** = converting the byte stream → original object\n",
    "\n",
    "# Example:\n",
    "\n",
    "import pickle\n",
    "\n",
    "# Pickle (save)\n",
    "data = {\"name\": \"Alice\", \"age\": 30}\n",
    "with open(\"data.pkl\", \"wb\") as f:\n",
    "    pickle.dump(data, f)\n",
    "\n",
    "# Unpickle (load)\n",
    "with open(\"data.pkl\", \"rb\") as f:\n",
    "    restored = pickle.load(f)\n",
    "\n",
    "print(restored)  # {'name': 'Alice', 'age': 30}\n",
    "\n",
    "# 📌 **Important:** Never unpickle files from untrusted sources — they can run malicious code on your machine."
   ]
  },
  {
   "cell_type": "code",
   "execution_count": null,
   "id": "4f8ffc5a-bccf-4525-971f-a9500452e671",
   "metadata": {},
   "outputs": [],
   "source": [
    "# So its a nice way to store some data without having to use a txt file\n",
    "\n",
    "# Exactly — it’s like a snapshot of a Python object you can save and load without having to manually format it into text (like CSV, JSON, or plain .txt).\n",
    "\n",
    "# The nice part is:\n",
    "\n",
    "    # You don’t have to worry about converting types — lists, dicts, sets, even custom classes get stored as-is.\n",
    "    # When you load it back, you get the exact same Python object structure.\n",
    "\n",
    "# The not-so-nice parts:\n",
    "\n",
    "    # It’s Python-only — other languages won’t natively understand it.\n",
    "    # It’s not human-readable (binary format).\n",
    "    # It’s unsafe to load from untrusted sources, because it can execute arbitrary code."
   ]
  },
  {
   "cell_type": "raw",
   "id": "73264b86-3a65-4664-8f44-749ad01cc34e",
   "metadata": {},
   "source": [
    "# Import pickle package\n",
    "\n",
    "\n",
    "# Open pickle file and load data: d\n",
    "with open('data.pkl', ____) as file:\n",
    "    d = pickle.load(____)\n",
    "\n",
    "# Print d\n",
    "print(____)\n",
    "\n",
    "# Print datatype of d\n",
    "print(____)"
   ]
  },
  {
   "cell_type": "code",
   "execution_count": 12,
   "id": "6586742e-af63-43e2-9963-0271cc2f553c",
   "metadata": {},
   "outputs": [],
   "source": [
    "# Import pickle package\n",
    "import pickle\n",
    "\n",
    "# SAVING A PICKLE\n",
    "filename = 'Data/data.pkl'\n",
    "data = {'June': '69.4', 'Aug': '85', 'Airline': '8', 'Mar': '84.4'}\n",
    "\n",
    "def save(filename, data):\n",
    "    with open(filename, \"wb\") as f:\n",
    "        pickle.dump(data, f)\n",
    "\n",
    "save(filename, data)"
   ]
  },
  {
   "cell_type": "code",
   "execution_count": 13,
   "id": "3f0c52ea-8101-4261-b3e5-9059b61620e7",
   "metadata": {},
   "outputs": [
    {
     "name": "stdout",
     "output_type": "stream",
     "text": [
      "{'June': '69.4', 'Aug': '85', 'Airline': '8', 'Mar': '84.4'}\n",
      "<class 'dict'>\n"
     ]
    }
   ],
   "source": [
    "# Import pickle package\n",
    "import pickle\n",
    "\n",
    "# GETTING A PICKLE\n",
    "\n",
    "# Open pickle file and load data: d\n",
    "with open('Data/data.pkl', 'rb') as file:\n",
    "    d = pickle.load(file)\n",
    "\n",
    "# Print d\n",
    "print(d)\n",
    "\n",
    "# Print datatype of d\n",
    "print(type(d))"
   ]
  },
  {
   "cell_type": "markdown",
   "id": "e154613b-f768-4cb0-a957-6f4fcd970e0d",
   "metadata": {},
   "source": [
    "![Instructions for exercise](Images/2-3.png)"
   ]
  },
  {
   "cell_type": "raw",
   "id": "a17c8e37-347b-4c8e-8611-4c641d4199f5",
   "metadata": {},
   "source": [
    "# Import pandas\n",
    "import pandas as pd\n",
    "\n",
    "# Assign spreadsheet filename: file\n",
    "file = ____\n",
    "\n",
    "# Load spreadsheet: xls\n",
    "xls = pd.ExcelFile(____)\n",
    "\n",
    "# Print sheet names\n",
    "print(____)\n"
   ]
  },
  {
   "cell_type": "code",
   "execution_count": 18,
   "id": "e441ccdd-5f3a-4fbd-b0cc-be6190f31bd3",
   "metadata": {},
   "outputs": [
    {
     "name": "stdout",
     "output_type": "stream",
     "text": [
      "['Russia Visit Data']\n"
     ]
    }
   ],
   "source": [
    "# Import pandas\n",
    "import pandas as pd\n",
    "\n",
    "\n",
    "# Assign spreadsheet filename: file\n",
    "file = 'Data/testdata.xlsx'\n",
    "\n",
    "# Load spreadsheet: xls\n",
    "xls = pd.ExcelFile(file)\n",
    "\n",
    "# Print sheet names\n",
    "print(xls.sheet_names)\n"
   ]
  },
  {
   "cell_type": "markdown",
   "id": "9725903a-6ecf-4f94-85f8-cb7727954520",
   "metadata": {},
   "source": [
    "![Instructions for exercise](Images/2-4.png)"
   ]
  },
  {
   "cell_type": "raw",
   "id": "03e53769-d59d-4628-a548-660ffd76accb",
   "metadata": {},
   "source": [
    "# Load a sheet into a DataFrame by name: df1\n",
    "df1 = xls.parse(____)\n",
    "\n",
    "# Print the head of the DataFrame df1\n",
    "print(____)\n",
    "\n",
    "# Load a sheet into a DataFrame by index: df2\n",
    "\n",
    "\n",
    "# Print the head of the DataFrame df2\n",
    "print(____)"
   ]
  },
  {
   "cell_type": "code",
   "execution_count": 19,
   "id": "e6b755a2-61a6-4d81-ad71-e058621670b5",
   "metadata": {},
   "outputs": [
    {
     "name": "stdout",
     "output_type": "stream",
     "text": [
      "   No         Leader     Status  Status Id  Leader Id     Country  \\\n",
      "0   1  Boris Yeltsin  President          1          1      France   \n",
      "1   2  Boris Yeltsin  President          1          1     Germany   \n",
      "2   3  Boris Yeltsin  President          1          1     Romania   \n",
      "3   4  Boris Yeltsin  President          1          1     Vatican   \n",
      "4   5  Boris Yeltsin  President          1          1  Kazakhstan   \n",
      "\n",
      "  CountryCode_ CountryCode   Cown  Year  ...            Content City  \\\n",
      "0          FRA         FRN  220.0  1991  ...                NaN  NaN   \n",
      "1          DEU         GMY  255.0  1991  ...                NaN  NaN   \n",
      "2          ROU         ROM  360.0  1991  ...                NaN  NaN   \n",
      "3          NaN         NaN    NaN  1991  ...                NaN  NaN   \n",
      "4          KAZ         KZK  705.0  1991  ...  Alma-Ata Protocol  NaN   \n",
      "\n",
      "  Group Visit  Group Order Group Id  \\\n",
      "0         0.0          1.0      1.0   \n",
      "1         0.0          1.0      2.0   \n",
      "2         0.0          1.0      3.0   \n",
      "3         0.0          1.0      4.0   \n",
      "4         0.0          1.0      5.0   \n",
      "\n",
      "                                              Source Access Date  Source Data  \\\n",
      "0   Yeltsin working for links between Europe, Russia  2023-11-11          1.0   \n",
      "1     Honecker vows never to return to Germany alive  2023-11-11          2.0   \n",
      "2                     Boris Yeltsin to visit Romania  2023-11-11          NaN   \n",
      "3  Religion makes a comeback in the former commun...  2023-11-11          3.0   \n",
      "4  Four former Soviet rePublics to sign nuclear pact  2023-11-11          4.0   \n",
      "\n",
      "                                      Control Source  \\\n",
      "0                                                NaN   \n",
      "1  https://www.latimes.com/archives/la-xpm-1991-1...   \n",
      "2                                                NaN   \n",
      "3    https://sputnikmediabank.com/media/6382715.html   \n",
      "4  https://cdn.istanbul.edu.tr/file/JTA6CLJ8T5/DB...   \n",
      "\n",
      "                                             Note  \n",
      "0  An unOfficial visit during de facto presidency  \n",
      "1                                             NaN  \n",
      "2                                             NaN  \n",
      "3                                             NaN  \n",
      "4                                             NaN  \n",
      "\n",
      "[5 rows x 25 columns]\n"
     ]
    }
   ],
   "source": [
    "# Load a sheet into a DataFrame by name: df1\n",
    "sheet_name = 'Russia Visit Data'\n",
    "df1 = xls.parse(sheet_name)\n",
    "\n",
    "# Print the head of the DataFrame df1\n",
    "print(df1.head())"
   ]
  },
  {
   "cell_type": "code",
   "execution_count": null,
   "id": "0ea3136f-0431-427a-b269-7ac29e5fba55",
   "metadata": {},
   "outputs": [],
   "source": [
    "# Load a sheet into a DataFrame by name: df1\n",
    "\n",
    "sheet_name_1 = '2004'\n",
    "sheet_name_2 = '2002'\n",
    "\n",
    "df1 = xls.parse(sheet_name_1)\n",
    "\n",
    "# Print the head of the DataFrame df1\n",
    "print(df1.head())\n",
    "\n",
    "# Load a sheet into a DataFrame by index: df2\n",
    "df2 = xls.parse(0)\n",
    "\n",
    "# Print the head of the DataFrame df2\n",
    "print(df2.head())"
   ]
  },
  {
   "cell_type": "code",
   "execution_count": null,
   "id": "828e4d03-90c1-4777-8c4a-190de72d3fdc",
   "metadata": {},
   "outputs": [],
   "source": [
    "#   War(country)   2004\n",
    "# 0  Afghanistan  9.451\n",
    "# 1      Albania  0.130\n",
    "# 2      Algeria  3.407\n",
    "# 3      Andorra  0.000\n",
    "# 4       Angola  2.598\n",
    "#   War, age-adjusted mortality due to    2002\n",
    "# 0                        Afghanistan  36.084\n",
    "# 1                            Albania   0.129\n",
    "# 2                            Algeria  18.314\n",
    "# 3                            Andorra   0.000\n",
    "# 4                             Angola  18.965"
   ]
  },
  {
   "cell_type": "markdown",
   "id": "8706ef3e-3336-4dd6-b35b-67395d1728fe",
   "metadata": {},
   "source": [
    "![Instructions for exercise](Images/2-5.png)"
   ]
  },
  {
   "cell_type": "raw",
   "id": "e5f93aec-5d37-41d8-9ec9-28761a41517f",
   "metadata": {},
   "source": [
    "# Parse the first sheet and rename the columns: df1\n",
    "df1 = xls.parse(____, skiprows=____, names=____)\n",
    "\n",
    "# Print the head of the DataFrame df1\n",
    "print(df1.head())\n",
    "\n",
    "# Parse the first column of the second sheet and rename the column: df2\n",
    "df2 = xls.parse(____, usecols=____, skiprows=____, names=____)\n",
    "\n",
    "# Print the head of the DataFrame df2\n",
    "print(df2.head())\n"
   ]
  },
  {
   "cell_type": "code",
   "execution_count": 21,
   "id": "225f4ed3-893c-4330-91e9-7971a05db36f",
   "metadata": {},
   "outputs": [
    {
     "name": "stdout",
     "output_type": "stream",
     "text": [
      "   No         Leader     Status  Status Id  Leader Id     Country  \\\n",
      "0   1  Boris Yeltsin  President          1          1      France   \n",
      "1   2  Boris Yeltsin  President          1          1     Germany   \n",
      "2   3  Boris Yeltsin  President          1          1     Romania   \n",
      "3   4  Boris Yeltsin  President          1          1     Vatican   \n",
      "4   5  Boris Yeltsin  President          1          1  Kazakhstan   \n",
      "\n",
      "  CountryCode_ CountryCode   Cown  Year  ...            Content City  \\\n",
      "0          FRA         FRN  220.0  1991  ...                NaN  NaN   \n",
      "1          DEU         GMY  255.0  1991  ...                NaN  NaN   \n",
      "2          ROU         ROM  360.0  1991  ...                NaN  NaN   \n",
      "3          NaN         NaN    NaN  1991  ...                NaN  NaN   \n",
      "4          KAZ         KZK  705.0  1991  ...  Alma-Ata Protocol  NaN   \n",
      "\n",
      "  Group Visit  Group Order Group Id  \\\n",
      "0         0.0          1.0      1.0   \n",
      "1         0.0          1.0      2.0   \n",
      "2         0.0          1.0      3.0   \n",
      "3         0.0          1.0      4.0   \n",
      "4         0.0          1.0      5.0   \n",
      "\n",
      "                                              Source Access Date  Source Data  \\\n",
      "0   Yeltsin working for links between Europe, Russia  2023-11-11          1.0   \n",
      "1     Honecker vows never to return to Germany alive  2023-11-11          2.0   \n",
      "2                     Boris Yeltsin to visit Romania  2023-11-11          NaN   \n",
      "3  Religion makes a comeback in the former commun...  2023-11-11          3.0   \n",
      "4  Four former Soviet rePublics to sign nuclear pact  2023-11-11          4.0   \n",
      "\n",
      "                                      Control Source  \\\n",
      "0                                                NaN   \n",
      "1  https://www.latimes.com/archives/la-xpm-1991-1...   \n",
      "2                                                NaN   \n",
      "3    https://sputnikmediabank.com/media/6382715.html   \n",
      "4  https://cdn.istanbul.edu.tr/file/JTA6CLJ8T5/DB...   \n",
      "\n",
      "                                             Note  \n",
      "0  An unOfficial visit during de facto presidency  \n",
      "1                                             NaN  \n",
      "2                                             NaN  \n",
      "3                                             NaN  \n",
      "4                                             NaN  \n",
      "\n",
      "[5 rows x 25 columns]\n"
     ]
    }
   ],
   "source": [
    "# Load a sheet into a DataFrame by name: df1\n",
    "sheet_name = 'Russia Visit Data'\n",
    "df1 = xls.parse(sheet_name)\n",
    "\n",
    "# Print the head of the DataFrame df1\n",
    "print(df1.head())"
   ]
  },
  {
   "cell_type": "code",
   "execution_count": null,
   "id": "b4b3754d-c53f-425c-b81c-a1208fbd0cd8",
   "metadata": {},
   "outputs": [],
   "source": [
    "df1 = xls.parse(0, skiprows=[0], names=['Country'])\n",
    "print(df1.head())\n",
    "\n",
    "# Parse the first column of the second sheet (index 1), skip the first row, rename column\n",
    "df2 = xls.parse(1, usecols=[0], skiprows=[0], names=['Country'])\n",
    "print(df2.head())"
   ]
  },
  {
   "cell_type": "code",
   "execution_count": null,
   "id": "6f5cebd5-7690-4181-8cb3-4eae28e64ab3",
   "metadata": {},
   "outputs": [],
   "source": [
    "#                Country  AAM due to War (2002)\n",
    "# 0              Albania                  0.129\n",
    "# 1              Algeria                 18.314\n",
    "# 2              Andorra                  0.000\n",
    "# 3               Angola                 18.965\n",
    "# 4  Antigua and Barbuda                  0.000\n",
    "#                Country\n",
    "# 0              Albania\n",
    "# 1              Algeria\n",
    "# 2              Andorra\n",
    "# 3               Angola\n",
    "# 4  Antigua and Barbuda"
   ]
  },
  {
   "cell_type": "code",
   "execution_count": null,
   "id": "aa4fdcf3-93a7-4f5b-abf8-d848d27d356b",
   "metadata": {},
   "outputs": [],
   "source": [
    "# Your Excel file probably looked something like this:"
   ]
  },
  {
   "cell_type": "code",
   "execution_count": 22,
   "id": "fbd502c6-9a2b-4d50-8f7c-59b1ccacc83e",
   "metadata": {},
   "outputs": [],
   "source": [
    "# Sheet 1 (index 0):\n",
    "# | (row 0)        | (col 0) Country | (col 1) AAM due to War (2002) |\n",
    "# | -------------- | --------------- | ----------------------------- |\n",
    "# | **Header Row** | Country Name    | Deaths                        |\n",
    "# | 1              | Albania         | 0.129                         |\n",
    "# | 2              | Algeria         | 18.314                        |\n",
    "# | 3              | Andorra         | 0.000                         |\n",
    "# | 4              | Angola          | 18.965                        |\n",
    "# | 5              | Antigua ...     | 0.000                         |\n"
   ]
  },
  {
   "cell_type": "code",
   "execution_count": 24,
   "id": "8fddec8c-1bf5-4c61-822d-6d3bc1b0d8f7",
   "metadata": {},
   "outputs": [],
   "source": [
    "# Sheet 2 (index 1):\n",
    "# | (row 0)        | (col 0) Country |\n",
    "# | -------------- | --------------- |\n",
    "# | **Header Row** | Country Name    |\n",
    "# | 1              | Albania         |\n",
    "# | 2              | Algeria         |\n",
    "# | 3              | Andorra         |\n",
    "# | 4              | Angola          |\n",
    "# | 5              | Antigua ...     |\n"
   ]
  },
  {
   "cell_type": "code",
   "execution_count": null,
   "id": "f457d75b-0bc5-46df-9b4d-5b70d35987ee",
   "metadata": {},
   "outputs": [],
   "source": [
    "# What your code did:"
   ]
  },
  {
   "cell_type": "code",
   "execution_count": null,
   "id": "7fb847e4-e6c5-4a4e-bbcc-3b1503533887",
   "metadata": {},
   "outputs": [],
   "source": [
    "# For Sheet 1 (df1)\n",
    "\n",
    "#     Skipped row 0 (the header row in Excel) so that Pandas wouldn’t use it automatically.\n",
    "#     Assigned your own column names: \"Country\" and \"AAM due to War (2002)\".\n",
    "#     Result:"
   ]
  },
  {
   "cell_type": "code",
   "execution_count": null,
   "id": "5b9514e4-449d-4e41-8bde-a7c2fb38cb5e",
   "metadata": {},
   "outputs": [],
   "source": [
    "#     Country           AAM due to War (2002)\n",
    "# 0   Albania           0.129\n",
    "# 1   Algeria           18.314\n",
    "# 2   Andorra           0.000\n",
    "# 3   Angola            18.965\n",
    "# 4   Antigua and Barbuda  0.000"
   ]
  },
  {
   "cell_type": "code",
   "execution_count": 26,
   "id": "59428807-e358-431f-8ba6-dfd7c1228bb1",
   "metadata": {},
   "outputs": [],
   "source": [
    "# For Sheet 2 (df2)\n",
    "\n",
    "#     Skipped row 0 (header).\n",
    "#     Selected only the first column (usecols=[0]).\n",
    "#     Renamed it \"Country\"."
   ]
  },
  {
   "cell_type": "code",
   "execution_count": null,
   "id": "d5e43df5-b748-4c71-b0f0-2816e8bddb7e",
   "metadata": {},
   "outputs": [],
   "source": [
    "#     Country\n",
    "# 0   Albania\n",
    "# 1   Algeria\n",
    "# 2   Andorra\n",
    "# 3   Angola\n",
    "# 4   Antigua and Barbuda\n"
   ]
  },
  {
   "cell_type": "code",
   "execution_count": 28,
   "id": "9f480289-d3ea-4b7a-a3e9-d7515b759171",
   "metadata": {},
   "outputs": [],
   "source": [
    "# So that why the output looks like this:\n",
    "\n",
    "#                Country  AAM due to War (2002)\n",
    "# 0              Albania                  0.129\n",
    "# 1              Algeria                 18.314\n",
    "# 2              Andorra                  0.000\n",
    "# 3               Angola                 18.965\n",
    "# 4  Antigua and Barbuda                  0.000\n",
    "#                Country\n",
    "# 0              Albania\n",
    "# 1              Algeria\n",
    "# 2              Andorra\n",
    "# 3               Angola\n",
    "# 4  Antigua and Barbuda"
   ]
  },
  {
   "cell_type": "code",
   "execution_count": null,
   "id": "61865b4b-ce01-408a-bf34-7d4abf724e2a",
   "metadata": {},
   "outputs": [],
   "source": [
    "# Importing SAS/Stata files using pandas"
   ]
  },
  {
   "cell_type": "code",
   "execution_count": 2,
   "id": "5d5f2886-f0c5-487e-971b-db0a218ce9db",
   "metadata": {},
   "outputs": [],
   "source": [
    "# What is SAS?\n",
    "# SAS stands for Statistical Analysis System.\n",
    "\n",
    "# Advanced analytics\n",
    "# Business intelligence (BI)\n",
    "# Data management\n",
    "# Predictive modeling\n",
    "# Statistical analysis"
   ]
  },
  {
   "cell_type": "code",
   "execution_count": null,
   "id": "b4edccac-fd7a-486c-aa2d-b43eb6d3d732",
   "metadata": {},
   "outputs": [],
   "source": []
  },
  {
   "cell_type": "code",
   "execution_count": null,
   "id": "90b1c998-d430-4ff0-a98f-a0825593a608",
   "metadata": {},
   "outputs": [],
   "source": [
    "# There are two ways of importing a SAS file\n",
    "\n",
    "from sas7bdat import SAS7BDAT\n",
    "\n",
    "with SAS7BDAT(\"your_file.sas7bdat\") as file:\n",
    "    df = file.to_data_frame()\n",
    "print(df.head())\n",
    "\n",
    "\n",
    "# And\n",
    "\n",
    "import pandas as pd\n",
    "\n",
    "df = pd.read_sas(\"your_file.sas7bdat\", format=\"sas7bdat\", encoding=\"utf-8\")\n",
    "print(df.head())"
   ]
  },
  {
   "cell_type": "markdown",
   "id": "36050e6b-6279-4a4f-933f-f04fcd685302",
   "metadata": {},
   "source": [
    "![Instructions for exercise](Images/2-10.png)"
   ]
  },
  {
   "cell_type": "code",
   "execution_count": null,
   "id": "0ebe6e72-bac2-4668-b3e0-3f8848725885",
   "metadata": {},
   "outputs": [],
   "source": [
    "import pandas as pd\n",
    "\n",
    "# Replace with your filename\n",
    "file_path = \"your_file.dta\"\n",
    "\n",
    "# Read the Stata file into a DataFrame\n",
    "df = pd.read_stata(file_path)\n",
    "\n",
    "# Preview the first rows\n",
    "print(df.head())"
   ]
  },
  {
   "cell_type": "raw",
   "id": "a3d26a8d-ad7e-4416-8525-e38efad435ca",
   "metadata": {},
   "source": [
    "import pandas as pd\n",
    "\n",
    "# Replace with your filename\n",
    "file_path = \"your_file.dta\"\n",
    "\n",
    "# Read the Stata file into a DataFrame\n",
    "df = pd.read_stata(file_path)\n",
    "\n",
    "# Preview the first rows\n",
    "print(df.head())# Import pandas\n",
    "import pandas as pd\n",
    "\n",
    "# Load Stata file into a pandas DataFrame: df\n",
    "\n",
    "\n",
    "# Print the head of the DataFrame df\n",
    "\n",
    "\n",
    "# Plot histogram of one column of the DataFrame\n",
    "pd.DataFrame.hist(df[['disa10']])\n",
    "plt.xlabel('Extent of disease')\n",
    "plt.ylabel('Number of countries')\n",
    "plt.show()\n"
   ]
  },
  {
   "cell_type": "code",
   "execution_count": null,
   "id": "97b8b61c-9b67-4768-a395-4fba1e1f7468",
   "metadata": {
    "jp-MarkdownHeadingCollapsed": true
   },
   "outputs": [],
   "source": [
    "# Import pandas\n",
    "import pandas as pd\n",
    "\n",
    "# Load Stata file into a pandas DataFrame: df\n",
    "file_path = \"disarea.dta\"\n",
    "df = pd.read_stata(file_path)\n",
    "\n",
    "# Print the head of the DataFrame df\n",
    "print(df.head())\n",
    "\n",
    "# Plot histogram of one column of the DataFrame\n",
    "pd.DataFrame.hist(df[['disa10']])\n",
    "plt.xlabel('Extent of disease')\n",
    "plt.ylabel('Number of countries')\n",
    "plt.show()\n"
   ]
  },
  {
   "cell_type": "markdown",
   "id": "36d180f7-e57e-40f6-8fad-b620dcc14659",
   "metadata": {},
   "source": [
    "whats the difference between a Stata and a SAS?\n",
    "\n",
    "They’re both statistical software packages, but they come from different origins and have different strengths. Here’s a breakdown:\n",
    "\n",
    "Good question! They’re both **statistical software packages**, but they come from different origins and have different strengths. Here’s a breakdown:\n",
    "\n",
    "---\n",
    "\n",
    "## 📊 **Stata**\n",
    "\n",
    "* **Origin**: Created in 1985 by StataCorp.\n",
    "* **Primary users**: Social sciences, epidemiology, biostatistics, economics.\n",
    "* **File extension**: `.dta`\n",
    "* **Focus**:\n",
    "\n",
    "  * Clean interface for data manipulation and regression modeling.\n",
    "  * Very strong in **panel data, survey analysis, and econometrics**.\n",
    "* **Programming style**: Command-based, scriptable, but not as full-fledged a language as SAS or R.\n",
    "* **Popularity**: Widely used in academia, especially in economics, sociology, and public health.\n",
    "\n",
    "---\n",
    "\n",
    "## 📊 **SAS (Statistical Analysis System)**\n",
    "\n",
    "* **Origin**: Developed in the 1960s at North Carolina State University, later commercialized by SAS Institute.\n",
    "* **Primary users**: Business, government, clinical trials, large enterprises.\n",
    "* **File extensions**: `.sas7bdat` for datasets, `.sas` for code.\n",
    "* **Focus**:\n",
    "\n",
    "  * Handles **very large datasets** and production-level analytics.\n",
    "  * Strong in **clinical research, pharma, and finance**, where regulatory compliance is key.\n",
    "* **Programming style**: Full programming language with a mix of **data steps** and **procedures** (PROCs).\n",
    "* **Popularity**: Historically dominant in industry and government, though R and Python are replacing it in many areas.\n",
    "\n",
    "---\n",
    "\n",
    "## 🔑 **Key Differences**\n",
    "\n",
    "* **Scale**: SAS is often used for huge enterprise-scale datasets; Stata is lighter and more academic-oriented.\n",
    "* **Learning curve**: Stata is easier to learn; SAS has a steeper learning curve but more enterprise-level tools.\n",
    "* **Cost**: Both are commercial, but SAS is typically more expensive (enterprise contracts). Stata has cheaper academic licenses.\n",
    "* **Community**: Stata → strong academic community; SAS → strong corporate/enterprise presence.\n",
    "* **File formats**: Stata → `.dta`; SAS → `.sas7bdat`.\n",
    "\n",
    "---\n",
    "\n",
    "👉 In short:\n",
    "\n",
    "* **Stata** = Academic/statistical research focus, simpler, widely used in social sciences.\n",
    "* **SAS** = Enterprise/clinical trials focus, more complex, handles massive data at scale.\n",
    "\n",
    "---"
   ]
  },
  {
   "cell_type": "markdown",
   "id": "3f4b9c52-463c-4292-bfc1-4c02795b6313",
   "metadata": {},
   "source": [
    "![Instructions for exercise](Images/2-11.png)"
   ]
  },
  {
   "cell_type": "code",
   "execution_count": null,
   "id": "e055a014-4d75-4bab-ab03-20d54fce73ac",
   "metadata": {},
   "outputs": [],
   "source": [
    "# What are HDF5 files?\n",
    "\n",
    "# HDF5 (Hierarchical Data Format version 5) is a file format and data model designed to store and organize large, complex datasets. \n",
    "# Think of it as a filesystem inside a single file."
   ]
  },
  {
   "cell_type": "markdown",
   "id": "d5125e88-e23d-468c-bbda-ae83dc756042",
   "metadata": {},
   "source": [
    "HDF5 (**Hierarchical Data Format version 5**) is a **file format and data model** designed to store and organize **large, complex datasets**. Think of it as a **filesystem inside a single file**.\n",
    "\n",
    "---\n",
    "\n",
    "## 🔑 Key Features of HDF5\n",
    "\n",
    "1. **Hierarchical structure**\n",
    "\n",
    "   * Works like folders and files.\n",
    "   * You can have *groups* (like directories) and *datasets* (like files with arrays/tables).\n",
    "   * Example:\n",
    "\n",
    "     ```\n",
    "     /experiment1/sensorA/data\n",
    "     /experiment1/sensorB/data\n",
    "     /metadata/description\n",
    "     ```\n",
    "\n",
    "2. **Handles very large data**\n",
    "\n",
    "   * Efficient for **huge arrays** (gigabytes/terabytes).\n",
    "   * Supports compression, chunking, and partial I/O (you don’t need to load the whole dataset to memory).\n",
    "\n",
    "3. **Self-describing**\n",
    "\n",
    "   * Stores metadata along with the data (units, dimensions, descriptions).\n",
    "   * You don’t need an external schema to understand what’s inside.\n",
    "\n",
    "4. **Cross-platform**\n",
    "\n",
    "   * Same file works on Windows, Linux, Mac.\n",
    "   * Widely used in science, engineering, machine learning.\n",
    "\n",
    "---\n",
    "\n",
    "## 📂 Common Uses\n",
    "\n",
    "* **Machine learning** → TensorFlow & PyTorch often use HDF5 for model weights.\n",
    "* **Astronomy, physics, climate science** → Store massive simulation results.\n",
    "* **Genomics & bioinformatics** → Handle large sequencing datasets.\n",
    "* **Image/video storage** → Store stacks of large images efficiently.\n",
    "\n",
    "---\n",
    "\n",
    "## 🐍 Example in Python\n",
    "\n",
    "Using **h5py** (a Python library for HDF5):\n",
    "\n",
    "```python\n",
    "import h5py\n",
    "import numpy as np\n",
    "\n",
    "# Create an HDF5 file\n",
    "with h5py.File(\"example.h5\", \"w\") as f:\n",
    "    # Create a dataset\n",
    "    dset = f.create_dataset(\"mydata\", data=np.arange(100))\n",
    "    # Add metadata\n",
    "    dset.attrs[\"units\"] = \"seconds\"\n",
    "\n",
    "# Read it back\n",
    "with h5py.File(\"example.h5\", \"r\") as f:\n",
    "    print(f[\"mydata\"][:10])        # first 10 values\n",
    "    print(f[\"mydata\"].attrs[\"units\"])\n",
    "```\n",
    "\n",
    "---\n",
    "\n",
    "✅ **Summary**:\n",
    "HDF5 is a powerful format for **storing structured, hierarchical, and very large datasets**—like a **database + filesystem + compression** all rolled into one file.\n",
    "\n",
    "---\n"
   ]
  },
  {
   "cell_type": "markdown",
   "id": "cf65d124-f7bd-4a3b-ae1e-9aa21f4792df",
   "metadata": {},
   "source": [
    "![Instructions for exercise](Images/2-13.png)"
   ]
  },
  {
   "cell_type": "markdown",
   "id": "c299641c-3370-44aa-881e-1aa4566d72fe",
   "metadata": {},
   "source": [
    "![Instructions for exercise](Images/2-12.png)"
   ]
  },
  {
   "cell_type": "markdown",
   "id": "adca23e7-7a4a-42ff-8657-2357bb9d3a98",
   "metadata": {},
   "source": [
    "No — **`meta` is not a required key** in HDF5 files.\n",
    "\n",
    "### Why:\n",
    "\n",
    "* HDF5 is a **general-purpose container format** (like a filesystem).\n",
    "* It defines only the **structure**:\n",
    "\n",
    "  * **Groups** (like folders)\n",
    "  * **Datasets** (like files/arrays)\n",
    "  * **Attributes** (metadata attached to groups or datasets)\n",
    "* But it does **not enforce** that a file must have a `/meta` or `/metadata` group.\n",
    "\n",
    "So whether you see `meta`, `metadata`, or anything similar depends entirely on the **convention of the software or researcher** who created the file.\n",
    "\n",
    "---\n",
    "\n",
    "### Example:\n",
    "\n",
    "* A physics simulation file might look like:\n",
    "\n",
    "  ```\n",
    "  /simulation/run1/data\n",
    "  /simulation/run1/params\n",
    "  ```\n",
    "* A genomics file might look like:\n",
    "\n",
    "  ```\n",
    "  /reads/sampleA\n",
    "  /reads/sampleB\n",
    "  /annotations\n",
    "  ```\n",
    "* A machine learning model checkpoint might look like:\n",
    "\n",
    "  ```\n",
    "  /model/weights\n",
    "  /optimizer/state\n",
    "  /meta\n",
    "  ```\n",
    "\n",
    "  (Here `meta` is chosen by TensorFlow/Keras, but not required by HDF5 itself.)\n",
    "\n",
    "---\n",
    "\n",
    "✅ **Summary**:\n",
    "HDF5 doesn’t guarantee a `meta` key. That’s just a **convention** used by some libraries (e.g., TensorFlow, scientific pipelines) to store extra information.\n",
    "\n",
    "---\n"
   ]
  },
  {
   "cell_type": "markdown",
   "id": "7da2e3b0-9678-4ebe-9a62-933262261887",
   "metadata": {},
   "source": [
    "![Instructions for exercise](Images/2-10.png)"
   ]
  },
  {
   "cell_type": "code",
   "execution_count": null,
   "id": "fc68b10a-138b-4b0e-8645-b80856cb9463",
   "metadata": {},
   "outputs": [],
   "source": []
  },
  {
   "cell_type": "code",
   "execution_count": null,
   "id": "790e6c45-6c55-4ddc-8d3b-778f3e8204ed",
   "metadata": {},
   "outputs": [],
   "source": []
  }
 ],
 "metadata": {
  "kernelspec": {
   "display_name": "Python 3 (ipykernel)",
   "language": "python",
   "name": "python3"
  },
  "language_info": {
   "codemirror_mode": {
    "name": "ipython",
    "version": 3
   },
   "file_extension": ".py",
   "mimetype": "text/x-python",
   "name": "python",
   "nbconvert_exporter": "python",
   "pygments_lexer": "ipython3",
   "version": "3.13.2"
  }
 },
 "nbformat": 4,
 "nbformat_minor": 5
}
