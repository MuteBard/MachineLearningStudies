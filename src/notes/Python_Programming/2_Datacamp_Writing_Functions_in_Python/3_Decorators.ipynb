{
 "cells": [
  {
   "cell_type": "code",
   "execution_count": null,
   "id": "ab593d73-b782-4da4-8286-4938312a03f5",
   "metadata": {},
   "outputs": [],
   "source": [
    "# Passing Functions"
   ]
  },
  {
   "cell_type": "code",
   "execution_count": 10,
   "id": "79a98d50-be8d-4a74-bd88-1698d551cb14",
   "metadata": {},
   "outputs": [],
   "source": [
    "import pandas as pd\n",
    "import random\n",
    "\n",
    "def mean(data):\n",
    "  print(data.mean())\n",
    "\n",
    "def std(data):\n",
    "  print(data.std())\n",
    "\n",
    "def minimum(data):\n",
    "  print(data.min())\n",
    "\n",
    "def maximum(data):\n",
    "  print(data.max())\n",
    "\n",
    "def load_data():\n",
    "  df = pd.DataFrame()\n",
    "  df['height'] = [72.1, 69.8, 63.2, 64.7]\n",
    "  df['weight'] = [198, 204, 164, 238]\n",
    "  return df\n",
    "\n",
    "def get_user_input(prompt='Type a command: '):\n",
    "  command = random.choice(['mean', 'std', 'minimum', 'maximum'])\n",
    "  print(prompt)\n",
    "  print('> {}'.format(command))\n",
    "  return command"
   ]
  },
  {
   "cell_type": "code",
   "execution_count": 11,
   "id": "ac7eb975-a313-4a78-9a3d-02c0a6f2467a",
   "metadata": {},
   "outputs": [
    {
     "name": "stdout",
     "output_type": "stream",
     "text": [
      "   height  weight\n",
      "0    72.1     198\n",
      "1    69.8     204\n",
      "2    63.2     164\n",
      "3    64.7     238\n",
      "Type a command: \n",
      "> mean\n",
      "height     67.45\n",
      "weight    201.00\n",
      "dtype: float64\n"
     ]
    }
   ],
   "source": [
    "# Add the missing function references to the function map\n",
    "function_map = {\n",
    "  'mean': mean,\n",
    "  'std': std,\n",
    "  'minimum': minimum,\n",
    "  'maximum': maximum\n",
    "}\n",
    "\n",
    "data = load_data()\n",
    "print(data)\n",
    "\n",
    "func_name = get_user_input()\n",
    "\n",
    "# Call the chosen function and pass \"data\" as an argument\n",
    "function_map[func_name](data)"
   ]
  },
  {
   "cell_type": "code",
   "execution_count": 12,
   "id": "4f84ebd5-18d6-48c9-902f-4ec9c41e2a76",
   "metadata": {},
   "outputs": [],
   "source": [
    "def has_docstring(func):\n",
    "  \"\"\"Check to see if the function \n",
    "  `func` has a docstring.\n",
    "\n",
    "  Args:\n",
    "    func (callable): A function.\n",
    "\n",
    "  Returns:\n",
    "    bool\n",
    "  \"\"\"\n",
    "  return func.__doc__ is not None"
   ]
  },
  {
   "cell_type": "code",
   "execution_count": 13,
   "id": "8002b281-770f-429c-bb7a-7088a7f7dfde",
   "metadata": {},
   "outputs": [],
   "source": [
    "def load_and_plot_data(filename):\n",
    "  \"\"\"Load a data frame and plot each column.\n",
    "  \n",
    "  Args:\n",
    "    filename (str): Path to a CSV file of data.\n",
    "  \n",
    "  Returns:\n",
    "    pandas.DataFrame\n",
    "  \"\"\"\n",
    "  df = pd.load_csv(filename, index_col=0)\n",
    "  df.hist()\n",
    "  return df"
   ]
  },
  {
   "cell_type": "code",
   "execution_count": 14,
   "id": "ab9e63ab-beb0-46ff-b734-b5d1d3582d3a",
   "metadata": {},
   "outputs": [
    {
     "name": "stdout",
     "output_type": "stream",
     "text": [
      "load_and_plot_data() looks ok\n"
     ]
    }
   ],
   "source": [
    "# Call has_docstring() on the load_and_plot_data() function\n",
    "ok = has_docstring(load_and_plot_data)\n",
    "\n",
    "if not ok:\n",
    "  print(\"load_and_plot_data() doesn't have a docstring!\")\n",
    "else:\n",
    "  print(\"load_and_plot_data() looks ok\")"
   ]
  },
  {
   "cell_type": "code",
   "execution_count": null,
   "id": "25203401-505f-4c7b-88d0-4c8584857a53",
   "metadata": {},
   "outputs": [],
   "source": [
    "# Scope"
   ]
  },
  {
   "cell_type": "code",
   "execution_count": 15,
   "id": "465170cc-f085-4d09-b45c-3b92c27882b2",
   "metadata": {},
   "outputs": [
    {
     "name": "stdout",
     "output_type": "stream",
     "text": [
      "50\n",
      "30\n",
      "100\n",
      "30\n"
     ]
    }
   ],
   "source": [
    "x = 50\n",
    "\n",
    "def one():\n",
    "  x = 10\n",
    "\n",
    "def two():\n",
    "  global x\n",
    "  x = 30\n",
    "\n",
    "def three():\n",
    "  x = 100\n",
    "  print(x)\n",
    "\n",
    "for func in [one, two, three]:\n",
    "  func()\n",
    "  print(x)\n",
    "\n",
    "#What four values does this script print?\n",
    "#50, 30, 100, 30"
   ]
  },
  {
   "cell_type": "code",
   "execution_count": 16,
   "id": "897b89d9-2077-4a0c-9840-b5cb5f651de8",
   "metadata": {},
   "outputs": [
    {
     "name": "stdout",
     "output_type": "stream",
     "text": [
      "You've called my_function() 1 times!\n",
      "You've called my_function() 2 times!\n",
      "You've called my_function() 3 times!\n",
      "You've called my_function() 4 times!\n",
      "You've called my_function() 5 times!\n",
      "You've called my_function() 6 times!\n",
      "You've called my_function() 7 times!\n",
      "You've called my_function() 8 times!\n",
      "You've called my_function() 9 times!\n",
      "You've called my_function() 10 times!\n",
      "You've called my_function() 11 times!\n",
      "You've called my_function() 12 times!\n",
      "You've called my_function() 13 times!\n",
      "You've called my_function() 14 times!\n",
      "You've called my_function() 15 times!\n",
      "You've called my_function() 16 times!\n",
      "You've called my_function() 17 times!\n",
      "You've called my_function() 18 times!\n",
      "You've called my_function() 19 times!\n",
      "You've called my_function() 20 times!\n"
     ]
    }
   ],
   "source": [
    "call_count = 0\n",
    "\n",
    "def my_function():\n",
    "  # Use a keyword that lets us update call_count \n",
    "  global call_count\n",
    "  call_count += 1\n",
    "  \n",
    "  print(\"You've called my_function() {} times!\".format(\n",
    "    call_count\n",
    "  ))\n",
    "  \n",
    "for _ in range(20):\n",
    "  my_function()"
   ]
  },
  {
   "cell_type": "code",
   "execution_count": null,
   "id": "d05ec0b0-ea5c-4a36-a142-9a69b761fe12",
   "metadata": {},
   "outputs": [],
   "source": [
    "def read_files():\n",
    "  file_contents = None\n",
    "  \n",
    "  def save_contents(filename):\n",
    "    # Add a keyword that lets us modify file_contents\n",
    "    nonlocal file_contents\n",
    "    if file_contents is None:\n",
    "      file_contents = []\n",
    "    with open(filename) as fin:\n",
    "      file_contents.append(fin.read())\n",
    "      \n",
    "  for filename in ['1984.txt', 'MobyDick.txt', 'CatsEye.txt']:\n",
    "    save_contents(filename)\n",
    "    \n",
    "  return file_contents\n",
    "\n",
    "print('\\n'.join(read_files()))"
   ]
  },
  {
   "cell_type": "code",
   "execution_count": null,
   "id": "98eeabe0-ced6-46be-b4df-995ddd9f3f32",
   "metadata": {},
   "outputs": [],
   "source": [
    "#Closures"
   ]
  },
  {
   "cell_type": "code",
   "execution_count": 20,
   "id": "5ef1a428-e565-45ed-8dc9-af5e93015686",
   "metadata": {},
   "outputs": [
    {
     "name": "stdout",
     "output_type": "stream",
     "text": [
      "25\n"
     ]
    }
   ],
   "source": [
    "x = 25\n",
    "\n",
    "def foo(value):\n",
    "    def bar():\n",
    "        print(value)\n",
    "    return bar\n",
    "\n",
    "my_func = foo(x)\n",
    "del(x)\n",
    "my_func()"
   ]
  },
  {
   "cell_type": "code",
   "execution_count": 21,
   "id": "604ce9e9-7d5e-466f-b48f-02fa3ba2dd18",
   "metadata": {},
   "outputs": [
    {
     "name": "stdout",
     "output_type": "stream",
     "text": [
      "25\n"
     ]
    }
   ],
   "source": [
    "x = 25\n",
    "\n",
    "def foo(value):\n",
    "    def bar():\n",
    "        print(value)\n",
    "    return bar\n",
    "\n",
    "x = foo(x)\n",
    "x()"
   ]
  },
  {
   "cell_type": "code",
   "execution_count": null,
   "id": "1c7bc6d4-0d41-47db-859a-7a6c22a868e2",
   "metadata": {},
   "outputs": [],
   "source": [
    "\"\"\"Notice that nothing changes if we overwrite \"x\" instead of deleting it. Here we've passed x into foo() \n",
    "and then assigned the new function to the variable x. The old value of \"x\", 25, is still stored in the new function's closure, \n",
    "even though the new function is now stored in the \"x\" variable. \n",
    "This is going to be important to remember when we talk about decorators in the next lesson. \"\"\""
   ]
  },
  {
   "cell_type": "code",
   "execution_count": 32,
   "id": "6976e9b5-0718-4ace-b0a8-3c7d24811cde",
   "metadata": {},
   "outputs": [
    {
     "name": "stdout",
     "output_type": "stream",
     "text": [
      "True\n",
      "True\n",
      "arg1 was 2\n",
      "arg2 was 17\n",
      "None\n"
     ]
    }
   ],
   "source": [
    "def return_a_func(arg1, arg2):\n",
    "  def new_func():\n",
    "    print('arg1 was {}'.format(arg1))\n",
    "    print('arg2 was {}'.format(arg2))\n",
    "  return new_func\n",
    "    \n",
    "my_func = return_a_func(2, 17)\n",
    "\n",
    "# Show that my_func()'s closure is not None\n",
    "print(my_func.__closure__ is not None)\n",
    "print(len(my_func.__closure__) == 2)\n",
    "print(my_func())"
   ]
  },
  {
   "cell_type": "code",
   "execution_count": 33,
   "id": "eb160799-59f6-4c69-8fda-929f13ed19b3",
   "metadata": {},
   "outputs": [
    {
     "name": "stdout",
     "output_type": "stream",
     "text": [
      "True\n"
     ]
    }
   ],
   "source": [
    "size = len(my_func.__closure__)\n",
    "closure_values = [my_func.__closure__[i].cell_contents for i in range(size)]\n",
    "print(closure_values == [2,17])"
   ]
  },
  {
   "cell_type": "code",
   "execution_count": 34,
   "id": "f7d77409-354f-482c-8416-a6a312d28311",
   "metadata": {},
   "outputs": [
    {
     "name": "stdout",
     "output_type": "stream",
     "text": [
      "You are running my_special_function()\n"
     ]
    }
   ],
   "source": [
    "# Show that you still get the original message even if you redefine my_special_function() to only print \"hello\".\n",
    "\n",
    "def my_special_function():\n",
    "  print('You are running my_special_function()')\n",
    "  \n",
    "def get_new_func(func):\n",
    "  def call_func():\n",
    "    func()\n",
    "  return call_func\n",
    "\n",
    "new_func = get_new_func(my_special_function)\n",
    "\n",
    "# Redefine my_special_function() to just print \"hello\"\n",
    "def my_special_function():\n",
    "  print(\"hello\")\n",
    "\n",
    "new_func()"
   ]
  },
  {
   "cell_type": "code",
   "execution_count": 43,
   "id": "97f9ed9a-ac8f-41e1-a1c3-3555dcdef26b",
   "metadata": {},
   "outputs": [
    {
     "name": "stdout",
     "output_type": "stream",
     "text": [
      "You are running my_special_function()\n"
     ]
    }
   ],
   "source": [
    "#Show that even if you delete my_special_function(), you can still call new_func() without any problems.\n",
    "\n",
    "def my_special_function():\n",
    "  print('You are running my_special_function()')\n",
    "  \n",
    "def get_new_func(func):\n",
    "  def call_func():\n",
    "    func()\n",
    "  return call_func\n",
    "\n",
    "new_func = get_new_func(my_special_function)\n",
    "\n",
    "# Delete my_special_function()\n",
    "del(my_special_function)\n",
    "\n",
    "new_func()"
   ]
  },
  {
   "cell_type": "code",
   "execution_count": 45,
   "id": "4748f4f1-ae5b-4725-a4d6-eeb4c90c4f24",
   "metadata": {},
   "outputs": [],
   "source": [
    "def identifyLocalVariables(func):\n",
    "    size = len(func.__closure__)\n",
    "    closure_values = [func.__closure__[i].cell_contents for i in range(size)]\n",
    "    return closure_values"
   ]
  },
  {
   "cell_type": "code",
   "execution_count": 47,
   "id": "3622edc6-8145-4a8b-a691-b94e5de3fd85",
   "metadata": {},
   "outputs": [
    {
     "name": "stdout",
     "output_type": "stream",
     "text": [
      "[<function my_special_function at 0x000001C6B5A60860>]\n"
     ]
    }
   ],
   "source": [
    "print(identifyLocalVariables(new_func))"
   ]
  },
  {
   "cell_type": "code",
   "execution_count": 53,
   "id": "21892ba2-7d3a-4fb0-a3bc-008871b0ddaa",
   "metadata": {},
   "outputs": [],
   "source": [
    "# Show that you still get the original message even if you overwrite my_special_function() with the new function.\n",
    "\n",
    "def my_special_function():\n",
    "  print('You are running my_special_function()')\n",
    "  \n",
    "def get_new_func(func):\n",
    "  def call_func():\n",
    "    func()\n",
    "  return call_func\n",
    "\n",
    "# Overwrite `my_special_function` with the new function\n",
    "my_special_function = get_new_func(one)\n",
    "\n",
    "my_special_function()"
   ]
  },
  {
   "cell_type": "code",
   "execution_count": 51,
   "id": "c279c407-d25a-429e-8503-420fc133f4cd",
   "metadata": {},
   "outputs": [
    {
     "name": "stdout",
     "output_type": "stream",
     "text": [
      "[<function my_special_function at 0x000001C6B5A62660>]\n"
     ]
    }
   ],
   "source": [
    "print(identifyLocalVariables(my_special_function))"
   ]
  },
  {
   "cell_type": "code",
   "execution_count": null,
   "id": "8f068653-e042-4222-aee5-3d9a37468e44",
   "metadata": {},
   "outputs": [],
   "source": [
    "# Decorators"
   ]
  },
  {
   "cell_type": "code",
   "execution_count": 58,
   "id": "29bc5b06-07ed-4f8b-8ba3-15df30853420",
   "metadata": {},
   "outputs": [],
   "source": [
    "def multiply(a,b):\n",
    "    return a * b\n",
    "\n",
    "def double_args(func):\n",
    "    def wrapper(a, b):\n",
    "        return func(a * 2, b * 2)\n",
    "    return wrapper"
   ]
  },
  {
   "cell_type": "code",
   "execution_count": 59,
   "id": "70bb2c7c-ea8e-41ae-9441-cd3cf25f00f6",
   "metadata": {},
   "outputs": [
    {
     "name": "stdout",
     "output_type": "stream",
     "text": [
      "20\n"
     ]
    }
   ],
   "source": [
    "new_multiply = double_args(multiply)\n",
    "print(new_multiply(1, 5))"
   ]
  },
  {
   "cell_type": "code",
   "execution_count": 60,
   "id": "622230f9-cf74-42e6-8cb3-82828b57af24",
   "metadata": {},
   "outputs": [
    {
     "name": "stdout",
     "output_type": "stream",
     "text": [
      "20\n"
     ]
    }
   ],
   "source": [
    "# This time, instead of assigning the new function to \"new_multiply\", we're going to overwrite the \"multiply\" variable.\n",
    "\n",
    "multiply = double_args(multiply)\n",
    "print(multiply(1, 5))\n",
    "#Remember that we can do this because Python stores the original multiply function in the new function's closure. "
   ]
  },
  {
   "cell_type": "code",
   "execution_count": 63,
   "id": "a450121e-cdc8-48fa-b76e-12c49931523a",
   "metadata": {},
   "outputs": [
    {
     "name": "stdout",
     "output_type": "stream",
     "text": [
      "[<function multiply at 0x000001C6B5A6B560>]\n"
     ]
    }
   ],
   "source": [
    "print(identifyLocalVariables(multiply))"
   ]
  },
  {
   "cell_type": "code",
   "execution_count": 64,
   "id": "169ecf84-8f6d-4e5d-b09e-1ffb0aa06764",
   "metadata": {},
   "outputs": [
    {
     "name": "stdout",
     "output_type": "stream",
     "text": [
      "20\n"
     ]
    }
   ],
   "source": [
    "@double_args\n",
    "def multiply(a,b):\n",
    "    return a * b\n",
    "\n",
    "print(multiply(1, 5))"
   ]
  },
  {
   "cell_type": "code",
   "execution_count": 68,
   "id": "aa9e0b38-6b07-4054-aaee-124995d1773c",
   "metadata": {},
   "outputs": [],
   "source": [
    "import inspect\n",
    "\n",
    "def print_args(func):\n",
    "  sig = inspect.signature(func)\n",
    "  def wrapper(*args, **kwargs):\n",
    "    bound = sig.bind(*args, **kwargs).arguments\n",
    "    str_args = ', '.join(['{}={}'.format(k, v) for k, v in bound.items()])\n",
    "    print('{} was called with {}'.format(func.__name__, str_args))\n",
    "    return func(*args, **kwargs)\n",
    "  return wrapper"
   ]
  },
  {
   "cell_type": "code",
   "execution_count": 70,
   "id": "8fd5a69b-9900-4597-834c-33e7af972ffd",
   "metadata": {},
   "outputs": [
    {
     "name": "stdout",
     "output_type": "stream",
     "text": [
      "my_function was called with a=1, b=2, c=3\n",
      "6\n"
     ]
    }
   ],
   "source": [
    "def my_function(a, b, c):\n",
    "  print(a + b + c)\n",
    "\n",
    "my_function = print_args(my_function)\n",
    "\n",
    "my_function(1, 2, 3)"
   ]
  },
  {
   "cell_type": "code",
   "execution_count": 71,
   "id": "22571be5-1e98-4eb4-ae0d-c6de4b5f9fda",
   "metadata": {},
   "outputs": [
    {
     "name": "stdout",
     "output_type": "stream",
     "text": [
      "my_function was called with a=1, b=2, c=3\n",
      "6\n"
     ]
    }
   ],
   "source": [
    "@print_args\n",
    "def my_function(a, b, c):\n",
    "  print(a + b + c)\n",
    "\n",
    "my_function(1, 2, 3)"
   ]
  },
  {
   "cell_type": "code",
   "execution_count": null,
   "id": "82e2fdc3-1b8b-4df4-b6bf-86dd4efa5afb",
   "metadata": {},
   "outputs": [],
   "source": []
  }
 ],
 "metadata": {
  "kernelspec": {
   "display_name": "Python 3 (ipykernel)",
   "language": "python",
   "name": "python3"
  },
  "language_info": {
   "codemirror_mode": {
    "name": "ipython",
    "version": 3
   },
   "file_extension": ".py",
   "mimetype": "text/x-python",
   "name": "python",
   "nbconvert_exporter": "python",
   "pygments_lexer": "ipython3",
   "version": "3.13.2"
  }
 },
 "nbformat": 4,
 "nbformat_minor": 5
}
