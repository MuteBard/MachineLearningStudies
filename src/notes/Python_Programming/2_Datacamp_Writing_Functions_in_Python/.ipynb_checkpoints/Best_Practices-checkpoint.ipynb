{
 "cells": [
  {
   "cell_type": "code",
   "execution_count": 1,
   "id": "7592291c-6b71-4915-bc45-0b3fb668347e",
   "metadata": {},
   "outputs": [],
   "source": [
    "def count_letter(content, letter):\n",
    "  \"\"\"Count the number of times `letter` appears in `content`.\n",
    "  \n",
    "  # Add a Google style arguments section\n",
    "  Args:\n",
    "    arg_1 (str): The string to search.\n",
    "    arg_2 (str): The letter to search for.\n",
    "\n",
    "  Returns:\n",
    "    int\n",
    "\n",
    "  Raises:\n",
    "    ValueError If `letter` is not a one-character string.\n",
    "  \"\"\"\n",
    "  if (not isinstance(letter, str)) or len(letter) != 1:\n",
    "    raise ValueError('`letter` must be a single character string.')\n",
    "  return len([char for char in content if char == letter])"
   ]
  },
  {
   "cell_type": "code",
   "execution_count": 2,
   "id": "640d85ee-1566-459c-acec-91438dba3dab",
   "metadata": {},
   "outputs": [
    {
     "name": "stdout",
     "output_type": "stream",
     "text": [
      "Count the number of times `letter` appears in `content`.\n",
      "\n",
      "# Add a Google style arguments section\n",
      "Args:\n",
      "  arg_1 (str): The string to search.\n",
      "  arg_2 (str): The letter to search for.\n",
      "\n",
      "Returns:\n",
      "  int\n",
      "\n",
      "Raises:\n",
      "  ValueError If `letter` is not a one-character string.\n",
      "\n"
     ]
    }
   ],
   "source": [
    "docstring = count_letter.__doc__\n",
    "print(docstring)"
   ]
  },
  {
   "cell_type": "code",
   "execution_count": 3,
   "id": "b4f5ecc9-9d2e-4aa1-bc9c-39b199fab472",
   "metadata": {},
   "outputs": [
    {
     "name": "stdout",
     "output_type": "stream",
     "text": [
      "############################\n",
      "Count the number of times `letter` appears in `content`.\n",
      "\n",
      "# Add a Google style arguments section\n",
      "Args:\n",
      "  arg_1 (str): The string to search.\n",
      "  arg_2 (str): The letter to search for.\n",
      "\n",
      "Returns:\n",
      "  int\n",
      "\n",
      "Raises:\n",
      "  ValueError If `letter` is not a one-character string.\n",
      "\n",
      "############################\n"
     ]
    }
   ],
   "source": [
    "border = '#' * 28\n",
    "print('{}\\n{}\\n{}'.format(border, docstring, border))\n"
   ]
  },
  {
   "cell_type": "code",
   "execution_count": 4,
   "id": "ec12125f-5af9-4bdf-afc2-52d32a9b57bb",
   "metadata": {},
   "outputs": [
    {
     "name": "stdout",
     "output_type": "stream",
     "text": [
      "Count the number of times `letter` appears in `content`.\n",
      "\n",
      "# Add a Google style arguments section\n",
      "Args:\n",
      "  arg_1 (str): The string to search.\n",
      "  arg_2 (str): The letter to search for.\n",
      "\n",
      "Returns:\n",
      "  int\n",
      "\n",
      "Raises:\n",
      "  ValueError If `letter` is not a one-character string.\n"
     ]
    }
   ],
   "source": [
    "import inspect\n",
    "print(inspect.getdoc(count_letter))"
   ]
  },
  {
   "cell_type": "code",
   "execution_count": 5,
   "id": "5422fbba-354d-48a2-8631-e85dc7e404cd",
   "metadata": {},
   "outputs": [
    {
     "name": "stdout",
     "output_type": "stream",
     "text": [
      "def count_letter(content, letter):\n",
      "  \"\"\"Count the number of times `letter` appears in `content`.\n",
      "  \n",
      "  # Add a Google style arguments section\n",
      "  Args:\n",
      "    arg_1 (str): The string to search.\n",
      "    arg_2 (str): The letter to search for.\n",
      "\n",
      "  Returns:\n",
      "    int\n",
      "\n",
      "  Raises:\n",
      "    ValueError If `letter` is not a one-character string.\n",
      "  \"\"\"\n",
      "  if (not isinstance(letter, str)) or len(letter) != 1:\n",
      "    raise ValueError('`letter` must be a single character string.')\n",
      "  return len([char for char in content if char == letter])\n",
      "\n"
     ]
    }
   ],
   "source": [
    "import inspect\n",
    "print(inspect.getsource(count_letter))"
   ]
  },
  {
   "cell_type": "code",
   "execution_count": 6,
   "id": "f6e9cbc4-d6f8-47a9-af80-1202636c3b88",
   "metadata": {},
   "outputs": [
    {
     "name": "stdout",
     "output_type": "stream",
     "text": [
      "############################\n",
      "Count the number of times `letter` appears in `content`.\n",
      "\n",
      "# Add a Google style arguments section\n",
      "Args:\n",
      "  arg_1 (str): The string to search.\n",
      "  arg_2 (str): The letter to search for.\n",
      "\n",
      "Returns:\n",
      "  int\n",
      "\n",
      "Raises:\n",
      "  ValueError If `letter` is not a one-character string.\n",
      "############################\n"
     ]
    }
   ],
   "source": [
    "import inspect\n",
    "\n",
    "# Inspect the count_letter() function to get its docstring\n",
    "docstring = inspect.getdoc(count_letter)\n",
    "\n",
    "border = '#' * 28\n",
    "print('{}\\n{}\\n{}'.format(border, docstring, border))"
   ]
  },
  {
   "cell_type": "code",
   "execution_count": 7,
   "id": "ef0f8f44-3c24-4623-9839-58c90f6bfb3d",
   "metadata": {},
   "outputs": [
    {
     "name": "stdout",
     "output_type": "stream",
     "text": [
      "############################\n",
      "Count the number of times `letter` appears in `content`.\n",
      "\n",
      "# Add a Google style arguments section\n",
      "Args:\n",
      "  arg_1 (str): The string to search.\n",
      "  arg_2 (str): The letter to search for.\n",
      "\n",
      "Returns:\n",
      "  int\n",
      "\n",
      "Raises:\n",
      "  ValueError If `letter` is not a one-character string.\n",
      "############################\n",
      "############################\n",
      "range(stop) -> range object\n",
      "range(start, stop[, step]) -> range object\n",
      "\n",
      "Return an object that produces a sequence of integers from start (inclusive)\n",
      "to stop (exclusive) by step.  range(i, j) produces i, i+1, i+2, ..., j-1.\n",
      "start defaults to 0, and stop is omitted!  range(4) produces 0, 1, 2, 3.\n",
      "These are exactly the valid indices for a list of 4 elements.\n",
      "When step is given, it specifies the increment (or decrement).\n",
      "############################\n",
      "############################\n",
      "Prints the values to a stream, or to sys.stdout by default.\n",
      "\n",
      "sep\n",
      "  string inserted between values, default a space.\n",
      "end\n",
      "  string appended after the last value, default a newline.\n",
      "file\n",
      "  a file-like object (stream); defaults to the current sys.stdout.\n",
      "flush\n",
      "  whether to forcibly flush the stream.\n",
      "############################\n"
     ]
    }
   ],
   "source": [
    "import inspect\n",
    "\n",
    "def build_tooltip(function):\n",
    "  \"\"\"Create a tooltip for any function that shows the\n",
    "  function's docstring.\n",
    "\n",
    "  Args:\n",
    "    function (callable): The function we want a tooltip for.\n",
    "\n",
    "  Returns:\n",
    "    str\n",
    "  \"\"\"\n",
    "  # Get the docstring for the \"function\" argument by using inspect\n",
    "  docstring = inspect.getdoc(function)\n",
    "  border = '#' * 28\n",
    "  return '{}\\n{}\\n{}'.format(border, docstring, border)\n",
    "\n",
    "print(build_tooltip(count_letter))\n",
    "print(build_tooltip(range))\n",
    "print(build_tooltip(print))"
   ]
  },
  {
   "cell_type": "code",
   "execution_count": 19,
   "id": "7c78b0cb-5b82-4c28-b819-5d9011adc1c1",
   "metadata": {},
   "outputs": [
    {
     "name": "stdout",
     "output_type": "stream",
     "text": [
      "      y1_gpa    y2_gpa    y3_gpa    y4_gpa\n",
      "0   2.785877  2.052513  2.170544  0.065570\n",
      "1   1.144557  2.666498  0.267098  2.884737\n",
      "2   0.907406  0.423634  2.613459  0.030950\n",
      "3   2.205259  0.523580  3.984345  0.339289\n",
      "4   2.877876  1.287922  3.077589  0.901994\n",
      "..       ...       ...       ...       ...\n",
      "95  2.766807  2.543601  3.760116  1.441695\n",
      "96  0.604510  0.128792  3.330865  0.842611\n",
      "97  1.595505  2.979123  3.384219  1.684800\n",
      "98  0.963424  1.891652  0.495692  0.872142\n",
      "99  1.373824  0.487017  2.385948  3.383010\n",
      "\n",
      "[100 rows x 4 columns]\n"
     ]
    }
   ],
   "source": [
    "import pandas as pd\n",
    "\n",
    "data = {\n",
    "    \"y1_gpa\" : [2.7858767423914466, 1.1445573398015179, 0.9074058142568124, 2.205259076331565, 2.8778758791422523, 1.6924258404978438, 3.923056793538462, 2.739318954339453, 1.9237276059374437, 1.568470072776602, 1.3727120646034776, 2.9161988295361665, 1.7542889787184976, 0.2387115864382734, 1.5921770213217257, 2.951981622928143, 0.7299669218139999, 0.7018070245899701, 2.1262054953673535, 2.1273103483874642, 2.5376038342052842, 3.3977271763111583, 2.897821299442541, 2.4440940427103315, 2.8897735302808862, 1.2918356554127128, 1.4471546224892564, 0.9130529235158225, 1.1748561855553175, 2.523904495417951, 0.3684197597803007, 1.734804690718113, 1.7234510533185752, 1.9747403906012249, 1.703321161183312, 1.2490448918898611, 1.7054052278512328, 3.573556652468539, 3.7766400728155185, 2.0073467035373462, 2.4958118071684448, 0.4624735803171829, 1.2691419272812836, 1.6593048478145271, 3.4652366315334637, 1.0018214615860268, 1.9321370570508174, 3.94223914244282, 2.0779404770392373, 2.4515781030518706, 0.48251466396129494, 3.305363202027333, 2.4122405136437095, 2.1802720258658597, 1.3710553350972337, 1.2164831561087364, 1.6680888440988064, 2.7252030631711865, 3.5018273671806996, 2.0416893499120445, 2.677255131849089, 2.3437462102488515, 2.4996140083823994, 2.6987562039512993, 3.369369750481029, 0.3327799533297551, 3.054731365773353, 0.974665498147496, 0.7768918423150835, 2.2898278299658923, 0.38285006644954844, 3.5413073051005584, 2.508995888205075, 2.893665432759819, 0.06451682678006732, 2.37772751778017, 2.227140769577155, 0.635838576578891, 0.6122820604990924, 2.7821181150836436, 1.2750657055275054, 2.7678811821272786, 2.2175329988710883, 1.5558022964925784, 3.7005299584559443, 3.366679987650865, 1.429590266732705, 0.1743658551961622, 1.2190722936443898, 1.592742727671924, 2.819835321805449, 3.9814339281360698, 1.4236594628698382, 3.050191255141735, 2.3727076662488846, 2.7668071948007085, 0.6045098093923209, 1.5955051709046262, 0.9634235908944979, 1.3738240561932997],\n",
    "    \"y2_gpa\" : [2.0525126167960086, 2.6664982006562865, 0.4236339402272553, 0.523579802656323, 1.2879224258732322, 2.646257346664975, 3.3860249010828882, 2.2130293791868536, 3.417809950098019, 1.5393512451030444, 1.267151588473519, 1.417058702366714, 0.6843273168203963, 3.3164505380075617, 1.3546833836573065, 2.2094803011762925, 2.314205872435332, 2.086132237589329, 0.010752258297282768, 3.95338167713128, 3.6213663026464396, 0.830543444785298, 1.1699576511696992, 2.0800406122899338, 3.6076454906426823, 3.934523539646893, 1.0301682566163324, 2.2574361716991267, 3.2278747365487166, 1.5774802158110992, 2.9242921433782283, 0.6442760577168594, 2.4027942713343595, 3.4634578332130586, 3.9340864368142223, 0.3174631615120629, 1.713389098803797, 0.8181714381857108, 1.8025459620749391, 2.191054290515416, 0.37330684147928306, 1.1874431019227178, 3.71033696060859, 2.2760149257207813, 1.8296479900944478, 3.014103963192458, 2.967448607368149, 0.19431613137707515, 2.834789581770984, 3.3569733912203343, 0.6637515368278155, 3.1239917519998293, 1.1461464669164076, 1.2258790133182291, 2.661045861398732, 0.445568686430863, 2.6594897952131773, 3.5514271707048906, 2.7852450729416254, 1.7613115066616363, 1.7528575375088988, 3.060384380957226, 2.2625680049035313, 0.3396166527672704, 2.3306843514456186, 3.2593748115736387, 1.34826553379044, 3.710306318301558, 3.0028680013726716, 2.296255300599858, 3.0065759551716735, 0.31659584295282084, 3.4375563027224456, 3.2860164528022318, 3.6394866384408355, 0.51452479003752, 0.32712034837594084, 0.5536622911263591, 1.5975148404112005, 1.6972274443239677, 2.2488735149236225, 0.4889741985300202, 0.8055980055254834, 3.246577393136086, 1.8719502962269976, 3.2317528379344407, 0.02970551417845213, 2.206370903929622, 3.7277285923067125, 2.3287018365834804, 0.8243829097810966, 2.8710302491182302, 1.5159433987956707, 2.6735357890378393, 0.11727889157508509, 2.5436014374054245, 0.128791739751696, 2.979122620567064, 1.8916520089538205, 0.48701742189221475],\n",
    "    \"y3_gpa\" : [2.170543703154024, 0.2670977729000188, 2.6134594854121627, 3.9843453094713017, 3.077589348295849, 2.295096454635298, 0.41054103684318344, 2.799336299091659, 2.6446714693117244, 0.19638852249110528, 3.1691972073783625, 2.0748663635620206, 1.7034707767996764, 3.152748694405862, 1.6462768928353486, 1.9241051020206141, 0.7265153706952985, 1.2852755980257147, 3.382131986250275, 0.7476149957068614, 1.6691642436133765, 3.9561380295811976, 0.9463992468220774, 3.6673293317553157, 3.673589871222532, 0.3651853688128073, 1.854610899542064, 2.0088653412911484, 1.2546758002085099, 0.18935814895094794, 0.9667425489815913, 0.3821185662214437, 0.9529996228496471, 3.2311643451606242, 3.5799131515440465, 0.1728915683185872, 1.207787345050876, 3.9223287943771505, 2.1580192902149413, 2.505237446839425, 0.022181633627618158, 1.939637773770237, 3.95331413848955, 1.5007421099311924, 0.3881526345554449, 1.8476350462737936, 3.852017863969033, 1.3673224542600657, 3.1956909328600527, 3.1953853248522477, 0.8329931869557465, 1.773470807204847, 2.8624051006172193, 1.6420791416557114, 0.7640278214816845, 3.869977227225674, 2.6030014659051735, 3.4618394060915976, 0.10096943119857471, 1.067623259164539, 2.0082844013069714, 0.2697945405202069, 3.972133044379167, 0.9458495847921156, 1.4971687293817921, 0.856047659633385, 0.42178346442180326, 0.9299191424169431, 1.2024405420128188, 2.5377690715977566, 1.124939125811634, 1.449107043906305, 0.02377137489411929, 1.4628765037094582, 2.1355439267931784, 0.6480633482021236, 2.3897324334415, 1.1726098745087175, 2.5282019792069117, 0.1047864210033751, 3.5503738418710995, 0.06447452169349566, 0.5078321241438455, 3.108649846282409, 0.1835809288086825, 2.84399477438204, 3.8841845620405158, 3.486731732569229, 2.840646605282794, 3.834038972086667, 1.7192533515463277, 3.4915156572872292, 1.4238306718944584, 3.719054611615387, 0.5951106249684144, 3.760116059713094, 3.3308647891328507, 3.3842193527858564, 0.49569203969577735, 2.385947593366948],\n",
    "    \"y4_gpa\" : [0.06556992350372548, 2.884737464202427, 0.03095005650361582, 0.3392891097809345, 0.9019936418000944, 3.5004981354928986, 1.4543052719504534, 2.159839740850234, 2.2724128552759137, 0.9018534412238397, 2.2885870719378447, 2.643807180118413, 1.1929815732693179, 1.6745074359201038, 1.8123556981845201, 3.7294026461683263, 2.34997498991801, 3.793009486472565, 2.2241390150605875, 2.0022456833964046, 0.014128843864993357, 1.9235561754998485, 3.709819994250607, 0.7934627561068766, 0.20836453755799544, 1.6271155738954741, 1.489585922376448, 3.4286122314849745, 0.10644446223983817, 3.6805969190360197, 2.7236119959798257, 3.6169039762568707, 2.430116283282555, 3.2478132497444974, 1.3421754941571447, 1.398264912110239, 1.5594969213131695, 3.019188326291133, 1.4771646977145911, 0.9688792259690691, 3.750673427162383, 3.6320443346521603, 1.3951892643479642, 2.538552281032189, 1.095368846612303, 0.8244605148542763, 1.3453581159871777, 1.3083995704620048, 3.529104404786465, 3.2892152588949015, 2.8384929142363915, 3.8373809010355875, 1.6901734124322325, 0.980132154222705, 0.46959374876595694, 1.2042134328047993, 0.5810549358818151, 0.3687443894734801, 2.411728786827693, 1.4567497990257876, 2.2582813703845743, 0.7653428828822264, 2.7076234386110425, 0.8620217891026392, 1.1120943749761443, 2.9670416885795072, 2.2389515825788475, 1.339345651468077, 2.1719551301807742, 2.77593881143297, 3.648528485910516, 2.3228528535778157, 0.9307455155715236, 2.986790523105986, 3.11107607021883, 0.801605259850616, 3.282296878711544, 1.859739418891306, 3.1190666483557807, 0.9499128799530636, 1.3303210788707056, 3.814788477166611, 2.63126029259922, 3.091511322006167, 2.7534973728825163, 0.8172164713937309, 1.8827549937861705, 3.23585549084714, 2.7001405076374874, 0.024111542613191705, 0.3496309706112912, 1.3871788808542376, 3.7774621584743606, 1.964761923898334, 1.080705069721335, 1.4416948778148395, 0.8426105102162529, 1.6848002286800505, 0.8721417581978983, 3.383010029211711]\n",
    "}\n",
    "\n",
    "df = pd.DataFrame(data)\n",
    "print(df)"
   ]
  },
  {
   "cell_type": "code",
   "execution_count": 21,
   "id": "bff2801d-d91d-4e72-a3f8-6c9e8937d075",
   "metadata": {},
   "outputs": [
    {
     "name": "stdout",
     "output_type": "stream",
     "text": [
      "      y1_gpa    y2_gpa    y3_gpa    y4_gpa      y1_z      y2_z      y3_z  \\\n",
      "0   2.785877  2.052513  2.170544  0.065570  0.790863  0.028021  0.172322   \n",
      "1   1.144557  2.666498  0.267098  2.884737 -0.872971  0.564636 -1.347122   \n",
      "2   0.907406  0.423634  2.613459  0.030950 -1.113376 -1.395595  0.525883   \n",
      "3   2.205259  0.523580  3.984345  0.339289  0.202281 -1.308243  1.620206   \n",
      "4   2.877876  1.287922  3.077589  0.901994  0.884124 -0.640219  0.896379   \n",
      "..       ...       ...       ...       ...       ...       ...       ...   \n",
      "95  2.766807  2.543601  3.760116  1.441695  0.771532  0.457226  1.441213   \n",
      "96  0.604510  0.128792  3.330865  0.842611 -1.420427 -1.653282  1.098559   \n",
      "97  1.595505  2.979123  3.384219  1.684800 -0.415837  0.837865  1.141150   \n",
      "98  0.963424  1.891652  0.495692  0.872142 -1.056589 -0.112568 -1.164644   \n",
      "99  1.373824  0.487017  2.385948  3.383010 -0.640559 -1.340198  0.344270   \n",
      "\n",
      "        y4_z  \n",
      "0  -1.711179  \n",
      "1   0.824431  \n",
      "2  -1.742317  \n",
      "3  -1.464991  \n",
      "4  -0.958885  \n",
      "..       ...  \n",
      "95 -0.473468  \n",
      "96 -1.012295  \n",
      "97 -0.254814  \n",
      "98 -0.985734  \n",
      "99  1.272586  \n",
      "\n",
      "[100 rows x 8 columns]\n"
     ]
    }
   ],
   "source": [
    "def standardize(column):\n",
    "  \"\"\"Standardize the values in a column.\n",
    "\n",
    "  Args:\n",
    "    column (pandas Series): The data to standardize.\n",
    "\n",
    "  Returns:\n",
    "    pandas Series: the values as z-scores\n",
    "  \"\"\"\n",
    "  # Finish the function so that it returns the z-scores\n",
    "  z_score = (column - column.mean()) / column.std()\n",
    "  return z_score\n",
    "\n",
    "\n",
    "df[\"y1_z\"] = standardize(df[\"y1_gpa\"])\n",
    "df[\"y2_z\"] = standardize(df[\"y2_gpa\"])\n",
    "df[\"y3_z\"] = standardize(df[\"y3_gpa\"])\n",
    "df[\"y4_z\"] = standardize(df[\"y4_gpa\"])\n",
    "\n",
    "\n",
    "print(df)\n",
    "\n",
    "# A Z-score, also known as a standard score, is a statistical measurement that quantifies the distance (in standard deviations) \n",
    "# between a data point and the mean of a dataset. Z-scores help in standardizing and comparing data points from\n",
    "# different distributions by converting them onto a standard normal distribution with a mean of 0 and a standard deviation of 1."
   ]
  },
  {
   "cell_type": "code",
   "execution_count": 12,
   "id": "3a7dcac0-a64e-4546-8260-f87044712427",
   "metadata": {},
   "outputs": [
    {
     "name": "stdout",
     "output_type": "stream",
     "text": [
      "y1_gpa    91\n",
      "y2_gpa    19\n",
      "y3_gpa     3\n",
      "y4_gpa    51\n",
      "y1_z      91\n",
      "y2_z      19\n",
      "y3_z       3\n",
      "y4_z      51\n",
      "dtype: int64\n"
     ]
    }
   ],
   "source": [
    "max_rows = df.apply(lambda row: row.idxmax())\n",
    "print(max_rows)"
   ]
  },
  {
   "cell_type": "code",
   "execution_count": 13,
   "id": "c6abf988-1363-4593-b58b-14f4644915ec",
   "metadata": {},
   "outputs": [
    {
     "name": "stdout",
     "output_type": "stream",
     "text": [
      "y1_gpa    74\n",
      "y2_gpa    18\n",
      "y3_gpa    40\n",
      "y4_gpa    20\n",
      "y1_z      74\n",
      "y2_z      18\n",
      "y3_z      40\n",
      "y4_z      20\n",
      "dtype: int64\n"
     ]
    }
   ],
   "source": [
    "min_rows = df.apply(lambda row: row.idxmin())\n",
    "print(min_rows)"
   ]
  },
  {
   "cell_type": "code",
   "execution_count": 52,
   "id": "cbb201fa-2e9a-4b25-9f05-b2fa6f6c9630",
   "metadata": {},
   "outputs": [
    {
     "name": "stdout",
     "output_type": "stream",
     "text": [
      "(91, 3.9814339281360698)\n",
      "(19, 3.95338167713128)\n",
      "(3, 3.9843453094713017)\n",
      "(51, 3.8373809010355875)\n"
     ]
    }
   ],
   "source": [
    "def findTopQuarterStudent(dataframe, column):\n",
    "    max_rows = dataframe.apply(lambda row: row.idxmax())\n",
    "    return int(max_rows[column]), float(dataframe.loc[max_rows[column]][column])\n",
    "      \n",
    "print(findTopQuarterStudent(df, \"y1_gpa\"))\n",
    "print(findTopQuarterStudent(df, \"y2_gpa\"))\n",
    "print(findTopQuarterStudent(df, \"y3_gpa\"))\n",
    "print(findTopQuarterStudent(df, \"y4_gpa\"))"
   ]
  },
  {
   "cell_type": "code",
   "execution_count": 51,
   "id": "2e0f501c-4688-4223-b909-dc8f63f31451",
   "metadata": {},
   "outputs": [
    {
     "name": "stdout",
     "output_type": "stream",
     "text": [
      "(74, 0.06451682678006732)\n",
      "(18, 0.010752258297282768)\n",
      "(40, 0.022181633627618158)\n",
      "(20, 0.014128843864993357)\n"
     ]
    }
   ],
   "source": [
    "def findBottomQuarterStudent(dataframe, column):\n",
    "    max_rows = dataframe.apply(lambda row: row.idxmin())\n",
    "    return int(max_rows[column]), float(dataframe.loc[max_rows[column]][column])\n",
    "      \n",
    "print(findBottomQuarterStudent(df, \"y1_gpa\"))\n",
    "print(findBottomQuarterStudent(df, \"y2_gpa\"))\n",
    "print(findBottomQuarterStudent(df, \"y3_gpa\"))\n",
    "print(findBottomQuarterStudent(df, \"y4_gpa\"))"
   ]
  },
  {
   "cell_type": "code",
   "execution_count": 53,
   "id": "38a03e38-450b-4b8c-99cf-6c95f53d74f7",
   "metadata": {},
   "outputs": [],
   "source": [
    "def mean_and_median(values):\n",
    "  \"\"\"Get the mean and median of a sorted list of `values`\n",
    "\n",
    "  Args:\n",
    "    values (iterable of float): A list of numbers\n",
    "\n",
    "  Returns:\n",
    "    tuple (float, float): The mean and median\n",
    "  \"\"\"\n",
    "  mean = sum(values) / len(values)\n",
    "  values = sorted(values)\n",
    "  midpoint = int(len(values) / 2)\n",
    "  if len(values) % 2 == 0:\n",
    "    median = (values[midpoint - 1] + values[midpoint]) / 2\n",
    "  else:\n",
    "    median = values[midpoint]\n",
    "\n",
    "  return mean, median"
   ]
  },
  {
   "cell_type": "code",
   "execution_count": 54,
   "id": "ebba77ef-9b21-4335-9816-9482fb306e46",
   "metadata": {},
   "outputs": [],
   "source": [
    "def mean(values):\n",
    "  \"\"\"Get the mean of a sorted list of values\n",
    "\n",
    "  Args:\n",
    "    values (iterable of float): A list of numbers\n",
    "\n",
    "  Returns:\n",
    "    float\n",
    "  \"\"\"\n",
    "  # Write the mean() function\n",
    "  mean = sum(values) / len(values)\n",
    "  return mean"
   ]
  },
  {
   "cell_type": "code",
   "execution_count": 55,
   "id": "a717a4cf-8b81-4c44-a2ef-422af8759266",
   "metadata": {},
   "outputs": [
    {
     "name": "stdout",
     "output_type": "stream",
     "text": [
      "4\n"
     ]
    }
   ],
   "source": [
    "print(int(4.5))"
   ]
  },
  {
   "cell_type": "code",
   "execution_count": 57,
   "id": "37a9f977-a6cd-4ec2-b5ed-381ef99a263c",
   "metadata": {},
   "outputs": [
    {
     "name": "stdout",
     "output_type": "stream",
     "text": [
      "22.5\n",
      "25\n"
     ]
    }
   ],
   "source": [
    "def median(values):\n",
    "  \"\"\"Get the median of a sorted list of values\n",
    "\n",
    "  Args:\n",
    "    values (iterable of float): A list of numbers\n",
    "\n",
    "  Returns:\n",
    "    float\n",
    "  \"\"\"\n",
    "  # Write the median() function\n",
    "  values = sorted(values)\n",
    "  midpoint = int(len(values) / 2)\n",
    "  if len(values) % 2 == 0:\n",
    "    median = (values[midpoint - 1] + values[midpoint]) / 2\n",
    "  else:\n",
    "    median = values[midpoint]\n",
    "  return median\n",
    "\n",
    "print(median([10,20,25,30]))\n",
    "print(median([10,20,25,30,35]))"
   ]
  },
  {
   "cell_type": "code",
   "execution_count": null,
   "id": "d2e7a81c-04e2-430c-9b2e-21ccde036676",
   "metadata": {},
   "outputs": [],
   "source": [
    "# # Use an immutable variable for the default argument\n",
    "# def better_add_column(values, df=None):\n",
    "#   \"\"\"Add a column of `values` to a DataFrame `df`.\n",
    "#   The column will be named \"col_<n>\" where \"n\" is\n",
    "#   the numerical index of the column.\n",
    "\n",
    "#   Args:\n",
    "#     values (iterable): The values of the new column\n",
    "#     df (DataFrame, optional): The DataFrame to update.\n",
    "#       If no DataFrame is passed, one is created by default.\n",
    "\n",
    "#   Returns:\n",
    "#     DataFrame\n",
    "#   \"\"\"\n",
    "#   # Update the function to create a default DataFrame\n",
    "#   if df is None:\n",
    "#     df = pandas.DataFrame()\n",
    "#   df['col_{}'.format(len(df.columns))] = values\n",
    "#   return df"
   ]
  }
 ],
 "metadata": {
  "kernelspec": {
   "display_name": "Python 3 (ipykernel)",
   "language": "python",
   "name": "python3"
  },
  "language_info": {
   "codemirror_mode": {
    "name": "ipython",
    "version": 3
   },
   "file_extension": ".py",
   "mimetype": "text/x-python",
   "name": "python",
   "nbconvert_exporter": "python",
   "pygments_lexer": "ipython3",
   "version": "3.13.2"
  }
 },
 "nbformat": 4,
 "nbformat_minor": 5
}
