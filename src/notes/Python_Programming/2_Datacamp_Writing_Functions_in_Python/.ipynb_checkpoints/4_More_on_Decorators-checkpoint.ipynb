{
 "cells": [
  {
   "cell_type": "code",
   "execution_count": 2,
   "id": "323af803-b03a-4acd-9e9e-05a9564b9f48",
   "metadata": {},
   "outputs": [],
   "source": [
    "# List of decorators"
   ]
  },
  {
   "cell_type": "code",
   "execution_count": null,
   "id": "ca22c2de-8361-4d74-b3d2-e79aba28fb09",
   "metadata": {},
   "outputs": [],
   "source": [
    "# @timer\n",
    "# @memoize Store the results fo the decorated funciton for fast lookup\n",
    "# @wraps\n",
    "\n",
    "# You should consider using a decorator when you want to add some common bit of code to multiple functions. \n",
    "# We could have added timing code in the body of all three of these functions, \n",
    "# but that would violate the principle of Don't Repeat Yourself. Adding a decorator is a better choice. "
   ]
  },
  {
   "cell_type": "code",
   "execution_count": 3,
   "id": "9285c905-6986-4fa4-939f-e6f0daac8e92",
   "metadata": {},
   "outputs": [
    {
     "name": "stdout",
     "output_type": "stream",
     "text": [
      "Hello\n",
      "30\n",
      "Adds two numbers and prints the sum\n"
     ]
    }
   ],
   "source": [
    "from functools import wraps\n",
    "\n",
    "def add_hello(func):\n",
    "  # Decorate wrapper() so that it keeps func()'s metadata\n",
    "  @wraps(func)\n",
    "  def wrapper(*args, **kwargs):\n",
    "    \"\"\"Print 'hello' and then call the decorated function.\"\"\"\n",
    "    print('Hello')\n",
    "    return func(*args, **kwargs)\n",
    "  return wrapper\n",
    "  \n",
    "@add_hello\n",
    "def print_sum(a, b):\n",
    "  \"\"\"Adds two numbers and prints the sum\"\"\"\n",
    "  print(a + b)\n",
    "  \n",
    "print_sum(10, 20)\n",
    "print_sum_docstring = print_sum.__doc__\n",
    "print(print_sum_docstring)"
   ]
  },
  {
   "cell_type": "code",
   "execution_count": null,
   "id": "37824290-dcdb-415c-81bf-f4985ba5bede",
   "metadata": {},
   "outputs": [],
   "source": [
    "# Sometimes it would be nice to add arguments to our decorators. To do that, we need another level of function nesting. "
   ]
  },
  {
   "cell_type": "code",
   "execution_count": 5,
   "id": "1b34b367-a14a-4f4b-a20c-58a036b85e7d",
   "metadata": {},
   "outputs": [],
   "source": [
    "def run_n_times(n):\n",
    "  \"\"\"Define and return a decorator\"\"\"\n",
    "  def decorator(func):\n",
    "    def wrapper(*args, **kwargs):\n",
    "      for i in range(n):\n",
    "        func(*args, **kwargs)\n",
    "    return wrapper\n",
    "  return decorator"
   ]
  },
  {
   "cell_type": "code",
   "execution_count": 6,
   "id": "79a18cf6-72be-41de-b44f-56b873e47c5e",
   "metadata": {},
   "outputs": [
    {
     "name": "stdout",
     "output_type": "stream",
     "text": [
      "35\n",
      "35\n",
      "35\n",
      "35\n",
      "35\n",
      "35\n",
      "35\n",
      "35\n",
      "35\n",
      "35\n"
     ]
    }
   ],
   "source": [
    "@run_n_times(10)\n",
    "def print_sum(a, b):\n",
    "  print(a + b)\n",
    "  \n",
    "print_sum(15, 20)"
   ]
  },
  {
   "cell_type": "code",
   "execution_count": null,
   "id": "99c6b84b-ca3a-4649-b365-d6f5d258a414",
   "metadata": {},
   "outputs": [],
   "source": [
    "# Use run_n_times() to create the run_five_times() decorator\n",
    "run_five_times = run_n_times(5)\n",
    "\n",
    "@run_five_times\n",
    "def print_sum(a, b):\n",
    "  print(a + b)\n",
    "  \n",
    "print_sum(4, 100)"
   ]
  },
  {
   "cell_type": "code",
   "execution_count": 7,
   "id": "53adbc52-82e8-4acc-b087-dcf67a9afb14",
   "metadata": {},
   "outputs": [
    {
     "name": "stdout",
     "output_type": "stream",
     "text": [
      "What is happening?!?!\n",
      "What is happening?!?!\n",
      "What is happening?!?!\n",
      "What is happening?!?!\n",
      "What is happening?!?!\n",
      "What is happening?!?!\n",
      "What is happening?!?!\n",
      "What is happening?!?!\n",
      "What is happening?!?!\n",
      "What is happening?!?!\n",
      "What is happening?!?!\n",
      "What is happening?!?!\n",
      "What is happening?!?!\n",
      "What is happening?!?!\n",
      "What is happening?!?!\n",
      "What is happening?!?!\n",
      "What is happening?!?!\n",
      "What is happening?!?!\n",
      "What is happening?!?!\n",
      "What is happening?!?!\n"
     ]
    }
   ],
   "source": [
    "# Modify the print() function to always run 20 times\n",
    "print = run_n_times(20)(print)\n",
    "\n",
    "print('What is happening?!?!')"
   ]
  },
  {
   "cell_type": "code",
   "execution_count": null,
   "id": "d8079929-948b-40e4-98cd-1250ce8b2d6c",
   "metadata": {},
   "outputs": [],
   "source": []
  }
 ],
 "metadata": {
  "kernelspec": {
   "display_name": "Python 3 (ipykernel)",
   "language": "python",
   "name": "python3"
  },
  "language_info": {
   "codemirror_mode": {
    "name": "ipython",
    "version": 3
   },
   "file_extension": ".py",
   "mimetype": "text/x-python",
   "name": "python",
   "nbconvert_exporter": "python",
   "pygments_lexer": "ipython3",
   "version": "3.13.2"
  }
 },
 "nbformat": 4,
 "nbformat_minor": 5
}
